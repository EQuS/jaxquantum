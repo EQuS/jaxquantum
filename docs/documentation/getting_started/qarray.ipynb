{
 "cells": [
  {
   "cell_type": "code",
   "execution_count": null,
   "id": "756cd711",
   "metadata": {},
   "outputs": [],
   "source": [
    "import jaxquantum as jqt\n",
    "import jax.numpy as jnp"
   ]
  },
  {
   "cell_type": "markdown",
   "id": "08f8c2cc",
   "metadata": {},
   "source": [
    "# Qarray\n",
    "\n",
    "The Qarray is the fundamental building block of `jaxquantum`. It is heavily inspired by QuTiP's Qobj and built to be compatible with `JAX` patterns. "
   ]
  },
  {
   "cell_type": "code",
   "execution_count": null,
   "id": "d7a6a7a9",
   "metadata": {},
   "outputs": [],
   "source": [
    "N = 50\n",
    "state = jqt.basis(N, 0)\n",
    "displaced_state = jqt.displace(N, 2.0) @ state\n",
    "\n",
    "pts = jnp.linspace(-4, 4, 100)\n",
    "jqt.plot_wigner(displaced_state, pts)"
   ]
  },
  {
   "cell_type": "code",
   "execution_count": null,
   "id": "e96d082b",
   "metadata": {},
   "outputs": [],
   "source": []
  }
 ],
 "metadata": {
  "kernelspec": {
   "display_name": "jax-framework",
   "language": "python",
   "name": "python3"
  },
  "language_info": {
   "codemirror_mode": {
    "name": "ipython",
    "version": 3
   },
   "file_extension": ".py",
   "mimetype": "text/x-python",
   "name": "python",
   "nbconvert_exporter": "python",
   "pygments_lexer": "ipython3",
   "version": "3.9.18"
  }
 },
 "nbformat": 4,
 "nbformat_minor": 5
}
