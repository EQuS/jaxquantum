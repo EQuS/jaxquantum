{
 "cells": [
  {
   "cell_type": "code",
   "execution_count": 1,
   "metadata": {},
   "outputs": [],
   "source": [
    "%load_ext autoreload\n",
    "%autoreload 2"
   ]
  },
  {
   "cell_type": "code",
   "execution_count": 2,
   "metadata": {},
   "outputs": [],
   "source": [
    "import dynamiqs as dq\n",
    "import jaxquantum as jqt\n",
    "import jax.numpy as jnp"
   ]
  },
  {
   "cell_type": "markdown",
   "metadata": {},
   "source": [
    "## Dynamiqs "
   ]
  },
  {
   "cell_type": "code",
   "execution_count": null,
   "metadata": {},
   "outputs": [],
   "source": [
    "# parameters\n",
    "n = 128      # Hilbert space dimension\n",
    "omega = 1.0  # frequency\n",
    "kappa = 0.1  # decay rate\n",
    "alpha = 1.0  # initial coherent state amplitude\n",
    "\n",
    "# initialize operators, initial state and saving times\n",
    "a = dq.destroy(n)\n",
    "H = omega * dq.dag(a) @ a\n",
    "jump_ops = [jnp.sqrt(kappa) * a]\n",
    "psi0 = dq.coherent(n, alpha)\n",
    "tsave = jnp.linspace(0, 20.0, 101)\n",
    "\n",
    "# run simulation\n",
    "# result = dq.mesolve(H, jump_ops, psi0, tsave, exp_ops=[dq.dag(a) @ a], solver=dq.solver.Dopri5())\n",
    "# print(result)"
   ]
  },
  {
   "cell_type": "code",
   "execution_count": null,
   "metadata": {},
   "outputs": [],
   "source": [
    "%timeit -n1 -r1 result = dq.mesolve(H, jump_ops, psi0, tsave)\n",
    "%timeit result = dq.mesolve(H, jump_ops, psi0, tsave)"
   ]
  },
  {
   "cell_type": "code",
   "execution_count": null,
   "metadata": {},
   "outputs": [],
   "source": [
    "def map_kappa(kappa):\n",
    "    # parameters\n",
    "    n = 128      # Hilbert space dimension\n",
    "    omega = 1.0  # frequency\n",
    "    # kappa = 0.1  # decay rate\n",
    "    alpha = 1.0  # initial coherent state amplitude\n",
    "\n",
    "    # initialize operators, initial state and saving times\n",
    "    a = dq.destroy(n)\n",
    "    H = omega * dq.dag(a) @ a\n",
    "    jump_ops = [jnp.sqrt(kappa) * a]\n",
    "    psi0 = dq.coherent(n, alpha)\n",
    "    tsave = jnp.linspace(0, 20.0, 101)\n",
    "\n",
    "    # run simulation\n",
    "    return dq.mesolve(H, jump_ops, psi0, tsave, exp_ops=[dq.dag(a) @ a], solver=dq.solver.Dopri5())\n"
   ]
  },
  {
   "cell_type": "code",
   "execution_count": null,
   "metadata": {},
   "outputs": [],
   "source": [
    "from jax import jit, vmap"
   ]
  },
  {
   "cell_type": "code",
   "execution_count": null,
   "metadata": {},
   "outputs": [],
   "source": [
    "jit(vmap(map_kappa))(jnp.linspace(0.1, 0.6, 6))"
   ]
  },
  {
   "cell_type": "code",
   "execution_count": null,
   "metadata": {},
   "outputs": [],
   "source": [
    "import matplotlib.pyplot as plt\n",
    "plt.plot(result.tsave, result.Esave[0])"
   ]
  },
  {
   "cell_type": "code",
   "execution_count": null,
   "metadata": {},
   "outputs": [],
   "source": [
    "result.ysave[0].shape"
   ]
  },
  {
   "cell_type": "code",
   "execution_count": null,
   "metadata": {},
   "outputs": [],
   "source": [
    "dq.plot_wigner(result.ysave[0])"
   ]
  },
  {
   "cell_type": "markdown",
   "metadata": {},
   "source": [
    "## jaxquantum "
   ]
  },
  {
   "cell_type": "code",
   "execution_count": 3,
   "metadata": {},
   "outputs": [],
   "source": [
    "# parameters\n",
    "n = 128      # Hilbert space dimension\n",
    "omega = 1.0  # frequency\n",
    "kappa = 0.1  # decay rate\n",
    "alpha = 1.0  # initial coherent state amplitude\n",
    "\n",
    "# initialize operators, initial state and saving times\n",
    "a = jqt.destroy(n)\n",
    "H = omega * jqt.dag(a) @ a\n",
    "jump_ops = jnp.array([jnp.sqrt(kappa) * a])\n",
    "psi0 = jqt.coherent(n, alpha)\n",
    "tsave = jnp.linspace(0, 20.0, 101)\n",
    "\n",
    "# run simulation\n",
    "# result = jqt.mesolve(jqt.ket2dm(psi0), tsave, c_ops=jump_ops, H0=H)\n",
    "\n",
    "# print(result)"
   ]
  },
  {
   "cell_type": "code",
   "execution_count": 4,
   "metadata": {},
   "outputs": [
    {
     "name": "stderr",
     "output_type": "stream",
     "text": [
      "/Users/shoumikdc/crostini/miniforge3/envs/gkp/lib/python3.9/site-packages/equinox/_jit.py:49: UserWarning: Complex dtype support is work in progress, please read https://github.com/patrick-kidger/diffrax/pull/197 and proceed carefully.\n",
      "  out = fun(*args, **kwargs)\n"
     ]
    },
    {
     "name": "stdout",
     "output_type": "stream",
     "text": [
      "0.22686290740966797\n"
     ]
    }
   ],
   "source": [
    "result = jqt.mesolve(jqt.ket2dm(psi0), tsave, c_ops=jump_ops, H0=H)"
   ]
  },
  {
   "cell_type": "code",
   "execution_count": null,
   "metadata": {},
   "outputs": [],
   "source": [
    "%timeit -n1 -r1 result = jqt.mesolve(jqt.ket2dm(psi0), tsave, c_ops=jump_ops, H0=H)\n",
    "%timeit result = jqt.mesolve(jqt.ket2dm(psi0), tsave, c_ops=jump_ops, H0=H)"
   ]
  },
  {
   "cell_type": "code",
   "execution_count": null,
   "metadata": {},
   "outputs": [],
   "source": [
    "jqt.mesolve_old"
   ]
  },
  {
   "cell_type": "code",
   "execution_count": null,
   "metadata": {},
   "outputs": [],
   "source": [
    "def map_kappa(kappa):\n",
    "\n",
    "    # parameters\n",
    "    n = 128      # Hilbert space dimension\n",
    "    omega = 1.0  # frequency\n",
    "    # kappa = 0.1  # decay rate\n",
    "    alpha = 1.0  # initial coherent state amplitude\n",
    "\n",
    "    # initialize operators, initial state and saving times\n",
    "    a = jqt.destroy(n)\n",
    "    H = omega * jqt.dag(a) @ a\n",
    "    jump_ops = jnp.array([jnp.sqrt(kappa) * a])\n",
    "    psi0 = jqt.coherent(n, alpha)\n",
    "    tsave = jnp.linspace(0, 20.0, 101)\n",
    "\n",
    "    # run simulation\n",
    "    return jqt.mesolve(jqt.ket2dm(psi0), tsave, c_ops=jump_ops, H0=H)"
   ]
  },
  {
   "cell_type": "code",
   "execution_count": null,
   "metadata": {},
   "outputs": [],
   "source": [
    "jit(vmap(map_kappa))(jnp.linspace(0.1, 0.6, 6))"
   ]
  }
 ],
 "metadata": {
  "kernelspec": {
   "display_name": "gkp",
   "language": "python",
   "name": "python3"
  },
  "language_info": {
   "codemirror_mode": {
    "name": "ipython",
    "version": 3
   },
   "file_extension": ".py",
   "mimetype": "text/x-python",
   "name": "python",
   "nbconvert_exporter": "python",
   "pygments_lexer": "ipython3",
   "version": "3.9.16"
  }
 },
 "nbformat": 4,
 "nbformat_minor": 2
}
