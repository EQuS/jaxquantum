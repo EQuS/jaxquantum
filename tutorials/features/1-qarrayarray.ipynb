{
 "cells": [
  {
   "cell_type": "code",
   "execution_count": 1,
   "metadata": {},
   "outputs": [],
   "source": [
    "%load_ext autoreload\n",
    "%autoreload 2"
   ]
  },
  {
   "cell_type": "code",
   "execution_count": 2,
   "metadata": {},
   "outputs": [],
   "source": [
    "import jaxquantum as jqt\n",
    "import jaxquantum.circuits as jqtc\n",
    "from jax import jit, grad\n",
    "import jax.numpy as jnp\n",
    "from math import prod\n",
    "\n",
    "import jax\n",
    "import optax\n",
    "import functools"
   ]
  },
  {
   "cell_type": "code",
   "execution_count": 3,
   "metadata": {},
   "outputs": [],
   "source": [
    "a = jqt.sigmaz()\n",
    "b = jqt.sigmay()\n",
    "c = jqt.sigmaz()\n",
    "qarr_arr = jqt.QarrayArray.create([])"
   ]
  },
  {
   "cell_type": "code",
   "execution_count": 4,
   "metadata": {},
   "outputs": [
    {
     "name": "stdout",
     "output_type": "stream",
     "text": [
      "Array of quantum arrays with: dims = [[2], [2]], shape = (2, 2, 2), type = oper\n",
      "QarrayArray data =\n",
      "[[[ 1.+0.j  0.+0.j]\n",
      "  [ 0.+0.j  1.+0.j]]\n",
      "\n",
      " [[ 1.+0.j  0.+0.j]\n",
      "  [ 0.+0.j -1.+0.j]]]\n",
      "Array of quantum arrays with: dims = [[2], [2]], shape = (3, 2, 2), type = oper\n",
      "QarrayArray data =\n",
      "[[[ 1.+0.j  0.+0.j]\n",
      "  [ 0.+0.j  1.+0.j]]\n",
      "\n",
      " [[ 1.+0.j  0.+0.j]\n",
      "  [ 0.+0.j -1.+0.j]]\n",
      "\n",
      " [[ 0.+0.j  1.+0.j]\n",
      "  [ 1.+0.j  0.+0.j]]]\n"
     ]
    },
    {
     "data": {
      "text/plain": [
       "3"
      ]
     },
     "execution_count": 4,
     "metadata": {},
     "output_type": "execute_result"
    }
   ],
   "source": [
    "qarr_arr = qarr_arr.append(jqt.identity(2))\n",
    "qarr_arr = qarr_arr.append(a)\n",
    "print(qarr_arr)\n",
    "\n",
    "qarr_arr = qarr_arr + jqt.QarrayArray.create([jqt.sigmax()])\n",
    "print(qarr_arr)\n",
    "\n",
    "len(qarr_arr)"
   ]
  },
  {
   "cell_type": "code",
   "execution_count": 13,
   "metadata": {},
   "outputs": [
    {
     "data": {
      "text/plain": [
       "Array([[[2.+0.j, 0.+0.j],\n",
       "        [0.+0.j, 0.+0.j]],\n",
       "\n",
       "       [[1.+0.j, 1.+0.j],\n",
       "        [1.+0.j, 1.+0.j]]], dtype=complex128)"
      ]
     },
     "execution_count": 13,
     "metadata": {},
     "output_type": "execute_result"
    }
   ],
   "source": [
    "jqt.identity(2).data + jqt.QarrayArray.create([jqt.sigmaz(), jqt.sigmax()]).data"
   ]
  },
  {
   "cell_type": "code",
   "execution_count": null,
   "metadata": {},
   "outputs": [],
   "source": []
  }
 ],
 "metadata": {
  "kernelspec": {
   "display_name": "jax-framework",
   "language": "python",
   "name": "python3"
  },
  "language_info": {
   "codemirror_mode": {
    "name": "ipython",
    "version": 3
   },
   "file_extension": ".py",
   "mimetype": "text/x-python",
   "name": "python",
   "nbconvert_exporter": "python",
   "pygments_lexer": "ipython3",
   "version": "3.9.18"
  }
 },
 "nbformat": 4,
 "nbformat_minor": 2
}
