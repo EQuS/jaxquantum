{
 "cells": [
  {
   "cell_type": "code",
   "execution_count": 1,
   "metadata": {},
   "outputs": [],
   "source": [
    "%load_ext autoreload\n",
    "%autoreload 2"
   ]
  },
  {
   "cell_type": "code",
   "execution_count": 2,
   "metadata": {},
   "outputs": [
    {
     "name": "stderr",
     "output_type": "stream",
     "text": [
      "/opt/miniconda3/envs/jax-pypi/lib/python3.12/site-packages/qutip/__init__.py:66: UserWarning: The new version of Cython, (>= 3.0.0) is not supported.\n",
      "  warnings.warn(\n"
     ]
    },
    {
     "name": "stdout",
     "output_type": "stream",
     "text": [
      "No GPU device found.\n"
     ]
    }
   ],
   "source": [
    "from jax import jit\n",
    "import jax\n",
    "import jaxquantum as jqt\n",
    "import jax.numpy as jnp\n",
    "import matplotlib.pyplot as plt\n",
    "\n",
    "gpu_device = None\n",
    "try: \n",
    "    gpu_device = jax.devices('gpu')[0] \n",
    "except:\n",
    "    print('No GPU device found.')\n",
    "cpu_device = jax.devices('cpu')[0]"
   ]
  },
  {
   "cell_type": "code",
   "execution_count": 3,
   "metadata": {},
   "outputs": [],
   "source": [
    "import qutip as qt\n",
    "import numpy as np"
   ]
  },
  {
   "cell_type": "markdown",
   "metadata": {},
   "source": [
    "### QuTiP"
   ]
  },
  {
   "cell_type": "code",
   "execution_count": 17,
   "metadata": {},
   "outputs": [],
   "source": [
    "Na = 100\n",
    "Nq = 2\n",
    "\n",
    "a = qt.tensor(qt.destroy(Na), qt.identity(Nq))\n",
    "adag = qt.dag(a)\n",
    "sigmaz = qt.tensor(qt.identity(Na), qt.sigmaz())\n",
    "\n",
    "g_state = qt.tensor(qt.basis(Na, 0), qt.basis(Nq, 0))\n",
    "e_state = qt.tensor(qt.basis(Na, 0), qt.basis(Nq, 1))\n",
    "\n",
    "g_cd = .01 # [GHz]\n",
    "H_g_cd = 1j * g_cd * (adag - a) * sigmaz\n",
    "\n",
    "ts = np.linspace(0,100,101) # [ns]\n",
    "c_ops = []\n",
    "initial_state = g_state"
   ]
  },
  {
   "cell_type": "code",
   "execution_count": 18,
   "metadata": {},
   "outputs": [
    {
     "name": "stdout",
     "output_type": "stream",
     "text": [
      "12.4 ms ± 0 ns per loop (mean ± std. dev. of 1 run, 1 loop each)\n",
      "10.3 ms ± 204 µs per loop (mean ± std. dev. of 7 runs, 100 loops each)\n"
     ]
    }
   ],
   "source": [
    "%timeit -n1 -r1 states = qt.sesolve(H_g_cd, initial_state, ts)\n",
    "%timeit states = qt.sesolve(H_g_cd, initial_state, ts)"
   ]
  },
  {
   "cell_type": "markdown",
   "metadata": {},
   "source": [
    "### JaxQuantum"
   ]
  },
  {
   "cell_type": "code",
   "execution_count": 19,
   "metadata": {},
   "outputs": [],
   "source": [
    "Na = 100\n",
    "Nq = 2\n",
    "\n",
    "a = jqt.destroy(Na) ^ jqt.identity(Nq)\n",
    "adag = jqt.dag(a)\n",
    "sigmaz = jqt.identity(Na) ^ jqt.sigmaz()\n",
    "\n",
    "g_state = jqt.basis(Na, 0) ^ jqt.basis(Nq, 0)\n",
    "e_state = jqt.basis(Na, 0) ^ jqt.basis(Nq, 1)\n",
    "\n",
    "def Ht(t):\n",
    "    g_cd = .01 # [GHz]\n",
    "    H_g_cd = 1j * g_cd * (adag - a) @ sigmaz\n",
    "    return H_g_cd\n",
    "\n",
    "ts = jnp.linspace(0,100,101) # [ns]\n",
    "initial_state = g_state"
   ]
  },
  {
   "cell_type": "code",
   "execution_count": 20,
   "metadata": {},
   "outputs": [
    {
     "name": "stderr",
     "output_type": "stream",
     "text": [
      "/opt/miniconda3/envs/jax-pypi/lib/python3.12/site-packages/equinox/_jit.py:49: UserWarning: Complex dtype support is work in progress, please read https://github.com/patrick-kidger/diffrax/pull/197 and proceed carefully.\n",
      "  out = fun(*args, **kwargs)\n"
     ]
    },
    {
     "name": "stdout",
     "output_type": "stream",
     "text": [
      "1.32 s ± 0 ns per loop (mean ± std. dev. of 1 run, 1 loop each)\n",
      "3.76 ms ± 47.6 µs per loop (mean ± std. dev. of 7 runs, 100 loops each)\n"
     ]
    }
   ],
   "source": [
    "with jax.default_device(cpu_device):\n",
    "    %timeit -n1 -r1 states = jqt.sesolve(initial_state, ts, Ht=Ht) \n",
    "    %timeit states = jqt.sesolve(initial_state, ts, Ht=Ht) "
   ]
  },
  {
   "cell_type": "code",
   "execution_count": 12,
   "metadata": {},
   "outputs": [
    {
     "name": "stderr",
     "output_type": "stream",
     "text": [
      "/opt/miniconda3/envs/jax-pypi/lib/python3.12/site-packages/equinox/_jit.py:49: UserWarning: Complex dtype support is work in progress, please read https://github.com/patrick-kidger/diffrax/pull/197 and proceed carefully.\n",
      "  out = fun(*args, **kwargs)\n"
     ]
    },
    {
     "data": {
      "text/plain": [
       "<matplotlib.contour.QuadContourSet at 0x2a47b6510>"
      ]
     },
     "execution_count": 12,
     "metadata": {},
     "output_type": "execute_result"
    },
    {
     "data": {
      "image/png": "[encoded data removed]",
      "text/plain": [
       "<Figure size 800x600 with 1 Axes>"
      ]
     },
     "metadata": {},
     "output_type": "display_data"
    }
   ],
   "source": [
    "pts = jnp.linspace(-5,5,101)\n",
    "states = jqt.sesolve(initial_state, ts,  Ht=Ht) \n",
    "jqt.plot_wigner(jqt.ptrace(states[-1], 0), pts=pts)"
   ]
  },
  {
   "cell_type": "markdown",
   "metadata": {},
   "source": []
  }
 ],
 "metadata": {
  "kernelspec": {
   "display_name": "jax-pypi",
   "language": "python",
   "name": "python3"
  },
  "language_info": {
   "codemirror_mode": {
    "name": "ipython",
    "version": 3
   },
   "file_extension": ".py",
   "mimetype": "text/x-python",
   "name": "python",
   "nbconvert_exporter": "python",
   "pygments_lexer": "ipython3",
   "version": "3.12.2"
  }
 },
 "nbformat": 4,
 "nbformat_minor": 2
}
