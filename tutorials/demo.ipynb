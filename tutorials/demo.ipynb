{
 "cells": [
  {
   "cell_type": "code",
   "execution_count": 1,
   "metadata": {},
   "outputs": [],
   "source": [
    "%load_ext autoreload\n",
    "%autoreload 2"
   ]
  },
  {
   "cell_type": "code",
   "execution_count": 2,
   "metadata": {},
   "outputs": [],
   "source": [
    "# After following the installation (or building from source) instructions,\n",
    "# you should be able to import jaxquantum without having to add it to\n",
    "# your path explicitly. \n",
    "\n",
    "import jaxquantum as jqt\n",
    "from jax import device_put, jit\n",
    "import jax.numpy as jnp"
   ]
  },
  {
   "cell_type": "code",
   "execution_count": 4,
   "metadata": {},
   "outputs": [],
   "source": [
    "omega_q = device_put(5.0) #GHz\n",
    "Omega = device_put(.1)\n",
    "H0 = omega_q/2.0*jqt.sigmaz()\n",
    "H1 = Omega*jqt.sigmax()\n",
    "g_state = jqt.ket2dm(jqt.basis(2,0)) + 0.0j\n",
    "\n",
    "c_ops = jnp.array([])"
   ]
  },
  {
   "cell_type": "code",
   "execution_count": 5,
   "metadata": {},
   "outputs": [],
   "source": [
    "\n",
    "@jit\n",
    "def pi_exp(omega_d):    \n",
    "    t_list = jnp.linspace(0,jnp.pi/Omega,101)\n",
    "    def H_func(rho, t, H0_val, H1_val, c_ops_val):\n",
    "        fac = jnp.cos((omega_d+0j)*t)\n",
    "        H = H0 + H1*fac\n",
    "        rho_dot = -1.0j * (H @ rho)\n",
    "        rho_dot += -1.0j * (-rho @ H)\n",
    "        return rho_dot\n",
    "    \n",
    "    states = odeint(H_func, g_state, t_list, H0, H1, c_ops)\n",
    "    final_state = states[-1]\n",
    "    return jnp.real(jnp.trace(final_state @ jqt.sigmaz()))"
   ]
  },
  {
   "cell_type": "code",
   "execution_count": 6,
   "metadata": {},
   "outputs": [],
   "source": [
    "@jit\n",
    "def Ht(t):\n",
    "    fac = jnp.cos((omega_q+0j)*t)\n",
    "    return H0 + H1*fac"
   ]
  },
  {
   "cell_type": "code",
   "execution_count": 9,
   "metadata": {},
   "outputs": [
    {
     "name": "stdout",
     "output_type": "stream",
     "text": [
      "1.07 ms ± 69.8 µs per loop (mean ± std. dev. of 7 runs, 1,000 loops each)\n"
     ]
    }
   ],
   "source": [
    "%timeit results = jqt.mesolve(g_state, jnp.linspace(0,jnp.pi/Omega,101), c_ops=c_ops, H0=H0, use_density_matrix=False) "
   ]
  },
  {
   "cell_type": "code",
   "execution_count": 10,
   "metadata": {},
   "outputs": [],
   "source": [
    "results = jqt.mesolve(g_state, jnp.linspace(0,jnp.pi/Omega,101), c_ops=c_ops, H0=H0, use_density_matrix=False) "
   ]
  }
 ],
 "metadata": {
  "kernelspec": {
   "display_name": "Python 3.10.4 ('bosonic-jax-env')",
   "language": "python",
   "name": "python3"
  },
  "language_info": {
   "codemirror_mode": {
    "name": "ipython",
    "version": 3
   },
   "file_extension": ".py",
   "mimetype": "text/x-python",
   "name": "python",
   "nbconvert_exporter": "python",
   "pygments_lexer": "ipython3",
   "version": "3.10.4"
  },
  "vscode": {
   "interpreter": {
    "hash": "52076a623ff6844f0fbadb57f253b3336c86b8f9c4407f6cabc92a6190206954"
   }
  }
 },
 "nbformat": 4,
 "nbformat_minor": 4
}
