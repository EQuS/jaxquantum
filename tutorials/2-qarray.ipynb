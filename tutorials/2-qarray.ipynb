{
 "cells": [
  {
   "cell_type": "code",
   "execution_count": 1,
   "metadata": {},
   "outputs": [],
   "source": [
    "%load_ext autoreload\n",
    "%autoreload 2"
   ]
  },
  {
   "cell_type": "code",
   "execution_count": 2,
   "metadata": {},
   "outputs": [
    {
     "name": "stderr",
     "output_type": "stream",
     "text": [
      "/opt/miniconda3/envs/jax-framework/lib/python3.9/site-packages/qutip/__init__.py:66: UserWarning: The new version of Cython, (>= 3.0.0) is not supported.\n",
      "  warnings.warn(\n"
     ]
    }
   ],
   "source": [
    "import jaxquantum as jqt\n",
    "from jax import jit"
   ]
  },
  {
   "cell_type": "code",
   "execution_count": 3,
   "metadata": {},
   "outputs": [
    {
     "data": {
      "text/plain": [
       "Quantum array: dims = [[2, 2], [2, 2]], shape = (4, 4), type = oper\n",
       "Qarray data =\n",
       "[[0. 1. 0. 0.]\n",
       " [1. 0. 0. 0.]\n",
       " [0. 0. 0. 1.]\n",
       " [0. 0. 1. 0.]]"
      ]
     },
     "execution_count": 3,
     "metadata": {},
     "output_type": "execute_result"
    }
   ],
   "source": [
    "a = jqt.Qarray.create(jqt.tensor(jqt.sigmax(),jqt.sigmax()), dims=[[2,2], [2,2]])\n",
    "b = jqt.Qarray.create(jqt.tensor(jqt.sigmax(), jqt.identity(2)), dims=[[2,2], [2,2]])\n",
    "a @ b"
   ]
  },
  {
   "cell_type": "code",
   "execution_count": 7,
   "metadata": {},
   "outputs": [],
   "source": [
    "@jit\n",
    "def test(input_a):\n",
    "    b = jqt.Qarray.create(jqt.tensor(jqt.sigmax(), jqt.identity(2)), dims=[[2,2], [2,2]])\n",
    "    return input_a @ b"
   ]
  },
  {
   "cell_type": "code",
   "execution_count": 9,
   "metadata": {},
   "outputs": [
    {
     "name": "stdout",
     "output_type": "stream",
     "text": [
      "5.1 µs ± 57.7 ns per loop (mean ± std. dev. of 7 runs, 100,000 loops each)\n"
     ]
    }
   ],
   "source": [
    "%timeit test(a)"
   ]
  },
  {
   "cell_type": "code",
   "execution_count": 11,
   "metadata": {},
   "outputs": [
    {
     "name": "stdout",
     "output_type": "stream",
     "text": [
      "4.1 µs ± 52.3 ns per loop (mean ± std. dev. of 7 runs, 100,000 loops each)\n"
     ]
    }
   ],
   "source": [
    "%timeit a.data @ b.data"
   ]
  },
  {
   "cell_type": "code",
   "execution_count": 2,
   "metadata": {},
   "outputs": [
    {
     "name": "stderr",
     "output_type": "stream",
     "text": [
      "/opt/miniconda3/envs/jax-framework/lib/python3.9/site-packages/qutip/__init__.py:66: UserWarning: The new version of Cython, (>= 3.0.0) is not supported.\n",
      "  warnings.warn(\n"
     ]
    }
   ],
   "source": [
    "import qutip as qt"
   ]
  },
  {
   "cell_type": "code",
   "execution_count": 3,
   "metadata": {},
   "outputs": [
    {
     "data": {
      "text/latex": [
       "Quantum object: dims = [[10, 10], [1, 1]], shape = (100, 1), type = ket $ \\\\ \\left(\\begin{matrix}0.368\\\\0.368\\\\0.260\\\\0.150\\\\0.075\\\\\\vdots\\\\6.091\\times10^{-05}\\\\2.486\\times10^{-05}\\\\9.404\\times10^{-06}\\\\3.297\\times10^{-06}\\\\1.210\\times10^{-06}\\\\\\end{matrix}\\right)$"
      ],
      "text/plain": [
       "Quantum object: dims = [[10, 10], [1, 1]], shape = (100, 1), type = ket\n",
       "Qobj data =\n",
       "[[3.67879441e-01]\n",
       " [3.67879441e-01]\n",
       " [2.60130047e-01]\n",
       " [1.50186155e-01]\n",
       " [7.50930613e-02]\n",
       " [3.35827506e-02]\n",
       " [1.37094277e-02]\n",
       " [5.18515195e-03]\n",
       " [1.81760459e-03]\n",
       " [6.67227779e-04]\n",
       " [3.67879441e-01]\n",
       " [3.67879441e-01]\n",
       " [2.60130047e-01]\n",
       " [1.50186155e-01]\n",
       " [7.50930613e-02]\n",
       " [3.35827506e-02]\n",
       " [1.37094277e-02]\n",
       " [5.18515195e-03]\n",
       " [1.81760459e-03]\n",
       " [6.67227779e-04]\n",
       " [2.60130047e-01]\n",
       " [2.60130047e-01]\n",
       " [1.83939720e-01]\n",
       " [1.06197648e-01]\n",
       " [5.30988128e-02]\n",
       " [2.37465906e-02]\n",
       " [9.69402930e-03]\n",
       " [3.66645610e-03]\n",
       " [1.28524053e-03]\n",
       " [4.71801286e-04]\n",
       " [1.50186155e-01]\n",
       " [1.50186155e-01]\n",
       " [1.06197648e-01]\n",
       " [6.13132417e-02]\n",
       " [3.06566143e-02]\n",
       " [1.37101007e-02]\n",
       " [5.59685050e-03]\n",
       " [2.11682944e-03]\n",
       " [7.42033975e-04]\n",
       " [2.72394603e-04]\n",
       " [7.50930613e-02]\n",
       " [7.50930613e-02]\n",
       " [5.30988128e-02]\n",
       " [3.06566143e-02]\n",
       " [1.53283038e-02]\n",
       " [6.85504886e-03]\n",
       " [2.79842465e-03]\n",
       " [1.05841449e-03]\n",
       " [3.71016908e-04]\n",
       " [1.36197272e-04]\n",
       " [3.35827506e-02]\n",
       " [3.35827506e-02]\n",
       " [2.37465906e-02]\n",
       " [1.37101007e-02]\n",
       " [6.85504886e-03]\n",
       " [3.06568133e-03]\n",
       " [1.25149775e-03]\n",
       " [4.73338939e-04]\n",
       " [1.65924362e-04]\n",
       " [6.09094762e-05]\n",
       " [1.37094277e-02]\n",
       " [1.37094277e-02]\n",
       " [9.69402930e-03]\n",
       " [5.59685050e-03]\n",
       " [2.79842465e-03]\n",
       " [1.25149775e-03]\n",
       " [5.10896743e-04]\n",
       " [1.93230330e-04]\n",
       " [6.77350130e-05]\n",
       " [2.48649693e-05]\n",
       " [5.18515195e-03]\n",
       " [5.18515195e-03]\n",
       " [3.66645610e-03]\n",
       " [2.11682944e-03]\n",
       " [1.05841449e-03]\n",
       " [4.73338939e-04]\n",
       " [1.93230330e-04]\n",
       " [7.30831835e-05]\n",
       " [2.56185992e-05]\n",
       " [9.40437825e-06]\n",
       " [1.81760459e-03]\n",
       " [1.81760459e-03]\n",
       " [1.28524053e-03]\n",
       " [7.42033975e-04]\n",
       " [3.71016908e-04]\n",
       " [1.65924362e-04]\n",
       " [6.77350130e-05]\n",
       " [2.56185992e-05]\n",
       " [8.98035082e-06]\n",
       " [3.29661334e-06]\n",
       " [6.67227779e-04]\n",
       " [6.67227779e-04]\n",
       " [4.71801286e-04]\n",
       " [2.72394603e-04]\n",
       " [1.36197272e-04]\n",
       " [6.09094762e-05]\n",
       " [2.48649693e-05]\n",
       " [9.40437825e-06]\n",
       " [3.29661334e-06]\n",
       " [1.21015979e-06]]"
      ]
     },
     "execution_count": 3,
     "metadata": {},
     "output_type": "execute_result"
    }
   ],
   "source": [
    "qt.tensor(qt.coherent(10,1),qt.coherent(10,1))"
   ]
  },
  {
   "cell_type": "code",
   "execution_count": 11,
   "metadata": {},
   "outputs": [
    {
     "ename": "AttributeError",
     "evalue": "module 'qutip' has no attribute 'Dimensions'",
     "output_type": "error",
     "traceback": [
      "\u001b[0;31m---------------------------------------------------------------------------\u001b[0m",
      "\u001b[0;31mAttributeError\u001b[0m                            Traceback (most recent call last)",
      "Cell \u001b[0;32mIn[11], line 2\u001b[0m\n\u001b[1;32m      1\u001b[0m a \u001b[38;5;241m=\u001b[39m qt\u001b[38;5;241m.\u001b[39mcoherent(\u001b[38;5;241m10\u001b[39m,\u001b[38;5;241m1\u001b[39m)\n\u001b[0;32m----> 2\u001b[0m \u001b[43mqt\u001b[49m\u001b[38;5;241;43m.\u001b[39;49m\u001b[43mDimensions\u001b[49m()\n",
      "\u001b[0;31mAttributeError\u001b[0m: module 'qutip' has no attribute 'Dimensions'"
     ]
    }
   ],
   "source": [
    "a = qt.coherent(10,1)\n",
    "qt.Dimensions()"
   ]
  },
  {
   "cell_type": "code",
   "execution_count": 9,
   "metadata": {},
   "outputs": [
    {
     "data": {
      "text/plain": [
       "2"
      ]
     },
     "execution_count": 9,
     "metadata": {},
     "output_type": "execute_result"
    }
   ],
   "source": [
    "import jax.numpy as jnp\n",
    "a = jnp.array([1,2])\n",
    "a.size"
   ]
  },
  {
   "cell_type": "code",
   "execution_count": null,
   "metadata": {},
   "outputs": [],
   "source": []
  }
 ],
 "metadata": {
  "kernelspec": {
   "display_name": "jax-framework",
   "language": "python",
   "name": "python3"
  },
  "language_info": {
   "codemirror_mode": {
    "name": "ipython",
    "version": 3
   },
   "file_extension": ".py",
   "mimetype": "text/x-python",
   "name": "python",
   "nbconvert_exporter": "python",
   "pygments_lexer": "ipython3",
   "version": "3.9.18"
  }
 },
 "nbformat": 4,
 "nbformat_minor": 2
}
