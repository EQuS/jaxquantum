{
 "cells": [
  {
   "cell_type": "code",
   "execution_count": 1,
   "metadata": {},
   "outputs": [],
   "source": [
    "%load_ext autoreload\n",
    "%autoreload 2"
   ]
  },
  {
   "cell_type": "code",
   "execution_count": 2,
   "metadata": {},
   "outputs": [],
   "source": [
    "import jaxquantum as jqt\n",
    "import jaxquantum.circuits as jqtc\n",
    "from jax import jit, grad, vmap\n",
    "import jax.numpy as jnp\n",
    "from math import prod\n",
    "import matplotlib.pyplot as plt\n",
    "\n",
    "import jax\n",
    "import optax\n",
    "import functools"
   ]
  },
  {
   "cell_type": "code",
   "execution_count": 3,
   "metadata": {},
   "outputs": [
    {
     "data": {
      "text/plain": [
       "<Axes: >"
      ]
     },
     "execution_count": 3,
     "metadata": {},
     "output_type": "execute_result"
    },
    {
     "data": {
      "image/png": "[encoded data removed]",
      "text/plain": [
       "<Figure size 800x600 with 1 Axes>"
      ]
     },
     "metadata": {},
     "output_type": "display_data"
    }
   ],
   "source": [
    "alpha = 1.5\n",
    "cat_state = (jqt.coherent(10,alpha) + jqt.coherent(10,-alpha)).unit().to_dm()\n",
    "pts = jnp.linspace(-5,5,100)\n",
    "jqt.plot_wigner(cat_state, pts)"
   ]
  },
  {
   "cell_type": "code",
   "execution_count": 4,
   "metadata": {},
   "outputs": [],
   "source": [
    "def cirq_full(params):\n",
    "    N = 10\n",
    "    initial_state = jqt.basis(2, 0) ^ jqt.basis(N, 0)\n",
    "    reg = jqtc.Register([2,N])\n",
    "\n",
    "    cirq = jqtc.Circuit.create(reg, layers=[])\n",
    "    for i in range(params.shape[0]):\n",
    "        cirq.append(jqtc.Rx(params[i][1]), 0)\n",
    "        cirq.append(jqtc.Ry(params[i][2]), 0)\n",
    "        cirq.append(jqtc.CD(N, params[i][0]), [0,1])\n",
    "\n",
    "    res = jqtc.simulate(cirq, initial_state)\n",
    "    return res[-1][0].ptrace(1)\n",
    "\n",
    "\n",
    "def metric(params):\n",
    "    alpha = 1.5\n",
    "    cat_state = (jqt.coherent(10,alpha) + jqt.coherent(10,-alpha)).unit().to_dm()\n",
    "    final_state = cirq_full(params) \n",
    "    return -jqt.overlap(final_state, cat_state)\n",
    "\n",
    "metric_grad = jit(grad(metric))\n",
    "# metric_vmap = vmap(metric)\n",
    "\n",
    "# f = jit(metric_vmap)\n",
    "# f_grad = jit(grad(metric_vmap))"
   ]
  },
  {
   "cell_type": "code",
   "execution_count": 5,
   "metadata": {},
   "outputs": [
    {
     "data": {
      "text/plain": [
       "Array([[-3.91137657e-02, -6.93889390e-17,  1.38777878e-17],\n",
       "       [ 1.29792713e-01, -1.05960875e-01,  4.13925609e-02],\n",
       "       [ 1.47499984e-01,  6.56138221e-02,  4.01590330e-02],\n",
       "       [-1.82501425e-01,  8.10261987e-02, -1.62930241e-02],\n",
       "       [-5.37877340e-02, -2.42225303e-03, -5.17698946e-04]],      dtype=float64)"
      ]
     },
     "execution_count": 5,
     "metadata": {},
     "output_type": "execute_result"
    }
   ],
   "source": [
    "key = jax.random.PRNGKey(1)\n",
    "params = jax.random.normal(key, (5, 3))\n",
    "metric_grad(params)"
   ]
  },
  {
   "cell_type": "code",
   "execution_count": 6,
   "metadata": {},
   "outputs": [],
   "source": [
    "def optimize(params):\n",
    "    start_learning_rate = 1e-1\n",
    "    optimizer = optax.adam(start_learning_rate)\n",
    "\n",
    "    # Initialize parameters of the model + optimizer.\n",
    "    opt_state = optimizer.init(params)\n",
    "\n",
    "    for _ in range(1000):\n",
    "        grads = metric_grad(params)\n",
    "        updates, opt_state = optimizer.update(grads, opt_state)\n",
    "        params = optax.apply_updates(params, updates)\n",
    "    \n",
    "    return params"
   ]
  },
  {
   "cell_type": "code",
   "execution_count": 8,
   "metadata": {},
   "outputs": [
    {
     "data": {
      "text/plain": [
       "Array(-0.50597615, dtype=float64)"
      ]
     },
     "execution_count": 8,
     "metadata": {},
     "output_type": "execute_result"
    }
   ],
   "source": [
    "key = jax.random.PRNGKey(0)\n",
    "params = jax.random.normal(key, (1, 5, 3))\n",
    "optimal_params = optimize(params[0])\n",
    "metric(optimal_params)"
   ]
  },
  {
   "cell_type": "code",
   "execution_count": null,
   "metadata": {},
   "outputs": [],
   "source": []
  }
 ],
 "metadata": {
  "kernelspec": {
   "display_name": "jax-framework",
   "language": "python",
   "name": "python3"
  },
  "language_info": {
   "codemirror_mode": {
    "name": "ipython",
    "version": 3
   },
   "file_extension": ".py",
   "mimetype": "text/x-python",
   "name": "python",
   "nbconvert_exporter": "python",
   "pygments_lexer": "ipython3",
   "version": "3.9.18"
  }
 },
 "nbformat": 4,
 "nbformat_minor": 2
}
