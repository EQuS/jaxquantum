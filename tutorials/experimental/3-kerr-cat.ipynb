{
 "cells": [
  {
   "cell_type": "code",
   "execution_count": 1,
   "metadata": {},
   "outputs": [],
   "source": [
    "%load_ext autoreload\n",
    "%autoreload 2"
   ]
  },
  {
   "cell_type": "code",
   "execution_count": 2,
   "metadata": {},
   "outputs": [],
   "source": [
    "from jax import jit, vmap, config, device_put\n",
    "import jax\n",
    "import jaxquantum as jqt\n",
    "import jax.numpy as jnp\n",
    "import matplotlib.pyplot as plt\n",
    "\n",
    "config.update(\"jax_enable_x64\", True)\n",
    "\n",
    "# gpu_device = jax.devices('gpu')[0]\n",
    "cpu_device = jax.devices('cpu')[0]"
   ]
  },
  {
   "cell_type": "code",
   "execution_count": 8,
   "metadata": {},
   "outputs": [],
   "source": [
    "\n",
    "def simulate(initial_state):\n",
    "    # Operators and States ----\n",
    "    Na = device_put(20)\n",
    "    a = jqt.destroy(Na)\n",
    "    adag = jqt.create(Na)\n",
    "\n",
    "    # Parameters ----\n",
    "    K = device_put(2*jnp.pi*20e-3) # [GHz]\n",
    "    alpha = device_put(1.5)\n",
    "    eps_2 = alpha**2 * K\n",
    "    delta = 0 * K\n",
    "\n",
    "    # Hamiltonian ----\n",
    "\n",
    "    def squeezing_drive(t):\n",
    "        return eps_2 * jnp.tanh((2*K/10) * t)\n",
    "\n",
    "    def Ht(t):\n",
    "        return delta * adag @ a + -K * adag @ adag @ a @ a + squeezing_drive(t) * (adag @ adag + a @ a)\n",
    "\n",
    "    # Loss ----\n",
    "    kappa = 1e-3 # [GHz]\n",
    "    c_ops = []#kappa * a]\n",
    "\n",
    "    # Simulation controls ----\n",
    "    ts = jnp.linspace(0,1e3,101) # [ns]\n",
    "    \n",
    "    states = jqt.mesolve(initial_state, ts, Ht=Ht, c_ops=[]) \n",
    "    # states = jqt.sesolve(initial_state, ts, Ht=Ht) \n",
    "\n",
    "    return states"
   ]
  },
  {
   "cell_type": "code",
   "execution_count": 10,
   "metadata": {},
   "outputs": [
    {
     "name": "stderr",
     "output_type": "stream",
     "text": [
      "100% |\u001b[35m██████████\u001b[0m| [00:04<00:00, 23.98%/s] \n"
     ]
    },
    {
     "name": "stdout",
     "output_type": "stream",
     "text": [
      "5.09 s ± 0 ns per loop (mean ± std. dev. of 1 run, 1 loop each)\n"
     ]
    }
   ],
   "source": [
    "with jax.default_device(cpu_device):\n",
    "    %timeit -n1 -r1 states = simulate(jqt.basis(20, 0).to_dm())"
   ]
  },
  {
   "cell_type": "code",
   "execution_count": 5,
   "metadata": {},
   "outputs": [
    {
     "name": "stderr",
     "output_type": "stream",
     "text": [
      "/home/shanj/miniconda3/envs/jax-new/lib/python3.12/site-packages/equinox/_jit.py:49: UserWarning: Complex dtype support is work in progress, please read https://github.com/patrick-kidger/diffrax/pull/197 and proceed carefully.\n",
      "  out = fun(*args, **kwargs)\n"
     ]
    },
    {
     "name": "stdout",
     "output_type": "stream",
     "text": [
      "7.68 s ± 0 ns per loop (mean ± std. dev. of 1 run, 1 loop each)\n"
     ]
    }
   ],
   "source": [
    "with jax.default_device(gpu_device):\n",
    "    %timeit -n1 -r1 states = simulate(jqt.basis(20, 0))"
   ]
  },
  {
   "cell_type": "code",
   "execution_count": 7,
   "metadata": {},
   "outputs": [
    {
     "name": "stderr",
     "output_type": "stream",
     "text": [
      "2024-05-26 19:40:30.933905: W tensorflow/compiler/tf2tensorrt/utils/py_utils.cc:38] TF-TRT Warning: Could not find TensorRT\n",
      "/home/shanj/miniconda3/envs/jax-new/lib/python3.12/site-packages/equinox/_jit.py:49: UserWarning: Complex dtype support is work in progress, please read https://github.com/patrick-kidger/diffrax/pull/197 and proceed carefully.\n",
      "  out = fun(*args, **kwargs)\n"
     ]
    }
   ],
   "source": [
    "with jax.profiler.trace(\"/tmp/tensorboard\"):\n",
    "    with jax.default_device(gpu_device):\n",
    "        states = simulate(jqt.basis(20, 1))\n",
    "        states[0].data.block_until_ready()"
   ]
  },
  {
   "cell_type": "code",
   "execution_count": 8,
   "metadata": {},
   "outputs": [
    {
     "name": "stderr",
     "output_type": "stream",
     "text": [
      "/home/shanj/miniconda3/envs/jax-new/lib/python3.12/site-packages/equinox/_jit.py:49: UserWarning: Complex dtype support is work in progress, please read https://github.com/patrick-kidger/diffrax/pull/197 and proceed carefully.\n",
      "  out = fun(*args, **kwargs)\n"
     ]
    },
    {
     "data": {
      "image/png": "[encoded data removed]",
      "text/plain": [
       "<Figure size 800x600 with 1 Axes>"
      ]
     },
     "metadata": {},
     "output_type": "display_data"
    }
   ],
   "source": [
    "with jax.default_device(cpu_device):\n",
    "    pts = jnp.linspace(-5,5,101)\n",
    "    states = simulate(jqt.basis(20, 0))\n",
    "    jqt.plot_wigner(jqt.ptrace(states[-1], 0), pts=pts)"
   ]
  }
 ],
 "metadata": {
  "kernelspec": {
   "display_name": "jax-new",
   "language": "python",
   "name": "python3"
  },
  "language_info": {
   "codemirror_mode": {
    "name": "ipython",
    "version": 3
   },
   "file_extension": ".py",
   "mimetype": "text/x-python",
   "name": "python",
   "nbconvert_exporter": "python",
   "pygments_lexer": "ipython3",
   "version": "3.9.18"
  }
 },
 "nbformat": 4,
 "nbformat_minor": 2
}
