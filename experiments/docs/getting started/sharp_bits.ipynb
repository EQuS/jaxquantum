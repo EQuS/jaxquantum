{
 "cells": [
  {
   "cell_type": "code",
   "execution_count": 1,
   "id": "67c05e22",
   "metadata": {},
   "outputs": [],
   "source": [
    "import jaxquantum as jqt"
   ]
  },
  {
   "cell_type": "code",
   "execution_count": 4,
   "id": "6a661426",
   "metadata": {},
   "outputs": [
    {
     "data": {
      "text/plain": [
       "Quantum array: dims = ((2, 3), (2, 3)), bdims = (), shape = (6, 6), type = oper\n",
       "Qarray data =\n",
       "[[2.+0.j 0.+0.j 0.+0.j 0.+0.j 0.+0.j 0.+0.j]\n",
       " [0.+0.j 2.+0.j 0.+0.j 0.+0.j 0.+0.j 0.+0.j]\n",
       " [0.+0.j 0.+0.j 2.+0.j 0.+0.j 0.+0.j 0.+0.j]\n",
       " [0.+0.j 0.+0.j 0.+0.j 2.+0.j 0.+0.j 0.+0.j]\n",
       " [0.+0.j 0.+0.j 0.+0.j 0.+0.j 2.+0.j 0.+0.j]\n",
       " [0.+0.j 0.+0.j 0.+0.j 0.+0.j 0.+0.j 2.+0.j]]"
      ]
     },
     "execution_count": 4,
     "metadata": {},
     "output_type": "execute_result"
    }
   ],
   "source": [
    "(jqt.identity(2)^jqt.identity(3)) + (jqt.identity(2)^jqt.identity(3))"
   ]
  },
  {
   "cell_type": "code",
   "execution_count": null,
   "id": "b5deac3f",
   "metadata": {},
   "outputs": [],
   "source": []
  }
 ],
 "metadata": {
  "kernelspec": {
   "display_name": "jax-0.2.0-env",
   "language": "python",
   "name": "python3"
  },
  "language_info": {
   "codemirror_mode": {
    "name": "ipython",
    "version": 3
   },
   "file_extension": ".py",
   "mimetype": "text/x-python",
   "name": "python",
   "nbconvert_exporter": "python",
   "pygments_lexer": "ipython3",
   "version": "3.13.5"
  }
 },
 "nbformat": 4,
 "nbformat_minor": 5
}
