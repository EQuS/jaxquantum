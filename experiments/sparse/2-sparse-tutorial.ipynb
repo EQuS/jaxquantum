{
  "cells": [
    {
      "cell_type": "markdown",
      "metadata": {},
      "source": [
        "# Sparse Qarray Tutorial\n",
        "\n",
        "This tutorial demonstrates the new sparse support in jaxquantum's Qarray implementation. The new implementation uses an architecture based on different implementations (dense and sparse) while maintaining full backward compatibility.\n",
        "\n",
        "## What is Sparse Support?\n",
        "\n",
        "Sparse matrices are matrices where most elements are zero. For quantum systems, many operators (like Hamiltonians) have sparse structure, especially for large systems. Sparse representations can offer significant memory and computational advantages when the sparsity is high enough.\n",
        "\n",
        "## When to Use Sparse vs Dense\n",
        "\n",
        "- **Use Sparse**: When your matrices have many zeros (sparsity > 70-80%) and you're doing operations like matrix multiplication, addition, or scalar multiplication\n",
        "- **Use Dense**: For small matrices, when doing operations like matrix exponentials, or when sparsity is low\n",
        "\n",
        "The new implementation automatically handles fallback from sparse to dense for unsupported operations.\n"
      ]
    },
    {
      "cell_type": "code",
      "execution_count": 1,
      "metadata": {},
      "outputs": [],
      "source": [
        "import jaxquantum as jqt\n",
        "import jax.numpy as jnp\n",
        "import jax.experimental.sparse as sparse\n",
        "import numpy as np\n",
        "import time\n",
        "import matplotlib.pyplot as plt\n",
        "\n",
        "# Set up plotting\n",
        "plt.style.use('default')\n",
        "plt.rcParams['figure.figsize'] = (10, 6)\n"
      ]
    },
    {
      "cell_type": "markdown",
      "metadata": {},
      "source": [
        "## 1. Creating Sparse Qarrays\n",
        "\n",
        "There are several ways to create sparse Qarrays:\n"
      ]
    },
    {
      "cell_type": "code",
      "execution_count": 2,
      "metadata": {},
      "outputs": [
        {
          "name": "stdout",
          "output_type": "stream",
          "text": [
            "Dense Qarray:\n",
            "Quantum array: dims = ((3,), (3,)), bdims = (), shape = (3, 3), type = oper, impl = dense\n",
            "Qarray data =\n",
            "[[1.+0.j 0.+0.j 0.+0.j]\n",
            " [0.+0.j 2.+0.j 0.+0.j]\n",
            " [0.+0.j 0.+0.j 3.+0.j]]\n",
            "Is dense: True\n",
            "Is sparse: False\n",
            "\n",
            "Sparse Qarray:\n",
            "Quantum array: dims = ((3,), (3,)), bdims = (), shape = (3, 3), type = oper, impl = sparse\n",
            "Qarray data =\n",
            "BCOO(complex128[3, 3], nse=3)\n",
            "Is dense: False\n",
            "Is sparse: True\n"
          ]
        }
      ],
      "source": [
        "# Method 1: Create dense Qarray and convert to sparse\n",
        "dense_data = jnp.array([[1, 0, 0], [0, 2, 0], [0, 0, 3]])\n",
        "qarr_dense = jqt.Qarray.create(dense_data)\n",
        "qarr_sparse = qarr_dense.to_sparse()\n",
        "\n",
        "print(\"Dense Qarray:\")\n",
        "print(qarr_dense)\n",
        "print(f\"Is dense: {qarr_dense.is_dense}\")\n",
        "print(f\"Is sparse: {qarr_dense.is_sparse}\")\n",
        "\n",
        "print(\"\\nSparse Qarray:\")\n",
        "print(qarr_sparse)\n",
        "print(f\"Is dense: {qarr_sparse.is_dense}\")\n",
        "print(f\"Is sparse: {qarr_sparse.is_sparse}\")\n"
      ]
    },
    {
      "cell_type": "code",
      "execution_count": 3,
      "metadata": {},
      "outputs": [
        {
          "name": "stdout",
          "output_type": "stream",
          "text": [
            "From sparse data:\n",
            "Quantum array: dims = ((3,), (3,)), bdims = (), shape = (3, 3), type = oper, impl = sparse\n",
            "Qarray data =\n",
            "BCOO(complex128[3, 3], nse=4)\n",
            "Is sparse: True\n",
            "\n",
            "Direct sparse creation:\n",
            "Quantum array: dims = ((3,), (3,)), bdims = (), shape = (3, 3), type = oper, impl = dense\n",
            "Qarray data =\n",
            "[[1.+0.j 0.+0.j 0.+0.j]\n",
            " [0.+0.j 2.+0.j 0.+0.j]\n",
            " [0.+0.j 0.+0.j 3.+0.j]]\n",
            "Is sparse: False\n"
          ]
        }
      ],
      "source": [
        "# Method 2: Create sparse Qarray directly\n",
        "sparse_data = sparse.BCOO.fromdense(jnp.array([[0, 1, 0], [1, 0, 1], [0, 1, 0]]))\n",
        "qarr_from_sparse = jqt.Qarray.from_sparse(sparse_data)\n",
        "\n",
        "print(\"From sparse data:\")\n",
        "print(qarr_from_sparse)\n",
        "print(f\"Is sparse: {qarr_from_sparse.is_sparse}\")\n",
        "\n",
        "# Method 3: Create with implementation parameter\n",
        "qarr_sparse_direct = jqt.Qarray.create(dense_data, implementation=\"sparse\")\n",
        "\n",
        "print(\"\\nDirect sparse creation:\")\n",
        "print(qarr_sparse_direct)\n",
        "print(f\"Is sparse: {qarr_sparse_direct.is_sparse}\")\n"
      ]
    },
    {
      "cell_type": "code",
      "execution_count": 5,
      "metadata": {},
      "outputs": [
        {
          "data": {
            "text/plain": [
              "Quantum array: dims = ((2, 2), (2, 2)), bdims = (), shape = (4, 4), type = oper, impl = dense\n",
              "Qarray data =\n",
              "[[ 1.+0.j  0.+0.j  0.+0.j  0.+0.j]\n",
              " [ 0.+0.j -1.+0.j  0.+0.j  0.+0.j]\n",
              " [ 0.+0.j  0.+0.j -1.+0.j  0.+0.j]\n",
              " [ 0.+0.j  0.+0.j  0.+0.j  1.+0.j]]"
            ]
          },
          "execution_count": 5,
          "metadata": {},
          "output_type": "execute_result"
        }
      ],
      "source": [
        "jqt.sigmaz().to_sparse() ^ jqt.sigmaz().to_sparse()"
      ]
    },
    {
      "cell_type": "code",
      "execution_count": null,
      "metadata": {},
      "outputs": [],
      "source": []
    }
  ],
  "metadata": {
    "kernelspec": {
      "display_name": "jax-framework",
      "language": "python",
      "name": "python3"
    },
    "language_info": {
      "codemirror_mode": {
        "name": "ipython",
        "version": 3
      },
      "file_extension": ".py",
      "mimetype": "text/x-python",
      "name": "python",
      "nbconvert_exporter": "python",
      "pygments_lexer": "ipython3",
      "version": "3.9.18"
    }
  },
  "nbformat": 4,
  "nbformat_minor": 2
}
