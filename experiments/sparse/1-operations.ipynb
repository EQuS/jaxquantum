{
 "cells": [
  {
   "cell_type": "code",
   "execution_count": 1,
   "id": "26438abd",
   "metadata": {},
   "outputs": [],
   "source": [
    "from jax.experimental import sparse\n",
    "import jax.numpy as jnp\n",
    "import jax.scipy as jsp\n",
    "import jaxquantum as jqt"
   ]
  },
  {
   "cell_type": "code",
   "execution_count": null,
   "id": "50d3892c",
   "metadata": {},
   "outputs": [],
   "source": [
    "a = jqt.destroy(100).data\n",
    "vac = jqt.basis(100, 1).data\n",
    "\n",
    "a_sp = sparse.BCOO.fromdense(a)\n",
    "vac_sp = sparse.BCOO.fromdense(vac)"
   ]
  },
  {
   "cell_type": "code",
   "execution_count": 3,
   "id": "2ea57dc7",
   "metadata": {},
   "outputs": [
    {
     "name": "stdout",
     "output_type": "stream",
     "text": [
      "14.6 ms ± 0 ns per loop (mean ± std. dev. of 1 run, 1 loop each)\n",
      "724 ms ± 0 ns per loop (mean ± std. dev. of 1 run, 1 loop each)\n",
      "19.6 µs ± 3.42 µs per loop (mean ± std. dev. of 7 runs, 100,000 loops each)\n",
      "7.08 ms ± 422 µs per loop (mean ± std. dev. of 7 runs, 100 loops each)\n"
     ]
    }
   ],
   "source": [
    "%timeit -n1 -r1 a @ vac\n",
    "%timeit -n1 -r1 a_sp @ vac_sp\n",
    "\n",
    "%timeit a @ vac\n",
    "%timeit a_sp @ vac_sp"
   ]
  },
  {
   "cell_type": "code",
   "execution_count": 7,
   "id": "c0b3aa75",
   "metadata": {},
   "outputs": [
    {
     "data": {
      "text/plain": [
       "Array([[0.+0.j, 0.+0.j, 0.+0.j, ..., 0.+0.j, 0.+0.j, 0.+0.j],\n",
       "       [0.+0.j, 0.+0.j, 0.+0.j, ..., 0.+0.j, 0.+0.j, 0.+0.j],\n",
       "       [0.+0.j, 0.+0.j, 0.+0.j, ..., 0.+0.j, 0.+0.j, 0.+0.j],\n",
       "       ...,\n",
       "       [0.+0.j, 0.+0.j, 0.+0.j, ..., 0.+0.j, 0.+0.j, 0.+0.j],\n",
       "       [0.+0.j, 0.+0.j, 0.+0.j, ..., 0.+0.j, 0.+0.j, 0.+0.j],\n",
       "       [0.+0.j, 0.+0.j, 0.+0.j, ..., 0.+0.j, 0.+0.j, 0.+0.j]],      dtype=complex128)"
      ]
     },
     "execution_count": 7,
     "metadata": {},
     "output_type": "execute_result"
    }
   ],
   "source": [
    "sparse.sparsify(jnp.kron)(a_sp, a_sp).todense() - jnp.kron(a, a)"
   ]
  },
  {
   "cell_type": "code",
   "execution_count": 13,
   "id": "86b6be9e",
   "metadata": {},
   "outputs": [
    {
     "data": {
      "text/plain": [
       "Array([[0.+0.j, 0.+0.j, 0.+0.j, ..., 0.+0.j, 0.+0.j, 0.+0.j],\n",
       "       [0.+0.j, 0.+0.j, 0.+0.j, ..., 0.+0.j, 0.+0.j, 0.+0.j],\n",
       "       [0.+0.j, 0.+0.j, 0.+0.j, ..., 0.+0.j, 0.+0.j, 0.+0.j],\n",
       "       ...,\n",
       "       [0.+0.j, 0.+0.j, 0.+0.j, ..., 0.+0.j, 0.+0.j, 0.+0.j],\n",
       "       [0.+0.j, 0.+0.j, 0.+0.j, ..., 0.+0.j, 0.+0.j, 0.+0.j],\n",
       "       [0.+0.j, 0.+0.j, 0.+0.j, ..., 0.+0.j, 0.+0.j, 0.+0.j]],      dtype=complex128)"
      ]
     },
     "execution_count": 13,
     "metadata": {},
     "output_type": "execute_result"
    }
   ],
   "source": [
    "sparse.sparsify(jnp.conj)(a_sp.T).todense() - jnp.conj(a.T)"
   ]
  },
  {
   "cell_type": "code",
   "execution_count": 26,
   "id": "ec417930",
   "metadata": {},
   "outputs": [
    {
     "ename": "AttributeError",
     "evalue": "module 'jax.scipy.linalg' has no attribute 'exp'",
     "output_type": "error",
     "traceback": [
      "\u001b[0;31m---------------------------------------------------------------------------\u001b[0m",
      "\u001b[0;31mAttributeError\u001b[0m                            Traceback (most recent call last)",
      "Cell \u001b[0;32mIn[26], line 1\u001b[0m\n\u001b[0;32m----> 1\u001b[0m sparse\u001b[38;5;241m.\u001b[39msparsify(\u001b[43mjsp\u001b[49m\u001b[38;5;241;43m.\u001b[39;49m\u001b[43mlinalg\u001b[49m\u001b[38;5;241;43m.\u001b[39;49m\u001b[43mexp\u001b[49m)(a_sp)\n",
      "\u001b[0;31mAttributeError\u001b[0m: module 'jax.scipy.linalg' has no attribute 'exp'"
     ]
    }
   ],
   "source": [
    "sparse.sparsify(jsp.linalg.exp)(a_sp)"
   ]
  },
  {
   "cell_type": "code",
   "execution_count": 32,
   "id": "69991f4f",
   "metadata": {},
   "outputs": [
    {
     "ename": "TypeError",
     "evalue": "jnp.linalg.norm requires ndarray or scalar arguments, got <class 'jax.experimental.sparse.bcoo.BCOO'> at position 0.",
     "output_type": "error",
     "traceback": [
      "\u001b[0;31m---------------------------------------------------------------------------\u001b[0m",
      "\u001b[0;31mTypeError\u001b[0m                                 Traceback (most recent call last)",
      "Cell \u001b[0;32mIn[32], line 1\u001b[0m\n\u001b[0;32m----> 1\u001b[0m \u001b[43msparse\u001b[49m\u001b[38;5;241;43m.\u001b[39;49m\u001b[43mlinalg\u001b[49m\u001b[38;5;241;43m.\u001b[39;49m\u001b[43m_svqb\u001b[49m\u001b[43m(\u001b[49m\u001b[43ma_sp\u001b[49m\u001b[43m)\u001b[49m\n",
      "File \u001b[0;32m/opt/miniconda3/envs/jax-framework/lib/python3.9/site-packages/jax/experimental/sparse/linalg.py:333\u001b[0m, in \u001b[0;36m_svqb\u001b[0;34m(X)\u001b[0m\n\u001b[1;32m    308\u001b[0m \u001b[38;5;250m\u001b[39m\u001b[38;5;124;03m\"\"\"Derives a truncated orthonormal basis for `X`.\u001b[39;00m\n\u001b[1;32m    309\u001b[0m \n\u001b[1;32m    310\u001b[0m \u001b[38;5;124;03mSVQB [1] is an accelerator-friendly orthonormalization procedure, which\u001b[39;00m\n\u001b[0;32m   (...)\u001b[0m\n\u001b[1;32m    327\u001b[0m \u001b[38;5;124;03m  columns possibly zeroed out if `X` is of low rank.\u001b[39;00m\n\u001b[1;32m    328\u001b[0m \u001b[38;5;124;03m\"\"\"\u001b[39;00m\n\u001b[1;32m    330\u001b[0m \u001b[38;5;66;03m# In [1] diagonal conditioning is explicit, but by normalizing first\u001b[39;00m\n\u001b[1;32m    331\u001b[0m \u001b[38;5;66;03m# we can simplify the formulas a bit, since then diagonal conditioning\u001b[39;00m\n\u001b[1;32m    332\u001b[0m \u001b[38;5;66;03m# becomes a no-op.\u001b[39;00m\n\u001b[0;32m--> 333\u001b[0m norms \u001b[38;5;241m=\u001b[39m \u001b[43mjnp\u001b[49m\u001b[38;5;241;43m.\u001b[39;49m\u001b[43mlinalg\u001b[49m\u001b[38;5;241;43m.\u001b[39;49m\u001b[43mnorm\u001b[49m\u001b[43m(\u001b[49m\u001b[43mX\u001b[49m\u001b[43m,\u001b[49m\u001b[43m \u001b[49m\u001b[38;5;28;43mord\u001b[39;49m\u001b[38;5;241;43m=\u001b[39;49m\u001b[38;5;241;43m2\u001b[39;49m\u001b[43m,\u001b[49m\u001b[43m \u001b[49m\u001b[43maxis\u001b[49m\u001b[38;5;241;43m=\u001b[39;49m\u001b[38;5;241;43m0\u001b[39;49m\u001b[43m,\u001b[49m\u001b[43m \u001b[49m\u001b[43mkeepdims\u001b[49m\u001b[38;5;241;43m=\u001b[39;49m\u001b[38;5;28;43;01mTrue\u001b[39;49;00m\u001b[43m)\u001b[49m\n\u001b[1;32m    334\u001b[0m X \u001b[38;5;241m/\u001b[39m\u001b[38;5;241m=\u001b[39m jnp\u001b[38;5;241m.\u001b[39mwhere(norms \u001b[38;5;241m==\u001b[39m \u001b[38;5;241m0\u001b[39m, \u001b[38;5;241m1.0\u001b[39m, norms)\n\u001b[1;32m    336\u001b[0m inner \u001b[38;5;241m=\u001b[39m _mm(X\u001b[38;5;241m.\u001b[39mT, X)\n",
      "    \u001b[0;31m[... skipping hidden 11 frame]\u001b[0m\n",
      "File \u001b[0;32m/opt/miniconda3/envs/jax-framework/lib/python3.9/site-packages/jax/_src/numpy/linalg.py:1088\u001b[0m, in \u001b[0;36mnorm\u001b[0;34m(x, ord, axis, keepdims)\u001b[0m\n\u001b[1;32m   1020\u001b[0m \u001b[38;5;129m@partial\u001b[39m(jit, static_argnames\u001b[38;5;241m=\u001b[39m(\u001b[38;5;124m'\u001b[39m\u001b[38;5;124mord\u001b[39m\u001b[38;5;124m'\u001b[39m, \u001b[38;5;124m'\u001b[39m\u001b[38;5;124maxis\u001b[39m\u001b[38;5;124m'\u001b[39m, \u001b[38;5;124m'\u001b[39m\u001b[38;5;124mkeepdims\u001b[39m\u001b[38;5;124m'\u001b[39m))\n\u001b[1;32m   1021\u001b[0m \u001b[38;5;28;01mdef\u001b[39;00m \u001b[38;5;21mnorm\u001b[39m(x: ArrayLike, \u001b[38;5;28mord\u001b[39m: \u001b[38;5;28mint\u001b[39m \u001b[38;5;241m|\u001b[39m \u001b[38;5;28mstr\u001b[39m \u001b[38;5;241m|\u001b[39m \u001b[38;5;28;01mNone\u001b[39;00m \u001b[38;5;241m=\u001b[39m \u001b[38;5;28;01mNone\u001b[39;00m,\n\u001b[1;32m   1022\u001b[0m          axis: \u001b[38;5;28;01mNone\u001b[39;00m \u001b[38;5;241m|\u001b[39m \u001b[38;5;28mtuple\u001b[39m[\u001b[38;5;28mint\u001b[39m, \u001b[38;5;241m.\u001b[39m\u001b[38;5;241m.\u001b[39m\u001b[38;5;241m.\u001b[39m] \u001b[38;5;241m|\u001b[39m \u001b[38;5;28mint\u001b[39m \u001b[38;5;241m=\u001b[39m \u001b[38;5;28;01mNone\u001b[39;00m,\n\u001b[1;32m   1023\u001b[0m          keepdims: \u001b[38;5;28mbool\u001b[39m \u001b[38;5;241m=\u001b[39m \u001b[38;5;28;01mFalse\u001b[39;00m) \u001b[38;5;241m-\u001b[39m\u001b[38;5;241m>\u001b[39m Array:\n\u001b[1;32m   1024\u001b[0m \u001b[38;5;250m  \u001b[39m\u001b[38;5;124;03m\"\"\"Compute the norm of a matrix or vector.\u001b[39;00m\n\u001b[1;32m   1025\u001b[0m \n\u001b[1;32m   1026\u001b[0m \u001b[38;5;124;03m  JAX implementation of :func:`numpy.linalg.norm`.\u001b[39;00m\n\u001b[0;32m   (...)\u001b[0m\n\u001b[1;32m   1086\u001b[0m \u001b[38;5;124;03m    Array([3.7416575, 9.486833 ], dtype=float32)\u001b[39;00m\n\u001b[1;32m   1087\u001b[0m \u001b[38;5;124;03m  \"\"\"\u001b[39;00m\n\u001b[0;32m-> 1088\u001b[0m   \u001b[43mcheck_arraylike\u001b[49m\u001b[43m(\u001b[49m\u001b[38;5;124;43m\"\u001b[39;49m\u001b[38;5;124;43mjnp.linalg.norm\u001b[39;49m\u001b[38;5;124;43m\"\u001b[39;49m\u001b[43m,\u001b[49m\u001b[43m \u001b[49m\u001b[43mx\u001b[49m\u001b[43m)\u001b[49m\n\u001b[1;32m   1089\u001b[0m   x, \u001b[38;5;241m=\u001b[39m promote_dtypes_inexact(jnp\u001b[38;5;241m.\u001b[39masarray(x))\n\u001b[1;32m   1090\u001b[0m   x_shape \u001b[38;5;241m=\u001b[39m jnp\u001b[38;5;241m.\u001b[39mshape(x)\n",
      "File \u001b[0;32m/opt/miniconda3/envs/jax-framework/lib/python3.9/site-packages/jax/_src/numpy/util.py:335\u001b[0m, in \u001b[0;36mcheck_arraylike\u001b[0;34m(fun_name, emit_warning, stacklevel, *args)\u001b[0m\n\u001b[1;32m    332\u001b[0m   warnings\u001b[38;5;241m.\u001b[39mwarn(msg \u001b[38;5;241m+\u001b[39m \u001b[38;5;124m\"\u001b[39m\u001b[38;5;124m In a future JAX release this will be an error.\u001b[39m\u001b[38;5;124m\"\u001b[39m,\n\u001b[1;32m    333\u001b[0m                 category\u001b[38;5;241m=\u001b[39m\u001b[38;5;167;01mDeprecationWarning\u001b[39;00m, stacklevel\u001b[38;5;241m=\u001b[39mstacklevel)\n\u001b[1;32m    334\u001b[0m \u001b[38;5;28;01melse\u001b[39;00m:\n\u001b[0;32m--> 335\u001b[0m   \u001b[38;5;28;01mraise\u001b[39;00m \u001b[38;5;167;01mTypeError\u001b[39;00m(msg\u001b[38;5;241m.\u001b[39mformat(fun_name, \u001b[38;5;28mtype\u001b[39m(arg), pos))\n",
      "\u001b[0;31mTypeError\u001b[0m: jnp.linalg.norm requires ndarray or scalar arguments, got <class 'jax.experimental.sparse.bcoo.BCOO'> at position 0."
     ]
    }
   ],
   "source": [
    "sparse.linalg._svqb(a_sp)"
   ]
  },
  {
   "cell_type": "code",
   "execution_count": 4,
   "id": "7e1d7bc3",
   "metadata": {},
   "outputs": [
    {
     "ename": "TypeError",
     "evalue": "kron requires ndarray or scalar arguments, got <class 'jax.experimental.sparse.bcoo.BCOO'> at position 0.",
     "output_type": "error",
     "traceback": [
      "\u001b[0;31m---------------------------------------------------------------------------\u001b[0m",
      "\u001b[0;31mTypeError\u001b[0m                                 Traceback (most recent call last)",
      "Cell \u001b[0;32mIn[4], line 1\u001b[0m\n\u001b[0;32m----> 1\u001b[0m \u001b[43mjnp\u001b[49m\u001b[38;5;241;43m.\u001b[39;49m\u001b[43mkron\u001b[49m\u001b[43m(\u001b[49m\u001b[43ma_sp\u001b[49m\u001b[43m,\u001b[49m\u001b[43ma_sp\u001b[49m\u001b[43m)\u001b[49m\n",
      "    \u001b[0;31m[... skipping hidden 11 frame]\u001b[0m\n",
      "File \u001b[0;32m/opt/miniconda3/envs/jax-framework/lib/python3.9/site-packages/jax/_src/numpy/lax_numpy.py:4795\u001b[0m, in \u001b[0;36mkron\u001b[0;34m(a, b)\u001b[0m\n\u001b[1;32m   4792\u001b[0m \u001b[38;5;129m@util\u001b[39m\u001b[38;5;241m.\u001b[39mimplements(np\u001b[38;5;241m.\u001b[39mkron)\n\u001b[1;32m   4793\u001b[0m \u001b[38;5;129m@jit\u001b[39m\n\u001b[1;32m   4794\u001b[0m \u001b[38;5;28;01mdef\u001b[39;00m \u001b[38;5;21mkron\u001b[39m(a: ArrayLike, b: ArrayLike) \u001b[38;5;241m-\u001b[39m\u001b[38;5;241m>\u001b[39m Array:\n\u001b[0;32m-> 4795\u001b[0m   \u001b[43mutil\u001b[49m\u001b[38;5;241;43m.\u001b[39;49m\u001b[43mcheck_arraylike\u001b[49m\u001b[43m(\u001b[49m\u001b[38;5;124;43m\"\u001b[39;49m\u001b[38;5;124;43mkron\u001b[39;49m\u001b[38;5;124;43m\"\u001b[39;49m\u001b[43m,\u001b[49m\u001b[43m \u001b[49m\u001b[43ma\u001b[49m\u001b[43m,\u001b[49m\u001b[43m \u001b[49m\u001b[43mb\u001b[49m\u001b[43m)\u001b[49m\n\u001b[1;32m   4796\u001b[0m   a, b \u001b[38;5;241m=\u001b[39m util\u001b[38;5;241m.\u001b[39mpromote_dtypes(a, b)\n\u001b[1;32m   4797\u001b[0m   \u001b[38;5;28;01mif\u001b[39;00m ndim(a) \u001b[38;5;241m<\u001b[39m ndim(b):\n",
      "File \u001b[0;32m/opt/miniconda3/envs/jax-framework/lib/python3.9/site-packages/jax/_src/numpy/util.py:335\u001b[0m, in \u001b[0;36mcheck_arraylike\u001b[0;34m(fun_name, emit_warning, stacklevel, *args)\u001b[0m\n\u001b[1;32m    332\u001b[0m   warnings\u001b[38;5;241m.\u001b[39mwarn(msg \u001b[38;5;241m+\u001b[39m \u001b[38;5;124m\"\u001b[39m\u001b[38;5;124m In a future JAX release this will be an error.\u001b[39m\u001b[38;5;124m\"\u001b[39m,\n\u001b[1;32m    333\u001b[0m                 category\u001b[38;5;241m=\u001b[39m\u001b[38;5;167;01mDeprecationWarning\u001b[39;00m, stacklevel\u001b[38;5;241m=\u001b[39mstacklevel)\n\u001b[1;32m    334\u001b[0m \u001b[38;5;28;01melse\u001b[39;00m:\n\u001b[0;32m--> 335\u001b[0m   \u001b[38;5;28;01mraise\u001b[39;00m \u001b[38;5;167;01mTypeError\u001b[39;00m(msg\u001b[38;5;241m.\u001b[39mformat(fun_name, \u001b[38;5;28mtype\u001b[39m(arg), pos))\n",
      "\u001b[0;31mTypeError\u001b[0m: kron requires ndarray or scalar arguments, got <class 'jax.experimental.sparse.bcoo.BCOO'> at position 0."
     ]
    }
   ],
   "source": [
    "jnp.kron(a_sp,a_sp)"
   ]
  },
  {
   "cell_type": "code",
   "execution_count": 44,
   "id": "bbf9132e",
   "metadata": {},
   "outputs": [
    {
     "data": {
      "text/plain": [
       "(100, 100)"
      ]
     },
     "execution_count": 44,
     "metadata": {},
     "output_type": "execute_result"
    }
   ],
   "source": [
    "a_sp.shape"
   ]
  },
  {
   "cell_type": "code",
   "execution_count": 45,
   "id": "9c2dceeb",
   "metadata": {},
   "outputs": [],
   "source": [
    "import flax.struct as struct\n",
    "import jax.numpy as jnp\n",
    "from abc import ABC, abstractmethod\n",
    "from typing import Generic, TypeVar, Union\n",
    "\n",
    "# ------------------------------\n",
    "# Abstract Implementation\n",
    "# ------------------------------\n",
    "class QarrayImpl(ABC):\n",
    "    @abstractmethod\n",
    "    def matmul(self, other: \"QarrayImpl\") -> \"QarrayImpl\":\n",
    "        ...\n",
    "\n",
    "    @abstractmethod\n",
    "    def to_dense(self):\n",
    "        ...\n",
    "\n",
    "\n",
    "# ------------------------------\n",
    "# Concrete implementations\n",
    "# ------------------------------\n",
    "class DenseImpl(QarrayImpl):\n",
    "    def __init__(self, data):\n",
    "        self.data = jnp.asarray(data)\n",
    "\n",
    "    def matmul(self, other: \"DenseImpl\") -> \"DenseImpl\":\n",
    "        return DenseImpl(self.data @ other.data)\n",
    "\n",
    "    def to_dense(self):\n",
    "        return self.data\n",
    "\n",
    "\n",
    "class SparseImpl(QarrayImpl):\n",
    "    def __init__(self, data):\n",
    "        self.data = data  # e.g., jax.experimental.sparse.BCOO\n",
    "\n",
    "    def matmul(self, other: \"SparseImpl\") -> \"SparseImpl\":\n",
    "        return SparseImpl(self.data @ other.data)\n",
    "\n",
    "    def to_dense(self):\n",
    "        return self.data.todense()\n",
    "\n",
    "\n",
    "# ------------------------------\n",
    "# Type variable for typing clarity\n",
    "# ------------------------------\n",
    "ImplT = TypeVar(\"ImplT\", bound=QarrayImpl)\n",
    "\n",
    "\n",
    "# ------------------------------\n",
    "# Public Qarray class\n",
    "# ------------------------------\n",
    "@struct.dataclass\n",
    "class Qarray(Generic[ImplT]):\n",
    "    impl: ImplT\n",
    "\n",
    "    @classmethod\n",
    "    def from_dense(cls, data) -> \"Qarray[DenseImpl]\":\n",
    "        return cls(DenseImpl(data))\n",
    "\n",
    "    @classmethod\n",
    "    def from_sparse(cls, data) -> \"Qarray[SparseImpl]\":\n",
    "        return cls(SparseImpl(data))\n",
    "\n",
    "    def matmul(self: \"Qarray[ImplT]\", other: \"Qarray[ImplT]\") -> \"Qarray[ImplT]\":\n",
    "        \"\"\"For now: only allow matching implementations (Dense@Dense, Sparse@Sparse).\"\"\"\n",
    "        return Qarray(self.impl.matmul(other.impl))  # type: ignore\n",
    "\n",
    "    def to_dense(self):\n",
    "        return self.impl.to_dense()\n"
   ]
  },
  {
   "cell_type": "code",
   "execution_count": 47,
   "id": "661ae080",
   "metadata": {},
   "outputs": [],
   "source": [
    "A: Qarray[DenseImpl] = Qarray.from_dense(jnp.eye(2))\n",
    "B: Qarray[DenseImpl] = Qarray.from_dense(jnp.array([[0, 1], [1, 0]]))\n",
    "\n",
    "C = A.matmul(B)  # inferred as Qarray[DenseImpl]\n",
    "# type(C)   # -> Qarray[DenseImpl]\n",
    "\n",
    "from jax.experimental import sparse\n",
    "sp = sparse.BCOO.fromdense(jnp.eye(2))\n",
    "\n",
    "S: Qarray[SparseImpl] = Qarray.from_sparse(sp)\n",
    "T: Qarray[SparseImpl] = Qarray.from_sparse(sp)\n",
    "\n",
    "U = S.matmul(T)  # inferred as Qarray[SparseImpl]\n"
   ]
  },
  {
   "cell_type": "code",
   "execution_count": 54,
   "id": "937194b2",
   "metadata": {},
   "outputs": [
    {
     "data": {
      "text/plain": [
       "False"
      ]
     },
     "execution_count": 54,
     "metadata": {},
     "output_type": "execute_result"
    }
   ],
   "source": [
    "from jax import Array\n",
    "isinstance(U.impl.data, Array)"
   ]
  },
  {
   "cell_type": "code",
   "execution_count": 55,
   "id": "3128bf1b",
   "metadata": {},
   "outputs": [
    {
     "data": {
      "text/plain": [
       "BCOO(float64[2, 2], nse=4)"
      ]
     },
     "execution_count": 55,
     "metadata": {},
     "output_type": "execute_result"
    }
   ],
   "source": [
    "U.impl.data"
   ]
  },
  {
   "cell_type": "code",
   "execution_count": 8,
   "id": "8963aaef",
   "metadata": {},
   "outputs": [],
   "source": [
    "# filename: diffrax_jax_sparse_schrodinger.py\n",
    "# Requirements: jax, diffrax\n",
    "# (pip install \"jax[cpu]\" diffrax)  -- or the GPU jax builds if you have one.\n",
    "\n",
    "import jax\n",
    "import jax.numpy as jnp\n",
    "from jax.experimental import sparse\n",
    "import diffrax\n",
    "\n",
    "# Optional: enable 64-bit if you want double precision\n",
    "# from jax.config import config\n",
    "# config.update(\"jax_enable_x64\", True)\n",
    "\n",
    "def make_1d_tight_binding_hamiltonian(n_sites: int, hopping: float = -1.0):\n",
    "    \"\"\"Return a dense Hamiltonian for convenience; we'll convert to sparse BCOO below.\"\"\"\n",
    "    H = jnp.zeros((n_sites, n_sites), dtype=jnp.complex128)\n",
    "    # nearest-neighbor hopping (tridiagonal)\n",
    "    offsets = jnp.arange(n_sites - 1)\n",
    "    H = H.at[offsets, offsets + 1].set(hopping)\n",
    "    H = H.at[offsets + 1, offsets].set(hopping)\n",
    "    # optionally add on-site potential (zeros here)\n",
    "    return H\n",
    "\n",
    "def main():\n",
    "    n = 200  # number of sites (make larger to benefit from sparsity)\n",
    "    H_dense = make_1d_tight_binding_hamiltonian(n)\n",
    "\n",
    "    # Convert to sparse BCOO (compresses zeros)\n",
    "    H_bcoo = sparse.BCOO.fromdense(H_dense)   # experimental sparse type in JAX. :contentReference[oaicite:1]{index=1}\n",
    "    # H_bcoo = H_dense\n",
    "\n",
    "    # Define the vector field for Schrödinger eqn:\n",
    "    # i dψ/dt = H ψ  =>  dψ/dt = -i H ψ\n",
    "    def vector_field(t, y, args):\n",
    "        # y is complex vector shape (n,)\n",
    "        # Use sparse matvec to compute H @ y -> dense result\n",
    "        # For BCOO, the @ operator works as matmul-like; alternatively use sparse.matmul(...)\n",
    "        Hy = H_bcoo @ y                     # returns a dense vector\n",
    "        return -1j * Hy                     # RHS is complex\n",
    "\n",
    "    term = diffrax.ODETerm(vector_field)\n",
    "\n",
    "    # initial state: localized at center\n",
    "    y0 = jnp.zeros((n,), dtype=jnp.complex128)\n",
    "    y0 = y0.at[n // 2].set(1.0 + 0.0j)\n",
    "\n",
    "    solver = diffrax.Tsit5()  # explicit solver OK for this non-stiff unitary evolution\n",
    "    saveat = diffrax.SaveAt(t0=True, t1=True)  # just save start and end\n",
    "    # set dt0 to a fixed initial step size to speed up compilation (optional)\n",
    "    sol = diffrax.diffeqsolve(\n",
    "        term,\n",
    "        solver,\n",
    "        t0=0.0,\n",
    "        t1=50.0,\n",
    "        dt0=0.1,\n",
    "        y0=y0,\n",
    "        saveat=saveat,\n",
    "    )\n",
    "\n",
    "    psi_final = sol.ys[-1]  # if you saved t0 and t1, ys will be [y(t0), y(t1)] (see docs). :contentReference[oaicite:2]{index=2}\n",
    "    # check unitarity (norm conservation)\n",
    "    norm0 = jnp.linalg.norm(y0)\n",
    "    norm_final = jnp.linalg.norm(psi_final)\n",
    "    print(\"||psi(t0)|| =\", norm0)\n",
    "    print(\"||psi(t1)|| =\", norm_final)\n"
   ]
  },
  {
   "cell_type": "code",
   "execution_count": null,
   "id": "9fdea609",
   "metadata": {},
   "outputs": [],
   "source": []
  },
  {
   "cell_type": "code",
   "execution_count": 7,
   "id": "43b27079",
   "metadata": {},
   "outputs": [
    {
     "name": "stderr",
     "output_type": "stream",
     "text": [
      "/opt/miniconda3/envs/jax-framework/lib/python3.9/site-packages/equinox/_jit.py:55: UserWarning: Complex dtype support in Diffrax is a work in progress and may not yet produce correct results. Consider splitting your computation into real and imaginary parts instead.\n",
      "  out = fun(*args, **kwargs)\n"
     ]
    },
    {
     "name": "stdout",
     "output_type": "stream",
     "text": [
      "||psi(t0)|| = 1.0\n",
      "||psi(t1)|| = 0.9999996348072795\n"
     ]
    }
   ],
   "source": [
    "main()"
   ]
  },
  {
   "cell_type": "code",
   "execution_count": 3,
   "id": "3c8279a2",
   "metadata": {},
   "outputs": [
    {
     "ename": "ConcretizationTypeError",
     "evalue": "Abstract tracer value encountered where concrete value is expected: traced array with shape int64[].\n\nThe error arose for the nse argument of bcoo_fromdense. In order for\nBCOO.fromdense() to be used in traced/compiled code, you must pass a concrete\nvalue to the nse (number of stored elements) argument.\n\nThe error occurred while tracing the function mesolve at /Users/phionx/Github/qc/EQuS/bosonic/jax/jaxquantum/jaxquantum/core/solvers.py:109 for jit. This concrete value was not available in Python because it depends on the value of the argument c_ops._data.\n\nSee https://jax.readthedocs.io/en/latest/errors.html#jax.errors.ConcretizationTypeError",
     "output_type": "error",
     "traceback": [
      "\u001b[0;31m---------------------------------------------------------------------------\u001b[0m",
      "\u001b[0;31mConcretizationTypeError\u001b[0m                   Traceback (most recent call last)",
      "Cell \u001b[0;32mIn[3], line 19\u001b[0m\n\u001b[1;32m     16\u001b[0m ts \u001b[38;5;241m=\u001b[39m jnp\u001b[38;5;241m.\u001b[39mlinspace(\u001b[38;5;241m0\u001b[39m, \u001b[38;5;241m4\u001b[39m\u001b[38;5;241m*\u001b[39m\u001b[38;5;241m2\u001b[39m\u001b[38;5;241m*\u001b[39mjnp\u001b[38;5;241m.\u001b[39mpi\u001b[38;5;241m/\u001b[39momega_a, \u001b[38;5;241m101\u001b[39m) \u001b[38;5;66;03m# Time points\u001b[39;00m\n\u001b[1;32m     18\u001b[0m solver_options \u001b[38;5;241m=\u001b[39m jqt\u001b[38;5;241m.\u001b[39mSolverOptions\u001b[38;5;241m.\u001b[39mcreate(progress_meter\u001b[38;5;241m=\u001b[39m\u001b[38;5;28;01mTrue\u001b[39;00m) \n\u001b[0;32m---> 19\u001b[0m states \u001b[38;5;241m=\u001b[39m \u001b[43mjit\u001b[49m\u001b[43m(\u001b[49m\u001b[43mjqt\u001b[49m\u001b[38;5;241;43m.\u001b[39;49m\u001b[43mmesolve\u001b[49m\u001b[43m,\u001b[49m\u001b[43m \u001b[49m\u001b[43mstatic_argnums\u001b[49m\u001b[38;5;241;43m=\u001b[39;49m\u001b[43m(\u001b[49m\u001b[38;5;241;43m5\u001b[39;49m\u001b[43m)\u001b[49m\u001b[43m)\u001b[49m\u001b[43m(\u001b[49m\n\u001b[1;32m     20\u001b[0m \u001b[43m    \u001b[49m\u001b[43mH0\u001b[49m\u001b[43m,\u001b[49m\u001b[43m \u001b[49m\u001b[43minitial_state\u001b[49m\u001b[43m,\u001b[49m\u001b[43m \u001b[49m\u001b[43mts\u001b[49m\u001b[43m,\u001b[49m\u001b[43m \u001b[49m\u001b[43mc_ops\u001b[49m\u001b[38;5;241;43m=\u001b[39;49m\u001b[43mc_ops\u001b[49m\u001b[43m,\u001b[49m\u001b[43m \u001b[49m\u001b[43msolver_options\u001b[49m\u001b[38;5;241;43m=\u001b[39;49m\u001b[43msolver_options\u001b[49m\u001b[43m)\u001b[49m \u001b[38;5;66;03m# solve\u001b[39;00m\n\u001b[1;32m     22\u001b[0m n_exp \u001b[38;5;241m=\u001b[39m jnp\u001b[38;5;241m.\u001b[39mreal(jqt\u001b[38;5;241m.\u001b[39moverlap(n, states)); a_exp \u001b[38;5;241m=\u001b[39m jqt\u001b[38;5;241m.\u001b[39moverlap(a, states) \u001b[38;5;66;03m# expectation values\u001b[39;00m\n\u001b[1;32m     24\u001b[0m \u001b[38;5;66;03m# Plot\u001b[39;00m\n",
      "    \u001b[0;31m[... skipping hidden 11 frame]\u001b[0m\n",
      "File \u001b[0;32m~/Github/qc/EQuS/bosonic/jax/jaxquantum/jaxquantum/core/solvers.py:148\u001b[0m, in \u001b[0;36mmesolve\u001b[0;34m(H, rho0, tlist, saveat_tlist, c_ops, solver_options)\u001b[0m\n\u001b[1;32m    145\u001b[0m dims \u001b[38;5;241m=\u001b[39m ρ0\u001b[38;5;241m.\u001b[39mdims\n\u001b[1;32m    146\u001b[0m ρ0 \u001b[38;5;241m=\u001b[39m ρ0\u001b[38;5;241m.\u001b[39mdata\n\u001b[0;32m--> 148\u001b[0m c_ops \u001b[38;5;241m=\u001b[39m \u001b[43msparse\u001b[49m\u001b[38;5;241;43m.\u001b[39;49m\u001b[43mBCOO\u001b[49m\u001b[38;5;241;43m.\u001b[39;49m\u001b[43mfromdense\u001b[49m\u001b[43m(\u001b[49m\u001b[43mc_ops\u001b[49m\u001b[38;5;241;43m.\u001b[39;49m\u001b[43mdata\u001b[49m\u001b[43m)\u001b[49m\n\u001b[1;32m    150\u001b[0m \u001b[38;5;28;01mif\u001b[39;00m \u001b[38;5;28misinstance\u001b[39m(H, Qarray):\n\u001b[1;32m    151\u001b[0m     Ht_data \u001b[38;5;241m=\u001b[39m \u001b[38;5;28;01mlambda\u001b[39;00m t: sparse\u001b[38;5;241m.\u001b[39mBCOO\u001b[38;5;241m.\u001b[39mfromdense(H\u001b[38;5;241m.\u001b[39mdata)\n",
      "File \u001b[0;32m/opt/miniconda3/envs/jax-framework/lib/python3.9/site-packages/jax/experimental/sparse/bcoo.py:2514\u001b[0m, in \u001b[0;36mBCOO.fromdense\u001b[0;34m(cls, mat, nse, index_dtype, n_dense, n_batch)\u001b[0m\n\u001b[1;32m   2510\u001b[0m \u001b[38;5;129m@classmethod\u001b[39m\n\u001b[1;32m   2511\u001b[0m \u001b[38;5;28;01mdef\u001b[39;00m \u001b[38;5;21mfromdense\u001b[39m(\u001b[38;5;28mcls\u001b[39m, mat: Array, \u001b[38;5;241m*\u001b[39m, nse: \u001b[38;5;28mint\u001b[39m \u001b[38;5;241m|\u001b[39m \u001b[38;5;28;01mNone\u001b[39;00m \u001b[38;5;241m=\u001b[39m \u001b[38;5;28;01mNone\u001b[39;00m, index_dtype: DTypeLike \u001b[38;5;241m=\u001b[39m np\u001b[38;5;241m.\u001b[39mint32,\n\u001b[1;32m   2512\u001b[0m               n_dense: \u001b[38;5;28mint\u001b[39m \u001b[38;5;241m=\u001b[39m \u001b[38;5;241m0\u001b[39m, n_batch: \u001b[38;5;28mint\u001b[39m \u001b[38;5;241m=\u001b[39m \u001b[38;5;241m0\u001b[39m) \u001b[38;5;241m-\u001b[39m\u001b[38;5;241m>\u001b[39m BCOO:\n\u001b[1;32m   2513\u001b[0m \u001b[38;5;250m  \u001b[39m\u001b[38;5;124;03m\"\"\"Create a BCOO array from a (dense) :class:`~jax.Array`.\"\"\"\u001b[39;00m\n\u001b[0;32m-> 2514\u001b[0m   \u001b[38;5;28;01mreturn\u001b[39;00m \u001b[43mbcoo_fromdense\u001b[49m\u001b[43m(\u001b[49m\n\u001b[1;32m   2515\u001b[0m \u001b[43m    \u001b[49m\u001b[43mmat\u001b[49m\u001b[43m,\u001b[49m\u001b[43m \u001b[49m\u001b[43mnse\u001b[49m\u001b[38;5;241;43m=\u001b[39;49m\u001b[43mnse\u001b[49m\u001b[43m,\u001b[49m\u001b[43m \u001b[49m\u001b[43mindex_dtype\u001b[49m\u001b[38;5;241;43m=\u001b[39;49m\u001b[43mindex_dtype\u001b[49m\u001b[43m,\u001b[49m\u001b[43m \u001b[49m\u001b[43mn_dense\u001b[49m\u001b[38;5;241;43m=\u001b[39;49m\u001b[43mn_dense\u001b[49m\u001b[43m,\u001b[49m\u001b[43m \u001b[49m\u001b[43mn_batch\u001b[49m\u001b[38;5;241;43m=\u001b[39;49m\u001b[43mn_batch\u001b[49m\u001b[43m)\u001b[49m\n",
      "File \u001b[0;32m/opt/miniconda3/envs/jax-framework/lib/python3.9/site-packages/jax/experimental/sparse/bcoo.py:268\u001b[0m, in \u001b[0;36mbcoo_fromdense\u001b[0;34m(mat, nse, n_batch, n_dense, index_dtype)\u001b[0m\n\u001b[1;32m    266\u001b[0m \u001b[38;5;28;01mif\u001b[39;00m nse_arr \u001b[38;5;129;01mis\u001b[39;00m \u001b[38;5;28;01mNone\u001b[39;00m:\n\u001b[1;32m    267\u001b[0m   nse_arr \u001b[38;5;241m=\u001b[39m _count_stored_elements(mat, n_batch, n_dense)\n\u001b[0;32m--> 268\u001b[0m nse_int \u001b[38;5;241m=\u001b[39m \u001b[43mcore\u001b[49m\u001b[38;5;241;43m.\u001b[39;49m\u001b[43mconcrete_or_error\u001b[49m\u001b[43m(\u001b[49m\u001b[43moperator\u001b[49m\u001b[38;5;241;43m.\u001b[39;49m\u001b[43mindex\u001b[49m\u001b[43m,\u001b[49m\u001b[43m \u001b[49m\u001b[43mnse_arr\u001b[49m\u001b[43m,\u001b[49m\u001b[43m \u001b[49m\u001b[43m_TRACED_NSE_ERROR\u001b[49m\u001b[43m)\u001b[49m\n\u001b[1;32m    269\u001b[0m \u001b[38;5;28;01mreturn\u001b[39;00m BCOO(_bcoo_fromdense(mat, nse\u001b[38;5;241m=\u001b[39mnse_int, n_batch\u001b[38;5;241m=\u001b[39mn_batch, n_dense\u001b[38;5;241m=\u001b[39mn_dense,\n\u001b[1;32m    270\u001b[0m                             index_dtype\u001b[38;5;241m=\u001b[39mindex_dtype),\n\u001b[1;32m    271\u001b[0m             shape\u001b[38;5;241m=\u001b[39mmat\u001b[38;5;241m.\u001b[39mshape, indices_sorted\u001b[38;5;241m=\u001b[39m\u001b[38;5;28;01mTrue\u001b[39;00m, unique_indices\u001b[38;5;241m=\u001b[39m\u001b[38;5;28;01mTrue\u001b[39;00m)\n",
      "File \u001b[0;32m/opt/miniconda3/envs/jax-framework/lib/python3.9/site-packages/jax/_src/core.py:1492\u001b[0m, in \u001b[0;36mconcrete_or_error\u001b[0;34m(force, val, context)\u001b[0m\n\u001b[1;32m   1490\u001b[0m     \u001b[38;5;28;01mreturn\u001b[39;00m force(val\u001b[38;5;241m.\u001b[39maval\u001b[38;5;241m.\u001b[39mval)\n\u001b[1;32m   1491\u001b[0m   \u001b[38;5;28;01melse\u001b[39;00m:\n\u001b[0;32m-> 1492\u001b[0m     \u001b[38;5;28;01mraise\u001b[39;00m ConcretizationTypeError(val, context)\n\u001b[1;32m   1493\u001b[0m \u001b[38;5;28;01melse\u001b[39;00m:\n\u001b[1;32m   1494\u001b[0m   \u001b[38;5;28;01mreturn\u001b[39;00m force(val)\n",
      "\u001b[0;31mConcretizationTypeError\u001b[0m: Abstract tracer value encountered where concrete value is expected: traced array with shape int64[].\n\nThe error arose for the nse argument of bcoo_fromdense. In order for\nBCOO.fromdense() to be used in traced/compiled code, you must pass a concrete\nvalue to the nse (number of stored elements) argument.\n\nThe error occurred while tracing the function mesolve at /Users/phionx/Github/qc/EQuS/bosonic/jax/jaxquantum/jaxquantum/core/solvers.py:109 for jit. This concrete value was not available in Python because it depends on the value of the argument c_ops._data.\n\nSee https://jax.readthedocs.io/en/latest/errors.html#jax.errors.ConcretizationTypeError"
     ]
    }
   ],
   "source": [
    "from jax import jit\n",
    "import jaxquantum as jqt \n",
    "import jax.numpy as jnp\n",
    "import matplotlib.pyplot as plt\n",
    "\n",
    "N = 100\n",
    "a = jqt.destroy(N); n = a.dag() @ a\n",
    "\n",
    "omega_a = 2.0*jnp.pi*5.0; H0 = omega_a*n # Hamiltonian\n",
    "\n",
    "kappa = 2*jnp.pi*jnp.array([1,2]); batched_loss_op = jnp.sqrt(kappa)*a; \n",
    "c_ops = jqt.Qarray.from_list([batched_loss_op]) # collapse operators\n",
    "\n",
    "initial_state = (jqt.displace(N, 0.1) @ jqt.basis(N,0)).to_dm() # initial state\n",
    "\n",
    "ts = jnp.linspace(0, 4*2*jnp.pi/omega_a, 101) # Time points\n",
    "\n",
    "solver_options = jqt.SolverOptions.create(progress_meter=True) \n",
    "states = jit(jqt.mesolve, static_argnums=(5))(\n",
    "    H0, initial_state, ts, c_ops=c_ops, solver_options=solver_options) # solve\n",
    "\n",
    "n_exp = jnp.real(jqt.overlap(n, states)); a_exp = jqt.overlap(a, states) # expectation values\n",
    "\n",
    "# Plot\n",
    "\n",
    "fig, axs = plt.subplots(2,1, dpi=200, figsize=(6,5))\n",
    "ax = axs[0]\n",
    "ax.plot(ts, jnp.real(a_exp)[:,0], label=r\"$Re[\\langle a(t)\\rangle]$\", color=\"blue\") # Batch kappa value 0\n",
    "ax.plot(ts, jnp.real(a_exp)[:,1], \"--\", label=r\"$Re[\\langle a(t)\\rangle]$\", color=\"blue\") # Batch kappa value 1\n",
    "ax.plot(ts, jnp.imag(a_exp)[:,0], label=r\"$Im[\\langle a(t)\\rangle]$\", color=\"red\") # Batch kappa value 0\n",
    "ax.plot(ts, jnp.imag(a_exp)[:,1], \"--\", label=r\"$Im[\\langle a(t)\\rangle]$\", color=\"red\") # Batch kappa value 1\n",
    "ax.set_xlabel(\"Time (ns)\")\n",
    "ax.set_ylabel(\"Expectations\")\n",
    "ax.legend()\n",
    "\n",
    "ax = axs[1]\n",
    "ax.plot(ts, n_exp[:,0], label=r\"$Re[\\langle n(t)\\rangle]$\", color=\"green\") # Batch kappa value 0\n",
    "ax.plot(ts, n_exp[:,1], \"--\", label=r\"$Re[\\langle n(t)\\rangle]$\", color=\"green\") # Batch kappa value 1\n",
    "ax.set_xlabel(\"Time (ns)\")\n",
    "ax.set_ylabel(\"Expectations\")\n",
    "ax.legend()\n",
    "fig.tight_layout()"
   ]
  },
  {
   "cell_type": "code",
   "execution_count": null,
   "id": "6cd558b1",
   "metadata": {},
   "outputs": [],
   "source": []
  },
  {
   "cell_type": "code",
   "execution_count": 2,
   "id": "8c5ca877",
   "metadata": {},
   "outputs": [
    {
     "ename": "ValueError",
     "evalue": "Terms are not compatible with solver!",
     "output_type": "error",
     "traceback": [
      "\u001b[0;31m---------------------------------------------------------------------------\u001b[0m",
      "\u001b[0;31mConcretizationTypeError\u001b[0m                   Traceback (most recent call last)",
      "File \u001b[0;32m/opt/miniconda3/envs/jax-framework/lib/python3.9/site-packages/diffrax/_integrate.py:168\u001b[0m, in \u001b[0;36m_assert_term_compatible.<locals>._check\u001b[0;34m(term_cls, term, term_contr_kwargs, yi)\u001b[0m\n\u001b[1;32m    167\u001b[0m \u001b[38;5;28;01mtry\u001b[39;00m:\n\u001b[0;32m--> 168\u001b[0m     vf_type \u001b[38;5;241m=\u001b[39m \u001b[43meqx\u001b[49m\u001b[38;5;241;43m.\u001b[39;49m\u001b[43mfilter_eval_shape\u001b[49m\u001b[43m(\u001b[49m\u001b[43mterm\u001b[49m\u001b[38;5;241;43m.\u001b[39;49m\u001b[43mvf\u001b[49m\u001b[43m,\u001b[49m\u001b[43m \u001b[49m\u001b[38;5;241;43m0.0\u001b[39;49m\u001b[43m,\u001b[49m\u001b[43m \u001b[49m\u001b[43myi\u001b[49m\u001b[43m,\u001b[49m\u001b[43m \u001b[49m\u001b[43margs\u001b[49m\u001b[43m)\u001b[49m\n\u001b[1;32m    169\u001b[0m \u001b[38;5;28;01mexcept\u001b[39;00m \u001b[38;5;167;01mException\u001b[39;00m \u001b[38;5;28;01mas\u001b[39;00m e:\n",
      "File \u001b[0;32m/opt/miniconda3/envs/jax-framework/lib/python3.9/site-packages/equinox/_eval_shape.py:38\u001b[0m, in \u001b[0;36mfilter_eval_shape\u001b[0;34m(fun, *args, **kwargs)\u001b[0m\n\u001b[1;32m     37\u001b[0m dynamic, static \u001b[38;5;241m=\u001b[39m partition((fun, args, kwargs), _filter)\n\u001b[0;32m---> 38\u001b[0m dynamic_out, static_out \u001b[38;5;241m=\u001b[39m \u001b[43mjax\u001b[49m\u001b[38;5;241;43m.\u001b[39;49m\u001b[43meval_shape\u001b[49m\u001b[43m(\u001b[49m\u001b[43mft\u001b[49m\u001b[38;5;241;43m.\u001b[39;49m\u001b[43mpartial\u001b[49m\u001b[43m(\u001b[49m\u001b[43m_fn\u001b[49m\u001b[43m,\u001b[49m\u001b[43m \u001b[49m\u001b[43mstatic\u001b[49m\u001b[43m)\u001b[49m\u001b[43m,\u001b[49m\u001b[43m \u001b[49m\u001b[43mdynamic\u001b[49m\u001b[43m)\u001b[49m\n\u001b[1;32m     39\u001b[0m \u001b[38;5;28;01mreturn\u001b[39;00m combine(dynamic_out, static_out\u001b[38;5;241m.\u001b[39mvalue)\n",
      "    \u001b[0;31m[... skipping hidden 1 frame]\u001b[0m\n",
      "File \u001b[0;32m/opt/miniconda3/envs/jax-framework/lib/python3.9/site-packages/jax/_src/api.py:2816\u001b[0m, in \u001b[0;36meval_shape\u001b[0;34m(fun, *args, **kwargs)\u001b[0m\n\u001b[1;32m   2815\u001b[0m \u001b[38;5;28;01mexcept\u001b[39;00m \u001b[38;5;167;01mTypeError\u001b[39;00m: fun \u001b[38;5;241m=\u001b[39m partial(fun)\n\u001b[0;32m-> 2816\u001b[0m \u001b[38;5;28;01mreturn\u001b[39;00m \u001b[43mjit\u001b[49m\u001b[43m(\u001b[49m\u001b[43mfun\u001b[49m\u001b[43m)\u001b[49m\u001b[38;5;241;43m.\u001b[39;49m\u001b[43meval_shape\u001b[49m\u001b[43m(\u001b[49m\u001b[38;5;241;43m*\u001b[39;49m\u001b[43margs\u001b[49m\u001b[43m,\u001b[49m\u001b[43m \u001b[49m\u001b[38;5;241;43m*\u001b[39;49m\u001b[38;5;241;43m*\u001b[39;49m\u001b[43mkwargs\u001b[49m\u001b[43m)\u001b[49m\n",
      "    \u001b[0;31m[... skipping hidden 1 frame]\u001b[0m\n",
      "File \u001b[0;32m/opt/miniconda3/envs/jax-framework/lib/python3.9/site-packages/jax/_src/pjit.py:478\u001b[0m, in \u001b[0;36m_make_jit_wrapper.<locals>.eval_shape\u001b[0;34m(*args, **kwargs)\u001b[0m\n\u001b[1;32m    476\u001b[0m \u001b[38;5;129m@api_boundary\u001b[39m\n\u001b[1;32m    477\u001b[0m \u001b[38;5;28;01mdef\u001b[39;00m \u001b[38;5;21meval_shape\u001b[39m(\u001b[38;5;241m*\u001b[39margs, \u001b[38;5;241m*\u001b[39m\u001b[38;5;241m*\u001b[39mkwargs):\n\u001b[0;32m--> 478\u001b[0m   _, _, params, _, out_tree, _, _, _ \u001b[38;5;241m=\u001b[39m \u001b[43m_infer_params\u001b[49m\u001b[43m(\u001b[49m\u001b[43mjit_info\u001b[49m\u001b[43m,\u001b[49m\u001b[43m \u001b[49m\u001b[43margs\u001b[49m\u001b[43m,\u001b[49m\u001b[43m \u001b[49m\u001b[43mkwargs\u001b[49m\u001b[43m)\u001b[49m\n\u001b[1;32m    479\u001b[0m   out_s \u001b[38;5;241m=\u001b[39m [\u001b[38;5;28;01mNone\u001b[39;00m \u001b[38;5;28;01mif\u001b[39;00m is_unspecified(s) \u001b[38;5;28;01melse\u001b[39;00m s \u001b[38;5;28;01mfor\u001b[39;00m s \u001b[38;5;129;01min\u001b[39;00m params[\u001b[38;5;124m'\u001b[39m\u001b[38;5;124mout_shardings\u001b[39m\u001b[38;5;124m'\u001b[39m]]\n",
      "File \u001b[0;32m/opt/miniconda3/envs/jax-framework/lib/python3.9/site-packages/jax/_src/pjit.py:598\u001b[0m, in \u001b[0;36m_infer_params\u001b[0;34m(***failed resolving arguments***)\u001b[0m\n\u001b[1;32m    593\u001b[0m in_shardings_flat, in_layouts_flat \u001b[38;5;241m=\u001b[39m _process_in_axis_resources(\n\u001b[1;32m    594\u001b[0m     in_shardings_treedef, in_shardings_leaves,\n\u001b[1;32m    595\u001b[0m     in_layouts_treedef, in_layouts_leaves,\n\u001b[1;32m    596\u001b[0m     in_avals, in_tree, dbg, device_or_backend_set, have_kwargs)\n\u001b[0;32m--> 598\u001b[0m jaxpr, consts, out_shardings_flat, out_layouts_flat, attrs_tracked \u001b[38;5;241m=\u001b[39m \u001b[43m_pjit_jaxpr\u001b[49m\u001b[43m(\u001b[49m\n\u001b[1;32m    599\u001b[0m \u001b[43m    \u001b[49m\u001b[43mflat_fun\u001b[49m\u001b[43m,\u001b[49m\u001b[43m \u001b[49m\u001b[43mout_shardings_treedef\u001b[49m\u001b[43m,\u001b[49m\u001b[43m \u001b[49m\u001b[43mout_shardings_leaves\u001b[49m\u001b[43m,\u001b[49m\n\u001b[1;32m    600\u001b[0m \u001b[43m    \u001b[49m\u001b[43mout_layouts_treedef\u001b[49m\u001b[43m,\u001b[49m\u001b[43m \u001b[49m\u001b[43mout_layouts_leaves\u001b[49m\u001b[43m,\u001b[49m\u001b[43m \u001b[49m\u001b[43min_type\u001b[49m\u001b[43m,\u001b[49m\u001b[43m \u001b[49m\u001b[43mdbg\u001b[49m\u001b[43m,\u001b[49m\n\u001b[1;32m    601\u001b[0m \u001b[43m    \u001b[49m\u001b[43mdevice_or_backend_set\u001b[49m\u001b[43m,\u001b[49m\u001b[43m \u001b[49m\u001b[43mHashableFunction\u001b[49m\u001b[43m(\u001b[49m\u001b[43mout_tree\u001b[49m\u001b[43m,\u001b[49m\u001b[43m \u001b[49m\u001b[43mclosure\u001b[49m\u001b[38;5;241;43m=\u001b[39;49m\u001b[43m(\u001b[49m\u001b[43m)\u001b[49m\u001b[43m)\u001b[49m\u001b[43m,\u001b[49m\n\u001b[1;32m    602\u001b[0m \u001b[43m    \u001b[49m\u001b[43mHashableFunction\u001b[49m\u001b[43m(\u001b[49m\u001b[43mres_paths\u001b[49m\u001b[43m,\u001b[49m\u001b[43m \u001b[49m\u001b[43mclosure\u001b[49m\u001b[38;5;241;43m=\u001b[39;49m\u001b[43m(\u001b[49m\u001b[43m)\u001b[49m\u001b[43m)\u001b[49m\u001b[43m,\u001b[49m\u001b[43m \u001b[49m\u001b[43minline\u001b[49m\u001b[43m)\u001b[49m\n\u001b[1;32m    604\u001b[0m \u001b[38;5;28;01massert\u001b[39;00m \u001b[38;5;28mlen\u001b[39m(explicit_args) \u001b[38;5;241m==\u001b[39m \u001b[38;5;28mlen\u001b[39m(in_shardings_flat) \u001b[38;5;241m==\u001b[39m \u001b[38;5;28mlen\u001b[39m(in_layouts_flat)\n",
      "File \u001b[0;32m/opt/miniconda3/envs/jax-framework/lib/python3.9/site-packages/jax/_src/pjit.py:1206\u001b[0m, in \u001b[0;36m_pjit_jaxpr\u001b[0;34m(fun, out_shardings_treedef, out_shardings_leaves, out_layouts_treedef, out_layouts_leaves, in_type, debug_info, device_or_backend_set, out_tree, result_paths, inline)\u001b[0m\n\u001b[1;32m   1203\u001b[0m \u001b[38;5;28;01mdef\u001b[39;00m \u001b[38;5;21m_pjit_jaxpr\u001b[39m(fun, out_shardings_treedef, out_shardings_leaves,\n\u001b[1;32m   1204\u001b[0m                 out_layouts_treedef, out_layouts_leaves, in_type, debug_info,\n\u001b[1;32m   1205\u001b[0m                 device_or_backend_set, out_tree, result_paths, inline):\n\u001b[0;32m-> 1206\u001b[0m   jaxpr, final_consts, out_type, attrs_tracked \u001b[38;5;241m=\u001b[39m \u001b[43m_create_pjit_jaxpr\u001b[49m\u001b[43m(\u001b[49m\n\u001b[1;32m   1207\u001b[0m \u001b[43m      \u001b[49m\u001b[43mfun\u001b[49m\u001b[43m,\u001b[49m\u001b[43m \u001b[49m\u001b[43min_type\u001b[49m\u001b[43m,\u001b[49m\u001b[43m \u001b[49m\u001b[43mdebug_info\u001b[49m\u001b[43m,\u001b[49m\u001b[43m \u001b[49m\u001b[43mresult_paths\u001b[49m\u001b[43m,\u001b[49m\u001b[43m \u001b[49m\u001b[43mIgnoreKey\u001b[49m\u001b[43m(\u001b[49m\u001b[43minline\u001b[49m\u001b[43m)\u001b[49m\u001b[43m)\u001b[49m\n\u001b[1;32m   1208\u001b[0m   canonicalized_out_shardings_flat, out_layouts_flat \u001b[38;5;241m=\u001b[39m _check_and_canonicalize_out_shardings(\n\u001b[1;32m   1209\u001b[0m       out_shardings_treedef, out_shardings_leaves, out_layouts_treedef,\n\u001b[1;32m   1210\u001b[0m       out_layouts_leaves, out_tree, \u001b[38;5;28mtuple\u001b[39m(out_type),\n\u001b[1;32m   1211\u001b[0m       jaxpr\u001b[38;5;241m.\u001b[39mjaxpr\u001b[38;5;241m.\u001b[39mdebug_info, device_or_backend_set)\n",
      "File \u001b[0;32m/opt/miniconda3/envs/jax-framework/lib/python3.9/site-packages/jax/_src/linear_util.py:350\u001b[0m, in \u001b[0;36mcache.<locals>.memoized_fun\u001b[0;34m(fun, *args)\u001b[0m\n\u001b[1;32m    349\u001b[0m \u001b[38;5;28;01melse\u001b[39;00m:\n\u001b[0;32m--> 350\u001b[0m   ans \u001b[38;5;241m=\u001b[39m \u001b[43mcall\u001b[49m\u001b[43m(\u001b[49m\u001b[43mfun\u001b[49m\u001b[43m,\u001b[49m\u001b[43m \u001b[49m\u001b[38;5;241;43m*\u001b[39;49m\u001b[43margs\u001b[49m\u001b[43m)\u001b[49m\n\u001b[1;32m    351\u001b[0m   \u001b[38;5;28;01mif\u001b[39;00m explain \u001b[38;5;129;01mand\u001b[39;00m config\u001b[38;5;241m.\u001b[39mexplain_cache_misses\u001b[38;5;241m.\u001b[39mvalue:\n",
      "File \u001b[0;32m/opt/miniconda3/envs/jax-framework/lib/python3.9/site-packages/jax/_src/pjit.py:1154\u001b[0m, in \u001b[0;36m_create_pjit_jaxpr\u001b[0;34m(***failed resolving arguments***)\u001b[0m\n\u001b[1;32m   1153\u001b[0m   \u001b[38;5;28;01melse\u001b[39;00m:\n\u001b[0;32m-> 1154\u001b[0m     jaxpr, global_out_avals, consts, attrs_tracked \u001b[38;5;241m=\u001b[39m \u001b[43mpe\u001b[49m\u001b[38;5;241;43m.\u001b[39;49m\u001b[43mtrace_to_jaxpr_dynamic\u001b[49m\u001b[43m(\u001b[49m\n\u001b[1;32m   1155\u001b[0m \u001b[43m        \u001b[49m\u001b[43mfun\u001b[49m\u001b[43m,\u001b[49m\u001b[43m \u001b[49m\u001b[43min_type\u001b[49m\u001b[43m,\u001b[49m\u001b[43m \u001b[49m\u001b[43mdebug_info\u001b[49m\u001b[38;5;241;43m=\u001b[39;49m\u001b[43mpe_debug\u001b[49m\u001b[43m)\u001b[49m\n\u001b[1;32m   1157\u001b[0m \u001b[38;5;66;03m# TODO(dougalm,mattjj): enable debug info with attrs_tracked\u001b[39;00m\n",
      "File \u001b[0;32m/opt/miniconda3/envs/jax-framework/lib/python3.9/site-packages/jax/_src/profiler.py:335\u001b[0m, in \u001b[0;36mannotate_function.<locals>.wrapper\u001b[0;34m(*args, **kwargs)\u001b[0m\n\u001b[1;32m    334\u001b[0m \u001b[38;5;28;01mwith\u001b[39;00m TraceAnnotation(name, \u001b[38;5;241m*\u001b[39m\u001b[38;5;241m*\u001b[39mdecorator_kwargs):\n\u001b[0;32m--> 335\u001b[0m   \u001b[38;5;28;01mreturn\u001b[39;00m \u001b[43mfunc\u001b[49m\u001b[43m(\u001b[49m\u001b[38;5;241;43m*\u001b[39;49m\u001b[43margs\u001b[49m\u001b[43m,\u001b[49m\u001b[43m \u001b[49m\u001b[38;5;241;43m*\u001b[39;49m\u001b[38;5;241;43m*\u001b[39;49m\u001b[43mkwargs\u001b[49m\u001b[43m)\u001b[49m\n\u001b[1;32m    336\u001b[0m \u001b[38;5;28;01mreturn\u001b[39;00m wrapper\n",
      "File \u001b[0;32m/opt/miniconda3/envs/jax-framework/lib/python3.9/site-packages/jax/_src/interpreters/partial_eval.py:2326\u001b[0m, in \u001b[0;36mtrace_to_jaxpr_dynamic\u001b[0;34m(fun, in_avals, debug_info, keep_inputs)\u001b[0m\n\u001b[1;32m   2325\u001b[0m main\u001b[38;5;241m.\u001b[39mjaxpr_stack \u001b[38;5;241m=\u001b[39m ()  \u001b[38;5;66;03m# type: ignore\u001b[39;00m\n\u001b[0;32m-> 2326\u001b[0m jaxpr, out_avals, consts, attrs_tracked \u001b[38;5;241m=\u001b[39m \u001b[43mtrace_to_subjaxpr_dynamic\u001b[49m\u001b[43m(\u001b[49m\n\u001b[1;32m   2327\u001b[0m \u001b[43m  \u001b[49m\u001b[43mfun\u001b[49m\u001b[43m,\u001b[49m\u001b[43m \u001b[49m\u001b[43mmain\u001b[49m\u001b[43m,\u001b[49m\u001b[43m \u001b[49m\u001b[43min_avals\u001b[49m\u001b[43m,\u001b[49m\u001b[43m \u001b[49m\u001b[43mkeep_inputs\u001b[49m\u001b[38;5;241;43m=\u001b[39;49m\u001b[43mkeep_inputs\u001b[49m\u001b[43m,\u001b[49m\u001b[43m \u001b[49m\u001b[43mdebug_info\u001b[49m\u001b[38;5;241;43m=\u001b[39;49m\u001b[43mdebug_info\u001b[49m\u001b[43m)\u001b[49m\n\u001b[1;32m   2328\u001b[0m \u001b[38;5;28;01mdel\u001b[39;00m main, fun\n",
      "File \u001b[0;32m/opt/miniconda3/envs/jax-framework/lib/python3.9/site-packages/jax/_src/interpreters/partial_eval.py:2348\u001b[0m, in \u001b[0;36mtrace_to_subjaxpr_dynamic\u001b[0;34m(fun, main, in_avals, keep_inputs, debug_info)\u001b[0m\n\u001b[1;32m   2347\u001b[0m in_tracers_ \u001b[38;5;241m=\u001b[39m [t \u001b[38;5;28;01mfor\u001b[39;00m t, keep \u001b[38;5;129;01min\u001b[39;00m \u001b[38;5;28mzip\u001b[39m(in_tracers, keep_inputs) \u001b[38;5;28;01mif\u001b[39;00m keep]\n\u001b[0;32m-> 2348\u001b[0m ans \u001b[38;5;241m=\u001b[39m \u001b[43mfun\u001b[49m\u001b[38;5;241;43m.\u001b[39;49m\u001b[43mcall_wrapped\u001b[49m\u001b[43m(\u001b[49m\u001b[38;5;241;43m*\u001b[39;49m\u001b[43min_tracers_\u001b[49m\u001b[43m)\u001b[49m\n\u001b[1;32m   2349\u001b[0m out_tracers \u001b[38;5;241m=\u001b[39m \u001b[38;5;28mmap\u001b[39m(trace\u001b[38;5;241m.\u001b[39mfull_raise, ans)\n",
      "File \u001b[0;32m/opt/miniconda3/envs/jax-framework/lib/python3.9/site-packages/jax/_src/linear_util.py:192\u001b[0m, in \u001b[0;36mWrappedFun.call_wrapped\u001b[0;34m(self, *args, **kwargs)\u001b[0m\n\u001b[1;32m    191\u001b[0m \u001b[38;5;28;01mtry\u001b[39;00m:\n\u001b[0;32m--> 192\u001b[0m   ans \u001b[38;5;241m=\u001b[39m \u001b[38;5;28;43mself\u001b[39;49m\u001b[38;5;241;43m.\u001b[39;49m\u001b[43mf\u001b[49m\u001b[43m(\u001b[49m\u001b[38;5;241;43m*\u001b[39;49m\u001b[43margs\u001b[49m\u001b[43m,\u001b[49m\u001b[43m \u001b[49m\u001b[38;5;241;43m*\u001b[39;49m\u001b[38;5;241;43m*\u001b[39;49m\u001b[38;5;28;43mdict\u001b[39;49m\u001b[43m(\u001b[49m\u001b[38;5;28;43mself\u001b[39;49m\u001b[38;5;241;43m.\u001b[39;49m\u001b[43mparams\u001b[49m\u001b[43m,\u001b[49m\u001b[43m \u001b[49m\u001b[38;5;241;43m*\u001b[39;49m\u001b[38;5;241;43m*\u001b[39;49m\u001b[43mkwargs\u001b[49m\u001b[43m)\u001b[49m\u001b[43m)\u001b[49m\n\u001b[1;32m    193\u001b[0m \u001b[38;5;28;01mexcept\u001b[39;00m:\n\u001b[1;32m    194\u001b[0m   \u001b[38;5;66;03m# Some transformations yield from inside context managers, so we have to\u001b[39;00m\n\u001b[1;32m    195\u001b[0m   \u001b[38;5;66;03m# interrupt them before reraising the exception. Otherwise they will only\u001b[39;00m\n\u001b[1;32m    196\u001b[0m   \u001b[38;5;66;03m# get garbage-collected at some later time, running their cleanup tasks\u001b[39;00m\n\u001b[1;32m    197\u001b[0m   \u001b[38;5;66;03m# only after this exception is handled, which can corrupt the global\u001b[39;00m\n\u001b[1;32m    198\u001b[0m   \u001b[38;5;66;03m# state.\u001b[39;00m\n",
      "File \u001b[0;32m/opt/miniconda3/envs/jax-framework/lib/python3.9/site-packages/equinox/_eval_shape.py:33\u001b[0m, in \u001b[0;36mfilter_eval_shape.<locals>._fn\u001b[0;34m(_static, _dynamic)\u001b[0m\n\u001b[1;32m     32\u001b[0m _fun, _args, _kwargs \u001b[38;5;241m=\u001b[39m combine(_static, _dynamic)\n\u001b[0;32m---> 33\u001b[0m _out \u001b[38;5;241m=\u001b[39m \u001b[43m_fun\u001b[49m\u001b[43m(\u001b[49m\u001b[38;5;241;43m*\u001b[39;49m\u001b[43m_args\u001b[49m\u001b[43m,\u001b[49m\u001b[43m \u001b[49m\u001b[38;5;241;43m*\u001b[39;49m\u001b[38;5;241;43m*\u001b[39;49m\u001b[43m_kwargs\u001b[49m\u001b[43m)\u001b[49m\n\u001b[1;32m     34\u001b[0m _dynamic_out, _static_out \u001b[38;5;241m=\u001b[39m partition(_out, _filter)\n",
      "    \u001b[0;31m[... skipping hidden 1 frame]\u001b[0m\n",
      "File \u001b[0;32m/opt/miniconda3/envs/jax-framework/lib/python3.9/site-packages/diffrax/_term.py:194\u001b[0m, in \u001b[0;36mODETerm.vf\u001b[0;34m(self, t, y, args)\u001b[0m\n\u001b[1;32m    193\u001b[0m \u001b[38;5;28;01mdef\u001b[39;00m \u001b[38;5;21mvf\u001b[39m(\u001b[38;5;28mself\u001b[39m, t: RealScalarLike, y: Y, args: Args) \u001b[38;5;241m-\u001b[39m\u001b[38;5;241m>\u001b[39m _VF:\n\u001b[0;32m--> 194\u001b[0m     out \u001b[38;5;241m=\u001b[39m \u001b[38;5;28;43mself\u001b[39;49m\u001b[38;5;241;43m.\u001b[39;49m\u001b[43mvector_field\u001b[49m\u001b[43m(\u001b[49m\u001b[43mt\u001b[49m\u001b[43m,\u001b[49m\u001b[43m \u001b[49m\u001b[43my\u001b[49m\u001b[43m,\u001b[49m\u001b[43m \u001b[49m\u001b[43margs\u001b[49m\u001b[43m)\u001b[49m\n\u001b[1;32m    195\u001b[0m     \u001b[38;5;28;01mif\u001b[39;00m jtu\u001b[38;5;241m.\u001b[39mtree_structure(out) \u001b[38;5;241m!=\u001b[39m jtu\u001b[38;5;241m.\u001b[39mtree_structure(y):\n",
      "File \u001b[0;32m~/Github/qc/EQuS/bosonic/jax/jaxquantum/jaxquantum/core/solvers.py:208\u001b[0m, in \u001b[0;36m_mesolve_data.<locals>.f\u001b[0;34m(t, rho, c_ops_val)\u001b[0m\n\u001b[1;32m    203\u001b[0m \u001b[38;5;28;01mdef\u001b[39;00m \u001b[38;5;21mf\u001b[39m(\n\u001b[1;32m    204\u001b[0m     t: \u001b[38;5;28mfloat\u001b[39m,\n\u001b[1;32m    205\u001b[0m     rho: Array,\n\u001b[1;32m    206\u001b[0m     c_ops_val: Array,\n\u001b[1;32m    207\u001b[0m ):\n\u001b[0;32m--> 208\u001b[0m     H_val \u001b[38;5;241m=\u001b[39m \u001b[43mH\u001b[49m\u001b[43m(\u001b[49m\u001b[43mt\u001b[49m\u001b[43m)\u001b[49m  \u001b[38;5;66;03m# type: ignore\u001b[39;00m\n\u001b[1;32m    210\u001b[0m     rho_dot \u001b[38;5;241m=\u001b[39m \u001b[38;5;241m-\u001b[39m\u001b[38;5;241m1\u001b[39mj \u001b[38;5;241m*\u001b[39m (H_val \u001b[38;5;241m@\u001b[39m rho \u001b[38;5;241m-\u001b[39m rho \u001b[38;5;241m@\u001b[39m H_val)\n",
      "File \u001b[0;32m~/Github/qc/EQuS/bosonic/jax/jaxquantum/jaxquantum/core/solvers.py:151\u001b[0m, in \u001b[0;36mmesolve.<locals>.<lambda>\u001b[0;34m(t)\u001b[0m\n\u001b[1;32m    150\u001b[0m \u001b[38;5;28;01mif\u001b[39;00m \u001b[38;5;28misinstance\u001b[39m(H, Qarray):\n\u001b[0;32m--> 151\u001b[0m     Ht_data \u001b[38;5;241m=\u001b[39m \u001b[38;5;28;01mlambda\u001b[39;00m t: \u001b[43msparse\u001b[49m\u001b[38;5;241;43m.\u001b[39;49m\u001b[43mBCOO\u001b[49m\u001b[38;5;241;43m.\u001b[39;49m\u001b[43mfromdense\u001b[49m\u001b[43m(\u001b[49m\u001b[43mH\u001b[49m\u001b[38;5;241;43m.\u001b[39;49m\u001b[43mdata\u001b[49m\u001b[43m)\u001b[49m\n\u001b[1;32m    152\u001b[0m \u001b[38;5;28;01melse\u001b[39;00m:\n",
      "File \u001b[0;32m/opt/miniconda3/envs/jax-framework/lib/python3.9/site-packages/jax/experimental/sparse/bcoo.py:2514\u001b[0m, in \u001b[0;36mBCOO.fromdense\u001b[0;34m(cls, mat, nse, index_dtype, n_dense, n_batch)\u001b[0m\n\u001b[1;32m   2513\u001b[0m \u001b[38;5;250m\u001b[39m\u001b[38;5;124;03m\"\"\"Create a BCOO array from a (dense) :class:`~jax.Array`.\"\"\"\u001b[39;00m\n\u001b[0;32m-> 2514\u001b[0m \u001b[38;5;28;01mreturn\u001b[39;00m \u001b[43mbcoo_fromdense\u001b[49m\u001b[43m(\u001b[49m\n\u001b[1;32m   2515\u001b[0m \u001b[43m  \u001b[49m\u001b[43mmat\u001b[49m\u001b[43m,\u001b[49m\u001b[43m \u001b[49m\u001b[43mnse\u001b[49m\u001b[38;5;241;43m=\u001b[39;49m\u001b[43mnse\u001b[49m\u001b[43m,\u001b[49m\u001b[43m \u001b[49m\u001b[43mindex_dtype\u001b[49m\u001b[38;5;241;43m=\u001b[39;49m\u001b[43mindex_dtype\u001b[49m\u001b[43m,\u001b[49m\u001b[43m \u001b[49m\u001b[43mn_dense\u001b[49m\u001b[38;5;241;43m=\u001b[39;49m\u001b[43mn_dense\u001b[49m\u001b[43m,\u001b[49m\u001b[43m \u001b[49m\u001b[43mn_batch\u001b[49m\u001b[38;5;241;43m=\u001b[39;49m\u001b[43mn_batch\u001b[49m\u001b[43m)\u001b[49m\n",
      "File \u001b[0;32m/opt/miniconda3/envs/jax-framework/lib/python3.9/site-packages/jax/experimental/sparse/bcoo.py:268\u001b[0m, in \u001b[0;36mbcoo_fromdense\u001b[0;34m(mat, nse, n_batch, n_dense, index_dtype)\u001b[0m\n\u001b[1;32m    267\u001b[0m   nse_arr \u001b[38;5;241m=\u001b[39m _count_stored_elements(mat, n_batch, n_dense)\n\u001b[0;32m--> 268\u001b[0m nse_int \u001b[38;5;241m=\u001b[39m \u001b[43mcore\u001b[49m\u001b[38;5;241;43m.\u001b[39;49m\u001b[43mconcrete_or_error\u001b[49m\u001b[43m(\u001b[49m\u001b[43moperator\u001b[49m\u001b[38;5;241;43m.\u001b[39;49m\u001b[43mindex\u001b[49m\u001b[43m,\u001b[49m\u001b[43m \u001b[49m\u001b[43mnse_arr\u001b[49m\u001b[43m,\u001b[49m\u001b[43m \u001b[49m\u001b[43m_TRACED_NSE_ERROR\u001b[49m\u001b[43m)\u001b[49m\n\u001b[1;32m    269\u001b[0m \u001b[38;5;28;01mreturn\u001b[39;00m BCOO(_bcoo_fromdense(mat, nse\u001b[38;5;241m=\u001b[39mnse_int, n_batch\u001b[38;5;241m=\u001b[39mn_batch, n_dense\u001b[38;5;241m=\u001b[39mn_dense,\n\u001b[1;32m    270\u001b[0m                             index_dtype\u001b[38;5;241m=\u001b[39mindex_dtype),\n\u001b[1;32m    271\u001b[0m             shape\u001b[38;5;241m=\u001b[39mmat\u001b[38;5;241m.\u001b[39mshape, indices_sorted\u001b[38;5;241m=\u001b[39m\u001b[38;5;28;01mTrue\u001b[39;00m, unique_indices\u001b[38;5;241m=\u001b[39m\u001b[38;5;28;01mTrue\u001b[39;00m)\n",
      "File \u001b[0;32m/opt/miniconda3/envs/jax-framework/lib/python3.9/site-packages/jax/_src/core.py:1492\u001b[0m, in \u001b[0;36mconcrete_or_error\u001b[0;34m(force, val, context)\u001b[0m\n\u001b[1;32m   1491\u001b[0m   \u001b[38;5;28;01melse\u001b[39;00m:\n\u001b[0;32m-> 1492\u001b[0m     \u001b[38;5;28;01mraise\u001b[39;00m ConcretizationTypeError(val, context)\n\u001b[1;32m   1493\u001b[0m \u001b[38;5;28;01melse\u001b[39;00m:\n",
      "\u001b[0;31mConcretizationTypeError\u001b[0m: Abstract tracer value encountered where concrete value is expected: traced array with shape int64[].\n\nThe error arose for the nse argument of bcoo_fromdense. In order for\nBCOO.fromdense() to be used in traced/compiled code, you must pass a concrete\nvalue to the nse (number of stored elements) argument.\n\nThe error occurred while tracing the function _fn at /opt/miniconda3/envs/jax-framework/lib/python3.9/site-packages/equinox/_eval_shape.py:31 for jit. This value became a tracer due to JAX operations on these lines:\n\n  operation a\u001b[35m:c128[]\u001b[39m = convert_element_type[new_dtype=complex128 weak_type=False] b\n    from line /Users/phionx/Github/qc/EQuS/bosonic/jax/jaxquantum/jaxquantum/core/solvers.py:151 (<lambda>)\n\n  operation a\u001b[35m:bool[100,100]\u001b[39m = ne b c\n    from line /Users/phionx/Github/qc/EQuS/bosonic/jax/jaxquantum/jaxquantum/core/solvers.py:151 (<lambda>)\n\n  operation a\u001b[35m:i64[]\u001b[39m = convert_element_type[new_dtype=int64 weak_type=False] b\n    from line /Users/phionx/Github/qc/EQuS/bosonic/jax/jaxquantum/jaxquantum/core/solvers.py:151 (<lambda>)\n\nSee https://jax.readthedocs.io/en/latest/errors.html#jax.errors.ConcretizationTypeError",
      "\nDuring handling of the above exception, another exception occurred:\n",
      "\u001b[0;31mValueError\u001b[0m                                Traceback (most recent call last)",
      "File \u001b[0;32m/opt/miniconda3/envs/jax-framework/lib/python3.9/site-packages/diffrax/_integrate.py:194\u001b[0m, in \u001b[0;36m_assert_term_compatible\u001b[0;34m(y, args, terms, term_structure, contr_kwargs)\u001b[0m\n\u001b[1;32m    193\u001b[0m     \u001b[38;5;28;01mwith\u001b[39;00m jax\u001b[38;5;241m.\u001b[39mnumpy_dtype_promotion(\u001b[38;5;124m\"\u001b[39m\u001b[38;5;124mstandard\u001b[39m\u001b[38;5;124m\"\u001b[39m):\n\u001b[0;32m--> 194\u001b[0m         \u001b[43mjtu\u001b[49m\u001b[38;5;241;43m.\u001b[39;49m\u001b[43mtree_map\u001b[49m\u001b[43m(\u001b[49m\u001b[43m_check\u001b[49m\u001b[43m,\u001b[49m\u001b[43m \u001b[49m\u001b[43mterm_structure\u001b[49m\u001b[43m,\u001b[49m\u001b[43m \u001b[49m\u001b[43mterms\u001b[49m\u001b[43m,\u001b[49m\u001b[43m \u001b[49m\u001b[43mcontr_kwargs\u001b[49m\u001b[43m,\u001b[49m\u001b[43m \u001b[49m\u001b[43my\u001b[49m\u001b[43m)\u001b[49m\n\u001b[1;32m    195\u001b[0m \u001b[38;5;28;01mexcept\u001b[39;00m \u001b[38;5;167;01mException\u001b[39;00m \u001b[38;5;28;01mas\u001b[39;00m e:\n\u001b[1;32m    196\u001b[0m     \u001b[38;5;66;03m# ValueError may also arise from mismatched tree structures\u001b[39;00m\n",
      "File \u001b[0;32m/opt/miniconda3/envs/jax-framework/lib/python3.9/site-packages/jax/_src/tree_util.py:320\u001b[0m, in \u001b[0;36mtree_map\u001b[0;34m(f, tree, is_leaf, *rest)\u001b[0m\n\u001b[1;32m    319\u001b[0m all_leaves \u001b[38;5;241m=\u001b[39m [leaves] \u001b[38;5;241m+\u001b[39m [treedef\u001b[38;5;241m.\u001b[39mflatten_up_to(r) \u001b[38;5;28;01mfor\u001b[39;00m r \u001b[38;5;129;01min\u001b[39;00m rest]\n\u001b[0;32m--> 320\u001b[0m \u001b[38;5;28;01mreturn\u001b[39;00m \u001b[43mtreedef\u001b[49m\u001b[38;5;241;43m.\u001b[39;49m\u001b[43munflatten\u001b[49m\u001b[43m(\u001b[49m\u001b[43mf\u001b[49m\u001b[43m(\u001b[49m\u001b[38;5;241;43m*\u001b[39;49m\u001b[43mxs\u001b[49m\u001b[43m)\u001b[49m\u001b[43m \u001b[49m\u001b[38;5;28;43;01mfor\u001b[39;49;00m\u001b[43m \u001b[49m\u001b[43mxs\u001b[49m\u001b[43m \u001b[49m\u001b[38;5;129;43;01min\u001b[39;49;00m\u001b[43m \u001b[49m\u001b[38;5;28;43mzip\u001b[39;49m\u001b[43m(\u001b[49m\u001b[38;5;241;43m*\u001b[39;49m\u001b[43mall_leaves\u001b[49m\u001b[43m)\u001b[49m\u001b[43m)\u001b[49m\n",
      "File \u001b[0;32m/opt/miniconda3/envs/jax-framework/lib/python3.9/site-packages/jax/_src/tree_util.py:320\u001b[0m, in \u001b[0;36m<genexpr>\u001b[0;34m(.0)\u001b[0m\n\u001b[1;32m    319\u001b[0m all_leaves \u001b[38;5;241m=\u001b[39m [leaves] \u001b[38;5;241m+\u001b[39m [treedef\u001b[38;5;241m.\u001b[39mflatten_up_to(r) \u001b[38;5;28;01mfor\u001b[39;00m r \u001b[38;5;129;01min\u001b[39;00m rest]\n\u001b[0;32m--> 320\u001b[0m \u001b[38;5;28;01mreturn\u001b[39;00m treedef\u001b[38;5;241m.\u001b[39munflatten(\u001b[43mf\u001b[49m\u001b[43m(\u001b[49m\u001b[38;5;241;43m*\u001b[39;49m\u001b[43mxs\u001b[49m\u001b[43m)\u001b[49m \u001b[38;5;28;01mfor\u001b[39;00m xs \u001b[38;5;129;01min\u001b[39;00m \u001b[38;5;28mzip\u001b[39m(\u001b[38;5;241m*\u001b[39mall_leaves))\n",
      "File \u001b[0;32m/opt/miniconda3/envs/jax-framework/lib/python3.9/site-packages/diffrax/_integrate.py:170\u001b[0m, in \u001b[0;36m_assert_term_compatible.<locals>._check\u001b[0;34m(term_cls, term, term_contr_kwargs, yi)\u001b[0m\n\u001b[1;32m    169\u001b[0m \u001b[38;5;28;01mexcept\u001b[39;00m \u001b[38;5;167;01mException\u001b[39;00m \u001b[38;5;28;01mas\u001b[39;00m e:\n\u001b[0;32m--> 170\u001b[0m     \u001b[38;5;28;01mraise\u001b[39;00m \u001b[38;5;167;01mValueError\u001b[39;00m(\u001b[38;5;124mf\u001b[39m\u001b[38;5;124m\"\u001b[39m\u001b[38;5;124mError while tracing \u001b[39m\u001b[38;5;132;01m{\u001b[39;00mterm\u001b[38;5;132;01m}\u001b[39;00m\u001b[38;5;124m.vf: \u001b[39m\u001b[38;5;124m\"\u001b[39m \u001b[38;5;241m+\u001b[39m \u001b[38;5;28mstr\u001b[39m(e))\n\u001b[1;32m    171\u001b[0m vf_type_compatible \u001b[38;5;241m=\u001b[39m eqx\u001b[38;5;241m.\u001b[39mfilter_eval_shape(\n\u001b[1;32m    172\u001b[0m     better_isinstance, vf_type, vf_type_expected\n\u001b[1;32m    173\u001b[0m )\n",
      "\u001b[0;31mValueError\u001b[0m: Error while tracing ODETerm(vector_field=<function f>).vf: Abstract tracer value encountered where concrete value is expected: traced array with shape int64[].\n\nThe error arose for the nse argument of bcoo_fromdense. In order for\nBCOO.fromdense() to be used in traced/compiled code, you must pass a concrete\nvalue to the nse (number of stored elements) argument.\n\nThe error occurred while tracing the function _fn at /opt/miniconda3/envs/jax-framework/lib/python3.9/site-packages/equinox/_eval_shape.py:31 for jit. This value became a tracer due to JAX operations on these lines:\n\n  operation a\u001b[35m:c128[]\u001b[39m = convert_element_type[new_dtype=complex128 weak_type=False] b\n    from line /Users/phionx/Github/qc/EQuS/bosonic/jax/jaxquantum/jaxquantum/core/solvers.py:151 (<lambda>)\n\n  operation a\u001b[35m:bool[100,100]\u001b[39m = ne b c\n    from line /Users/phionx/Github/qc/EQuS/bosonic/jax/jaxquantum/jaxquantum/core/solvers.py:151 (<lambda>)\n\n  operation a\u001b[35m:i64[]\u001b[39m = convert_element_type[new_dtype=int64 weak_type=False] b\n    from line /Users/phionx/Github/qc/EQuS/bosonic/jax/jaxquantum/jaxquantum/core/solvers.py:151 (<lambda>)\n\nSee https://jax.readthedocs.io/en/latest/errors.html#jax.errors.ConcretizationTypeError",
      "\nThe above exception was the direct cause of the following exception:\n",
      "\u001b[0;31mValueError\u001b[0m                                Traceback (most recent call last)",
      "Cell \u001b[0;32mIn[2], line 19\u001b[0m\n\u001b[1;32m     16\u001b[0m ts \u001b[38;5;241m=\u001b[39m jnp\u001b[38;5;241m.\u001b[39mlinspace(\u001b[38;5;241m0\u001b[39m, \u001b[38;5;241m4\u001b[39m\u001b[38;5;241m*\u001b[39m\u001b[38;5;241m2\u001b[39m\u001b[38;5;241m*\u001b[39mjnp\u001b[38;5;241m.\u001b[39mpi\u001b[38;5;241m/\u001b[39momega_a, \u001b[38;5;241m101\u001b[39m) \u001b[38;5;66;03m# Time points\u001b[39;00m\n\u001b[1;32m     18\u001b[0m solver_options \u001b[38;5;241m=\u001b[39m jqt\u001b[38;5;241m.\u001b[39mSolverOptions\u001b[38;5;241m.\u001b[39mcreate(progress_meter\u001b[38;5;241m=\u001b[39m\u001b[38;5;28;01mTrue\u001b[39;00m) \n\u001b[0;32m---> 19\u001b[0m states \u001b[38;5;241m=\u001b[39m \u001b[43mjqt\u001b[49m\u001b[38;5;241;43m.\u001b[39;49m\u001b[43mmesolve\u001b[49m\u001b[43m(\u001b[49m\n\u001b[1;32m     20\u001b[0m \u001b[43m    \u001b[49m\u001b[43mH0\u001b[49m\u001b[43m,\u001b[49m\u001b[43m \u001b[49m\u001b[43minitial_state\u001b[49m\u001b[43m,\u001b[49m\u001b[43m \u001b[49m\u001b[43mts\u001b[49m\u001b[43m,\u001b[49m\u001b[43m \u001b[49m\u001b[43mc_ops\u001b[49m\u001b[38;5;241;43m=\u001b[39;49m\u001b[43mc_ops\u001b[49m\u001b[43m,\u001b[49m\u001b[43m \u001b[49m\u001b[43msolver_options\u001b[49m\u001b[38;5;241;43m=\u001b[39;49m\u001b[43msolver_options\u001b[49m\u001b[43m)\u001b[49m \u001b[38;5;66;03m# solve\u001b[39;00m\n\u001b[1;32m     22\u001b[0m n_exp \u001b[38;5;241m=\u001b[39m jnp\u001b[38;5;241m.\u001b[39mreal(jqt\u001b[38;5;241m.\u001b[39moverlap(n, states)); a_exp \u001b[38;5;241m=\u001b[39m jqt\u001b[38;5;241m.\u001b[39moverlap(a, states) \u001b[38;5;66;03m# expectation values\u001b[39;00m\n\u001b[1;32m     24\u001b[0m \u001b[38;5;66;03m# Plot\u001b[39;00m\n",
      "File \u001b[0;32m~/Github/qc/EQuS/bosonic/jax/jaxquantum/jaxquantum/core/solvers.py:155\u001b[0m, in \u001b[0;36mmesolve\u001b[0;34m(H, rho0, tlist, saveat_tlist, c_ops, solver_options)\u001b[0m\n\u001b[1;32m    152\u001b[0m \u001b[38;5;28;01melse\u001b[39;00m:\n\u001b[1;32m    153\u001b[0m     Ht_data \u001b[38;5;241m=\u001b[39m \u001b[38;5;28;01mlambda\u001b[39;00m t: H(t)\u001b[38;5;241m.\u001b[39mdata\n\u001b[0;32m--> 155\u001b[0m ys \u001b[38;5;241m=\u001b[39m \u001b[43m_mesolve_data\u001b[49m\u001b[43m(\u001b[49m\u001b[43mHt_data\u001b[49m\u001b[43m,\u001b[49m\u001b[43m \u001b[49m\u001b[43mρ0\u001b[49m\u001b[43m,\u001b[49m\u001b[43m \u001b[49m\u001b[43mtlist\u001b[49m\u001b[43m,\u001b[49m\u001b[43m \u001b[49m\u001b[43msaveat_tlist\u001b[49m\u001b[43m,\u001b[49m\u001b[43m \u001b[49m\u001b[43mc_ops\u001b[49m\u001b[43m,\u001b[49m\n\u001b[1;32m    156\u001b[0m \u001b[43m                   \u001b[49m\u001b[43msolver_options\u001b[49m\u001b[38;5;241;43m=\u001b[39;49m\u001b[43msolver_options\u001b[49m\u001b[43m)\u001b[49m\n\u001b[1;32m    158\u001b[0m \u001b[38;5;28;01mreturn\u001b[39;00m jnp2jqt(ys, dims\u001b[38;5;241m=\u001b[39mdims)\n",
      "File \u001b[0;32m~/Github/qc/EQuS/bosonic/jax/jaxquantum/jaxquantum/core/solvers.py:229\u001b[0m, in \u001b[0;36m_mesolve_data\u001b[0;34m(H, rho0, tlist, saveat_tlist, c_ops, solver_options)\u001b[0m\n\u001b[1;32m    225\u001b[0m     rho_dot \u001b[38;5;241m+\u001b[39m\u001b[38;5;241m=\u001b[39m rho_dot_delta\n\u001b[1;32m    227\u001b[0m     \u001b[38;5;28;01mreturn\u001b[39;00m rho_dot\n\u001b[0;32m--> 229\u001b[0m sol \u001b[38;5;241m=\u001b[39m \u001b[43msolve\u001b[49m\u001b[43m(\u001b[49m\u001b[43mf\u001b[49m\u001b[43m,\u001b[49m\u001b[43m \u001b[49m\u001b[43mρ0\u001b[49m\u001b[43m,\u001b[49m\u001b[43m \u001b[49m\u001b[43mtlist\u001b[49m\u001b[43m,\u001b[49m\u001b[43m \u001b[49m\u001b[43msaveat_tlist\u001b[49m\u001b[43m,\u001b[49m\u001b[43m \u001b[49m\u001b[43mc_ops\u001b[49m\u001b[43m,\u001b[49m\n\u001b[1;32m    230\u001b[0m \u001b[43m            \u001b[49m\u001b[43msolver_options\u001b[49m\u001b[38;5;241;43m=\u001b[39;49m\u001b[43msolver_options\u001b[49m\u001b[43m)\u001b[49m\n\u001b[1;32m    232\u001b[0m \u001b[38;5;28;01mreturn\u001b[39;00m sol\u001b[38;5;241m.\u001b[39mys\n",
      "File \u001b[0;32m~/Github/qc/EQuS/bosonic/jax/jaxquantum/jaxquantum/core/solvers.py:90\u001b[0m, in \u001b[0;36msolve\u001b[0;34m(f, ρ0, tlist, saveat_tlist, args, solver_options)\u001b[0m\n\u001b[1;32m     86\u001b[0m \u001b[38;5;28;01mwith\u001b[39;00m warnings\u001b[38;5;241m.\u001b[39mcatch_warnings():\n\u001b[1;32m     87\u001b[0m     warnings\u001b[38;5;241m.\u001b[39mfilterwarnings(\u001b[38;5;124m\"\u001b[39m\u001b[38;5;124mignore\u001b[39m\u001b[38;5;124m\"\u001b[39m,\n\u001b[1;32m     88\u001b[0m                             message\u001b[38;5;241m=\u001b[39m\u001b[38;5;124m\"\u001b[39m\u001b[38;5;124mComplex dtype support in Diffrax\u001b[39m\u001b[38;5;124m\"\u001b[39m,\n\u001b[1;32m     89\u001b[0m                             category\u001b[38;5;241m=\u001b[39m\u001b[38;5;167;01mUserWarning\u001b[39;00m)  \u001b[38;5;66;03m# NOTE: suppresses complex dtype warning in diffrax\u001b[39;00m\n\u001b[0;32m---> 90\u001b[0m     sol \u001b[38;5;241m=\u001b[39m \u001b[43mdiffeqsolve\u001b[49m\u001b[43m(\u001b[49m\n\u001b[1;32m     91\u001b[0m \u001b[43m        \u001b[49m\u001b[43mterm\u001b[49m\u001b[43m,\u001b[49m\n\u001b[1;32m     92\u001b[0m \u001b[43m        \u001b[49m\u001b[43msolver\u001b[49m\u001b[43m,\u001b[49m\n\u001b[1;32m     93\u001b[0m \u001b[43m        \u001b[49m\u001b[43mt0\u001b[49m\u001b[38;5;241;43m=\u001b[39;49m\u001b[43mtlist\u001b[49m\u001b[43m[\u001b[49m\u001b[38;5;241;43m0\u001b[39;49m\u001b[43m]\u001b[49m\u001b[43m,\u001b[49m\n\u001b[1;32m     94\u001b[0m \u001b[43m        \u001b[49m\u001b[43mt1\u001b[49m\u001b[38;5;241;43m=\u001b[39;49m\u001b[43mtlist\u001b[49m\u001b[43m[\u001b[49m\u001b[38;5;241;43m-\u001b[39;49m\u001b[38;5;241;43m1\u001b[39;49m\u001b[43m]\u001b[49m\u001b[43m,\u001b[49m\n\u001b[1;32m     95\u001b[0m \u001b[43m        \u001b[49m\u001b[43mdt0\u001b[49m\u001b[38;5;241;43m=\u001b[39;49m\u001b[43mtlist\u001b[49m\u001b[43m[\u001b[49m\u001b[38;5;241;43m1\u001b[39;49m\u001b[43m]\u001b[49m\u001b[43m \u001b[49m\u001b[38;5;241;43m-\u001b[39;49m\u001b[43m \u001b[49m\u001b[43mtlist\u001b[49m\u001b[43m[\u001b[49m\u001b[38;5;241;43m0\u001b[39;49m\u001b[43m]\u001b[49m\u001b[43m,\u001b[49m\n\u001b[1;32m     96\u001b[0m \u001b[43m        \u001b[49m\u001b[43my0\u001b[49m\u001b[38;5;241;43m=\u001b[39;49m\u001b[43mρ0\u001b[49m\u001b[43m,\u001b[49m\n\u001b[1;32m     97\u001b[0m \u001b[43m        \u001b[49m\u001b[43msaveat\u001b[49m\u001b[38;5;241;43m=\u001b[39;49m\u001b[43msaveat\u001b[49m\u001b[43m,\u001b[49m\n\u001b[1;32m     98\u001b[0m \u001b[43m        \u001b[49m\u001b[43mstepsize_controller\u001b[49m\u001b[38;5;241;43m=\u001b[39;49m\u001b[43mstepsize_controller\u001b[49m\u001b[43m,\u001b[49m\n\u001b[1;32m     99\u001b[0m \u001b[43m        \u001b[49m\u001b[43margs\u001b[49m\u001b[38;5;241;43m=\u001b[39;49m\u001b[43margs\u001b[49m\u001b[43m,\u001b[49m\n\u001b[1;32m    100\u001b[0m \u001b[43m        \u001b[49m\u001b[43mmax_steps\u001b[49m\u001b[38;5;241;43m=\u001b[39;49m\u001b[43msolver_options\u001b[49m\u001b[38;5;241;43m.\u001b[39;49m\u001b[43mmax_steps\u001b[49m\u001b[43m,\u001b[49m\n\u001b[1;32m    101\u001b[0m \u001b[43m        \u001b[49m\u001b[43mprogress_meter\u001b[49m\u001b[38;5;241;43m=\u001b[39;49m\u001b[43mCustomProgressMeter\u001b[49m\u001b[43m(\u001b[49m\u001b[43m)\u001b[49m\n\u001b[1;32m    102\u001b[0m \u001b[43m        \u001b[49m\u001b[38;5;28;43;01mif\u001b[39;49;00m\u001b[43m \u001b[49m\u001b[43msolver_options\u001b[49m\u001b[38;5;241;43m.\u001b[39;49m\u001b[43mprogress_meter\u001b[49m\n\u001b[1;32m    103\u001b[0m \u001b[43m        \u001b[49m\u001b[38;5;28;43;01melse\u001b[39;49;00m\u001b[43m \u001b[49m\u001b[43mNoProgressMeter\u001b[49m\u001b[43m(\u001b[49m\u001b[43m)\u001b[49m\u001b[43m,\u001b[49m\n\u001b[1;32m    104\u001b[0m \u001b[43m    \u001b[49m\u001b[43m)\u001b[49m\n\u001b[1;32m    106\u001b[0m \u001b[38;5;28;01mreturn\u001b[39;00m sol\n",
      "    \u001b[0;31m[... skipping hidden 15 frame]\u001b[0m\n",
      "File \u001b[0;32m/opt/miniconda3/envs/jax-framework/lib/python3.9/site-packages/diffrax/_integrate.py:1089\u001b[0m, in \u001b[0;36mdiffeqsolve\u001b[0;34m(terms, solver, t0, t1, dt0, y0, args, saveat, stepsize_controller, adjoint, event, max_steps, throw, progress_meter, solver_state, controller_state, made_jump, discrete_terminating_event)\u001b[0m\n\u001b[1;32m   1086\u001b[0m         terms \u001b[38;5;241m=\u001b[39m MultiTerm(\u001b[38;5;241m*\u001b[39mterms)\n\u001b[1;32m   1088\u001b[0m \u001b[38;5;66;03m# Error checking for term compatibility\u001b[39;00m\n\u001b[0;32m-> 1089\u001b[0m \u001b[43m_assert_term_compatible\u001b[49m\u001b[43m(\u001b[49m\n\u001b[1;32m   1090\u001b[0m \u001b[43m    \u001b[49m\u001b[43my0\u001b[49m\u001b[43m,\u001b[49m\n\u001b[1;32m   1091\u001b[0m \u001b[43m    \u001b[49m\u001b[43margs\u001b[49m\u001b[43m,\u001b[49m\n\u001b[1;32m   1092\u001b[0m \u001b[43m    \u001b[49m\u001b[43mterms\u001b[49m\u001b[43m,\u001b[49m\n\u001b[1;32m   1093\u001b[0m \u001b[43m    \u001b[49m\u001b[43msolver\u001b[49m\u001b[38;5;241;43m.\u001b[39;49m\u001b[43mterm_structure\u001b[49m\u001b[43m,\u001b[49m\n\u001b[1;32m   1094\u001b[0m \u001b[43m    \u001b[49m\u001b[43msolver\u001b[49m\u001b[38;5;241;43m.\u001b[39;49m\u001b[43mterm_compatible_contr_kwargs\u001b[49m\u001b[43m,\u001b[49m\n\u001b[1;32m   1095\u001b[0m \u001b[43m\u001b[49m\u001b[43m)\u001b[49m\n\u001b[1;32m   1097\u001b[0m \u001b[38;5;28;01mif\u001b[39;00m is_sde(terms):\n\u001b[1;32m   1098\u001b[0m     \u001b[38;5;28;01mif\u001b[39;00m \u001b[38;5;129;01mnot\u001b[39;00m \u001b[38;5;28misinstance\u001b[39m(solver, (AbstractItoSolver, AbstractStratonovichSolver)):\n",
      "File \u001b[0;32m/opt/miniconda3/envs/jax-framework/lib/python3.9/site-packages/diffrax/_integrate.py:197\u001b[0m, in \u001b[0;36m_assert_term_compatible\u001b[0;34m(y, args, terms, term_structure, contr_kwargs)\u001b[0m\n\u001b[1;32m    194\u001b[0m         jtu\u001b[38;5;241m.\u001b[39mtree_map(_check, term_structure, terms, contr_kwargs, y)\n\u001b[1;32m    195\u001b[0m \u001b[38;5;28;01mexcept\u001b[39;00m \u001b[38;5;167;01mException\u001b[39;00m \u001b[38;5;28;01mas\u001b[39;00m e:\n\u001b[1;32m    196\u001b[0m     \u001b[38;5;66;03m# ValueError may also arise from mismatched tree structures\u001b[39;00m\n\u001b[0;32m--> 197\u001b[0m     \u001b[38;5;28;01mraise\u001b[39;00m \u001b[38;5;167;01mValueError\u001b[39;00m(\u001b[38;5;124m\"\u001b[39m\u001b[38;5;124mTerms are not compatible with solver!\u001b[39m\u001b[38;5;124m\"\u001b[39m) \u001b[38;5;28;01mfrom\u001b[39;00m \u001b[38;5;21;01me\u001b[39;00m\n",
      "\u001b[0;31mValueError\u001b[0m: Terms are not compatible with solver!"
     ]
    }
   ],
   "source": [
    "from jax import jit\n",
    "import jaxquantum as jqt \n",
    "import jax.numpy as jnp\n",
    "import matplotlib.pyplot as plt\n",
    "\n",
    "N = 100\n",
    "a = jqt.destroy(N); n = a.dag() @ a\n",
    "\n",
    "omega_a = 2.0*jnp.pi*5.0; H0 = omega_a*n # Hamiltonian\n",
    "\n",
    "kappa = 2*jnp.pi*1.0; batched_loss_op = jnp.sqrt(kappa)*a; \n",
    "c_ops = jqt.Qarray.from_list([batched_loss_op]) # collapse operators\n",
    "\n",
    "initial_state = (jqt.displace(N, 0.1) @ jqt.basis(N,0)).to_dm() # initial state\n",
    "\n",
    "ts = jnp.linspace(0, 4*2*jnp.pi/omega_a, 101) # Time points\n",
    "\n",
    "solver_options = jqt.SolverOptions.create(progress_meter=True) \n",
    "states = jqt.mesolve(\n",
    "    H0, initial_state, ts, c_ops=c_ops, solver_options=solver_options) # solve\n",
    "\n",
    "n_exp = jnp.real(jqt.overlap(n, states)); a_exp = jqt.overlap(a, states) # expectation values\n",
    "\n",
    "# Plot\n",
    "\n",
    "fig, axs = plt.subplots(2,1, dpi=200, figsize=(6,5))\n",
    "ax = axs[0]\n",
    "ax.plot(ts, jnp.real(a_exp)[:], label=r\"$Re[\\langle a(t)\\rangle]$\", color=\"blue\") # Batch kappa value 0\n",
    "ax.plot(ts, jnp.imag(a_exp)[:], label=r\"$Im[\\langle a(t)\\rangle]$\", color=\"red\") # Batch kappa value 0\n",
    "ax.set_xlabel(\"Time (ns)\")\n",
    "ax.set_ylabel(\"Expectations\")\n",
    "ax.legend()\n",
    "\n",
    "ax = axs[1]\n",
    "ax.plot(ts, n_exp[:], label=r\"$Re[\\langle n(t)\\rangle]$\", color=\"green\") # Batch kappa value 0\n",
    "ax.set_xlabel(\"Time (ns)\")\n",
    "ax.set_ylabel(\"Expectations\")\n",
    "ax.legend()\n",
    "fig.tight_layout()"
   ]
  },
  {
   "cell_type": "code",
   "execution_count": 1,
   "id": "87c4765e",
   "metadata": {},
   "outputs": [
    {
     "ename": "ValueError",
     "evalue": "Terms are not compatible with solver!",
     "output_type": "error",
     "traceback": [
      "\u001b[0;31m---------------------------------------------------------------------------\u001b[0m",
      "\u001b[0;31mConcretizationTypeError\u001b[0m                   Traceback (most recent call last)",
      "File \u001b[0;32m/opt/miniconda3/envs/jax-framework/lib/python3.9/site-packages/diffrax/_integrate.py:168\u001b[0m, in \u001b[0;36m_assert_term_compatible.<locals>._check\u001b[0;34m(term_cls, term, term_contr_kwargs, yi)\u001b[0m\n\u001b[1;32m    167\u001b[0m \u001b[38;5;28;01mtry\u001b[39;00m:\n\u001b[0;32m--> 168\u001b[0m     vf_type \u001b[38;5;241m=\u001b[39m \u001b[43meqx\u001b[49m\u001b[38;5;241;43m.\u001b[39;49m\u001b[43mfilter_eval_shape\u001b[49m\u001b[43m(\u001b[49m\u001b[43mterm\u001b[49m\u001b[38;5;241;43m.\u001b[39;49m\u001b[43mvf\u001b[49m\u001b[43m,\u001b[49m\u001b[43m \u001b[49m\u001b[38;5;241;43m0.0\u001b[39;49m\u001b[43m,\u001b[49m\u001b[43m \u001b[49m\u001b[43myi\u001b[49m\u001b[43m,\u001b[49m\u001b[43m \u001b[49m\u001b[43margs\u001b[49m\u001b[43m)\u001b[49m\n\u001b[1;32m    169\u001b[0m \u001b[38;5;28;01mexcept\u001b[39;00m \u001b[38;5;167;01mException\u001b[39;00m \u001b[38;5;28;01mas\u001b[39;00m e:\n",
      "File \u001b[0;32m/opt/miniconda3/envs/jax-framework/lib/python3.9/site-packages/equinox/_eval_shape.py:38\u001b[0m, in \u001b[0;36mfilter_eval_shape\u001b[0;34m(fun, *args, **kwargs)\u001b[0m\n\u001b[1;32m     37\u001b[0m dynamic, static \u001b[38;5;241m=\u001b[39m partition((fun, args, kwargs), _filter)\n\u001b[0;32m---> 38\u001b[0m dynamic_out, static_out \u001b[38;5;241m=\u001b[39m \u001b[43mjax\u001b[49m\u001b[38;5;241;43m.\u001b[39;49m\u001b[43meval_shape\u001b[49m\u001b[43m(\u001b[49m\u001b[43mft\u001b[49m\u001b[38;5;241;43m.\u001b[39;49m\u001b[43mpartial\u001b[49m\u001b[43m(\u001b[49m\u001b[43m_fn\u001b[49m\u001b[43m,\u001b[49m\u001b[43m \u001b[49m\u001b[43mstatic\u001b[49m\u001b[43m)\u001b[49m\u001b[43m,\u001b[49m\u001b[43m \u001b[49m\u001b[43mdynamic\u001b[49m\u001b[43m)\u001b[49m\n\u001b[1;32m     39\u001b[0m \u001b[38;5;28;01mreturn\u001b[39;00m combine(dynamic_out, static_out\u001b[38;5;241m.\u001b[39mvalue)\n",
      "    \u001b[0;31m[... skipping hidden 1 frame]\u001b[0m\n",
      "File \u001b[0;32m/opt/miniconda3/envs/jax-framework/lib/python3.9/site-packages/jax/_src/api.py:2816\u001b[0m, in \u001b[0;36meval_shape\u001b[0;34m(fun, *args, **kwargs)\u001b[0m\n\u001b[1;32m   2815\u001b[0m \u001b[38;5;28;01mexcept\u001b[39;00m \u001b[38;5;167;01mTypeError\u001b[39;00m: fun \u001b[38;5;241m=\u001b[39m partial(fun)\n\u001b[0;32m-> 2816\u001b[0m \u001b[38;5;28;01mreturn\u001b[39;00m \u001b[43mjit\u001b[49m\u001b[43m(\u001b[49m\u001b[43mfun\u001b[49m\u001b[43m)\u001b[49m\u001b[38;5;241;43m.\u001b[39;49m\u001b[43meval_shape\u001b[49m\u001b[43m(\u001b[49m\u001b[38;5;241;43m*\u001b[39;49m\u001b[43margs\u001b[49m\u001b[43m,\u001b[49m\u001b[43m \u001b[49m\u001b[38;5;241;43m*\u001b[39;49m\u001b[38;5;241;43m*\u001b[39;49m\u001b[43mkwargs\u001b[49m\u001b[43m)\u001b[49m\n",
      "    \u001b[0;31m[... skipping hidden 1 frame]\u001b[0m\n",
      "File \u001b[0;32m/opt/miniconda3/envs/jax-framework/lib/python3.9/site-packages/jax/_src/pjit.py:478\u001b[0m, in \u001b[0;36m_make_jit_wrapper.<locals>.eval_shape\u001b[0;34m(*args, **kwargs)\u001b[0m\n\u001b[1;32m    476\u001b[0m \u001b[38;5;129m@api_boundary\u001b[39m\n\u001b[1;32m    477\u001b[0m \u001b[38;5;28;01mdef\u001b[39;00m \u001b[38;5;21meval_shape\u001b[39m(\u001b[38;5;241m*\u001b[39margs, \u001b[38;5;241m*\u001b[39m\u001b[38;5;241m*\u001b[39mkwargs):\n\u001b[0;32m--> 478\u001b[0m   _, _, params, _, out_tree, _, _, _ \u001b[38;5;241m=\u001b[39m \u001b[43m_infer_params\u001b[49m\u001b[43m(\u001b[49m\u001b[43mjit_info\u001b[49m\u001b[43m,\u001b[49m\u001b[43m \u001b[49m\u001b[43margs\u001b[49m\u001b[43m,\u001b[49m\u001b[43m \u001b[49m\u001b[43mkwargs\u001b[49m\u001b[43m)\u001b[49m\n\u001b[1;32m    479\u001b[0m   out_s \u001b[38;5;241m=\u001b[39m [\u001b[38;5;28;01mNone\u001b[39;00m \u001b[38;5;28;01mif\u001b[39;00m is_unspecified(s) \u001b[38;5;28;01melse\u001b[39;00m s \u001b[38;5;28;01mfor\u001b[39;00m s \u001b[38;5;129;01min\u001b[39;00m params[\u001b[38;5;124m'\u001b[39m\u001b[38;5;124mout_shardings\u001b[39m\u001b[38;5;124m'\u001b[39m]]\n",
      "File \u001b[0;32m/opt/miniconda3/envs/jax-framework/lib/python3.9/site-packages/jax/_src/pjit.py:598\u001b[0m, in \u001b[0;36m_infer_params\u001b[0;34m(***failed resolving arguments***)\u001b[0m\n\u001b[1;32m    593\u001b[0m in_shardings_flat, in_layouts_flat \u001b[38;5;241m=\u001b[39m _process_in_axis_resources(\n\u001b[1;32m    594\u001b[0m     in_shardings_treedef, in_shardings_leaves,\n\u001b[1;32m    595\u001b[0m     in_layouts_treedef, in_layouts_leaves,\n\u001b[1;32m    596\u001b[0m     in_avals, in_tree, dbg, device_or_backend_set, have_kwargs)\n\u001b[0;32m--> 598\u001b[0m jaxpr, consts, out_shardings_flat, out_layouts_flat, attrs_tracked \u001b[38;5;241m=\u001b[39m \u001b[43m_pjit_jaxpr\u001b[49m\u001b[43m(\u001b[49m\n\u001b[1;32m    599\u001b[0m \u001b[43m    \u001b[49m\u001b[43mflat_fun\u001b[49m\u001b[43m,\u001b[49m\u001b[43m \u001b[49m\u001b[43mout_shardings_treedef\u001b[49m\u001b[43m,\u001b[49m\u001b[43m \u001b[49m\u001b[43mout_shardings_leaves\u001b[49m\u001b[43m,\u001b[49m\n\u001b[1;32m    600\u001b[0m \u001b[43m    \u001b[49m\u001b[43mout_layouts_treedef\u001b[49m\u001b[43m,\u001b[49m\u001b[43m \u001b[49m\u001b[43mout_layouts_leaves\u001b[49m\u001b[43m,\u001b[49m\u001b[43m \u001b[49m\u001b[43min_type\u001b[49m\u001b[43m,\u001b[49m\u001b[43m \u001b[49m\u001b[43mdbg\u001b[49m\u001b[43m,\u001b[49m\n\u001b[1;32m    601\u001b[0m \u001b[43m    \u001b[49m\u001b[43mdevice_or_backend_set\u001b[49m\u001b[43m,\u001b[49m\u001b[43m \u001b[49m\u001b[43mHashableFunction\u001b[49m\u001b[43m(\u001b[49m\u001b[43mout_tree\u001b[49m\u001b[43m,\u001b[49m\u001b[43m \u001b[49m\u001b[43mclosure\u001b[49m\u001b[38;5;241;43m=\u001b[39;49m\u001b[43m(\u001b[49m\u001b[43m)\u001b[49m\u001b[43m)\u001b[49m\u001b[43m,\u001b[49m\n\u001b[1;32m    602\u001b[0m \u001b[43m    \u001b[49m\u001b[43mHashableFunction\u001b[49m\u001b[43m(\u001b[49m\u001b[43mres_paths\u001b[49m\u001b[43m,\u001b[49m\u001b[43m \u001b[49m\u001b[43mclosure\u001b[49m\u001b[38;5;241;43m=\u001b[39;49m\u001b[43m(\u001b[49m\u001b[43m)\u001b[49m\u001b[43m)\u001b[49m\u001b[43m,\u001b[49m\u001b[43m \u001b[49m\u001b[43minline\u001b[49m\u001b[43m)\u001b[49m\n\u001b[1;32m    604\u001b[0m \u001b[38;5;28;01massert\u001b[39;00m \u001b[38;5;28mlen\u001b[39m(explicit_args) \u001b[38;5;241m==\u001b[39m \u001b[38;5;28mlen\u001b[39m(in_shardings_flat) \u001b[38;5;241m==\u001b[39m \u001b[38;5;28mlen\u001b[39m(in_layouts_flat)\n",
      "File \u001b[0;32m/opt/miniconda3/envs/jax-framework/lib/python3.9/site-packages/jax/_src/pjit.py:1206\u001b[0m, in \u001b[0;36m_pjit_jaxpr\u001b[0;34m(fun, out_shardings_treedef, out_shardings_leaves, out_layouts_treedef, out_layouts_leaves, in_type, debug_info, device_or_backend_set, out_tree, result_paths, inline)\u001b[0m\n\u001b[1;32m   1203\u001b[0m \u001b[38;5;28;01mdef\u001b[39;00m \u001b[38;5;21m_pjit_jaxpr\u001b[39m(fun, out_shardings_treedef, out_shardings_leaves,\n\u001b[1;32m   1204\u001b[0m                 out_layouts_treedef, out_layouts_leaves, in_type, debug_info,\n\u001b[1;32m   1205\u001b[0m                 device_or_backend_set, out_tree, result_paths, inline):\n\u001b[0;32m-> 1206\u001b[0m   jaxpr, final_consts, out_type, attrs_tracked \u001b[38;5;241m=\u001b[39m \u001b[43m_create_pjit_jaxpr\u001b[49m\u001b[43m(\u001b[49m\n\u001b[1;32m   1207\u001b[0m \u001b[43m      \u001b[49m\u001b[43mfun\u001b[49m\u001b[43m,\u001b[49m\u001b[43m \u001b[49m\u001b[43min_type\u001b[49m\u001b[43m,\u001b[49m\u001b[43m \u001b[49m\u001b[43mdebug_info\u001b[49m\u001b[43m,\u001b[49m\u001b[43m \u001b[49m\u001b[43mresult_paths\u001b[49m\u001b[43m,\u001b[49m\u001b[43m \u001b[49m\u001b[43mIgnoreKey\u001b[49m\u001b[43m(\u001b[49m\u001b[43minline\u001b[49m\u001b[43m)\u001b[49m\u001b[43m)\u001b[49m\n\u001b[1;32m   1208\u001b[0m   canonicalized_out_shardings_flat, out_layouts_flat \u001b[38;5;241m=\u001b[39m _check_and_canonicalize_out_shardings(\n\u001b[1;32m   1209\u001b[0m       out_shardings_treedef, out_shardings_leaves, out_layouts_treedef,\n\u001b[1;32m   1210\u001b[0m       out_layouts_leaves, out_tree, \u001b[38;5;28mtuple\u001b[39m(out_type),\n\u001b[1;32m   1211\u001b[0m       jaxpr\u001b[38;5;241m.\u001b[39mjaxpr\u001b[38;5;241m.\u001b[39mdebug_info, device_or_backend_set)\n",
      "File \u001b[0;32m/opt/miniconda3/envs/jax-framework/lib/python3.9/site-packages/jax/_src/linear_util.py:350\u001b[0m, in \u001b[0;36mcache.<locals>.memoized_fun\u001b[0;34m(fun, *args)\u001b[0m\n\u001b[1;32m    349\u001b[0m \u001b[38;5;28;01melse\u001b[39;00m:\n\u001b[0;32m--> 350\u001b[0m   ans \u001b[38;5;241m=\u001b[39m \u001b[43mcall\u001b[49m\u001b[43m(\u001b[49m\u001b[43mfun\u001b[49m\u001b[43m,\u001b[49m\u001b[43m \u001b[49m\u001b[38;5;241;43m*\u001b[39;49m\u001b[43margs\u001b[49m\u001b[43m)\u001b[49m\n\u001b[1;32m    351\u001b[0m   \u001b[38;5;28;01mif\u001b[39;00m explain \u001b[38;5;129;01mand\u001b[39;00m config\u001b[38;5;241m.\u001b[39mexplain_cache_misses\u001b[38;5;241m.\u001b[39mvalue:\n",
      "File \u001b[0;32m/opt/miniconda3/envs/jax-framework/lib/python3.9/site-packages/jax/_src/pjit.py:1154\u001b[0m, in \u001b[0;36m_create_pjit_jaxpr\u001b[0;34m(***failed resolving arguments***)\u001b[0m\n\u001b[1;32m   1153\u001b[0m   \u001b[38;5;28;01melse\u001b[39;00m:\n\u001b[0;32m-> 1154\u001b[0m     jaxpr, global_out_avals, consts, attrs_tracked \u001b[38;5;241m=\u001b[39m \u001b[43mpe\u001b[49m\u001b[38;5;241;43m.\u001b[39;49m\u001b[43mtrace_to_jaxpr_dynamic\u001b[49m\u001b[43m(\u001b[49m\n\u001b[1;32m   1155\u001b[0m \u001b[43m        \u001b[49m\u001b[43mfun\u001b[49m\u001b[43m,\u001b[49m\u001b[43m \u001b[49m\u001b[43min_type\u001b[49m\u001b[43m,\u001b[49m\u001b[43m \u001b[49m\u001b[43mdebug_info\u001b[49m\u001b[38;5;241;43m=\u001b[39;49m\u001b[43mpe_debug\u001b[49m\u001b[43m)\u001b[49m\n\u001b[1;32m   1157\u001b[0m \u001b[38;5;66;03m# TODO(dougalm,mattjj): enable debug info with attrs_tracked\u001b[39;00m\n",
      "File \u001b[0;32m/opt/miniconda3/envs/jax-framework/lib/python3.9/site-packages/jax/_src/profiler.py:335\u001b[0m, in \u001b[0;36mannotate_function.<locals>.wrapper\u001b[0;34m(*args, **kwargs)\u001b[0m\n\u001b[1;32m    334\u001b[0m \u001b[38;5;28;01mwith\u001b[39;00m TraceAnnotation(name, \u001b[38;5;241m*\u001b[39m\u001b[38;5;241m*\u001b[39mdecorator_kwargs):\n\u001b[0;32m--> 335\u001b[0m   \u001b[38;5;28;01mreturn\u001b[39;00m \u001b[43mfunc\u001b[49m\u001b[43m(\u001b[49m\u001b[38;5;241;43m*\u001b[39;49m\u001b[43margs\u001b[49m\u001b[43m,\u001b[49m\u001b[43m \u001b[49m\u001b[38;5;241;43m*\u001b[39;49m\u001b[38;5;241;43m*\u001b[39;49m\u001b[43mkwargs\u001b[49m\u001b[43m)\u001b[49m\n\u001b[1;32m    336\u001b[0m \u001b[38;5;28;01mreturn\u001b[39;00m wrapper\n",
      "File \u001b[0;32m/opt/miniconda3/envs/jax-framework/lib/python3.9/site-packages/jax/_src/interpreters/partial_eval.py:2326\u001b[0m, in \u001b[0;36mtrace_to_jaxpr_dynamic\u001b[0;34m(fun, in_avals, debug_info, keep_inputs)\u001b[0m\n\u001b[1;32m   2325\u001b[0m main\u001b[38;5;241m.\u001b[39mjaxpr_stack \u001b[38;5;241m=\u001b[39m ()  \u001b[38;5;66;03m# type: ignore\u001b[39;00m\n\u001b[0;32m-> 2326\u001b[0m jaxpr, out_avals, consts, attrs_tracked \u001b[38;5;241m=\u001b[39m \u001b[43mtrace_to_subjaxpr_dynamic\u001b[49m\u001b[43m(\u001b[49m\n\u001b[1;32m   2327\u001b[0m \u001b[43m  \u001b[49m\u001b[43mfun\u001b[49m\u001b[43m,\u001b[49m\u001b[43m \u001b[49m\u001b[43mmain\u001b[49m\u001b[43m,\u001b[49m\u001b[43m \u001b[49m\u001b[43min_avals\u001b[49m\u001b[43m,\u001b[49m\u001b[43m \u001b[49m\u001b[43mkeep_inputs\u001b[49m\u001b[38;5;241;43m=\u001b[39;49m\u001b[43mkeep_inputs\u001b[49m\u001b[43m,\u001b[49m\u001b[43m \u001b[49m\u001b[43mdebug_info\u001b[49m\u001b[38;5;241;43m=\u001b[39;49m\u001b[43mdebug_info\u001b[49m\u001b[43m)\u001b[49m\n\u001b[1;32m   2328\u001b[0m \u001b[38;5;28;01mdel\u001b[39;00m main, fun\n",
      "File \u001b[0;32m/opt/miniconda3/envs/jax-framework/lib/python3.9/site-packages/jax/_src/interpreters/partial_eval.py:2348\u001b[0m, in \u001b[0;36mtrace_to_subjaxpr_dynamic\u001b[0;34m(fun, main, in_avals, keep_inputs, debug_info)\u001b[0m\n\u001b[1;32m   2347\u001b[0m in_tracers_ \u001b[38;5;241m=\u001b[39m [t \u001b[38;5;28;01mfor\u001b[39;00m t, keep \u001b[38;5;129;01min\u001b[39;00m \u001b[38;5;28mzip\u001b[39m(in_tracers, keep_inputs) \u001b[38;5;28;01mif\u001b[39;00m keep]\n\u001b[0;32m-> 2348\u001b[0m ans \u001b[38;5;241m=\u001b[39m \u001b[43mfun\u001b[49m\u001b[38;5;241;43m.\u001b[39;49m\u001b[43mcall_wrapped\u001b[49m\u001b[43m(\u001b[49m\u001b[38;5;241;43m*\u001b[39;49m\u001b[43min_tracers_\u001b[49m\u001b[43m)\u001b[49m\n\u001b[1;32m   2349\u001b[0m out_tracers \u001b[38;5;241m=\u001b[39m \u001b[38;5;28mmap\u001b[39m(trace\u001b[38;5;241m.\u001b[39mfull_raise, ans)\n",
      "File \u001b[0;32m/opt/miniconda3/envs/jax-framework/lib/python3.9/site-packages/jax/_src/linear_util.py:192\u001b[0m, in \u001b[0;36mWrappedFun.call_wrapped\u001b[0;34m(self, *args, **kwargs)\u001b[0m\n\u001b[1;32m    191\u001b[0m \u001b[38;5;28;01mtry\u001b[39;00m:\n\u001b[0;32m--> 192\u001b[0m   ans \u001b[38;5;241m=\u001b[39m \u001b[38;5;28;43mself\u001b[39;49m\u001b[38;5;241;43m.\u001b[39;49m\u001b[43mf\u001b[49m\u001b[43m(\u001b[49m\u001b[38;5;241;43m*\u001b[39;49m\u001b[43margs\u001b[49m\u001b[43m,\u001b[49m\u001b[43m \u001b[49m\u001b[38;5;241;43m*\u001b[39;49m\u001b[38;5;241;43m*\u001b[39;49m\u001b[38;5;28;43mdict\u001b[39;49m\u001b[43m(\u001b[49m\u001b[38;5;28;43mself\u001b[39;49m\u001b[38;5;241;43m.\u001b[39;49m\u001b[43mparams\u001b[49m\u001b[43m,\u001b[49m\u001b[43m \u001b[49m\u001b[38;5;241;43m*\u001b[39;49m\u001b[38;5;241;43m*\u001b[39;49m\u001b[43mkwargs\u001b[49m\u001b[43m)\u001b[49m\u001b[43m)\u001b[49m\n\u001b[1;32m    193\u001b[0m \u001b[38;5;28;01mexcept\u001b[39;00m:\n\u001b[1;32m    194\u001b[0m   \u001b[38;5;66;03m# Some transformations yield from inside context managers, so we have to\u001b[39;00m\n\u001b[1;32m    195\u001b[0m   \u001b[38;5;66;03m# interrupt them before reraising the exception. Otherwise they will only\u001b[39;00m\n\u001b[1;32m    196\u001b[0m   \u001b[38;5;66;03m# get garbage-collected at some later time, running their cleanup tasks\u001b[39;00m\n\u001b[1;32m    197\u001b[0m   \u001b[38;5;66;03m# only after this exception is handled, which can corrupt the global\u001b[39;00m\n\u001b[1;32m    198\u001b[0m   \u001b[38;5;66;03m# state.\u001b[39;00m\n",
      "File \u001b[0;32m/opt/miniconda3/envs/jax-framework/lib/python3.9/site-packages/equinox/_eval_shape.py:33\u001b[0m, in \u001b[0;36mfilter_eval_shape.<locals>._fn\u001b[0;34m(_static, _dynamic)\u001b[0m\n\u001b[1;32m     32\u001b[0m _fun, _args, _kwargs \u001b[38;5;241m=\u001b[39m combine(_static, _dynamic)\n\u001b[0;32m---> 33\u001b[0m _out \u001b[38;5;241m=\u001b[39m \u001b[43m_fun\u001b[49m\u001b[43m(\u001b[49m\u001b[38;5;241;43m*\u001b[39;49m\u001b[43m_args\u001b[49m\u001b[43m,\u001b[49m\u001b[43m \u001b[49m\u001b[38;5;241;43m*\u001b[39;49m\u001b[38;5;241;43m*\u001b[39;49m\u001b[43m_kwargs\u001b[49m\u001b[43m)\u001b[49m\n\u001b[1;32m     34\u001b[0m _dynamic_out, _static_out \u001b[38;5;241m=\u001b[39m partition(_out, _filter)\n",
      "    \u001b[0;31m[... skipping hidden 1 frame]\u001b[0m\n",
      "File \u001b[0;32m/opt/miniconda3/envs/jax-framework/lib/python3.9/site-packages/diffrax/_term.py:194\u001b[0m, in \u001b[0;36mODETerm.vf\u001b[0;34m(self, t, y, args)\u001b[0m\n\u001b[1;32m    193\u001b[0m \u001b[38;5;28;01mdef\u001b[39;00m \u001b[38;5;21mvf\u001b[39m(\u001b[38;5;28mself\u001b[39m, t: RealScalarLike, y: Y, args: Args) \u001b[38;5;241m-\u001b[39m\u001b[38;5;241m>\u001b[39m _VF:\n\u001b[0;32m--> 194\u001b[0m     out \u001b[38;5;241m=\u001b[39m \u001b[38;5;28;43mself\u001b[39;49m\u001b[38;5;241;43m.\u001b[39;49m\u001b[43mvector_field\u001b[49m\u001b[43m(\u001b[49m\u001b[43mt\u001b[49m\u001b[43m,\u001b[49m\u001b[43m \u001b[49m\u001b[43my\u001b[49m\u001b[43m,\u001b[49m\u001b[43m \u001b[49m\u001b[43margs\u001b[49m\u001b[43m)\u001b[49m\n\u001b[1;32m    195\u001b[0m     \u001b[38;5;28;01mif\u001b[39;00m jtu\u001b[38;5;241m.\u001b[39mtree_structure(out) \u001b[38;5;241m!=\u001b[39m jtu\u001b[38;5;241m.\u001b[39mtree_structure(y):\n",
      "File \u001b[0;32m~/Github/qc/EQuS/bosonic/jax/jaxquantum/jaxquantum/core/solvers.py:303\u001b[0m, in \u001b[0;36m_sesolve_data.<locals>.f\u001b[0;34m(t, ψt, _)\u001b[0m\n\u001b[1;32m    302\u001b[0m \u001b[38;5;28;01mdef\u001b[39;00m \u001b[38;5;21mf\u001b[39m(t: \u001b[38;5;28mfloat\u001b[39m, ψₜ: Array, _):\n\u001b[0;32m--> 303\u001b[0m     H_val \u001b[38;5;241m=\u001b[39m \u001b[43mH\u001b[49m\u001b[43m(\u001b[49m\u001b[43mt\u001b[49m\u001b[43m)\u001b[49m  \u001b[38;5;66;03m# type: ignore\u001b[39;00m\n\u001b[1;32m    305\u001b[0m     ψₜ_dot \u001b[38;5;241m=\u001b[39m \u001b[38;5;241m-\u001b[39m\u001b[38;5;241m1\u001b[39mj \u001b[38;5;241m*\u001b[39m (H_val \u001b[38;5;241m@\u001b[39m ψₜ)\n",
      "File \u001b[0;32m~/Github/qc/EQuS/bosonic/jax/jaxquantum/jaxquantum/core/solvers.py:271\u001b[0m, in \u001b[0;36msesolve.<locals>.<lambda>\u001b[0;34m(t)\u001b[0m\n\u001b[1;32m    270\u001b[0m \u001b[38;5;28;01mif\u001b[39;00m \u001b[38;5;28misinstance\u001b[39m(H, Qarray):\n\u001b[0;32m--> 271\u001b[0m     Ht_data \u001b[38;5;241m=\u001b[39m \u001b[38;5;28;01mlambda\u001b[39;00m t: \u001b[43msparse\u001b[49m\u001b[38;5;241;43m.\u001b[39;49m\u001b[43mBCOO\u001b[49m\u001b[38;5;241;43m.\u001b[39;49m\u001b[43mfromdense\u001b[49m\u001b[43m(\u001b[49m\u001b[43mH\u001b[49m\u001b[38;5;241;43m.\u001b[39;49m\u001b[43mdata\u001b[49m\u001b[43m)\u001b[49m\n\u001b[1;32m    272\u001b[0m \u001b[38;5;28;01melse\u001b[39;00m:\n",
      "File \u001b[0;32m/opt/miniconda3/envs/jax-framework/lib/python3.9/site-packages/jax/experimental/sparse/bcoo.py:2514\u001b[0m, in \u001b[0;36mBCOO.fromdense\u001b[0;34m(cls, mat, nse, index_dtype, n_dense, n_batch)\u001b[0m\n\u001b[1;32m   2513\u001b[0m \u001b[38;5;250m\u001b[39m\u001b[38;5;124;03m\"\"\"Create a BCOO array from a (dense) :class:`~jax.Array`.\"\"\"\u001b[39;00m\n\u001b[0;32m-> 2514\u001b[0m \u001b[38;5;28;01mreturn\u001b[39;00m \u001b[43mbcoo_fromdense\u001b[49m\u001b[43m(\u001b[49m\n\u001b[1;32m   2515\u001b[0m \u001b[43m  \u001b[49m\u001b[43mmat\u001b[49m\u001b[43m,\u001b[49m\u001b[43m \u001b[49m\u001b[43mnse\u001b[49m\u001b[38;5;241;43m=\u001b[39;49m\u001b[43mnse\u001b[49m\u001b[43m,\u001b[49m\u001b[43m \u001b[49m\u001b[43mindex_dtype\u001b[49m\u001b[38;5;241;43m=\u001b[39;49m\u001b[43mindex_dtype\u001b[49m\u001b[43m,\u001b[49m\u001b[43m \u001b[49m\u001b[43mn_dense\u001b[49m\u001b[38;5;241;43m=\u001b[39;49m\u001b[43mn_dense\u001b[49m\u001b[43m,\u001b[49m\u001b[43m \u001b[49m\u001b[43mn_batch\u001b[49m\u001b[38;5;241;43m=\u001b[39;49m\u001b[43mn_batch\u001b[49m\u001b[43m)\u001b[49m\n",
      "File \u001b[0;32m/opt/miniconda3/envs/jax-framework/lib/python3.9/site-packages/jax/experimental/sparse/bcoo.py:268\u001b[0m, in \u001b[0;36mbcoo_fromdense\u001b[0;34m(mat, nse, n_batch, n_dense, index_dtype)\u001b[0m\n\u001b[1;32m    267\u001b[0m   nse_arr \u001b[38;5;241m=\u001b[39m _count_stored_elements(mat, n_batch, n_dense)\n\u001b[0;32m--> 268\u001b[0m nse_int \u001b[38;5;241m=\u001b[39m \u001b[43mcore\u001b[49m\u001b[38;5;241;43m.\u001b[39;49m\u001b[43mconcrete_or_error\u001b[49m\u001b[43m(\u001b[49m\u001b[43moperator\u001b[49m\u001b[38;5;241;43m.\u001b[39;49m\u001b[43mindex\u001b[49m\u001b[43m,\u001b[49m\u001b[43m \u001b[49m\u001b[43mnse_arr\u001b[49m\u001b[43m,\u001b[49m\u001b[43m \u001b[49m\u001b[43m_TRACED_NSE_ERROR\u001b[49m\u001b[43m)\u001b[49m\n\u001b[1;32m    269\u001b[0m \u001b[38;5;28;01mreturn\u001b[39;00m BCOO(_bcoo_fromdense(mat, nse\u001b[38;5;241m=\u001b[39mnse_int, n_batch\u001b[38;5;241m=\u001b[39mn_batch, n_dense\u001b[38;5;241m=\u001b[39mn_dense,\n\u001b[1;32m    270\u001b[0m                             index_dtype\u001b[38;5;241m=\u001b[39mindex_dtype),\n\u001b[1;32m    271\u001b[0m             shape\u001b[38;5;241m=\u001b[39mmat\u001b[38;5;241m.\u001b[39mshape, indices_sorted\u001b[38;5;241m=\u001b[39m\u001b[38;5;28;01mTrue\u001b[39;00m, unique_indices\u001b[38;5;241m=\u001b[39m\u001b[38;5;28;01mTrue\u001b[39;00m)\n",
      "File \u001b[0;32m/opt/miniconda3/envs/jax-framework/lib/python3.9/site-packages/jax/_src/core.py:1492\u001b[0m, in \u001b[0;36mconcrete_or_error\u001b[0;34m(force, val, context)\u001b[0m\n\u001b[1;32m   1491\u001b[0m   \u001b[38;5;28;01melse\u001b[39;00m:\n\u001b[0;32m-> 1492\u001b[0m     \u001b[38;5;28;01mraise\u001b[39;00m ConcretizationTypeError(val, context)\n\u001b[1;32m   1493\u001b[0m \u001b[38;5;28;01melse\u001b[39;00m:\n",
      "\u001b[0;31mConcretizationTypeError\u001b[0m: Abstract tracer value encountered where concrete value is expected: traced array with shape int64[].\n\nThe error arose for the nse argument of bcoo_fromdense. In order for\nBCOO.fromdense() to be used in traced/compiled code, you must pass a concrete\nvalue to the nse (number of stored elements) argument.\n\nThe error occurred while tracing the function _fn at /opt/miniconda3/envs/jax-framework/lib/python3.9/site-packages/equinox/_eval_shape.py:31 for jit. This value became a tracer due to JAX operations on these lines:\n\n  operation a\u001b[35m:c128[]\u001b[39m = convert_element_type[new_dtype=complex128 weak_type=False] b\n    from line /Users/phionx/Github/qc/EQuS/bosonic/jax/jaxquantum/jaxquantum/core/solvers.py:271 (<lambda>)\n\n  operation a\u001b[35m:bool[100,100]\u001b[39m = ne b c\n    from line /Users/phionx/Github/qc/EQuS/bosonic/jax/jaxquantum/jaxquantum/core/solvers.py:271 (<lambda>)\n\n  operation a\u001b[35m:i64[]\u001b[39m = convert_element_type[new_dtype=int64 weak_type=False] b\n    from line /Users/phionx/Github/qc/EQuS/bosonic/jax/jaxquantum/jaxquantum/core/solvers.py:271 (<lambda>)\n\nSee https://jax.readthedocs.io/en/latest/errors.html#jax.errors.ConcretizationTypeError",
      "\nDuring handling of the above exception, another exception occurred:\n",
      "\u001b[0;31mValueError\u001b[0m                                Traceback (most recent call last)",
      "File \u001b[0;32m/opt/miniconda3/envs/jax-framework/lib/python3.9/site-packages/diffrax/_integrate.py:194\u001b[0m, in \u001b[0;36m_assert_term_compatible\u001b[0;34m(y, args, terms, term_structure, contr_kwargs)\u001b[0m\n\u001b[1;32m    193\u001b[0m     \u001b[38;5;28;01mwith\u001b[39;00m jax\u001b[38;5;241m.\u001b[39mnumpy_dtype_promotion(\u001b[38;5;124m\"\u001b[39m\u001b[38;5;124mstandard\u001b[39m\u001b[38;5;124m\"\u001b[39m):\n\u001b[0;32m--> 194\u001b[0m         \u001b[43mjtu\u001b[49m\u001b[38;5;241;43m.\u001b[39;49m\u001b[43mtree_map\u001b[49m\u001b[43m(\u001b[49m\u001b[43m_check\u001b[49m\u001b[43m,\u001b[49m\u001b[43m \u001b[49m\u001b[43mterm_structure\u001b[49m\u001b[43m,\u001b[49m\u001b[43m \u001b[49m\u001b[43mterms\u001b[49m\u001b[43m,\u001b[49m\u001b[43m \u001b[49m\u001b[43mcontr_kwargs\u001b[49m\u001b[43m,\u001b[49m\u001b[43m \u001b[49m\u001b[43my\u001b[49m\u001b[43m)\u001b[49m\n\u001b[1;32m    195\u001b[0m \u001b[38;5;28;01mexcept\u001b[39;00m \u001b[38;5;167;01mException\u001b[39;00m \u001b[38;5;28;01mas\u001b[39;00m e:\n\u001b[1;32m    196\u001b[0m     \u001b[38;5;66;03m# ValueError may also arise from mismatched tree structures\u001b[39;00m\n",
      "File \u001b[0;32m/opt/miniconda3/envs/jax-framework/lib/python3.9/site-packages/jax/_src/tree_util.py:320\u001b[0m, in \u001b[0;36mtree_map\u001b[0;34m(f, tree, is_leaf, *rest)\u001b[0m\n\u001b[1;32m    319\u001b[0m all_leaves \u001b[38;5;241m=\u001b[39m [leaves] \u001b[38;5;241m+\u001b[39m [treedef\u001b[38;5;241m.\u001b[39mflatten_up_to(r) \u001b[38;5;28;01mfor\u001b[39;00m r \u001b[38;5;129;01min\u001b[39;00m rest]\n\u001b[0;32m--> 320\u001b[0m \u001b[38;5;28;01mreturn\u001b[39;00m \u001b[43mtreedef\u001b[49m\u001b[38;5;241;43m.\u001b[39;49m\u001b[43munflatten\u001b[49m\u001b[43m(\u001b[49m\u001b[43mf\u001b[49m\u001b[43m(\u001b[49m\u001b[38;5;241;43m*\u001b[39;49m\u001b[43mxs\u001b[49m\u001b[43m)\u001b[49m\u001b[43m \u001b[49m\u001b[38;5;28;43;01mfor\u001b[39;49;00m\u001b[43m \u001b[49m\u001b[43mxs\u001b[49m\u001b[43m \u001b[49m\u001b[38;5;129;43;01min\u001b[39;49;00m\u001b[43m \u001b[49m\u001b[38;5;28;43mzip\u001b[39;49m\u001b[43m(\u001b[49m\u001b[38;5;241;43m*\u001b[39;49m\u001b[43mall_leaves\u001b[49m\u001b[43m)\u001b[49m\u001b[43m)\u001b[49m\n",
      "File \u001b[0;32m/opt/miniconda3/envs/jax-framework/lib/python3.9/site-packages/jax/_src/tree_util.py:320\u001b[0m, in \u001b[0;36m<genexpr>\u001b[0;34m(.0)\u001b[0m\n\u001b[1;32m    319\u001b[0m all_leaves \u001b[38;5;241m=\u001b[39m [leaves] \u001b[38;5;241m+\u001b[39m [treedef\u001b[38;5;241m.\u001b[39mflatten_up_to(r) \u001b[38;5;28;01mfor\u001b[39;00m r \u001b[38;5;129;01min\u001b[39;00m rest]\n\u001b[0;32m--> 320\u001b[0m \u001b[38;5;28;01mreturn\u001b[39;00m treedef\u001b[38;5;241m.\u001b[39munflatten(\u001b[43mf\u001b[49m\u001b[43m(\u001b[49m\u001b[38;5;241;43m*\u001b[39;49m\u001b[43mxs\u001b[49m\u001b[43m)\u001b[49m \u001b[38;5;28;01mfor\u001b[39;00m xs \u001b[38;5;129;01min\u001b[39;00m \u001b[38;5;28mzip\u001b[39m(\u001b[38;5;241m*\u001b[39mall_leaves))\n",
      "File \u001b[0;32m/opt/miniconda3/envs/jax-framework/lib/python3.9/site-packages/diffrax/_integrate.py:170\u001b[0m, in \u001b[0;36m_assert_term_compatible.<locals>._check\u001b[0;34m(term_cls, term, term_contr_kwargs, yi)\u001b[0m\n\u001b[1;32m    169\u001b[0m \u001b[38;5;28;01mexcept\u001b[39;00m \u001b[38;5;167;01mException\u001b[39;00m \u001b[38;5;28;01mas\u001b[39;00m e:\n\u001b[0;32m--> 170\u001b[0m     \u001b[38;5;28;01mraise\u001b[39;00m \u001b[38;5;167;01mValueError\u001b[39;00m(\u001b[38;5;124mf\u001b[39m\u001b[38;5;124m\"\u001b[39m\u001b[38;5;124mError while tracing \u001b[39m\u001b[38;5;132;01m{\u001b[39;00mterm\u001b[38;5;132;01m}\u001b[39;00m\u001b[38;5;124m.vf: \u001b[39m\u001b[38;5;124m\"\u001b[39m \u001b[38;5;241m+\u001b[39m \u001b[38;5;28mstr\u001b[39m(e))\n\u001b[1;32m    171\u001b[0m vf_type_compatible \u001b[38;5;241m=\u001b[39m eqx\u001b[38;5;241m.\u001b[39mfilter_eval_shape(\n\u001b[1;32m    172\u001b[0m     better_isinstance, vf_type, vf_type_expected\n\u001b[1;32m    173\u001b[0m )\n",
      "\u001b[0;31mValueError\u001b[0m: Error while tracing ODETerm(vector_field=<function f>).vf: Abstract tracer value encountered where concrete value is expected: traced array with shape int64[].\n\nThe error arose for the nse argument of bcoo_fromdense. In order for\nBCOO.fromdense() to be used in traced/compiled code, you must pass a concrete\nvalue to the nse (number of stored elements) argument.\n\nThe error occurred while tracing the function _fn at /opt/miniconda3/envs/jax-framework/lib/python3.9/site-packages/equinox/_eval_shape.py:31 for jit. This value became a tracer due to JAX operations on these lines:\n\n  operation a\u001b[35m:c128[]\u001b[39m = convert_element_type[new_dtype=complex128 weak_type=False] b\n    from line /Users/phionx/Github/qc/EQuS/bosonic/jax/jaxquantum/jaxquantum/core/solvers.py:271 (<lambda>)\n\n  operation a\u001b[35m:bool[100,100]\u001b[39m = ne b c\n    from line /Users/phionx/Github/qc/EQuS/bosonic/jax/jaxquantum/jaxquantum/core/solvers.py:271 (<lambda>)\n\n  operation a\u001b[35m:i64[]\u001b[39m = convert_element_type[new_dtype=int64 weak_type=False] b\n    from line /Users/phionx/Github/qc/EQuS/bosonic/jax/jaxquantum/jaxquantum/core/solvers.py:271 (<lambda>)\n\nSee https://jax.readthedocs.io/en/latest/errors.html#jax.errors.ConcretizationTypeError",
      "\nThe above exception was the direct cause of the following exception:\n",
      "\u001b[0;31mValueError\u001b[0m                                Traceback (most recent call last)",
      "Cell \u001b[0;32mIn[1], line 22\u001b[0m\n\u001b[1;32m     19\u001b[0m ts \u001b[38;5;241m=\u001b[39m jnp\u001b[38;5;241m.\u001b[39mlinspace(\u001b[38;5;241m0\u001b[39m, \u001b[38;5;241m4\u001b[39m\u001b[38;5;241m*\u001b[39m\u001b[38;5;241m2\u001b[39m\u001b[38;5;241m*\u001b[39mjnp\u001b[38;5;241m.\u001b[39mpi\u001b[38;5;241m/\u001b[39momega_a, \u001b[38;5;241m101\u001b[39m) \u001b[38;5;66;03m# Time points\u001b[39;00m\n\u001b[1;32m     21\u001b[0m solver_options \u001b[38;5;241m=\u001b[39m jqt\u001b[38;5;241m.\u001b[39mSolverOptions\u001b[38;5;241m.\u001b[39mcreate(progress_meter\u001b[38;5;241m=\u001b[39m\u001b[38;5;28;01mTrue\u001b[39;00m, solver\u001b[38;5;241m=\u001b[39m\u001b[38;5;124m\"\u001b[39m\u001b[38;5;124mDopri5\u001b[39m\u001b[38;5;124m\"\u001b[39m) \n\u001b[0;32m---> 22\u001b[0m states \u001b[38;5;241m=\u001b[39m \u001b[43mjqt\u001b[49m\u001b[38;5;241;43m.\u001b[39;49m\u001b[43msesolve\u001b[49m\u001b[43m(\u001b[49m\n\u001b[1;32m     23\u001b[0m \u001b[43m    \u001b[49m\u001b[43mH0\u001b[49m\u001b[43m,\u001b[49m\u001b[43m \u001b[49m\u001b[43minitial_state\u001b[49m\u001b[43m,\u001b[49m\u001b[43m \u001b[49m\u001b[43mts\u001b[49m\u001b[43m,\u001b[49m\u001b[43m \u001b[49m\u001b[43msolver_options\u001b[49m\u001b[38;5;241;43m=\u001b[39;49m\u001b[43msolver_options\u001b[49m\u001b[43m)\u001b[49m \u001b[38;5;66;03m# solve\u001b[39;00m\n\u001b[1;32m     25\u001b[0m n_exp \u001b[38;5;241m=\u001b[39m jnp\u001b[38;5;241m.\u001b[39mreal(jqt\u001b[38;5;241m.\u001b[39moverlap(n, states)); a_exp \u001b[38;5;241m=\u001b[39m jqt\u001b[38;5;241m.\u001b[39moverlap(a, states) \u001b[38;5;66;03m# expectation values\u001b[39;00m\n\u001b[1;32m     27\u001b[0m \u001b[38;5;66;03m# Plot\u001b[39;00m\n",
      "File \u001b[0;32m~/Github/qc/EQuS/bosonic/jax/jaxquantum/jaxquantum/core/solvers.py:275\u001b[0m, in \u001b[0;36msesolve\u001b[0;34m(H, rho0, tlist, saveat_tlist, solver_options)\u001b[0m\n\u001b[1;32m    272\u001b[0m \u001b[38;5;28;01melse\u001b[39;00m:\n\u001b[1;32m    273\u001b[0m     Ht_data \u001b[38;5;241m=\u001b[39m \u001b[38;5;28;01mlambda\u001b[39;00m t: H(t)\u001b[38;5;241m.\u001b[39mdata\n\u001b[0;32m--> 275\u001b[0m ys \u001b[38;5;241m=\u001b[39m \u001b[43m_sesolve_data\u001b[49m\u001b[43m(\u001b[49m\u001b[43mHt_data\u001b[49m\u001b[43m,\u001b[49m\u001b[43m \u001b[49m\u001b[43mψ\u001b[49m\u001b[43m,\u001b[49m\u001b[43m \u001b[49m\u001b[43mtlist\u001b[49m\u001b[43m,\u001b[49m\u001b[43m \u001b[49m\u001b[43msaveat_tlist\u001b[49m\u001b[43m,\u001b[49m\n\u001b[1;32m    276\u001b[0m \u001b[43m                   \u001b[49m\u001b[43msolver_options\u001b[49m\u001b[38;5;241;43m=\u001b[39;49m\u001b[43msolver_options\u001b[49m\u001b[43m)\u001b[49m\n\u001b[1;32m    278\u001b[0m \u001b[38;5;28;01mreturn\u001b[39;00m jnp2jqt(ys, dims\u001b[38;5;241m=\u001b[39mdims)\n",
      "File \u001b[0;32m~/Github/qc/EQuS/bosonic/jax/jaxquantum/jaxquantum/core/solvers.py:312\u001b[0m, in \u001b[0;36m_sesolve_data\u001b[0;34m(H, rho0, tlist, saveat_tlist, solver_options)\u001b[0m\n\u001b[1;32m    309\u001b[0m ψ_test \u001b[38;5;241m=\u001b[39m f(\u001b[38;5;241m0\u001b[39m, ψ, \u001b[38;5;28;01mNone\u001b[39;00m)\n\u001b[1;32m    310\u001b[0m \u001b[38;5;66;03m# ψ = jnp.resize(ψ, ψ_test.shape)  # ensure correct shape\u001b[39;00m\n\u001b[0;32m--> 312\u001b[0m sol \u001b[38;5;241m=\u001b[39m \u001b[43msolve\u001b[49m\u001b[43m(\u001b[49m\u001b[43mf\u001b[49m\u001b[43m,\u001b[49m\u001b[43m \u001b[49m\u001b[43mψ\u001b[49m\u001b[43m,\u001b[49m\u001b[43m \u001b[49m\u001b[43mtlist\u001b[49m\u001b[43m,\u001b[49m\u001b[43m \u001b[49m\u001b[43msaveat_tlist\u001b[49m\u001b[43m,\u001b[49m\u001b[43m \u001b[49m\u001b[38;5;28;43;01mNone\u001b[39;49;00m\u001b[43m,\u001b[49m\u001b[43m \u001b[49m\u001b[43msolver_options\u001b[49m\u001b[38;5;241;43m=\u001b[39;49m\u001b[43msolver_options\u001b[49m\u001b[43m)\u001b[49m\n\u001b[1;32m    313\u001b[0m \u001b[38;5;28;01mreturn\u001b[39;00m sol\u001b[38;5;241m.\u001b[39mys\n",
      "File \u001b[0;32m~/Github/qc/EQuS/bosonic/jax/jaxquantum/jaxquantum/core/solvers.py:90\u001b[0m, in \u001b[0;36msolve\u001b[0;34m(f, ρ0, tlist, saveat_tlist, args, solver_options)\u001b[0m\n\u001b[1;32m     86\u001b[0m \u001b[38;5;28;01mwith\u001b[39;00m warnings\u001b[38;5;241m.\u001b[39mcatch_warnings():\n\u001b[1;32m     87\u001b[0m     warnings\u001b[38;5;241m.\u001b[39mfilterwarnings(\u001b[38;5;124m\"\u001b[39m\u001b[38;5;124mignore\u001b[39m\u001b[38;5;124m\"\u001b[39m,\n\u001b[1;32m     88\u001b[0m                             message\u001b[38;5;241m=\u001b[39m\u001b[38;5;124m\"\u001b[39m\u001b[38;5;124mComplex dtype support in Diffrax\u001b[39m\u001b[38;5;124m\"\u001b[39m,\n\u001b[1;32m     89\u001b[0m                             category\u001b[38;5;241m=\u001b[39m\u001b[38;5;167;01mUserWarning\u001b[39;00m)  \u001b[38;5;66;03m# NOTE: suppresses complex dtype warning in diffrax\u001b[39;00m\n\u001b[0;32m---> 90\u001b[0m     sol \u001b[38;5;241m=\u001b[39m \u001b[43mdiffeqsolve\u001b[49m\u001b[43m(\u001b[49m\n\u001b[1;32m     91\u001b[0m \u001b[43m        \u001b[49m\u001b[43mterm\u001b[49m\u001b[43m,\u001b[49m\n\u001b[1;32m     92\u001b[0m \u001b[43m        \u001b[49m\u001b[43msolver\u001b[49m\u001b[43m,\u001b[49m\n\u001b[1;32m     93\u001b[0m \u001b[43m        \u001b[49m\u001b[43mt0\u001b[49m\u001b[38;5;241;43m=\u001b[39;49m\u001b[43mtlist\u001b[49m\u001b[43m[\u001b[49m\u001b[38;5;241;43m0\u001b[39;49m\u001b[43m]\u001b[49m\u001b[43m,\u001b[49m\n\u001b[1;32m     94\u001b[0m \u001b[43m        \u001b[49m\u001b[43mt1\u001b[49m\u001b[38;5;241;43m=\u001b[39;49m\u001b[43mtlist\u001b[49m\u001b[43m[\u001b[49m\u001b[38;5;241;43m-\u001b[39;49m\u001b[38;5;241;43m1\u001b[39;49m\u001b[43m]\u001b[49m\u001b[43m,\u001b[49m\n\u001b[1;32m     95\u001b[0m \u001b[43m        \u001b[49m\u001b[43mdt0\u001b[49m\u001b[38;5;241;43m=\u001b[39;49m\u001b[43mtlist\u001b[49m\u001b[43m[\u001b[49m\u001b[38;5;241;43m1\u001b[39;49m\u001b[43m]\u001b[49m\u001b[43m \u001b[49m\u001b[38;5;241;43m-\u001b[39;49m\u001b[43m \u001b[49m\u001b[43mtlist\u001b[49m\u001b[43m[\u001b[49m\u001b[38;5;241;43m0\u001b[39;49m\u001b[43m]\u001b[49m\u001b[43m,\u001b[49m\n\u001b[1;32m     96\u001b[0m \u001b[43m        \u001b[49m\u001b[43my0\u001b[49m\u001b[38;5;241;43m=\u001b[39;49m\u001b[43mρ0\u001b[49m\u001b[43m,\u001b[49m\n\u001b[1;32m     97\u001b[0m \u001b[43m        \u001b[49m\u001b[43msaveat\u001b[49m\u001b[38;5;241;43m=\u001b[39;49m\u001b[43msaveat\u001b[49m\u001b[43m,\u001b[49m\n\u001b[1;32m     98\u001b[0m \u001b[43m        \u001b[49m\u001b[38;5;66;43;03m# stepsize_controller=stepsize_controller,\u001b[39;49;00m\n\u001b[1;32m     99\u001b[0m \u001b[43m        \u001b[49m\u001b[43margs\u001b[49m\u001b[38;5;241;43m=\u001b[39;49m\u001b[43margs\u001b[49m\u001b[43m,\u001b[49m\n\u001b[1;32m    100\u001b[0m \u001b[43m        \u001b[49m\u001b[38;5;66;43;03m# max_steps=solver_options.max_steps,\u001b[39;49;00m\n\u001b[1;32m    101\u001b[0m \u001b[43m        \u001b[49m\u001b[43mprogress_meter\u001b[49m\u001b[38;5;241;43m=\u001b[39;49m\u001b[43mCustomProgressMeter\u001b[49m\u001b[43m(\u001b[49m\u001b[43m)\u001b[49m\n\u001b[1;32m    102\u001b[0m \u001b[43m        \u001b[49m\u001b[38;5;28;43;01mif\u001b[39;49;00m\u001b[43m \u001b[49m\u001b[43msolver_options\u001b[49m\u001b[38;5;241;43m.\u001b[39;49m\u001b[43mprogress_meter\u001b[49m\n\u001b[1;32m    103\u001b[0m \u001b[43m        \u001b[49m\u001b[38;5;28;43;01melse\u001b[39;49;00m\u001b[43m \u001b[49m\u001b[43mNoProgressMeter\u001b[49m\u001b[43m(\u001b[49m\u001b[43m)\u001b[49m\u001b[43m,\u001b[49m\n\u001b[1;32m    104\u001b[0m \u001b[43m    \u001b[49m\u001b[43m)\u001b[49m\n\u001b[1;32m    106\u001b[0m \u001b[38;5;28;01mreturn\u001b[39;00m sol\n",
      "    \u001b[0;31m[... skipping hidden 15 frame]\u001b[0m\n",
      "File \u001b[0;32m/opt/miniconda3/envs/jax-framework/lib/python3.9/site-packages/diffrax/_integrate.py:1089\u001b[0m, in \u001b[0;36mdiffeqsolve\u001b[0;34m(terms, solver, t0, t1, dt0, y0, args, saveat, stepsize_controller, adjoint, event, max_steps, throw, progress_meter, solver_state, controller_state, made_jump, discrete_terminating_event)\u001b[0m\n\u001b[1;32m   1086\u001b[0m         terms \u001b[38;5;241m=\u001b[39m MultiTerm(\u001b[38;5;241m*\u001b[39mterms)\n\u001b[1;32m   1088\u001b[0m \u001b[38;5;66;03m# Error checking for term compatibility\u001b[39;00m\n\u001b[0;32m-> 1089\u001b[0m \u001b[43m_assert_term_compatible\u001b[49m\u001b[43m(\u001b[49m\n\u001b[1;32m   1090\u001b[0m \u001b[43m    \u001b[49m\u001b[43my0\u001b[49m\u001b[43m,\u001b[49m\n\u001b[1;32m   1091\u001b[0m \u001b[43m    \u001b[49m\u001b[43margs\u001b[49m\u001b[43m,\u001b[49m\n\u001b[1;32m   1092\u001b[0m \u001b[43m    \u001b[49m\u001b[43mterms\u001b[49m\u001b[43m,\u001b[49m\n\u001b[1;32m   1093\u001b[0m \u001b[43m    \u001b[49m\u001b[43msolver\u001b[49m\u001b[38;5;241;43m.\u001b[39;49m\u001b[43mterm_structure\u001b[49m\u001b[43m,\u001b[49m\n\u001b[1;32m   1094\u001b[0m \u001b[43m    \u001b[49m\u001b[43msolver\u001b[49m\u001b[38;5;241;43m.\u001b[39;49m\u001b[43mterm_compatible_contr_kwargs\u001b[49m\u001b[43m,\u001b[49m\n\u001b[1;32m   1095\u001b[0m \u001b[43m\u001b[49m\u001b[43m)\u001b[49m\n\u001b[1;32m   1097\u001b[0m \u001b[38;5;28;01mif\u001b[39;00m is_sde(terms):\n\u001b[1;32m   1098\u001b[0m     \u001b[38;5;28;01mif\u001b[39;00m \u001b[38;5;129;01mnot\u001b[39;00m \u001b[38;5;28misinstance\u001b[39m(solver, (AbstractItoSolver, AbstractStratonovichSolver)):\n",
      "File \u001b[0;32m/opt/miniconda3/envs/jax-framework/lib/python3.9/site-packages/diffrax/_integrate.py:197\u001b[0m, in \u001b[0;36m_assert_term_compatible\u001b[0;34m(y, args, terms, term_structure, contr_kwargs)\u001b[0m\n\u001b[1;32m    194\u001b[0m         jtu\u001b[38;5;241m.\u001b[39mtree_map(_check, term_structure, terms, contr_kwargs, y)\n\u001b[1;32m    195\u001b[0m \u001b[38;5;28;01mexcept\u001b[39;00m \u001b[38;5;167;01mException\u001b[39;00m \u001b[38;5;28;01mas\u001b[39;00m e:\n\u001b[1;32m    196\u001b[0m     \u001b[38;5;66;03m# ValueError may also arise from mismatched tree structures\u001b[39;00m\n\u001b[0;32m--> 197\u001b[0m     \u001b[38;5;28;01mraise\u001b[39;00m \u001b[38;5;167;01mValueError\u001b[39;00m(\u001b[38;5;124m\"\u001b[39m\u001b[38;5;124mTerms are not compatible with solver!\u001b[39m\u001b[38;5;124m\"\u001b[39m) \u001b[38;5;28;01mfrom\u001b[39;00m \u001b[38;5;21;01me\u001b[39;00m\n",
      "\u001b[0;31mValueError\u001b[0m: Terms are not compatible with solver!"
     ]
    }
   ],
   "source": [
    "%load_ext autoreload\n",
    "%autoreload 2\n",
    "\n",
    "from jax import jit\n",
    "import jaxquantum as jqt \n",
    "import jax.numpy as jnp\n",
    "import matplotlib.pyplot as plt\n",
    "\n",
    "N = 100\n",
    "a = jqt.destroy(N); n = a.dag() @ a\n",
    "\n",
    "omega_a = 2.0*jnp.pi*5.0; H0 = omega_a*n # Hamiltonian\n",
    "\n",
    "kappa = 2*jnp.pi*1.0; batched_loss_op = jnp.sqrt(kappa)*a; \n",
    "c_ops = jqt.Qarray.from_list([batched_loss_op]) # collapse operators\n",
    "\n",
    "initial_state = (jqt.displace(N, 0.1) @ jqt.basis(N,0)) # initial state\n",
    "\n",
    "ts = jnp.linspace(0, 4*2*jnp.pi/omega_a, 101) # Time points\n",
    "\n",
    "solver_options = jqt.SolverOptions.create(progress_meter=True, solver=\"Dopri5\") \n",
    "states = jqt.sesolve(\n",
    "    H0, initial_state, ts, solver_options=solver_options) # solve\n",
    "\n",
    "n_exp = jnp.real(jqt.overlap(n, states)); a_exp = jqt.overlap(a, states) # expectation values\n",
    "\n",
    "# Plot\n",
    "\n",
    "fig, axs = plt.subplots(2,1, dpi=200, figsize=(6,5))\n",
    "ax = axs[0]\n",
    "ax.plot(ts, jnp.real(a_exp)[:], label=r\"$Re[\\langle a(t)\\rangle]$\", color=\"blue\") # Batch kappa value 0\n",
    "ax.plot(ts, jnp.imag(a_exp)[:], label=r\"$Im[\\langle a(t)\\rangle]$\", color=\"red\") # Batch kappa value 0\n",
    "ax.set_xlabel(\"Time (ns)\")\n",
    "ax.set_ylabel(\"Expectations\")\n",
    "ax.legend()\n",
    "\n",
    "ax = axs[1]\n",
    "ax.plot(ts, n_exp[:], label=r\"$Re[\\langle n(t)\\rangle]$\", color=\"green\") # Batch kappa value 0\n",
    "ax.set_xlabel(\"Time (ns)\")\n",
    "ax.set_ylabel(\"Expectations\")\n",
    "ax.legend()\n",
    "fig.tight_layout()"
   ]
  },
  {
   "cell_type": "code",
   "execution_count": null,
   "id": "3bd67985",
   "metadata": {},
   "outputs": [
    {
     "name": "stderr",
     "output_type": "stream",
     "text": [
      "/opt/miniconda3/envs/jax-framework/lib/python3.9/site-packages/equinox/_jit.py:55: UserWarning: Complex dtype support in Diffrax is a work in progress and may not yet produce correct results. Consider splitting your computation into real and imaginary parts instead.\n",
      "  out = fun(*args, **kwargs)\n"
     ]
    }
   ],
   "source": [
    "import jax\n",
    "import jax.numpy as jnp\n",
    "import jax.experimental.sparse as jsparse\n",
    "import diffrax\n",
    "\n",
    "# Build sparse Hamiltonian (1D Laplacian with Dirichlet BCs)\n",
    "def make_hamiltonian(N, L=1.0):\n",
    "    dx = L / (N+1)\n",
    "    diag = -2.0 * jnp.ones(N)\n",
    "    offdiag = jnp.ones(N-1)\n",
    "    H_dense = (1.0 / (2.0 * dx * dx)) * (\n",
    "        jnp.diag(diag) + jnp.diag(offdiag, 1) + jnp.diag(offdiag, -1)\n",
    "    )\n",
    "    return jsparse.BCOO.fromdense(H_dense)\n",
    "\n",
    "# RHS of the TDSE: dψ/dt = -i H ψ\n",
    "def schrodinger_rhs(t, psi, H):\n",
    "    return -1j * (H @ psi)\n",
    "\n",
    "# Parameters\n",
    "N = 100\n",
    "L = 1.0\n",
    "H_sparse = make_hamiltonian(N, L)\n",
    "\n",
    "# Initial wavefunction: Gaussian packet centered in the box\n",
    "x = jnp.linspace(0, L, N+2)[1:-1]  # exclude boundaries\n",
    "psi0 = jnp.exp(-200 * (x - 0.5*L)**2) + 0j\n",
    "\n",
    "# Setup ODE solver\n",
    "term = diffrax.ODETerm(schrodinger_rhs)\n",
    "solver = diffrax.Dopri5()\n",
    "\n",
    "sol = diffrax.diffeqsolve(\n",
    "    term,\n",
    "    solver,\n",
    "    t0=0.0,\n",
    "    t1=0.05,\n",
    "    dt0=1e-4,\n",
    "    y0=psi0,\n",
    "    args=H_sparse,\n",
    "    saveat=diffrax.SaveAt(ts=jnp.linspace(0, 0.05, 20)),\n",
    ")\n",
    "\n",
    "# sol.ys is an array of shape (20, N) with the wavefunction at each time\n"
   ]
  },
  {
   "cell_type": "code",
   "execution_count": null,
   "id": "57f62dc8",
   "metadata": {},
   "outputs": [],
   "source": []
  }
 ],
 "metadata": {
  "kernelspec": {
   "display_name": "jax-framework",
   "language": "python",
   "name": "python3"
  },
  "language_info": {
   "codemirror_mode": {
    "name": "ipython",
    "version": 3
   },
   "file_extension": ".py",
   "mimetype": "text/x-python",
   "name": "python",
   "nbconvert_exporter": "python",
   "pygments_lexer": "ipython3",
   "version": "3.9.18"
  }
 },
 "nbformat": 4,
 "nbformat_minor": 5
}
