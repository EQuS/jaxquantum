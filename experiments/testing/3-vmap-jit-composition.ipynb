{
 "cells": [
  {
   "cell_type": "code",
   "execution_count": 1,
   "id": "31e9239d",
   "metadata": {},
   "outputs": [],
   "source": [
    "%load_ext autoreload\n",
    "%autoreload 2"
   ]
  },
  {
   "cell_type": "code",
   "execution_count": 7,
   "id": "32aaa4b2",
   "metadata": {},
   "outputs": [],
   "source": [
    "from jax import jit, vmap\n",
    "import jaxquantum as jqt \n",
    "import jax.numpy as jnp\n",
    "import matplotlib.pyplot as plt\n",
    "\n",
    "\n",
    "\n",
    "def f_jit(f_a):\n",
    "    N = 100\n",
    "    a = jqt.destroy(N); n = a.dag() @ a\n",
    "\n",
    "    omega_a = 2.0*jnp.pi*f_a; H0 = omega_a*n # Hamiltonian\n",
    "\n",
    "    kappa = 2*jnp.pi*jnp.array([1,2]); batched_loss_op = jnp.sqrt(kappa)*a; \n",
    "    c_ops = jqt.Qarray.from_list([batched_loss_op]) # collapse operators\n",
    "\n",
    "    initial_state = (jqt.displace(N, 0.1) @ jqt.basis(N,0)).to_dm() # initial state\n",
    "\n",
    "    ts = jnp.linspace(0, 4*2*jnp.pi/omega_a, 101) # Time points\n",
    "\n",
    "    solver_options = jqt.SolverOptions.create(progress_meter=False) \n",
    "    states = jit(jqt.mesolve, static_argnums=(5))(\n",
    "        H0, initial_state, ts, c_ops=c_ops, solver_options=solver_options) # solve\n",
    "\n",
    "    a_exp = jqt.overlap(a, states) # expectation values\n",
    "\n",
    "    return a_exp\n",
    "\n",
    "\n",
    "def f(f_a):\n",
    "    N = 100\n",
    "    a = jqt.destroy(N); n = a.dag() @ a\n",
    "\n",
    "    omega_a = 2.0*jnp.pi*f_a; H0 = omega_a*n # Hamiltonian\n",
    "\n",
    "    kappa = 2*jnp.pi*jnp.array([1,2]); batched_loss_op = jnp.sqrt(kappa)*a; \n",
    "    c_ops = jqt.Qarray.from_list([batched_loss_op]) # collapse operators\n",
    "\n",
    "    initial_state = (jqt.displace(N, 0.1) @ jqt.basis(N,0)).to_dm() # initial state\n",
    "\n",
    "    ts = jnp.linspace(0, 4*2*jnp.pi/omega_a, 101) # Time points\n",
    "\n",
    "    solver_options = jqt.SolverOptions.create(progress_meter=False) \n",
    "    states = jqt.mesolve(\n",
    "        H0, initial_state, ts, c_ops=c_ops, solver_options=solver_options) # solve\n",
    "\n",
    "    a_exp = jqt.overlap(a, states) # expectation values\n",
    "\n",
    "    return a_exp\n",
    "\n",
    "vmap_f_jit = vmap(f_jit)\n",
    "jit_vmap_f = jit(vmap(f))\n",
    "jit_vmap_f_jit = jit(vmap(f_jit))\n",
    "jit_vmap_jit_f_jit = jit(vmap(jit(f_jit)))"
   ]
  },
  {
   "cell_type": "code",
   "execution_count": 3,
   "id": "8d4fa5a3",
   "metadata": {},
   "outputs": [],
   "source": [
    "f_as = jnp.linspace(4.5,5.5,21)"
   ]
  },
  {
   "cell_type": "code",
   "execution_count": 5,
   "id": "5fdd6faa",
   "metadata": {},
   "outputs": [
    {
     "name": "stdout",
     "output_type": "stream",
     "text": [
      "7.83 s ± 0 ns per loop (mean ± std. dev. of 1 run, 1 loop each)\n"
     ]
    }
   ],
   "source": [
    "%timeit -n1 -r1 jit_vmap_f(f_as).block_until_ready()"
   ]
  },
  {
   "cell_type": "code",
   "execution_count": 4,
   "id": "744c17d6",
   "metadata": {},
   "outputs": [
    {
     "name": "stdout",
     "output_type": "stream",
     "text": [
      "8.16 s ± 0 ns per loop (mean ± std. dev. of 1 run, 1 loop each)\n"
     ]
    }
   ],
   "source": [
    "%timeit -n1 -r1 jit_vmap_f_jit(f_as).block_until_ready()"
   ]
  },
  {
   "cell_type": "code",
   "execution_count": 6,
   "id": "cb8b3798",
   "metadata": {},
   "outputs": [
    {
     "name": "stdout",
     "output_type": "stream",
     "text": [
      "9.27 s ± 0 ns per loop (mean ± std. dev. of 1 run, 1 loop each)\n"
     ]
    }
   ],
   "source": [
    "%timeit -n1 -r1 vmap_f_jit(f_as).block_until_ready()"
   ]
  },
  {
   "cell_type": "code",
   "execution_count": 8,
   "id": "a5e2f9aa",
   "metadata": {},
   "outputs": [
    {
     "name": "stdout",
     "output_type": "stream",
     "text": [
      "7.36 s ± 0 ns per loop (mean ± std. dev. of 1 run, 1 loop each)\n"
     ]
    }
   ],
   "source": [
    "%timeit -n1 -r1 jit_vmap_jit_f_jit(f_as).block_until_ready()"
   ]
  }
 ],
 "metadata": {
  "kernelspec": {
   "display_name": "jaxquantum-env",
   "language": "python",
   "name": "python3"
  },
  "language_info": {
   "codemirror_mode": {
    "name": "ipython",
    "version": 3
   },
   "file_extension": ".py",
   "mimetype": "text/x-python",
   "name": "python",
   "nbconvert_exporter": "python",
   "pygments_lexer": "ipython3",
   "version": "3.13.2"
  }
 },
 "nbformat": 4,
 "nbformat_minor": 5
}
