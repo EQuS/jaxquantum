{
 "cells": [
  {
   "cell_type": "code",
   "execution_count": 26,
   "id": "04341a70-5072-4642-9892-37472de7eccb",
   "metadata": {},
   "outputs": [],
   "source": [
    "from jax.experimental import sparse\n",
    "from jax import jit, grad\n",
    "import jax.numpy as jnp\n",
    "import numpy as np"
   ]
  },
  {
   "cell_type": "code",
   "execution_count": 27,
   "id": "f6747c9c-5cde-4605-b8fa-2ead27c1de45",
   "metadata": {},
   "outputs": [],
   "source": [
    "M = jnp.array([[0., 1., 0., 2.],\n",
    "               [3., 0., 0., 0.],\n",
    "               [0., 0., 4., 0.]])\n",
    "\n",
    "b = jnp.array([0,1,2,3])"
   ]
  },
  {
   "cell_type": "code",
   "execution_count": 28,
   "id": "f252d38d-a36c-4e3c-97f4-e7a3f9446de0",
   "metadata": {},
   "outputs": [],
   "source": [
    "M_sp = sparse.BCOO.fromdense(M)"
   ]
  },
  {
   "cell_type": "code",
   "execution_count": null,
   "id": "935a0489-2fd6-4196-8e1e-9a981b2b3e03",
   "metadata": {},
   "outputs": [],
   "source": [
    "def test_f(M_sp):\n",
    "    return jnp.kron("
   ]
  },
  {
   "cell_type": "code",
   "execution_count": 53,
   "id": "e605eb39-0c84-479c-9659-b270697f57ee",
   "metadata": {},
   "outputs": [
    {
     "ename": "NonConcreteBooleanIndexError",
     "evalue": "Array boolean indices must be concrete; got ShapedArray(bool[16])\n\nSee https://jax.readthedocs.io/en/latest/errors.html#jax.errors.NonConcreteBooleanIndexError",
     "output_type": "error",
     "traceback": [
      "\u001b[0;31m---------------------------------------------------------------------------\u001b[0m",
      "\u001b[0;31mNonConcreteBooleanIndexError\u001b[0m              Traceback (most recent call last)",
      "Input \u001b[0;32mIn [53]\u001b[0m, in \u001b[0;36m<cell line: 1>\u001b[0;34m()\u001b[0m\n\u001b[0;32m----> 1\u001b[0m \u001b[43msparse\u001b[49m\u001b[38;5;241;43m.\u001b[39;49m\u001b[43msparsify\u001b[49m\u001b[43m(\u001b[49m\u001b[43mjnp\u001b[49m\u001b[38;5;241;43m.\u001b[39;49m\u001b[43mkron\u001b[49m\u001b[43m)\u001b[49m\u001b[43m(\u001b[49m\u001b[43mM_sp\u001b[49m\u001b[43m,\u001b[49m\u001b[43m \u001b[49m\u001b[43mM_sp\u001b[49m\u001b[43m)\u001b[49m\n",
      "File \u001b[0;32m~/miniconda3/envs/bosonic-jax-env/lib/python3.10/site-packages/jax/experimental/sparse/transform.py:421\u001b[0m, in \u001b[0;36m_sparsify_with_interpreter.<locals>.wrapped\u001b[0;34m(*args, **params)\u001b[0m\n\u001b[1;32m    419\u001b[0m spenv \u001b[38;5;241m=\u001b[39m SparsifyEnv()\n\u001b[1;32m    420\u001b[0m spvalues \u001b[38;5;241m=\u001b[39m arrays_to_spvalues(spenv, args)\n\u001b[0;32m--> 421\u001b[0m spvalues_out, out_tree \u001b[38;5;241m=\u001b[39m \u001b[43mf_raw\u001b[49m\u001b[43m(\u001b[49m\u001b[43mspenv\u001b[49m\u001b[43m,\u001b[49m\u001b[43m \u001b[49m\u001b[38;5;241;43m*\u001b[39;49m\u001b[43mspvalues\u001b[49m\u001b[43m,\u001b[49m\u001b[43m \u001b[49m\u001b[38;5;241;43m*\u001b[39;49m\u001b[38;5;241;43m*\u001b[39;49m\u001b[43mparams\u001b[49m\u001b[43m)\u001b[49m\n\u001b[1;32m    422\u001b[0m out \u001b[38;5;241m=\u001b[39m spvalues_to_arrays(spenv, spvalues_out)\n\u001b[1;32m    423\u001b[0m \u001b[38;5;28;01mreturn\u001b[39;00m tree_unflatten(out_tree, out)\n",
      "File \u001b[0;32m~/miniconda3/envs/bosonic-jax-env/lib/python3.10/site-packages/jax/experimental/sparse/transform.py:407\u001b[0m, in \u001b[0;36msparsify_raw.<locals>.wrapped\u001b[0;34m(spenv, *spvalues, **params)\u001b[0m\n\u001b[1;32m    405\u001b[0m wrapped_fun, out_tree \u001b[38;5;241m=\u001b[39m flatten_fun_nokwargs(lu\u001b[38;5;241m.\u001b[39mwrap_init(f, params), in_tree)\n\u001b[1;32m    406\u001b[0m jaxpr, out_avals_flat, consts \u001b[38;5;241m=\u001b[39m pe\u001b[38;5;241m.\u001b[39mtrace_to_jaxpr_dynamic(wrapped_fun, in_avals_flat)\n\u001b[0;32m--> 407\u001b[0m result \u001b[38;5;241m=\u001b[39m \u001b[43meval_sparse\u001b[49m\u001b[43m(\u001b[49m\u001b[43mjaxpr\u001b[49m\u001b[43m,\u001b[49m\u001b[43m \u001b[49m\u001b[43mconsts\u001b[49m\u001b[43m,\u001b[49m\u001b[43m \u001b[49m\u001b[43mspvalues_flat\u001b[49m\u001b[43m,\u001b[49m\u001b[43m \u001b[49m\u001b[43mspenv\u001b[49m\u001b[43m)\u001b[49m\n\u001b[1;32m    408\u001b[0m \u001b[38;5;28;01mif\u001b[39;00m \u001b[38;5;28mlen\u001b[39m(out_avals_flat) \u001b[38;5;241m!=\u001b[39m \u001b[38;5;28mlen\u001b[39m(result):\n\u001b[1;32m    409\u001b[0m   \u001b[38;5;28;01mraise\u001b[39;00m \u001b[38;5;167;01mException\u001b[39;00m(\u001b[38;5;124m\"\u001b[39m\u001b[38;5;124mInternal: eval_sparse does not return expected number of arguments. \u001b[39m\u001b[38;5;124m\"\u001b[39m\n\u001b[1;32m    410\u001b[0m                   \u001b[38;5;124m\"\u001b[39m\u001b[38;5;124mGot \u001b[39m\u001b[38;5;132;01m{result}\u001b[39;00m\u001b[38;5;124m for avals \u001b[39m\u001b[38;5;132;01m{out_avals_flat}\u001b[39;00m\u001b[38;5;124m\"\u001b[39m)\n",
      "File \u001b[0;32m~/miniconda3/envs/bosonic-jax-env/lib/python3.10/site-packages/jax/experimental/sparse/transform.py:380\u001b[0m, in \u001b[0;36meval_sparse\u001b[0;34m(jaxpr, consts, spvalues, spenv)\u001b[0m\n\u001b[1;32m    378\u001b[0m   \u001b[38;5;28;01mif\u001b[39;00m prim \u001b[38;5;129;01mnot\u001b[39;00m \u001b[38;5;129;01min\u001b[39;00m sparse_rules:\n\u001b[1;32m    379\u001b[0m     _raise_unimplemented_primitive(prim)\n\u001b[0;32m--> 380\u001b[0m   out \u001b[38;5;241m=\u001b[39m \u001b[43msparse_rules\u001b[49m\u001b[43m[\u001b[49m\u001b[43mprim\u001b[49m\u001b[43m]\u001b[49m\u001b[43m(\u001b[49m\u001b[43mspenv\u001b[49m\u001b[43m,\u001b[49m\u001b[43m \u001b[49m\u001b[38;5;241;43m*\u001b[39;49m\u001b[43minvals\u001b[49m\u001b[43m,\u001b[49m\u001b[43m \u001b[49m\u001b[38;5;241;43m*\u001b[39;49m\u001b[38;5;241;43m*\u001b[39;49m\u001b[43meqn\u001b[49m\u001b[38;5;241;43m.\u001b[39;49m\u001b[43mparams\u001b[49m\u001b[43m)\u001b[49m\n\u001b[1;32m    381\u001b[0m \u001b[38;5;28;01melse\u001b[39;00m:\n\u001b[1;32m    382\u001b[0m   \u001b[38;5;28;01mif\u001b[39;00m prim \u001b[38;5;129;01mis\u001b[39;00m xla\u001b[38;5;241m.\u001b[39mxla_call_p:\n\u001b[1;32m    383\u001b[0m     \u001b[38;5;66;03m# TODO(vanderplas,frostig): workaround for binding call primitives\u001b[39;00m\n\u001b[1;32m    384\u001b[0m     \u001b[38;5;66;03m# within a jaxpr interpreter\u001b[39;00m\n",
      "File \u001b[0;32m~/miniconda3/envs/bosonic-jax-env/lib/python3.10/site-packages/jax/experimental/sparse/transform.py:686\u001b[0m, in \u001b[0;36m_xla_call_sparse\u001b[0;34m(spenv, call_jaxpr, donated_invars, *spvalues, **params)\u001b[0m\n\u001b[1;32m    684\u001b[0m \u001b[38;5;28;01mif\u001b[39;00m \u001b[38;5;28many\u001b[39m(donated_invars):\n\u001b[1;32m    685\u001b[0m   \u001b[38;5;28;01mraise\u001b[39;00m \u001b[38;5;167;01mNotImplementedError\u001b[39;00m(\u001b[38;5;124m\"\u001b[39m\u001b[38;5;124msparse xla_call with donated_invars\u001b[39m\u001b[38;5;124m\"\u001b[39m)\n\u001b[0;32m--> 686\u001b[0m sp_call_jaxpr, out_tree \u001b[38;5;241m=\u001b[39m \u001b[43m_sparsify_jaxpr\u001b[49m\u001b[43m(\u001b[49m\u001b[43mspenv\u001b[49m\u001b[43m,\u001b[49m\u001b[43m \u001b[49m\u001b[43mpe\u001b[49m\u001b[38;5;241;43m.\u001b[39;49m\u001b[43mClosedJaxpr\u001b[49m\u001b[43m(\u001b[49m\u001b[43mcall_jaxpr\u001b[49m\u001b[43m,\u001b[49m\u001b[43m \u001b[49m\u001b[43m(\u001b[49m\u001b[43m)\u001b[49m\u001b[43m)\u001b[49m\u001b[43m,\u001b[49m\u001b[43m \u001b[49m\u001b[38;5;241;43m*\u001b[39;49m\u001b[43mspvalues\u001b[49m\u001b[43m)\u001b[49m\n\u001b[1;32m    687\u001b[0m fun \u001b[38;5;241m=\u001b[39m lu\u001b[38;5;241m.\u001b[39mwrap_init(core\u001b[38;5;241m.\u001b[39mjaxpr_as_fun(sp_call_jaxpr))\n\u001b[1;32m    688\u001b[0m args_flat, _ \u001b[38;5;241m=\u001b[39m tree_flatten(spvalues_to_arrays(spenv, spvalues))\n",
      "File \u001b[0;32m~/miniconda3/envs/bosonic-jax-env/lib/python3.10/site-packages/jax/experimental/sparse/transform.py:661\u001b[0m, in \u001b[0;36m_sparsify_jaxpr\u001b[0;34m(spenv, jaxpr, *spvalues)\u001b[0m\n\u001b[1;32m    659\u001b[0m args_flat, in_tree \u001b[38;5;241m=\u001b[39m tree_flatten(args)\n\u001b[1;32m    660\u001b[0m avals_flat \u001b[38;5;241m=\u001b[39m [core\u001b[38;5;241m.\u001b[39mraise_to_shaped(core\u001b[38;5;241m.\u001b[39mget_aval(arg)) \u001b[38;5;28;01mfor\u001b[39;00m arg \u001b[38;5;129;01min\u001b[39;00m args_flat]\n\u001b[0;32m--> 661\u001b[0m sp_jaxpr, _, consts \u001b[38;5;241m=\u001b[39m \u001b[43mpe\u001b[49m\u001b[38;5;241;43m.\u001b[39;49m\u001b[43mtrace_to_jaxpr_dynamic\u001b[49m\u001b[43m(\u001b[49m\u001b[43mwrapped\u001b[49m\u001b[43m,\u001b[49m\u001b[43m \u001b[49m\u001b[43mavals_flat\u001b[49m\u001b[43m)\u001b[49m\n\u001b[1;32m    662\u001b[0m sp_jaxpr \u001b[38;5;241m=\u001b[39m pe\u001b[38;5;241m.\u001b[39mClosedJaxpr(sp_jaxpr, consts)\n\u001b[1;32m    663\u001b[0m \u001b[38;5;28;01mreturn\u001b[39;00m sp_jaxpr, out_tree\n",
      "File \u001b[0;32m~/miniconda3/envs/bosonic-jax-env/lib/python3.10/site-packages/jax/_src/profiler.py:312\u001b[0m, in \u001b[0;36mannotate_function.<locals>.wrapper\u001b[0;34m(*args, **kwargs)\u001b[0m\n\u001b[1;32m    309\u001b[0m \u001b[38;5;129m@wraps\u001b[39m(func)\n\u001b[1;32m    310\u001b[0m \u001b[38;5;28;01mdef\u001b[39;00m \u001b[38;5;21mwrapper\u001b[39m(\u001b[38;5;241m*\u001b[39margs, \u001b[38;5;241m*\u001b[39m\u001b[38;5;241m*\u001b[39mkwargs):\n\u001b[1;32m    311\u001b[0m   \u001b[38;5;28;01mwith\u001b[39;00m TraceAnnotation(name, \u001b[38;5;241m*\u001b[39m\u001b[38;5;241m*\u001b[39mdecorator_kwargs):\n\u001b[0;32m--> 312\u001b[0m     \u001b[38;5;28;01mreturn\u001b[39;00m \u001b[43mfunc\u001b[49m\u001b[43m(\u001b[49m\u001b[38;5;241;43m*\u001b[39;49m\u001b[43margs\u001b[49m\u001b[43m,\u001b[49m\u001b[43m \u001b[49m\u001b[38;5;241;43m*\u001b[39;49m\u001b[38;5;241;43m*\u001b[39;49m\u001b[43mkwargs\u001b[49m\u001b[43m)\u001b[49m\n\u001b[1;32m    313\u001b[0m   \u001b[38;5;28;01mreturn\u001b[39;00m wrapper\n",
      "File \u001b[0;32m~/miniconda3/envs/bosonic-jax-env/lib/python3.10/site-packages/jax/interpreters/partial_eval.py:1877\u001b[0m, in \u001b[0;36mtrace_to_jaxpr_dynamic\u001b[0;34m(fun, in_avals, debug_info, keep_inputs)\u001b[0m\n\u001b[1;32m   1875\u001b[0m   main\u001b[38;5;241m.\u001b[39mdebug_info \u001b[38;5;241m=\u001b[39m debug_info  \u001b[38;5;66;03m# type: ignore\u001b[39;00m\n\u001b[1;32m   1876\u001b[0m   main\u001b[38;5;241m.\u001b[39mjaxpr_stack \u001b[38;5;241m=\u001b[39m ()  \u001b[38;5;66;03m# type: ignore\u001b[39;00m\n\u001b[0;32m-> 1877\u001b[0m   jaxpr, out_avals, consts \u001b[38;5;241m=\u001b[39m \u001b[43mtrace_to_subjaxpr_dynamic\u001b[49m\u001b[43m(\u001b[49m\n\u001b[1;32m   1878\u001b[0m \u001b[43m    \u001b[49m\u001b[43mfun\u001b[49m\u001b[43m,\u001b[49m\u001b[43m \u001b[49m\u001b[43mmain\u001b[49m\u001b[43m,\u001b[49m\u001b[43m \u001b[49m\u001b[43min_avals\u001b[49m\u001b[43m,\u001b[49m\u001b[43m \u001b[49m\u001b[43mkeep_inputs\u001b[49m\u001b[38;5;241;43m=\u001b[39;49m\u001b[43mkeep_inputs\u001b[49m\u001b[43m)\u001b[49m\n\u001b[1;32m   1879\u001b[0m   \u001b[38;5;28;01mdel\u001b[39;00m main, fun\n\u001b[1;32m   1880\u001b[0m \u001b[38;5;28;01mreturn\u001b[39;00m jaxpr, out_avals, consts\n",
      "File \u001b[0;32m~/miniconda3/envs/bosonic-jax-env/lib/python3.10/site-packages/jax/interpreters/partial_eval.py:1892\u001b[0m, in \u001b[0;36mtrace_to_subjaxpr_dynamic\u001b[0;34m(fun, main, in_avals, keep_inputs)\u001b[0m\n\u001b[1;32m   1890\u001b[0m in_tracers \u001b[38;5;241m=\u001b[39m _input_type_to_tracers(trace, in_avals)\n\u001b[1;32m   1891\u001b[0m in_tracers_ \u001b[38;5;241m=\u001b[39m [t \u001b[38;5;28;01mfor\u001b[39;00m t, keep \u001b[38;5;129;01min\u001b[39;00m \u001b[38;5;28mzip\u001b[39m(in_tracers, keep_inputs) \u001b[38;5;28;01mif\u001b[39;00m keep]\n\u001b[0;32m-> 1892\u001b[0m ans \u001b[38;5;241m=\u001b[39m \u001b[43mfun\u001b[49m\u001b[38;5;241;43m.\u001b[39;49m\u001b[43mcall_wrapped\u001b[49m\u001b[43m(\u001b[49m\u001b[38;5;241;43m*\u001b[39;49m\u001b[43min_tracers_\u001b[49m\u001b[43m)\u001b[49m\n\u001b[1;32m   1893\u001b[0m out_tracers \u001b[38;5;241m=\u001b[39m \u001b[38;5;28mmap\u001b[39m(trace\u001b[38;5;241m.\u001b[39mfull_raise, ans)\n\u001b[1;32m   1894\u001b[0m jaxpr, consts \u001b[38;5;241m=\u001b[39m frame\u001b[38;5;241m.\u001b[39mto_jaxpr(out_tracers)\n",
      "File \u001b[0;32m~/miniconda3/envs/bosonic-jax-env/lib/python3.10/site-packages/jax/linear_util.py:168\u001b[0m, in \u001b[0;36mWrappedFun.call_wrapped\u001b[0;34m(self, *args, **kwargs)\u001b[0m\n\u001b[1;32m    165\u001b[0m gen \u001b[38;5;241m=\u001b[39m gen_static_args \u001b[38;5;241m=\u001b[39m out_store \u001b[38;5;241m=\u001b[39m \u001b[38;5;28;01mNone\u001b[39;00m\n\u001b[1;32m    167\u001b[0m \u001b[38;5;28;01mtry\u001b[39;00m:\n\u001b[0;32m--> 168\u001b[0m   ans \u001b[38;5;241m=\u001b[39m \u001b[38;5;28;43mself\u001b[39;49m\u001b[38;5;241;43m.\u001b[39;49m\u001b[43mf\u001b[49m\u001b[43m(\u001b[49m\u001b[38;5;241;43m*\u001b[39;49m\u001b[43margs\u001b[49m\u001b[43m,\u001b[49m\u001b[43m \u001b[49m\u001b[38;5;241;43m*\u001b[39;49m\u001b[38;5;241;43m*\u001b[39;49m\u001b[38;5;28;43mdict\u001b[39;49m\u001b[43m(\u001b[49m\u001b[38;5;28;43mself\u001b[39;49m\u001b[38;5;241;43m.\u001b[39;49m\u001b[43mparams\u001b[49m\u001b[43m,\u001b[49m\u001b[43m \u001b[49m\u001b[38;5;241;43m*\u001b[39;49m\u001b[38;5;241;43m*\u001b[39;49m\u001b[43mkwargs\u001b[49m\u001b[43m)\u001b[49m\u001b[43m)\u001b[49m\n\u001b[1;32m    169\u001b[0m \u001b[38;5;28;01mexcept\u001b[39;00m:\n\u001b[1;32m    170\u001b[0m   \u001b[38;5;66;03m# Some transformations yield from inside context managers, so we have to\u001b[39;00m\n\u001b[1;32m    171\u001b[0m   \u001b[38;5;66;03m# interrupt them before reraising the exception. Otherwise they will only\u001b[39;00m\n\u001b[1;32m    172\u001b[0m   \u001b[38;5;66;03m# get garbage-collected at some later time, running their cleanup tasks\u001b[39;00m\n\u001b[1;32m    173\u001b[0m   \u001b[38;5;66;03m# only after this exception is handled, which can corrupt the global\u001b[39;00m\n\u001b[1;32m    174\u001b[0m   \u001b[38;5;66;03m# state.\u001b[39;00m\n\u001b[1;32m    175\u001b[0m   \u001b[38;5;28;01mwhile\u001b[39;00m stack:\n",
      "File \u001b[0;32m~/miniconda3/envs/bosonic-jax-env/lib/python3.10/site-packages/jax/experimental/sparse/transform.py:653\u001b[0m, in \u001b[0;36m_sparsify_jaxpr.<locals>.wrapped\u001b[0;34m(*args_flat)\u001b[0m\n\u001b[1;32m    651\u001b[0m args \u001b[38;5;241m=\u001b[39m tree_unflatten(in_tree, args_flat)\n\u001b[1;32m    652\u001b[0m spvalues \u001b[38;5;241m=\u001b[39m arrays_to_spvalues(spenv, args)\n\u001b[0;32m--> 653\u001b[0m result \u001b[38;5;241m=\u001b[39m \u001b[43meval_sparse\u001b[49m\u001b[43m(\u001b[49m\u001b[43mjaxpr\u001b[49m\u001b[38;5;241;43m.\u001b[39;49m\u001b[43mjaxpr\u001b[49m\u001b[43m,\u001b[49m\u001b[43m \u001b[49m\u001b[43mjaxpr\u001b[49m\u001b[38;5;241;43m.\u001b[39;49m\u001b[43mconsts\u001b[49m\u001b[43m,\u001b[49m\u001b[43m \u001b[49m\u001b[43mspvalues\u001b[49m\u001b[43m,\u001b[49m\u001b[43m \u001b[49m\u001b[43mspenv\u001b[49m\u001b[43m)\u001b[49m\n\u001b[1;32m    654\u001b[0m out \u001b[38;5;241m=\u001b[39m spvalues_to_arrays(spenv, result)\n\u001b[1;32m    655\u001b[0m out_flat, out_tree \u001b[38;5;241m=\u001b[39m tree_flatten(out)\n",
      "File \u001b[0;32m~/miniconda3/envs/bosonic-jax-env/lib/python3.10/site-packages/jax/experimental/sparse/transform.py:380\u001b[0m, in \u001b[0;36meval_sparse\u001b[0;34m(jaxpr, consts, spvalues, spenv)\u001b[0m\n\u001b[1;32m    378\u001b[0m   \u001b[38;5;28;01mif\u001b[39;00m prim \u001b[38;5;129;01mnot\u001b[39;00m \u001b[38;5;129;01min\u001b[39;00m sparse_rules:\n\u001b[1;32m    379\u001b[0m     _raise_unimplemented_primitive(prim)\n\u001b[0;32m--> 380\u001b[0m   out \u001b[38;5;241m=\u001b[39m \u001b[43msparse_rules\u001b[49m\u001b[43m[\u001b[49m\u001b[43mprim\u001b[49m\u001b[43m]\u001b[49m\u001b[43m(\u001b[49m\u001b[43mspenv\u001b[49m\u001b[43m,\u001b[49m\u001b[43m \u001b[49m\u001b[38;5;241;43m*\u001b[39;49m\u001b[43minvals\u001b[49m\u001b[43m,\u001b[49m\u001b[43m \u001b[49m\u001b[38;5;241;43m*\u001b[39;49m\u001b[38;5;241;43m*\u001b[39;49m\u001b[43meqn\u001b[49m\u001b[38;5;241;43m.\u001b[39;49m\u001b[43mparams\u001b[49m\u001b[43m)\u001b[49m\n\u001b[1;32m    381\u001b[0m \u001b[38;5;28;01melse\u001b[39;00m:\n\u001b[1;32m    382\u001b[0m   \u001b[38;5;28;01mif\u001b[39;00m prim \u001b[38;5;129;01mis\u001b[39;00m xla\u001b[38;5;241m.\u001b[39mxla_call_p:\n\u001b[1;32m    383\u001b[0m     \u001b[38;5;66;03m# TODO(vanderplas,frostig): workaround for binding call primitives\u001b[39;00m\n\u001b[1;32m    384\u001b[0m     \u001b[38;5;66;03m# within a jaxpr interpreter\u001b[39;00m\n",
      "File \u001b[0;32m~/miniconda3/envs/bosonic-jax-env/lib/python3.10/site-packages/jax/experimental/sparse/transform.py:632\u001b[0m, in \u001b[0;36m_reshape_sparse\u001b[0;34m(spenv, new_sizes, dimensions, *spvalues)\u001b[0m\n\u001b[1;32m    630\u001b[0m \u001b[38;5;28;01mdef\u001b[39;00m \u001b[38;5;21m_reshape_sparse\u001b[39m(spenv, \u001b[38;5;241m*\u001b[39mspvalues, new_sizes, dimensions):\n\u001b[1;32m    631\u001b[0m   operand, \u001b[38;5;241m=\u001b[39m spvalues_to_arrays(spenv, spvalues)\n\u001b[0;32m--> 632\u001b[0m   result \u001b[38;5;241m=\u001b[39m \u001b[43msparse\u001b[49m\u001b[38;5;241;43m.\u001b[39;49m\u001b[43mbcoo_reshape\u001b[49m\u001b[43m(\u001b[49m\u001b[43moperand\u001b[49m\u001b[43m,\u001b[49m\u001b[43m \u001b[49m\u001b[43mnew_sizes\u001b[49m\u001b[38;5;241;43m=\u001b[39;49m\u001b[43mnew_sizes\u001b[49m\u001b[43m,\u001b[49m\u001b[43m \u001b[49m\u001b[43mdimensions\u001b[49m\u001b[38;5;241;43m=\u001b[39;49m\u001b[43mdimensions\u001b[49m\u001b[43m)\u001b[49m\n\u001b[1;32m    633\u001b[0m   \u001b[38;5;28;01mreturn\u001b[39;00m arrays_to_spvalues(spenv, (result,))\n",
      "File \u001b[0;32m~/miniconda3/envs/bosonic-jax-env/lib/python3.10/site-packages/jax/experimental/sparse/bcoo.py:1810\u001b[0m, in \u001b[0;36mbcoo_reshape\u001b[0;34m(mat, new_sizes, dimensions)\u001b[0m\n\u001b[1;32m   1808\u001b[0m \u001b[38;5;28;01mwith\u001b[39;00m jax\u001b[38;5;241m.\u001b[39mnumpy_rank_promotion(\u001b[38;5;124m'\u001b[39m\u001b[38;5;124mallow\u001b[39m\u001b[38;5;124m'\u001b[39m):\n\u001b[1;32m   1809\u001b[0m   oob_indices \u001b[38;5;241m=\u001b[39m (indices \u001b[38;5;241m>\u001b[39m\u001b[38;5;241m=\u001b[39m jnp\u001b[38;5;241m.\u001b[39marray(mat\u001b[38;5;241m.\u001b[39mshape[mat\u001b[38;5;241m.\u001b[39mn_batch:], dtype\u001b[38;5;241m=\u001b[39mindices\u001b[38;5;241m.\u001b[39mdtype))\u001b[38;5;241m.\u001b[39many(\u001b[38;5;241m-\u001b[39m\u001b[38;5;241m1\u001b[39m)\n\u001b[0;32m-> 1810\u001b[0m new_indices \u001b[38;5;241m=\u001b[39m \u001b[43mnew_indices\u001b[49m\u001b[38;5;241;43m.\u001b[39;49m\u001b[43mat\u001b[49m\u001b[43m[\u001b[49m\u001b[43moob_indices\u001b[49m\u001b[43m]\u001b[49m\u001b[38;5;241;43m.\u001b[39;49m\u001b[43mset\u001b[49m\u001b[43m(\u001b[49m\u001b[43mjnp\u001b[49m\u001b[38;5;241;43m.\u001b[39;49m\u001b[43marray\u001b[49m\u001b[43m(\u001b[49m\u001b[43msparse_sizes\u001b[49m\u001b[43m,\u001b[49m\u001b[43m \u001b[49m\u001b[43mdtype\u001b[49m\u001b[38;5;241;43m=\u001b[39;49m\u001b[43mnew_indices\u001b[49m\u001b[38;5;241;43m.\u001b[39;49m\u001b[43mdtype\u001b[49m\u001b[43m)\u001b[49m\u001b[43m)\u001b[49m\n\u001b[1;32m   1812\u001b[0m \u001b[38;5;28;01mreturn\u001b[39;00m BCOO((data, new_indices), shape\u001b[38;5;241m=\u001b[39mnew_sizes)\n",
      "File \u001b[0;32m~/miniconda3/envs/bosonic-jax-env/lib/python3.10/site-packages/jax/_src/numpy/lax_numpy.py:4876\u001b[0m, in \u001b[0;36m_IndexUpdateRef.set\u001b[0;34m(self, values, indices_are_sorted, unique_indices, mode)\u001b[0m\n\u001b[1;32m   4867\u001b[0m \u001b[38;5;28;01mdef\u001b[39;00m \u001b[38;5;21mset\u001b[39m(\u001b[38;5;28mself\u001b[39m, values, indices_are_sorted\u001b[38;5;241m=\u001b[39m\u001b[38;5;28;01mFalse\u001b[39;00m, unique_indices\u001b[38;5;241m=\u001b[39m\u001b[38;5;28;01mFalse\u001b[39;00m,\n\u001b[1;32m   4868\u001b[0m         mode\u001b[38;5;241m=\u001b[39m\u001b[38;5;28;01mNone\u001b[39;00m):\n\u001b[1;32m   4869\u001b[0m   \u001b[38;5;124;03m\"\"\"Pure equivalent of ``x[idx] = y``.\u001b[39;00m\n\u001b[1;32m   4870\u001b[0m \n\u001b[1;32m   4871\u001b[0m \u001b[38;5;124;03m  Returns the value of ``x`` that would result from the NumPy-style\u001b[39;00m\n\u001b[0;32m   (...)\u001b[0m\n\u001b[1;32m   4874\u001b[0m \u001b[38;5;124;03m  See :mod:`jax.ops` for details.\u001b[39;00m\n\u001b[1;32m   4875\u001b[0m \u001b[38;5;124;03m  \"\"\"\u001b[39;00m\n\u001b[0;32m-> 4876\u001b[0m   \u001b[38;5;28;01mreturn\u001b[39;00m \u001b[43mscatter\u001b[49m\u001b[38;5;241;43m.\u001b[39;49m\u001b[43m_scatter_update\u001b[49m\u001b[43m(\u001b[49m\u001b[38;5;28;43mself\u001b[39;49m\u001b[38;5;241;43m.\u001b[39;49m\u001b[43marray\u001b[49m\u001b[43m,\u001b[49m\u001b[43m \u001b[49m\u001b[38;5;28;43mself\u001b[39;49m\u001b[38;5;241;43m.\u001b[39;49m\u001b[43mindex\u001b[49m\u001b[43m,\u001b[49m\u001b[43m \u001b[49m\u001b[43mvalues\u001b[49m\u001b[43m,\u001b[49m\u001b[43m \u001b[49m\u001b[43mlax\u001b[49m\u001b[38;5;241;43m.\u001b[39;49m\u001b[43mscatter\u001b[49m\u001b[43m,\u001b[49m\n\u001b[1;32m   4877\u001b[0m \u001b[43m                                 \u001b[49m\u001b[43mindices_are_sorted\u001b[49m\u001b[38;5;241;43m=\u001b[39;49m\u001b[43mindices_are_sorted\u001b[49m\u001b[43m,\u001b[49m\n\u001b[1;32m   4878\u001b[0m \u001b[43m                                 \u001b[49m\u001b[43munique_indices\u001b[49m\u001b[38;5;241;43m=\u001b[39;49m\u001b[43munique_indices\u001b[49m\u001b[43m,\u001b[49m\u001b[43m \u001b[49m\u001b[43mmode\u001b[49m\u001b[38;5;241;43m=\u001b[39;49m\u001b[43mmode\u001b[49m\u001b[43m)\u001b[49m\n",
      "File \u001b[0;32m~/miniconda3/envs/bosonic-jax-env/lib/python3.10/site-packages/jax/_src/ops/scatter.py:70\u001b[0m, in \u001b[0;36m_scatter_update\u001b[0;34m(x, idx, y, scatter_op, indices_are_sorted, unique_indices, mode, normalize_indices)\u001b[0m\n\u001b[1;32m     67\u001b[0m y \u001b[38;5;241m=\u001b[39m jnp\u001b[38;5;241m.\u001b[39masarray(y)\n\u001b[1;32m     68\u001b[0m \u001b[38;5;66;03m# XLA gathers and scatters are very similar in structure; the scatter logic\u001b[39;00m\n\u001b[1;32m     69\u001b[0m \u001b[38;5;66;03m# is more or less a transpose of the gather equivalent.\u001b[39;00m\n\u001b[0;32m---> 70\u001b[0m treedef, static_idx, dynamic_idx \u001b[38;5;241m=\u001b[39m \u001b[43mjnp\u001b[49m\u001b[38;5;241;43m.\u001b[39;49m\u001b[43m_split_index_for_jit\u001b[49m\u001b[43m(\u001b[49m\u001b[43midx\u001b[49m\u001b[43m,\u001b[49m\u001b[43m \u001b[49m\u001b[43mx\u001b[49m\u001b[38;5;241;43m.\u001b[39;49m\u001b[43mshape\u001b[49m\u001b[43m)\u001b[49m\n\u001b[1;32m     71\u001b[0m \u001b[38;5;28;01mreturn\u001b[39;00m _scatter_impl(x, y, scatter_op, treedef, static_idx, dynamic_idx,\n\u001b[1;32m     72\u001b[0m                      indices_are_sorted, unique_indices, mode,\n\u001b[1;32m     73\u001b[0m                      normalize_indices)\n",
      "File \u001b[0;32m~/miniconda3/envs/bosonic-jax-env/lib/python3.10/site-packages/jax/_src/numpy/lax_numpy.py:3648\u001b[0m, in \u001b[0;36m_split_index_for_jit\u001b[0;34m(idx, shape)\u001b[0m\n\u001b[1;32m   3644\u001b[0m idx \u001b[38;5;241m=\u001b[39m _eliminate_deprecated_list_indexing(idx)\n\u001b[1;32m   3646\u001b[0m \u001b[38;5;66;03m# Expand any (concrete) boolean indices. We can then use advanced integer\u001b[39;00m\n\u001b[1;32m   3647\u001b[0m \u001b[38;5;66;03m# indexing logic to handle them.\u001b[39;00m\n\u001b[0;32m-> 3648\u001b[0m idx \u001b[38;5;241m=\u001b[39m \u001b[43m_expand_bool_indices\u001b[49m\u001b[43m(\u001b[49m\u001b[43midx\u001b[49m\u001b[43m,\u001b[49m\u001b[43m \u001b[49m\u001b[43mshape\u001b[49m\u001b[43m)\u001b[49m\n\u001b[1;32m   3650\u001b[0m leaves, treedef \u001b[38;5;241m=\u001b[39m tree_flatten(idx)\n\u001b[1;32m   3651\u001b[0m dynamic \u001b[38;5;241m=\u001b[39m [\u001b[38;5;28;01mNone\u001b[39;00m] \u001b[38;5;241m*\u001b[39m \u001b[38;5;28mlen\u001b[39m(leaves)\n",
      "File \u001b[0;32m~/miniconda3/envs/bosonic-jax-env/lib/python3.10/site-packages/jax/_src/numpy/lax_numpy.py:3961\u001b[0m, in \u001b[0;36m_expand_bool_indices\u001b[0;34m(idx, shape)\u001b[0m\n\u001b[1;32m   3957\u001b[0m   abstract_i \u001b[38;5;241m=\u001b[39m core\u001b[38;5;241m.\u001b[39mget_aval(i)\n\u001b[1;32m   3959\u001b[0m \u001b[38;5;28;01mif\u001b[39;00m \u001b[38;5;129;01mnot\u001b[39;00m \u001b[38;5;28mtype\u001b[39m(abstract_i) \u001b[38;5;129;01mis\u001b[39;00m ConcreteArray:\n\u001b[1;32m   3960\u001b[0m   \u001b[38;5;66;03m# TODO(mattjj): improve this error by tracking _why_ the indices are not concrete\u001b[39;00m\n\u001b[0;32m-> 3961\u001b[0m   \u001b[38;5;28;01mraise\u001b[39;00m errors\u001b[38;5;241m.\u001b[39mNonConcreteBooleanIndexError(abstract_i)\n\u001b[1;32m   3962\u001b[0m \u001b[38;5;28;01melif\u001b[39;00m _ndim(i) \u001b[38;5;241m==\u001b[39m \u001b[38;5;241m0\u001b[39m:\n\u001b[1;32m   3963\u001b[0m   \u001b[38;5;28;01mraise\u001b[39;00m \u001b[38;5;167;01mTypeError\u001b[39;00m(\u001b[38;5;124m\"\u001b[39m\u001b[38;5;124mJAX arrays do not support boolean scalar indices\u001b[39m\u001b[38;5;124m\"\u001b[39m)\n",
      "\u001b[0;31mNonConcreteBooleanIndexError\u001b[0m: Array boolean indices must be concrete; got ShapedArray(bool[16])\n\nSee https://jax.readthedocs.io/en/latest/errors.html#jax.errors.NonConcreteBooleanIndexError"
     ]
    }
   ],
   "source": [
    "sparse.sparsify(jnp.kron)(M_sp, M_sp)"
   ]
  },
  {
   "cell_type": "code",
   "execution_count": 29,
   "id": "0634788f-400f-4fc4-9091-2f02143d9ccd",
   "metadata": {},
   "outputs": [
    {
     "data": {
      "text/plain": [
       "DeviceArray([[0., 1., 0., 2.],\n",
       "             [3., 0., 0., 0.],\n",
       "             [0., 0., 4., 0.]], dtype=float32)"
      ]
     },
     "execution_count": 29,
     "metadata": {},
     "output_type": "execute_result"
    }
   ],
   "source": [
    "M_sp.todense()"
   ]
  },
  {
   "cell_type": "code",
   "execution_count": 33,
   "id": "947df986-f0a4-4d7f-af40-2999b5af217f",
   "metadata": {},
   "outputs": [],
   "source": [
    "@jit\n",
    "def test(a):\n",
    "    return a**2*jnp.sum(M_sp@b)"
   ]
  },
  {
   "cell_type": "code",
   "execution_count": 34,
   "id": "83777042-dc81-466d-873b-44b1c308cbc3",
   "metadata": {},
   "outputs": [
    {
     "data": {
      "text/plain": [
       "DeviceArray(60., dtype=float32, weak_type=True)"
      ]
     },
     "execution_count": 34,
     "metadata": {},
     "output_type": "execute_result"
    }
   ],
   "source": [
    "grad(test)(2.0)"
   ]
  },
  {
   "cell_type": "code",
   "execution_count": 41,
   "id": "68627b1d-940f-4081-adf2-551709586369",
   "metadata": {},
   "outputs": [],
   "source": [
    "@jit\n",
    "def test2(a):\n",
    "    return a.T@a"
   ]
  },
  {
   "cell_type": "code",
   "execution_count": 51,
   "id": "1926c37a-1ba0-4638-995a-cebb2af5d9a0",
   "metadata": {},
   "outputs": [
    {
     "ename": "TypeError",
     "evalue": "grad requires real- or complex-valued inputs (input dtype that is a sub-dtype of np.inexact), but got int32. If you want to use Boolean- or integer-valued inputs, use vjp or set allow_int to True.",
     "output_type": "error",
     "traceback": [
      "\u001b[0;31m---------------------------------------------------------------------------\u001b[0m",
      "\u001b[0;31mTypeError\u001b[0m                                 Traceback (most recent call last)",
      "Input \u001b[0;32mIn [51]\u001b[0m, in \u001b[0;36m<cell line: 1>\u001b[0;34m()\u001b[0m\n\u001b[0;32m----> 1\u001b[0m \u001b[43mgrad\u001b[49m\u001b[43m(\u001b[49m\u001b[43mtest2\u001b[49m\u001b[43m)\u001b[49m\u001b[43m(\u001b[49m\u001b[43mb\u001b[49m\u001b[43m)\u001b[49m\n",
      "    \u001b[0;31m[... skipping hidden 4 frame]\u001b[0m\n",
      "File \u001b[0;32m~/miniconda3/envs/bosonic-jax-env/lib/python3.10/site-packages/jax/_src/api.py:1101\u001b[0m, in \u001b[0;36m_check_input_dtype_revderiv\u001b[0;34m(name, holomorphic, allow_int, x)\u001b[0m\n\u001b[1;32m   1098\u001b[0m \u001b[38;5;28;01mif\u001b[39;00m (dtypes\u001b[38;5;241m.\u001b[39missubdtype(aval\u001b[38;5;241m.\u001b[39mdtype, np\u001b[38;5;241m.\u001b[39minteger) \u001b[38;5;129;01mor\u001b[39;00m\n\u001b[1;32m   1099\u001b[0m     dtypes\u001b[38;5;241m.\u001b[39missubdtype(aval\u001b[38;5;241m.\u001b[39mdtype, np\u001b[38;5;241m.\u001b[39mbool_)):\n\u001b[1;32m   1100\u001b[0m   \u001b[38;5;28;01mif\u001b[39;00m \u001b[38;5;129;01mnot\u001b[39;00m allow_int:\n\u001b[0;32m-> 1101\u001b[0m     \u001b[38;5;28;01mraise\u001b[39;00m \u001b[38;5;167;01mTypeError\u001b[39;00m(\u001b[38;5;124mf\u001b[39m\u001b[38;5;124m\"\u001b[39m\u001b[38;5;132;01m{\u001b[39;00mname\u001b[38;5;132;01m}\u001b[39;00m\u001b[38;5;124m requires real- or complex-valued inputs (input dtype \u001b[39m\u001b[38;5;124m\"\u001b[39m\n\u001b[1;32m   1102\u001b[0m                     \u001b[38;5;124mf\u001b[39m\u001b[38;5;124m\"\u001b[39m\u001b[38;5;124mthat is a sub-dtype of np.inexact), but got \u001b[39m\u001b[38;5;132;01m{\u001b[39;00maval\u001b[38;5;241m.\u001b[39mdtype\u001b[38;5;241m.\u001b[39mname\u001b[38;5;132;01m}\u001b[39;00m\u001b[38;5;124m. \u001b[39m\u001b[38;5;124m\"\u001b[39m\n\u001b[1;32m   1103\u001b[0m                     \u001b[38;5;124m\"\u001b[39m\u001b[38;5;124mIf you want to use Boolean- or integer-valued inputs, use vjp \u001b[39m\u001b[38;5;124m\"\u001b[39m\n\u001b[1;32m   1104\u001b[0m                     \u001b[38;5;124m\"\u001b[39m\u001b[38;5;124mor set allow_int to True.\u001b[39m\u001b[38;5;124m\"\u001b[39m)\n\u001b[1;32m   1105\u001b[0m \u001b[38;5;28;01melif\u001b[39;00m \u001b[38;5;129;01mnot\u001b[39;00m dtypes\u001b[38;5;241m.\u001b[39missubdtype(aval\u001b[38;5;241m.\u001b[39mdtype, np\u001b[38;5;241m.\u001b[39minexact):\n\u001b[1;32m   1106\u001b[0m   \u001b[38;5;28;01mraise\u001b[39;00m \u001b[38;5;167;01mTypeError\u001b[39;00m(\u001b[38;5;124mf\u001b[39m\u001b[38;5;124m\"\u001b[39m\u001b[38;5;132;01m{\u001b[39;00mname\u001b[38;5;132;01m}\u001b[39;00m\u001b[38;5;124m requires numerical-valued inputs (input dtype that is a \u001b[39m\u001b[38;5;124m\"\u001b[39m\n\u001b[1;32m   1107\u001b[0m                   \u001b[38;5;124mf\u001b[39m\u001b[38;5;124m\"\u001b[39m\u001b[38;5;124msub-dtype of np.bool_ or np.number), but got \u001b[39m\u001b[38;5;132;01m{\u001b[39;00maval\u001b[38;5;241m.\u001b[39mdtype\u001b[38;5;241m.\u001b[39mname\u001b[38;5;132;01m}\u001b[39;00m\u001b[38;5;124m.\u001b[39m\u001b[38;5;124m\"\u001b[39m)\n",
      "\u001b[0;31mTypeError\u001b[0m: grad requires real- or complex-valued inputs (input dtype that is a sub-dtype of np.inexact), but got int32. If you want to use Boolean- or integer-valued inputs, use vjp or set allow_int to True."
     ]
    }
   ],
   "source": [
    "grad(test2)(b)#.todense()"
   ]
  },
  {
   "cell_type": "code",
   "execution_count": null,
   "id": "b9c59cbe-3f35-4a4b-97f1-51d3fda4b9f4",
   "metadata": {},
   "outputs": [],
   "source": []
  }
 ],
 "metadata": {
  "kernelspec": {
   "display_name": "Python 3 (ipykernel)",
   "language": "python",
   "name": "python3"
  },
  "language_info": {
   "codemirror_mode": {
    "name": "ipython",
    "version": 3
   },
   "file_extension": ".py",
   "mimetype": "text/x-python",
   "name": "python",
   "nbconvert_exporter": "python",
   "pygments_lexer": "ipython3",
   "version": "3.10.4"
  }
 },
 "nbformat": 4,
 "nbformat_minor": 5
}
