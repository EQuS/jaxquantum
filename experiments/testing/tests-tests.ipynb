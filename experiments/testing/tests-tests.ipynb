{
 "cells": [
  {
   "cell_type": "code",
   "execution_count": 1,
   "id": "a172aac0",
   "metadata": {},
   "outputs": [],
   "source": [
    "%load_ext autoreload\n",
    "%autoreload 2"
   ]
  },
  {
   "cell_type": "code",
   "execution_count": 2,
   "id": "62221cfc",
   "metadata": {},
   "outputs": [],
   "source": [
    "import pytest\n",
    "\n",
    "import sys\n",
    "import os\n",
    "\n",
    "import jaxquantum as jqt\n",
    "import jax.numpy as jnp\n",
    "\n",
    "minimum_version_for_tests = \"0.2.0\""
   ]
  },
  {
   "cell_type": "code",
   "execution_count": 4,
   "id": "254a16dd",
   "metadata": {},
   "outputs": [],
   "source": [
    "a = jqt.displace(3,1.23)\n",
    "c = jqt.displace(3,2.23)\n",
    "b = jqt.Qarray.from_array([[[a],[a]], [[c],[c]]])"
   ]
  },
  {
   "cell_type": "code",
   "execution_count": 5,
   "id": "0a9d91e0",
   "metadata": {},
   "outputs": [
    {
     "data": {
      "text/plain": [
       "Quantum array: dims = ((3,), (3,)), bdims = (2, 2, 1), shape = (2, 2, 1, 3, 3), type = oper\n",
       "Qarray data =\n",
       "[[[[[ 0.48971019+0.j -0.48927758+0.j  0.72165877+0.j]\n",
       "    [ 0.48927758+0.j -0.53086943+0.j -0.69194299+0.j]\n",
       "    [ 0.72165877+0.j  0.69194299+0.j -0.02057962+0.j]]]\n",
       "\n",
       "\n",
       "  [[[ 0.48971019+0.j -0.48927758+0.j  0.72165877+0.j]\n",
       "    [ 0.48927758+0.j -0.53086943+0.j -0.69194299+0.j]\n",
       "    [ 0.72165877+0.j  0.69194299+0.j -0.02057962+0.j]]]]\n",
       "\n",
       "\n",
       "\n",
       " [[[[ 0.41625842+0.j  0.38107802+0.j  0.82553527+0.j]\n",
       "    [-0.38107802+0.j -0.75122475+0.j  0.5389257 +0.j]\n",
       "    [ 0.82553527+0.j -0.5389257 +0.j -0.16748317+0.j]]]\n",
       "\n",
       "\n",
       "  [[[ 0.41625842+0.j  0.38107802+0.j  0.82553527+0.j]\n",
       "    [-0.38107802+0.j -0.75122475+0.j  0.5389257 +0.j]\n",
       "    [ 0.82553527+0.j -0.5389257 +0.j -0.16748317+0.j]]]]]"
      ]
     },
     "execution_count": 5,
     "metadata": {},
     "output_type": "execute_result"
    }
   ],
   "source": [
    "b"
   ]
  },
  {
   "cell_type": "code",
   "execution_count": 13,
   "id": "ec9cb4e8",
   "metadata": {},
   "outputs": [
    {
     "ename": "AssertionError",
     "evalue": "Data shape should be consistent with dimensions.",
     "output_type": "error",
     "traceback": [
      "\u001b[0;31m---------------------------------------------------------------------------\u001b[0m",
      "\u001b[0;31mAssertionError\u001b[0m                            Traceback (most recent call last)",
      "Cell \u001b[0;32mIn[13], line 1\u001b[0m\n\u001b[0;32m----> 1\u001b[0m b \u001b[38;5;241m=\u001b[39m \u001b[43mjqt\u001b[49m\u001b[38;5;241;43m.\u001b[39;49m\u001b[43mQarray\u001b[49m\u001b[38;5;241;43m.\u001b[39;49m\u001b[43mfrom_array\u001b[49m\u001b[43m(\u001b[49m\u001b[43m[\u001b[49m\u001b[43m[\u001b[49m\u001b[43m]\u001b[49m\u001b[43m]\u001b[49m\u001b[43m)\u001b[49m\u001b[38;5;66;03m#[],[]])\u001b[39;00m\n\u001b[1;32m      2\u001b[0m b\n",
      "File \u001b[0;32m~/Github/qc/EQuS/bosonic/jax/jaxquantum/jaxquantum/core/qarray.py:133\u001b[0m, in \u001b[0;36mQarray.from_array\u001b[0;34m(cls, qarr_arr)\u001b[0m\n\u001b[1;32m    131\u001b[0m qarr_list \u001b[38;5;241m=\u001b[39m flat(qarr_arr)\n\u001b[1;32m    132\u001b[0m qarr \u001b[38;5;241m=\u001b[39m \u001b[38;5;28mcls\u001b[39m\u001b[38;5;241m.\u001b[39mfrom_list(qarr_list)\n\u001b[0;32m--> 133\u001b[0m qarr \u001b[38;5;241m=\u001b[39m \u001b[43mqarr\u001b[49m\u001b[38;5;241;43m.\u001b[39;49m\u001b[43mreshape_bdims\u001b[49m\u001b[43m(\u001b[49m\u001b[38;5;241;43m*\u001b[39;49m\u001b[43mbdims\u001b[49m\u001b[43m)\u001b[49m\n\u001b[1;32m    134\u001b[0m \u001b[38;5;28;01mreturn\u001b[39;00m qarr\n",
      "File \u001b[0;32m~/Github/qc/EQuS/bosonic/jax/jaxquantum/jaxquantum/core/qarray.py:201\u001b[0m, in \u001b[0;36mQarray.reshape_bdims\u001b[0;34m(self, *args)\u001b[0m\n\u001b[1;32m    199\u001b[0m \u001b[38;5;28;01melse\u001b[39;00m:\n\u001b[1;32m    200\u001b[0m     new_shape \u001b[38;5;241m=\u001b[39m new_bdims \u001b[38;5;241m+\u001b[39m \u001b[38;5;28mself\u001b[39m\u001b[38;5;241m.\u001b[39mdims[\u001b[38;5;241m0\u001b[39m] \u001b[38;5;241m+\u001b[39m \u001b[38;5;28mself\u001b[39m\u001b[38;5;241m.\u001b[39mdims[\u001b[38;5;241m1\u001b[39m]\n\u001b[0;32m--> 201\u001b[0m \u001b[38;5;28;01mreturn\u001b[39;00m \u001b[43mQarray\u001b[49m\u001b[38;5;241;43m.\u001b[39;49m\u001b[43mcreate\u001b[49m\u001b[43m(\u001b[49m\n\u001b[1;32m    202\u001b[0m \u001b[43m    \u001b[49m\u001b[38;5;28;43mself\u001b[39;49m\u001b[38;5;241;43m.\u001b[39;49m\u001b[43mdata\u001b[49m\u001b[38;5;241;43m.\u001b[39;49m\u001b[43mreshape\u001b[49m\u001b[43m(\u001b[49m\u001b[43mnew_shape\u001b[49m\u001b[43m)\u001b[49m\u001b[43m,\u001b[49m\n\u001b[1;32m    203\u001b[0m \u001b[43m    \u001b[49m\u001b[43mdims\u001b[49m\u001b[38;5;241;43m=\u001b[39;49m\u001b[38;5;28;43mself\u001b[39;49m\u001b[38;5;241;43m.\u001b[39;49m\u001b[43mdims\u001b[49m\u001b[43m,\u001b[49m\n\u001b[1;32m    204\u001b[0m \u001b[43m    \u001b[49m\u001b[43mbdims\u001b[49m\u001b[38;5;241;43m=\u001b[39;49m\u001b[43mnew_bdims\u001b[49m\u001b[43m,\u001b[49m\n\u001b[1;32m    205\u001b[0m \u001b[43m\u001b[49m\u001b[43m)\u001b[49m\n",
      "File \u001b[0;32m~/Github/qc/EQuS/bosonic/jax/jaxquantum/jaxquantum/core/qarray.py:69\u001b[0m, in \u001b[0;36mQarray.create\u001b[0;34m(cls, data, dims, bdims)\u001b[0m\n\u001b[1;32m     65\u001b[0m     dims \u001b[38;5;241m=\u001b[39m ((data\u001b[38;5;241m.\u001b[39mshape[\u001b[38;5;241m-\u001b[39m\u001b[38;5;241m2\u001b[39m],), (data\u001b[38;5;241m.\u001b[39mshape[\u001b[38;5;241m-\u001b[39m\u001b[38;5;241m1\u001b[39m],))\n\u001b[1;32m     67\u001b[0m dims \u001b[38;5;241m=\u001b[39m (\u001b[38;5;28mtuple\u001b[39m(dims[\u001b[38;5;241m0\u001b[39m]), \u001b[38;5;28mtuple\u001b[39m(dims[\u001b[38;5;241m1\u001b[39m]))\n\u001b[0;32m---> 69\u001b[0m \u001b[43mcheck_dims\u001b[49m\u001b[43m(\u001b[49m\u001b[43mdims\u001b[49m\u001b[43m,\u001b[49m\u001b[43m \u001b[49m\u001b[43mbdims\u001b[49m\u001b[43m,\u001b[49m\u001b[43m \u001b[49m\u001b[43mdata\u001b[49m\u001b[38;5;241;43m.\u001b[39;49m\u001b[43mshape\u001b[49m\u001b[43m)\u001b[49m\n\u001b[1;32m     71\u001b[0m qdims \u001b[38;5;241m=\u001b[39m Qdims(dims)\n\u001b[1;32m     73\u001b[0m \u001b[38;5;66;03m# NOTE: Constantly tidying up on Qarray creation might be a bit overkill.\u001b[39;00m\n\u001b[1;32m     74\u001b[0m \u001b[38;5;66;03m# It increases the compilation time, but only very slightly \u001b[39;00m\n\u001b[1;32m     75\u001b[0m \u001b[38;5;66;03m# increased the runtime of the jit compiled function.\u001b[39;00m\n\u001b[1;32m     76\u001b[0m \u001b[38;5;66;03m# We could instead use this tidy_up where we think we need it.\u001b[39;00m\n",
      "File \u001b[0;32m~/Github/qc/EQuS/bosonic/jax/jaxquantum/jaxquantum/core/dims.py:34\u001b[0m, in \u001b[0;36mcheck_dims\u001b[0;34m(dims, bdims, data_shape)\u001b[0m\n\u001b[1;32m     31\u001b[0m     \u001b[38;5;28;01massert\u001b[39;00m dims \u001b[38;5;241m==\u001b[39m ((),())\n\u001b[1;32m     32\u001b[0m     \u001b[38;5;28;01mreturn\u001b[39;00m \n\u001b[0;32m---> 34\u001b[0m \u001b[38;5;28;01massert\u001b[39;00m bdims \u001b[38;5;241m==\u001b[39m data_shape[:\u001b[38;5;241m-\u001b[39m\u001b[38;5;241m2\u001b[39m], \u001b[38;5;124m\"\u001b[39m\u001b[38;5;124mData shape should be consistent with dimensions.\u001b[39m\u001b[38;5;124m\"\u001b[39m\n\u001b[1;32m     35\u001b[0m \u001b[38;5;28;01massert\u001b[39;00m data_shape[\u001b[38;5;241m-\u001b[39m\u001b[38;5;241m2\u001b[39m] \u001b[38;5;241m==\u001b[39m prod(dims[\u001b[38;5;241m0\u001b[39m]), \u001b[38;5;124m\"\u001b[39m\u001b[38;5;124mData shape should be consistent with dimensions.\u001b[39m\u001b[38;5;124m\"\u001b[39m\n\u001b[1;32m     36\u001b[0m \u001b[38;5;28;01massert\u001b[39;00m data_shape[\u001b[38;5;241m-\u001b[39m\u001b[38;5;241m1\u001b[39m] \u001b[38;5;241m==\u001b[39m prod(dims[\u001b[38;5;241m1\u001b[39m]), \u001b[38;5;124m\"\u001b[39m\u001b[38;5;124mData shape should be consistent with dimensions.\u001b[39m\u001b[38;5;124m\"\u001b[39m\n",
      "\u001b[0;31mAssertionError\u001b[0m: Data shape should be consistent with dimensions."
     ]
    }
   ],
   "source": [
    "b = jqt.Qarray.from_array([[]])#[],[]])\n",
    "b"
   ]
  },
  {
   "cell_type": "code",
   "execution_count": 3,
   "id": "f0cfd645",
   "metadata": {},
   "outputs": [],
   "source": [
    "a = jqt.create(4)\n",
    "a_dag = a.dag()\n",
    "\n",
    "omega = jnp.array([[1.2, 3.4,5.6],[7.8, 9.10, 11.12]])\n",
    "\n",
    "H = omega * a_dag @ a\n",
    "\n",
    "evals, evecs = jqt.eigenstates(H)"
   ]
  },
  {
   "cell_type": "code",
   "execution_count": 7,
   "id": "c4c77e41",
   "metadata": {},
   "outputs": [
    {
     "data": {
      "text/plain": [
       "Array(3.4, dtype=float64)"
      ]
     },
     "execution_count": 7,
     "metadata": {},
     "output_type": "execute_result"
    }
   ],
   "source": [
    "evals[0,1,1]"
   ]
  },
  {
   "cell_type": "code",
   "execution_count": null,
   "id": "62130ee0",
   "metadata": {},
   "outputs": [],
   "source": []
  }
 ],
 "metadata": {
  "kernelspec": {
   "display_name": "jax-framework",
   "language": "python",
   "name": "python3"
  },
  "language_info": {
   "codemirror_mode": {
    "name": "ipython",
    "version": 3
   },
   "file_extension": ".py",
   "mimetype": "text/x-python",
   "name": "python",
   "nbconvert_exporter": "python",
   "pygments_lexer": "ipython3",
   "version": "3.9.18"
  }
 },
 "nbformat": 4,
 "nbformat_minor": 5
}
