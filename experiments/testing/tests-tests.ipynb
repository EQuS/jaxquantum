{
 "cells": [
  {
   "cell_type": "code",
   "execution_count": 2,
   "id": "62221cfc",
   "metadata": {},
   "outputs": [],
   "source": [
    "import pytest\n",
    "\n",
    "import sys\n",
    "import os\n",
    "\n",
    "import jaxquantum as jqt\n",
    "import jax.numpy as jnp\n",
    "\n",
    "minimum_version_for_tests = \"0.2.0\""
   ]
  },
  {
   "cell_type": "code",
   "execution_count": 3,
   "id": "f0cfd645",
   "metadata": {},
   "outputs": [],
   "source": [
    "a = jqt.create(4)\n",
    "a_dag = a.dag()\n",
    "\n",
    "omega = jnp.array([[1.2, 3.4,5.6],[7.8, 9.10, 11.12]])\n",
    "\n",
    "H = omega * a_dag @ a\n",
    "\n",
    "evals, evecs = jqt.eigenstates(H)"
   ]
  },
  {
   "cell_type": "code",
   "execution_count": 7,
   "id": "c4c77e41",
   "metadata": {},
   "outputs": [
    {
     "data": {
      "text/plain": [
       "Array(3.4, dtype=float64)"
      ]
     },
     "execution_count": 7,
     "metadata": {},
     "output_type": "execute_result"
    }
   ],
   "source": [
    "evals[0,1,1]"
   ]
  },
  {
   "cell_type": "code",
   "execution_count": null,
   "id": "62130ee0",
   "metadata": {},
   "outputs": [],
   "source": []
  }
 ],
 "metadata": {
  "kernelspec": {
   "display_name": "jax-framework",
   "language": "python",
   "name": "python3"
  },
  "language_info": {
   "codemirror_mode": {
    "name": "ipython",
    "version": 3
   },
   "file_extension": ".py",
   "mimetype": "text/x-python",
   "name": "python",
   "nbconvert_exporter": "python",
   "pygments_lexer": "ipython3",
   "version": "3.9.18"
  }
 },
 "nbformat": 4,
 "nbformat_minor": 5
}
