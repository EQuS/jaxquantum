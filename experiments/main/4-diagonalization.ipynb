{
 "cells": [
  {
   "cell_type": "code",
   "execution_count": 1,
   "metadata": {},
   "outputs": [],
   "source": [
    "import jaxquantum as jqt"
   ]
  },
  {
   "cell_type": "code",
   "execution_count": 2,
   "metadata": {},
   "outputs": [],
   "source": [
    "N = 10\n",
    "a_dag = jqt.create(N)\n",
    "a = jqt.destroy(N)\n",
    "H = 5.0 *  a_dag @ a"
   ]
  },
  {
   "cell_type": "code",
   "execution_count": 4,
   "metadata": {},
   "outputs": [
    {
     "data": {
      "text/plain": [
       "Array([ 0.,  5., 10., 15., 20., 25., 30., 35., 40., 45.], dtype=float64)"
      ]
     },
     "execution_count": 4,
     "metadata": {},
     "output_type": "execute_result"
    }
   ],
   "source": [
    "H.eigenenergies()"
   ]
  },
  {
   "cell_type": "code",
   "execution_count": 8,
   "metadata": {},
   "outputs": [
    {
     "data": {
      "text/plain": [
       "(Array([ 0.,  5., 10., 15., 20., 25., 30., 35., 40., 45.], dtype=float64),\n",
       " [Quantum array: dims = [[10], [1]], shape = (10, 1), type = ket\n",
       "  Qarray data =\n",
       "  [[1.+0.j]\n",
       "   [0.+0.j]\n",
       "   [0.+0.j]\n",
       "   [0.+0.j]\n",
       "   [0.+0.j]\n",
       "   [0.+0.j]\n",
       "   [0.+0.j]\n",
       "   [0.+0.j]\n",
       "   [0.+0.j]\n",
       "   [0.+0.j]],\n",
       "  Quantum array: dims = [[10], [1]], shape = (10, 1), type = ket\n",
       "  Qarray data =\n",
       "  [[0.+0.j]\n",
       "   [1.+0.j]\n",
       "   [0.+0.j]\n",
       "   [0.+0.j]\n",
       "   [0.+0.j]\n",
       "   [0.+0.j]\n",
       "   [0.+0.j]\n",
       "   [0.+0.j]\n",
       "   [0.+0.j]\n",
       "   [0.+0.j]],\n",
       "  Quantum array: dims = [[10], [1]], shape = (10, 1), type = ket\n",
       "  Qarray data =\n",
       "  [[0.+0.j]\n",
       "   [0.+0.j]\n",
       "   [1.+0.j]\n",
       "   [0.+0.j]\n",
       "   [0.+0.j]\n",
       "   [0.+0.j]\n",
       "   [0.+0.j]\n",
       "   [0.+0.j]\n",
       "   [0.+0.j]\n",
       "   [0.+0.j]],\n",
       "  Quantum array: dims = [[10], [1]], shape = (10, 1), type = ket\n",
       "  Qarray data =\n",
       "  [[0.+0.j]\n",
       "   [0.+0.j]\n",
       "   [0.+0.j]\n",
       "   [1.+0.j]\n",
       "   [0.+0.j]\n",
       "   [0.+0.j]\n",
       "   [0.+0.j]\n",
       "   [0.+0.j]\n",
       "   [0.+0.j]\n",
       "   [0.+0.j]],\n",
       "  Quantum array: dims = [[10], [1]], shape = (10, 1), type = ket\n",
       "  Qarray data =\n",
       "  [[0.+0.j]\n",
       "   [0.+0.j]\n",
       "   [0.+0.j]\n",
       "   [0.+0.j]\n",
       "   [1.+0.j]\n",
       "   [0.+0.j]\n",
       "   [0.+0.j]\n",
       "   [0.+0.j]\n",
       "   [0.+0.j]\n",
       "   [0.+0.j]],\n",
       "  Quantum array: dims = [[10], [1]], shape = (10, 1), type = ket\n",
       "  Qarray data =\n",
       "  [[0.+0.j]\n",
       "   [0.+0.j]\n",
       "   [0.+0.j]\n",
       "   [0.+0.j]\n",
       "   [0.+0.j]\n",
       "   [1.+0.j]\n",
       "   [0.+0.j]\n",
       "   [0.+0.j]\n",
       "   [0.+0.j]\n",
       "   [0.+0.j]],\n",
       "  Quantum array: dims = [[10], [1]], shape = (10, 1), type = ket\n",
       "  Qarray data =\n",
       "  [[0.+0.j]\n",
       "   [0.+0.j]\n",
       "   [0.+0.j]\n",
       "   [0.+0.j]\n",
       "   [0.+0.j]\n",
       "   [0.+0.j]\n",
       "   [1.+0.j]\n",
       "   [0.+0.j]\n",
       "   [0.+0.j]\n",
       "   [0.+0.j]],\n",
       "  Quantum array: dims = [[10], [1]], shape = (10, 1), type = ket\n",
       "  Qarray data =\n",
       "  [[0.+0.j]\n",
       "   [0.+0.j]\n",
       "   [0.+0.j]\n",
       "   [0.+0.j]\n",
       "   [0.+0.j]\n",
       "   [0.+0.j]\n",
       "   [0.+0.j]\n",
       "   [1.+0.j]\n",
       "   [0.+0.j]\n",
       "   [0.+0.j]],\n",
       "  Quantum array: dims = [[10], [1]], shape = (10, 1), type = ket\n",
       "  Qarray data =\n",
       "  [[0.+0.j]\n",
       "   [0.+0.j]\n",
       "   [0.+0.j]\n",
       "   [0.+0.j]\n",
       "   [0.+0.j]\n",
       "   [0.+0.j]\n",
       "   [0.+0.j]\n",
       "   [0.+0.j]\n",
       "   [1.+0.j]\n",
       "   [0.+0.j]],\n",
       "  Quantum array: dims = [[10], [1]], shape = (10, 1), type = ket\n",
       "  Qarray data =\n",
       "  [[0.+0.j]\n",
       "   [0.+0.j]\n",
       "   [0.+0.j]\n",
       "   [0.+0.j]\n",
       "   [0.+0.j]\n",
       "   [0.+0.j]\n",
       "   [0.+0.j]\n",
       "   [0.+0.j]\n",
       "   [0.+0.j]\n",
       "   [1.+0.j]]])"
      ]
     },
     "execution_count": 8,
     "metadata": {},
     "output_type": "execute_result"
    }
   ],
   "source": [
    "H.eigenstates()"
   ]
  },
  {
   "cell_type": "code",
   "execution_count": null,
   "metadata": {},
   "outputs": [],
   "source": []
  }
 ],
 "metadata": {
  "kernelspec": {
   "display_name": "jax-framework",
   "language": "python",
   "name": "python3"
  },
  "language_info": {
   "codemirror_mode": {
    "name": "ipython",
    "version": 3
   },
   "file_extension": ".py",
   "mimetype": "text/x-python",
   "name": "python",
   "nbconvert_exporter": "python",
   "pygments_lexer": "ipython3",
   "version": "3.9.18"
  }
 },
 "nbformat": 4,
 "nbformat_minor": 2
}
