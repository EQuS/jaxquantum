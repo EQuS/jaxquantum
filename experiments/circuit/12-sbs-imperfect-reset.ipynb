{
 "cells": [
  {
   "cell_type": "markdown",
   "id": "49cb0377-3d8d-4a2e-8697-8d358c71338e",
   "metadata": {},
   "source": [
    "## Imports"
   ]
  },
  {
   "cell_type": "code",
   "execution_count": 44,
   "id": "2d1ae4f7-7d8a-41a8-863d-8e8262efd926",
   "metadata": {},
   "outputs": [
    {
     "name": "stdout",
     "output_type": "stream",
     "text": [
      "The autoreload extension is already loaded. To reload it, use:\n",
      "  %reload_ext autoreload\n"
     ]
    }
   ],
   "source": [
    "%load_ext autoreload\n",
    "%autoreload 2"
   ]
  },
  {
   "cell_type": "code",
   "execution_count": 45,
   "id": "initial_id",
   "metadata": {
    "ExecuteTime": {
     "end_time": "2025-06-09T17:31:13.524881Z",
     "start_time": "2025-06-09T17:31:10.715738Z"
    }
   },
   "outputs": [],
   "source": [
    "import jax.numpy as jnp\n",
    "import matplotlib.pyplot as plt\n",
    "import jaxquantum.codes as jqtb\n",
    "import jaxquantum as jqt\n",
    "import jaxquantum.circuits as jqtc\n",
    "import matplotlib.pyplot as plt\n",
    "from tqdm import tqdm\n",
    "import jax\n",
    "import numpy as np\n",
    "from jax.scipy.optimize import minimize\n",
    "\n",
    "plt.style.use('ggplot')"
   ]
  },
  {
   "cell_type": "markdown",
   "id": "59b6bc0e-8754-439b-9c51-ed1158c2c72a",
   "metadata": {},
   "source": [
    "## Check CUDA devs"
   ]
  },
  {
   "cell_type": "code",
   "execution_count": 46,
   "id": "86c27558-5f7b-4a95-8dfe-dfaae2be1b66",
   "metadata": {
    "ExecuteTime": {
     "end_time": "2025-06-05T13:34:43.619868Z",
     "start_time": "2025-06-05T13:34:43.516612Z"
    }
   },
   "outputs": [
    {
     "data": {
      "text/plain": [
       "[CudaDevice(id=0)]"
      ]
     },
     "execution_count": 46,
     "metadata": {},
     "output_type": "execute_result"
    }
   ],
   "source": [
    "jax.devices()"
   ]
  },
  {
   "cell_type": "code",
   "execution_count": 47,
   "id": "b1425255-1471-462a-9152-cce56ad8a4c8",
   "metadata": {
    "ExecuteTime": {
     "end_time": "2025-06-05T13:34:44.289982Z",
     "start_time": "2025-06-05T13:34:44.283486Z"
    }
   },
   "outputs": [
    {
     "data": {
      "text/plain": [
       "{'num_allocs': 34207,\n",
       " 'bytes_in_use': 69057024,\n",
       " 'peak_bytes_in_use': 70495487744,\n",
       " 'largest_alloc_size': 67221136640,\n",
       " 'bytes_limit': 112516399104,\n",
       " 'bytes_reserved': 0,\n",
       " 'peak_bytes_reserved': 0,\n",
       " 'largest_free_block_bytes': 0,\n",
       " 'pool_bytes': 112516399104,\n",
       " 'peak_pool_bytes': 112516399104}"
      ]
     },
     "execution_count": 47,
     "metadata": {},
     "output_type": "execute_result"
    }
   ],
   "source": [
    "jax.devices()[0].memory_stats()"
   ]
  },
  {
   "cell_type": "markdown",
   "id": "746d9601-f6af-4720-ba36-6fabec2ee4bd",
   "metadata": {},
   "source": [
    "## Compute overlap of common states"
   ]
  },
  {
   "cell_type": "code",
   "execution_count": 48,
   "id": "243eb0fa0eaa0ff2",
   "metadata": {
    "ExecuteTime": {
     "end_time": "2025-06-05T13:38:29.583839Z",
     "start_time": "2025-06-05T13:38:26.428137Z"
    }
   },
   "outputs": [
    {
     "name": "stdout",
     "output_type": "stream",
     "text": [
      "1.6624947335665483e-07\n",
      "(0.5000000831247369+0j)\n",
      "(0.929848356770922+0j)\n",
      "(0.99587454530817+0.00015948913139287663j)\n",
      "(-0.9298424147186958+0.00018798802240829317j)\n",
      "(-0.9971281606673759-0.00034558560425609544j)\n",
      "(2.971026174791605e-06-9.399401120177426e-05j)\n",
      "(-0.0006268076795412093+9.304823642435834e-05j)\n",
      "(0.45593812776599607+0j)\n",
      "(0.45593812776599607+0j)\n"
     ]
    }
   ],
   "source": [
    "delta = 0.3\n",
    "gkp_qubit = jqtb.GKPQubit({\"delta\": delta, \"N\": 500})\n",
    "gkp = gkp_qubit.basis[\"+z\"]\n",
    "fully_mixed = (gkp_qubit.basis[\"+z\"].to_dm() + gkp_qubit.basis[\"-z\"].to_dm())/2\n",
    "print(jqt.overlap(gkp_qubit.basis[\"-z\"], gkp_qubit.basis[\"+z\"]))\n",
    "print(jqt.overlap(fully_mixed, gkp_qubit.basis[\"+z\"]))\n",
    "print(jqt.overlap(gkp_qubit.common_gates[\"Z_0\"], gkp_qubit.basis[\"+z\"]))\n",
    "print(jqt.overlap(gkp_qubit.common_gates[\"Z\"], gkp_qubit.basis[\"+z\"]))\n",
    "print(jqt.overlap(gkp_qubit.common_gates[\"Z_0\"], gkp_qubit.basis[\"-z\"]))\n",
    "print(jqt.overlap(gkp_qubit.common_gates[\"Z\"], gkp_qubit.basis[\"-z\"]))\n",
    "print(jqt.overlap(gkp_qubit.common_gates[\"Z_0\"], fully_mixed))\n",
    "print(jqt.overlap(gkp_qubit.common_gates[\"Z\"], fully_mixed))\n",
    "print(jqt.overlap(gkp_qubit.common_gates[\"Z_0\"], jqt.basis(500, 0)))\n",
    "print(jqt.overlap(gkp_qubit.common_gates[\"Z\"], jqt.basis(500, 0)))"
   ]
  },
  {
   "cell_type": "markdown",
   "id": "1aaeaa37-0652-4484-8719-b3ebb2d546b3",
   "metadata": {},
   "source": [
    "## Declare circuit parameters"
   ]
  },
  {
   "cell_type": "code",
   "execution_count": 49,
   "id": "422bbad0-6c22-4d6b-924b-632e2f595570",
   "metadata": {},
   "outputs": [],
   "source": [
    "kappa_min = 1/30 # 1/us\n",
    "kappa_max = 1/30 #1/us\n",
    "T_0_min = 1 #us\n",
    "T_0_max = 6 #us"
   ]
  },
  {
   "cell_type": "code",
   "execution_count": 62,
   "id": "375fedd9-265c-4e3f-b09e-3973dee90abf",
   "metadata": {},
   "outputs": [],
   "source": [
    "N = 125\n",
    "T = 40\n",
    "kappa_0 = 1/30\n",
    "T_0 = 3000/1000\n",
    "kappas = jnp.expand_dims(jnp.linspace(kappa_min, kappa_max, 1), 1)\n",
    "T_0s = jnp.expand_dims(jnp.linspace(T_0_min, T_0_max, 20), 1)\n",
    "kappaTs = kappas @ T_0s.transpose()\n",
    "deltas = jnp.linspace(0.3, 0.6, 40)\n",
    "sd_ratios = jnp.linspace(0.5, 5, 50)\n",
    "times = jnp.linspace(0, T*2*T_0, T+1)"
   ]
  },
  {
   "cell_type": "code",
   "execution_count": 63,
   "id": "4a5b22aa-3253-4928-9df3-7d2804e0f334",
   "metadata": {},
   "outputs": [],
   "source": [
    "best = np.load(\"./data/best_sbs_8.npz\")\n",
    "delta = best[\"deltas\"][-1]\n",
    "sd_ratio = best[\"sd_ratio\"]\n",
    "delta_idx = np.argmin(np.abs(deltas-delta))\n",
    "sd_ratio_idx = np.argmin(np.abs(sd_ratios-sd_ratio))\n",
    "err_prob = 1-jnp.exp(-kappas[0]*T_0s[8])\n",
    "delta = 0.483"
   ]
  },
  {
   "cell_type": "markdown",
   "id": "d49cffe0-cdf1-4518-a201-64c2be85ed81",
   "metadata": {},
   "source": [
    "## Sweep circuit parameters"
   ]
  },
  {
   "cell_type": "code",
   "execution_count": 64,
   "id": "de90895b-0752-4ed4-afa7-df9cd30c71c9",
   "metadata": {},
   "outputs": [],
   "source": [
    "@jax.jit\n",
    "def sBs_round(initial_state, alphas, phis, thetas, reset_p, err_prob):\n",
    "    N = initial_state.space_dims[1]\n",
    "    reg = jqtc.Register([2, N])\n",
    "\n",
    "    cirq = jqtc.Circuit.create(reg, layers=[])\n",
    "\n",
    "    cirq.append(jqtc.Ry(jnp.pi / 2), 0)\n",
    "    cirq.append(jqtc.CD(N, alphas[0]), [0, 1])\n",
    "    cirq.append(jqtc.Ry(phis[0]), 0)\n",
    "    cirq.append(jqtc.Rx(thetas[0]), 0)\n",
    "    cirq.append(jqtc.CD(N, alphas[1]), [0, 1])\n",
    "    cirq.append(jqtc.Ry(phis[1]), 0)\n",
    "    cirq.append(jqtc.Rx(thetas[1]), 0)\n",
    "    cirq.append(jqtc.CD(N, alphas[2]), [0, 1])\n",
    "    cirq.append(jqtc.IP_Reset(reset_p[0], reset_p[1]), 0)\n",
    "\n",
    "    cirq.append(jqtc.Amp_Damp(N, err_prob, 20), 1)\n",
    "\n",
    "    res = jqtc.simulate(cirq, initial_state, mode='kraus')\n",
    "    final_state = res[-1][-1]\n",
    "\n",
    "    return final_state"
   ]
  },
  {
   "cell_type": "code",
   "execution_count": 65,
   "id": "fa0449f9-11e7-40e3-993b-587e45602564",
   "metadata": {},
   "outputs": [],
   "source": [
    "def sbs_batch(delta, sd_ratio, reset_p, err_prob):\n",
    "    l = jnp.sqrt(2*jnp.pi)\n",
    "    epsilon = jnp.sinh(delta*delta)*l\n",
    "\n",
    "    alphas_real = jnp.array([epsilon/2, 0., sd_ratio*epsilon/2, 0., l, 0.])\n",
    "    alphas_imag = jnp.array([0., -l, 0., epsilon/2, 0., sd_ratio*epsilon/2])\n",
    "    alphas = alphas_real + alphas_imag * 1.j\n",
    "    phis = jnp.array([0., 0., 0., 0.])\n",
    "    thetas = jnp.array([jnp.pi/2, -jnp.pi/2, jnp.pi/2, -jnp.pi/2])\n",
    "    exp_X = []\n",
    "    exp_Z = []\n",
    "    for axis in [\"Z\", \"X\"]:\n",
    "        gkp_qubit = jqtb.GKPQubit({\"delta\": delta, \"N\": N})\n",
    "        gkp = gkp_qubit.basis[\"+z\"] if axis == \"Z\" else gkp_qubit.basis[\"+x\"]\n",
    "\n",
    "        initial_state = jqt.basis(2, 0) ^ gkp\n",
    "        current_state = initial_state\n",
    "\n",
    "        if axis==\"Z\":\n",
    "            exp_Z.append(jnp.real(jqt.overlap(gkp_qubit.common_gates[\"Z_0\"], current_state.ptrace(1))))\n",
    "        else:\n",
    "            exp_X.append(jnp.real(jqt.overlap(gkp_qubit.common_gates[\"X_0\"], current_state.ptrace(1))))\n",
    "        \n",
    "        for _ in range(T):\n",
    "\n",
    "            current_state = sBs_round(current_state, alphas[0:3], phis[0:2],\n",
    "                                      thetas[0:2], reset_p, err_prob)\n",
    "            current_state = sBs_round(current_state, alphas[3:6], phis[2:4],\n",
    "                                      thetas[2:4], reset_p, err_prob)\n",
    "            if axis==\"Z\":\n",
    "                exp_Z.append(jnp.real(jqt.overlap(gkp_qubit.common_gates[\"Z_0\"], current_state.ptrace(1))))\n",
    "            else:\n",
    "                exp_X.append(jnp.real(jqt.overlap(gkp_qubit.common_gates[\"X_0\"], current_state.ptrace(1))))\n",
    "    \n",
    "    return jnp.array([exp_Zi / 2 + exp_Xi / 2 for (exp_Zi, exp_Xi) in zip(exp_Z, exp_X)])"
   ]
  },
  {
   "cell_type": "code",
   "execution_count": 66,
   "id": "46759241-734b-4b06-a625-2b59f4bf4eb9",
   "metadata": {},
   "outputs": [],
   "source": [
    "def fit_t1(times, amps):\n",
    "    def exponential(a):\n",
    "        return jnp.sum((a[0]*jnp.exp(a[1]*times)-amps)**2)\n",
    "    scipy_res= minimize(exponential, jnp.array([0., 0.]), method=\"BFGS\")\n",
    "    return scipy_res"
   ]
  },
  {
   "cell_type": "code",
   "execution_count": 67,
   "id": "a02e857a-fd23-46af-a9ae-c32264a948d3",
   "metadata": {},
   "outputs": [],
   "source": [
    "reset_p_eg = jnp.linspace(0, 0.3, 40)\n",
    "reset_p_ee = jnp.linspace(0, 0.3, 40)"
   ]
  },
  {
   "cell_type": "code",
   "execution_count": 68,
   "id": "e7290817-c688-41b4-ae21-80b356a08784",
   "metadata": {},
   "outputs": [],
   "source": [
    "reset_p_eg_mg, reset_p_ee_mg = jnp.meshgrid(reset_p_eg, reset_p_ee)"
   ]
  },
  {
   "cell_type": "code",
   "execution_count": 69,
   "id": "2d5303ba-d3cc-4421-b596-ebf7c9cfe12d",
   "metadata": {},
   "outputs": [],
   "source": [
    "reset_p_mg = jnp.stack((reset_p_eg_mg, reset_p_ee_mg), axis=2)"
   ]
  },
  {
   "cell_type": "code",
   "execution_count": 70,
   "id": "f02b2fea-5b1b-4913-9726-b3bb6a660e74",
   "metadata": {},
   "outputs": [],
   "source": [
    "sbs = jax.vmap(jax.vmap(sbs_batch, in_axes=(None, None, 0, None), out_axes=0), in_axes=(None, None, 0, None), out_axes=0)\n",
    "fit_t1_vmap = jax.vmap(jax.vmap(fit_t1, (None, 0), 0), (None, 0), 0)"
   ]
  },
  {
   "cell_type": "code",
   "execution_count": 71,
   "id": "17460d0b-d74f-4f36-a8cd-6cf6c399c3f4",
   "metadata": {},
   "outputs": [],
   "source": [
    "result = jnp.abs(sbs(delta, sd_ratio, reset_p_mg, err_prob))"
   ]
  },
  {
   "cell_type": "code",
   "execution_count": 72,
   "id": "537a5729-042a-4d82-ab52-af64269a9a0f",
   "metadata": {},
   "outputs": [],
   "source": [
    "coeff = fit_t1_vmap(times, result).x\n",
    "t1 = -1/(coeff[:, :, 1])"
   ]
  },
  {
   "cell_type": "code",
   "execution_count": 73,
   "id": "180473e8-7dd7-43c3-8cb3-bc0bf524c1c4",
   "metadata": {},
   "outputs": [
    {
     "data": {
      "text/plain": [
       "Text(0.5, 1.0, 'Imperfect Reset; $\\\\Delta=0.483, T_{sBs}/2 = 3.0 \\\\mu s, \\\\kappa^-1=30 \\\\mu s $')"
      ]
     },
     "execution_count": 73,
     "metadata": {},
     "output_type": "execute_result"
    },
    {
     "data": {
      "image/png": "[encoded data removed]",
      "text/plain": [
       "<Figure size 1000x600 with 2 Axes>"
      ]
     },
     "metadata": {},
     "output_type": "display_data"
    }
   ],
   "source": [
    "fig, ax = plt.subplots(1, figsize=(5, 3), dpi=200)\n",
    "handle = ax.pcolormesh(reset_p_eg_mg, reset_p_ee_mg, t1, shading='nearest')\n",
    "fig.colorbar(handle, ax=ax, label=\"Lifetime $[\\mu s]$\", ticks=[30, 40, 50, 60])\n",
    "ax.set_xlabel(r\"$p_{eg}$\")\n",
    "ax.set_ylabel(r\"$p_{ee}$\")\n",
    "ax.set_xticks(np.linspace(0, 0.3, 4))\n",
    "ax.set_yticks(np.linspace(0, 0.3, 4))\n",
    "ax.set_title(f\"Imperfect Reset; $\\\\Delta={delta:.3f}, T_{{sBs}}/2 = {T_0:.1f} \\mu s, \\kappa^{-1}={1/(kappas[0][0]):.0f} \\mu s $\", fontsize=10)"
   ]
  },
  {
   "cell_type": "code",
   "execution_count": 31,
   "id": "9545cf9e-f5e0-4f63-bb7d-d29e725e8e3b",
   "metadata": {},
   "outputs": [
    {
     "data": {
      "text/plain": [
       "Text(0.5, 0.98, '$T_L=17.565727806729836\\\\;\\\\mu s$')"
      ]
     },
     "execution_count": 31,
     "metadata": {},
     "output_type": "execute_result"
    },
    {
     "data": {
      "image/png": "[encoded data removed]",
      "text/plain": [
       "<Figure size 500x400 with 1 Axes>"
      ]
     },
     "metadata": {},
     "output_type": "display_data"
    }
   ],
   "source": [
    "fig, axs = plt.subplots(1, figsize=(5, 4))\n",
    "\n",
    "axs.scatter(times, result)\n",
    "fit_f = coeff[0]*jnp.exp(coeff[1]*times)\n",
    "axs.plot(times, fit_f)\n",
    "axs.set_xlabel(\"$t [\\mu s]$\")\n",
    "axs.set_ylabel(\"Logical Pop\")\n",
    "fig.suptitle(f\"$T_L={t1}\\;\\mu s$\")"
   ]
  },
  {
   "cell_type": "code",
   "execution_count": null,
   "id": "1a8b55d9-775d-4296-b783-5607f4a75801",
   "metadata": {},
   "outputs": [],
   "source": []
  }
 ],
 "metadata": {
  "kernelspec": {
   "display_name": "Python 3 (ipykernel)",
   "language": "python",
   "name": "python3"
  },
  "language_info": {
   "codemirror_mode": {
    "name": "ipython",
    "version": 3
   },
   "file_extension": ".py",
   "mimetype": "text/x-python",
   "name": "python",
   "nbconvert_exporter": "python",
   "pygments_lexer": "ipython3",
   "version": "3.11.12"
  }
 },
 "nbformat": 4,
 "nbformat_minor": 5
}
