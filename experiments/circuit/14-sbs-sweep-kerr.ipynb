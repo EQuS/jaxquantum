{
 "cells": [
  {
   "cell_type": "markdown",
   "id": "49cb0377-3d8d-4a2e-8697-8d358c71338e",
   "metadata": {},
   "source": [
    "## Imports"
   ]
  },
  {
   "cell_type": "code",
   "execution_count": 1,
   "id": "69399fec-f5b6-4c99-85ca-5a40d5c08c75",
   "metadata": {},
   "outputs": [
    {
     "name": "stdout",
     "output_type": "stream",
     "text": [
      "env: XLA_PYTHON_CLIENT_ALLOCATOR=platform\n"
     ]
    }
   ],
   "source": [
    "%load_ext autoreload\n",
    "%autoreload 2\n",
    "%env XLA_PYTHON_CLIENT_ALLOCATOR=platform"
   ]
  },
  {
   "cell_type": "code",
   "execution_count": 2,
   "id": "initial_id",
   "metadata": {
    "ExecuteTime": {
     "end_time": "2025-06-09T17:31:13.524881Z",
     "start_time": "2025-06-09T17:31:10.715738Z"
    }
   },
   "outputs": [
    {
     "name": "stderr",
     "output_type": "stream",
     "text": [
      "/home/rolleri/.conda/envs/jax-sims/lib/python3.11/site-packages/tqdm/auto.py:21: TqdmWarning: IProgress not found. Please update jupyter and ipywidgets. See https://ipywidgets.readthedocs.io/en/stable/user_install.html\n",
      "  from .autonotebook import tqdm as notebook_tqdm\n"
     ]
    }
   ],
   "source": [
    "import jax.numpy as jnp\n",
    "import matplotlib.pyplot as plt\n",
    "import jaxquantum.codes as jqtb\n",
    "import jaxquantum as jqt\n",
    "import jaxquantum.circuits as jqtc\n",
    "import matplotlib.pyplot as plt\n",
    "from tqdm import tqdm\n",
    "import jax\n",
    "import numpy as np\n",
    "from jax_tqdm import scan_tqdm\n",
    "from jaxopt import GaussNewton\n",
    "plt.style.use('ggplot')"
   ]
  },
  {
   "cell_type": "markdown",
   "id": "59b6bc0e-8754-439b-9c51-ed1158c2c72a",
   "metadata": {},
   "source": [
    "## Check CUDA devs"
   ]
  },
  {
   "cell_type": "code",
   "execution_count": 3,
   "id": "86c27558-5f7b-4a95-8dfe-dfaae2be1b66",
   "metadata": {
    "ExecuteTime": {
     "end_time": "2025-06-05T13:34:43.619868Z",
     "start_time": "2025-06-05T13:34:43.516612Z"
    }
   },
   "outputs": [
    {
     "data": {
      "text/plain": [
       "[CudaDevice(id=0)]"
      ]
     },
     "execution_count": 3,
     "metadata": {},
     "output_type": "execute_result"
    }
   ],
   "source": [
    "jax.devices()"
   ]
  },
  {
   "cell_type": "code",
   "execution_count": 4,
   "id": "b1425255-1471-462a-9152-cce56ad8a4c8",
   "metadata": {
    "ExecuteTime": {
     "end_time": "2025-06-05T13:34:44.289982Z",
     "start_time": "2025-06-05T13:34:44.283486Z"
    }
   },
   "outputs": [],
   "source": [
    "jax.devices()[0].memory_stats()"
   ]
  },
  {
   "cell_type": "markdown",
   "id": "1aaeaa37-0652-4484-8719-b3ebb2d546b3",
   "metadata": {},
   "source": [
    "## Declare circuit parameters"
   ]
  },
  {
   "cell_type": "code",
   "execution_count": 5,
   "id": "375fedd9-265c-4e3f-b09e-3973dee90abf",
   "metadata": {},
   "outputs": [],
   "source": [
    "N = 125\n",
    "T = 100\n",
    "kappa_0 = 0*1/100\n",
    "\n",
    "t_R = 56 #ns\n",
    "t_reset = 300 #ns\n",
    "kerrs = jnp.array([0, 1, 2, 5, 10, 20, 50, 100, 200, 500, 1000, 2000, 5000, 10000])*1e-9 #GHz\n",
    "a = jqt.destroy(N)"
   ]
  },
  {
   "cell_type": "code",
   "execution_count": 6,
   "id": "cbb8b983-e118-4dba-bfa7-94a07320ed10",
   "metadata": {},
   "outputs": [],
   "source": [
    "linear_delays = np.load(\"cd_delay_times.npz\", allow_pickle = True)[\"data\"].tolist()[10.5][\"total_ecd_times\"][7:]"
   ]
  },
  {
   "cell_type": "code",
   "execution_count": 7,
   "id": "785e15c4-a4de-4ea4-a5b2-ea1fc276fb3a",
   "metadata": {},
   "outputs": [],
   "source": [
    "linear_betas = np.load(\"cd_delay_times.npz\", allow_pickle = True)[\"data\"].tolist()[10.5][\"betas\"][7:]"
   ]
  },
  {
   "cell_type": "code",
   "execution_count": 8,
   "id": "67f3cb0b-6f13-4655-8e82-5b5b561760c8",
   "metadata": {},
   "outputs": [],
   "source": [
    "p = jnp.polyfit(linear_betas, linear_delays, 1)"
   ]
  },
  {
   "cell_type": "code",
   "execution_count": 9,
   "id": "d70ee8ed-bfb5-4534-9515-1f527bde92e7",
   "metadata": {},
   "outputs": [],
   "source": [
    "def t_CD(beta):\n",
    "    return jax.lax.max(linear_delays[0], jnp.polyval(p, beta)) #ns"
   ]
  },
  {
   "cell_type": "code",
   "execution_count": 10,
   "id": "9b4ec7bb-669b-4fc5-8bd2-234268b72736",
   "metadata": {},
   "outputs": [],
   "source": [
    "betas = jnp.array(np.load(\"cd_delay_times.npz\", allow_pickle = True)[\"data\"].tolist()[10.5][\"betas\"])"
   ]
  },
  {
   "cell_type": "code",
   "execution_count": 11,
   "id": "a1248f88-c3f7-49cf-b1e9-3e4721b7b947",
   "metadata": {},
   "outputs": [
    {
     "data": {
      "text/plain": [
       "[<matplotlib.lines.Line2D at 0x14d090171410>]"
      ]
     },
     "execution_count": 11,
     "metadata": {},
     "output_type": "execute_result"
    },
    {
     "data": {
      "image/png": "[encoded data removed]",
      "text/plain": [
       "<Figure size 640x480 with 1 Axes>"
      ]
     },
     "metadata": {},
     "output_type": "display_data"
    }
   ],
   "source": [
    "plt.plot(betas, t_CD(betas))"
   ]
  },
  {
   "cell_type": "code",
   "execution_count": 12,
   "id": "1e1a5668-f361-4c88-90ad-5d4e8c0cb8fa",
   "metadata": {},
   "outputs": [],
   "source": [
    "deltas = jnp.linspace(0.25, 0.5, 10)\n",
    "l = jnp.sqrt(2*jnp.pi)\n",
    "epsilon = jnp.sinh(deltas*deltas)*l\n",
    "\n",
    "alphas_real = jnp.array([epsilon/2, jnp.zeros_like(epsilon), epsilon/2, jnp.zeros_like(epsilon), l*jnp.ones_like(epsilon), jnp.zeros_like(epsilon)])\n",
    "alphas_imag = jnp.array([jnp.zeros_like(epsilon), -l*jnp.ones_like(epsilon), jnp.zeros_like(epsilon), epsilon/2, jnp.zeros_like(epsilon), epsilon/2])\n",
    "alphas = alphas_real + alphas_imag * 1.j\n",
    "T_0s = (5*t_R + t_CD(jnp.abs(alphas[0, :])) +t_CD(jnp.abs(alphas[1, :])) + t_CD(jnp.abs(alphas[2, :])) + t_reset)/1000\n",
    "err_probs = 1-jnp.exp(-kappa_0*T_0s)\n",
    "\n",
    "times = jnp.linspace(0, T*2*T_0s, T+1)"
   ]
  },
  {
   "cell_type": "code",
   "execution_count": 13,
   "id": "14edf3a3-dc89-4d36-aa0c-491f4b288349",
   "metadata": {},
   "outputs": [
    {
     "data": {
      "text/plain": [
       "(101, 10)"
      ]
     },
     "execution_count": 13,
     "metadata": {},
     "output_type": "execute_result"
    }
   ],
   "source": [
    "times.shape"
   ]
  },
  {
   "cell_type": "markdown",
   "id": "d49cffe0-cdf1-4518-a201-64c2be85ed81",
   "metadata": {},
   "source": [
    "## Sweep circuit parameters"
   ]
  },
  {
   "cell_type": "code",
   "execution_count": 14,
   "id": "de90895b-0752-4ed4-afa7-df9cd30c71c9",
   "metadata": {},
   "outputs": [],
   "source": [
    "def sBs_half_round(initial_state, alphas, phis, thetas, err_prob, kerr):\n",
    "    N = initial_state.space_dims[1]\n",
    "    reg = jqtc.Register([2, N])\n",
    "\n",
    "    cirq = jqtc.Circuit.create(reg, layers=[])\n",
    "\n",
    "    def Ht(_):\n",
    "        return kerr/2 * jqt.identity(2) ^ (a.dag() @ a.dag() @ a @ a)\n",
    "\n",
    "    Idle_gate = jqtc.Id([2,N])\n",
    "    Kerr = Idle_gate.add_Ht(Ht)\n",
    "            \n",
    "    cirq.append(jqtc.Ry(jnp.pi / 2, ts=jnp.linspace(0, t_R, 100)), 0, default_simulate_mode=\"hamiltonian\")\n",
    "    cirq.append(Kerr, [0,1], new_layer=False)\n",
    "    cirq.append(jqtc.CD(N, alphas[0], ts=jnp.linspace(0, t_CD(jnp.abs(alphas[0])), 100)), [0, 1], default_simulate_mode=\"hamiltonian\")\n",
    "    cirq.append(Kerr, [0,1], new_layer=False)\n",
    "    cirq.append(jqtc.Ry(phis[0], ts=jnp.linspace(0, t_R, 100)), 0, default_simulate_mode=\"hamiltonian\")\n",
    "    cirq.append(Kerr, [0,1], new_layer=False)\n",
    "    cirq.append(jqtc.Rx(thetas[0], ts=jnp.linspace(0, t_R, 100)), 0, default_simulate_mode=\"hamiltonian\")\n",
    "    cirq.append(Kerr, [0,1], new_layer=False)\n",
    "    cirq.append(jqtc.CD(N, alphas[1], ts=jnp.linspace(0, t_CD(jnp.abs(alphas[1])), 100)), [0, 1], default_simulate_mode=\"hamiltonian\")\n",
    "    cirq.append(Kerr, [0,1], new_layer=False)\n",
    "    cirq.append(jqtc.Ry(phis[1], ts=jnp.linspace(0, t_R, 100)), 0, default_simulate_mode=\"hamiltonian\")\n",
    "    cirq.append(Kerr, [0,1], new_layer=False)\n",
    "    cirq.append(jqtc.Rx(thetas[1], ts=jnp.linspace(0, t_R, 100)), 0, default_simulate_mode=\"hamiltonian\")\n",
    "    cirq.append(Kerr, [0,1], new_layer=False)\n",
    "    cirq.append(jqtc.CD(N, alphas[2], ts=jnp.linspace(0, t_CD(jnp.abs(alphas[2])), 100)), [0, 1], default_simulate_mode=\"hamiltonian\")\n",
    "    cirq.append(Kerr, [0,1], new_layer=False)\n",
    "    cirq.append(jqtc.Reset(), 0, default_simulate_mode=\"kraus\")\n",
    "    cirq.append(jqtc.selfKerr(N, kerr*t_reset), 1, default_simulate_mode=\"unitary\")\n",
    "\n",
    "    cirq.append(jqtc.Amp_Damp(N, err_prob, 20), 1, default_simulate_mode=\"kraus\")\n",
    "\n",
    "    res = jqtc.simulate(cirq, initial_state, mode='default')\n",
    "    final_state = res[-1][-1]\n",
    "\n",
    "    return final_state"
   ]
  },
  {
   "cell_type": "code",
   "execution_count": 15,
   "id": "fa0449f9-11e7-40e3-993b-587e45602564",
   "metadata": {},
   "outputs": [],
   "source": [
    "@jax.jit\n",
    "def sbs_batch(delta, kerr, err_prob):\n",
    "    l = jnp.sqrt(2*jnp.pi)\n",
    "    epsilon = jnp.sinh(delta*delta)*l\n",
    "\n",
    "    alphas_real = jnp.array([epsilon/2, 0., epsilon/2, 0., l, 0.])\n",
    "    alphas_imag = jnp.array([0., -l, 0., epsilon/2, 0., epsilon/2])\n",
    "    alphas = alphas_real + alphas_imag * 1.j\n",
    "    phis = jnp.array([0., 0., 0., 0.])\n",
    "    thetas = jnp.array([jnp.pi/2, -jnp.pi/2, jnp.pi/2, -jnp.pi/2])\n",
    "\n",
    "    \n",
    "    gkp_qubit = jqtb.GKPQubit({\"delta\": delta, \"N\": N})\n",
    "    gkp = gkp_qubit.basis[\"+z\"]\n",
    "\n",
    "    initial_state = jqt.basis(2, 0) ^ gkp\n",
    "\n",
    "\n",
    "    exp_Z0 = jnp.array([jnp.real(jqt.overlap(gkp_qubit.common_gates[\"Z_0\"], initial_state.ptrace(1)))])\n",
    "    \n",
    "    initial_carry = initial_state.to_dm()\n",
    "    \n",
    "    @scan_tqdm(T)\n",
    "    def sbs_round(carry, _):\n",
    "        current_state = carry\n",
    "        current_state = sBs_half_round(current_state, alphas[0:3], phis[0:2],\n",
    "                                  thetas[0:2], err_prob, kerr)\n",
    "        current_state = sBs_half_round(current_state, alphas[3:6], phis[2:4],\n",
    "                                  thetas[2:4], err_prob, kerr)\n",
    "        exp = jnp.real(jqt.overlap(gkp_qubit.common_gates[\"Z_0\"], current_state.ptrace(1)))\n",
    "        return (current_state, exp)\n",
    "\n",
    "    final_carry, hist = jax.lax.scan(sbs_round, initial_carry, jnp.arange(T), length=T)\n",
    "\n",
    "    exp_Z = jnp.concatenate((exp_Z0, hist))\n",
    "    \n",
    "    gkp_qubit = jqtb.GKPQubit({\"delta\": delta, \"N\": N})\n",
    "    gkp = gkp_qubit.basis[\"+x\"]\n",
    "\n",
    "    initial_state = jqt.basis(2, 0) ^ gkp\n",
    "\n",
    "\n",
    "    exp_X0 = jnp.array([jnp.real(jqt.overlap(gkp_qubit.common_gates[\"X_0\"], initial_state.ptrace(1)))])\n",
    "    \n",
    "    initial_carry = initial_state.to_dm()\n",
    "    \n",
    "    @scan_tqdm(T)\n",
    "    def sbs_round(carry, _):\n",
    "        current_state = carry\n",
    "        current_state = sBs_half_round(current_state, alphas[0:3], phis[0:2],\n",
    "                                  thetas[0:2], err_prob, kerr)\n",
    "        current_state = sBs_half_round(current_state, alphas[3:6], phis[2:4],\n",
    "                                  thetas[2:4], err_prob, kerr)\n",
    "        exp = jnp.real(jqt.overlap(gkp_qubit.common_gates[\"X_0\"], current_state.ptrace(1)))\n",
    "        return (current_state, exp)\n",
    "\n",
    "    final_carry, hist = jax.lax.scan(sbs_round, initial_carry, jnp.arange(T), length=T)\n",
    "\n",
    "    exp_X = jnp.concatenate((exp_X0, hist))\n",
    "    \n",
    "    return 0.5*(exp_X + exp_Z)"
   ]
  },
  {
   "cell_type": "code",
   "execution_count": 16,
   "id": "46759241-734b-4b06-a625-2b59f4bf4eb9",
   "metadata": {},
   "outputs": [],
   "source": [
    "def fit_t1(times, amps, guess):\n",
    "    def exponential(x, x_data, y_data):\n",
    "        return y_data-x[0]*jnp.exp(x[1]*x_data)\n",
    "    gn = GaussNewton(residual_fun=exponential)\n",
    "    gn_sol = gn.run(guess, x_data=times, y_data=amps)\n",
    "    return gn_sol.params, gn_sol.state.error"
   ]
  },
  {
   "cell_type": "code",
   "execution_count": 17,
   "id": "34437d6f-2dd6-4b43-b97b-025d1b113ce5",
   "metadata": {},
   "outputs": [],
   "source": [
    "sbs = jax.vmap(jax.vmap(sbs_batch, (0, 0, 0), 0), (0, 0, 0), 0)\n",
    "fit_t1_vmap = jax.vmap(jax.vmap(fit_t1, (0, 0, None), 0), (0, 0, None), 0)"
   ]
  },
  {
   "cell_type": "code",
   "execution_count": 18,
   "id": "182ecb321576c5e4",
   "metadata": {
    "ExecuteTime": {
     "end_time": "2025-06-09T17:34:04.726203Z",
     "start_time": "2025-06-09T17:34:04.680654Z"
    }
   },
   "outputs": [],
   "source": [
    "deltas_mg, kerrs_mg = jnp.meshgrid(deltas, kerrs)"
   ]
  },
  {
   "cell_type": "code",
   "execution_count": 19,
   "id": "3c60349f-bf0a-4f37-811a-0619a9ef6220",
   "metadata": {},
   "outputs": [],
   "source": [
    "err_probs_mg, kerrs_mg = jnp.meshgrid(err_probs, kerrs)"
   ]
  },
  {
   "cell_type": "code",
   "execution_count": 20,
   "id": "a92f60d5-76cd-407d-b2d2-6b4fb5c98b3f",
   "metadata": {},
   "outputs": [],
   "source": [
    "times_mg = times[:,None,:]\n",
    "times_mg = np.repeat(times_mg, kerrs.shape[0], 1)"
   ]
  },
  {
   "cell_type": "code",
   "execution_count": 21,
   "id": "80ab09e1-08f8-4795-a381-728acfadf8f2",
   "metadata": {},
   "outputs": [],
   "source": [
    "times_mg = jnp.swapaxes(jnp.swapaxes(times_mg, 0, 2), 0, 1)"
   ]
  },
  {
   "cell_type": "code",
   "execution_count": null,
   "id": "ff957579-42a7-49c3-82cd-c713d1664a16",
   "metadata": {},
   "outputs": [
    {
     "name": "stderr",
     "output_type": "stream",
     "text": [
      "Running for 100 iterations:   0%|                                                               | 0/100 [00:00<?, ?it/s]"
     ]
    }
   ],
   "source": [
    "results = jnp.abs(sbs(deltas_mg, kerrs_mg, err_probs_mg))"
   ]
  },
  {
   "cell_type": "code",
   "execution_count": null,
   "id": "77bed61f-2555-461c-833b-fdb810e5da74",
   "metadata": {},
   "outputs": [],
   "source": [
    "fit_res = fit_t1_vmap(times_mg, results, jnp.array([1., -0.005]))\n",
    "coeff = fit_res[0]\n",
    "residuals = fit_res[1]\n",
    "mask_threshold = 1\n",
    "mask = np.array(residuals<mask_threshold)\n",
    "t1s = -1/coeff[:,:,1]\n",
    "masked_t1s = np.ma.masked_array(np.array(t1s), np.logical_not(mask))"
   ]
  },
  {
   "cell_type": "code",
   "execution_count": null,
   "id": "cf4672ce-31fb-401b-96e8-bcf39bbabcd3",
   "metadata": {},
   "outputs": [],
   "source": [
    "fig, ax = plt.subplots(1, figsize=(10, 7))\n",
    "handle = ax.pcolormesh(deltas_mg[1:], kerrs_mg[1:]*1e9, masked_t1s[1:], shading='nearest')\n",
    "fig.colorbar(handle, ax=ax, label=\"Lifetime $[\\\\mu s]$\")\n",
    "ax.set_xlabel(r\"$\\Delta$\")\n",
    "ax.set_ylabel(r\"$\\text{K}_a\\;[\\text{Hz}]$\")\n",
    "ax.set_yscale(\"log\")\n",
    "ax.set_title(\"Logical lifetime; $\\\\kappa=(100\\\\mu s)^{-1}$\")"
   ]
  }
 ],
 "metadata": {
  "kernelspec": {
   "display_name": "Python 3 (ipykernel)",
   "language": "python",
   "name": "python3"
  },
  "language_info": {
   "codemirror_mode": {
    "name": "ipython",
    "version": 3
   },
   "file_extension": ".py",
   "mimetype": "text/x-python",
   "name": "python",
   "nbconvert_exporter": "python",
   "pygments_lexer": "ipython3",
   "version": "3.11.12"
  }
 },
 "nbformat": 4,
 "nbformat_minor": 5
}
