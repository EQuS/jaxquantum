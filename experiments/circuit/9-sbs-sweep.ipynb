{
 "cells": [
  {
   "cell_type": "markdown",
   "id": "49cb0377-3d8d-4a2e-8697-8d358c71338e",
   "metadata": {},
   "source": [
    "## Imports"
   ]
  },
  {
   "cell_type": "code",
   "execution_count": null,
   "id": "initial_id",
   "metadata": {
    "ExecuteTime": {
     "end_time": "2025-06-09T17:31:13.524881Z",
     "start_time": "2025-06-09T17:31:10.715738Z"
    }
   },
   "outputs": [],
   "source": [
    "import jax.numpy as jnp\n",
    "import matplotlib.pyplot as plt\n",
    "import jaxquantum.codes as jqtb\n",
    "import jaxquantum as jqt\n",
    "import jaxquantum.circuits as jqtc\n",
    "import matplotlib.pyplot as plt\n",
    "from tqdm import tqdm\n",
    "import jax\n",
    "import numpy as np\n",
    "\n",
    "plt.style.use('ggplot')"
   ]
  },
  {
   "cell_type": "markdown",
   "id": "59b6bc0e-8754-439b-9c51-ed1158c2c72a",
   "metadata": {},
   "source": [
    "## Check CUDA devs"
   ]
  },
  {
   "cell_type": "code",
   "execution_count": null,
   "id": "86c27558-5f7b-4a95-8dfe-dfaae2be1b66",
   "metadata": {
    "ExecuteTime": {
     "end_time": "2025-06-05T13:34:43.619868Z",
     "start_time": "2025-06-05T13:34:43.516612Z"
    }
   },
   "outputs": [],
   "source": [
    "jax.devices()"
   ]
  },
  {
   "cell_type": "code",
   "execution_count": null,
   "id": "b1425255-1471-462a-9152-cce56ad8a4c8",
   "metadata": {
    "ExecuteTime": {
     "end_time": "2025-06-05T13:34:44.289982Z",
     "start_time": "2025-06-05T13:34:44.283486Z"
    }
   },
   "outputs": [],
   "source": [
    "jax.devices()[0].memory_stats()"
   ]
  },
  {
   "cell_type": "markdown",
   "id": "746d9601-f6af-4720-ba36-6fabec2ee4bd",
   "metadata": {},
   "source": [
    "## Compute overlap of common states"
   ]
  },
  {
   "cell_type": "code",
   "execution_count": null,
   "id": "243eb0fa0eaa0ff2",
   "metadata": {
    "ExecuteTime": {
     "end_time": "2025-06-05T13:38:29.583839Z",
     "start_time": "2025-06-05T13:38:26.428137Z"
    }
   },
   "outputs": [],
   "source": [
    "delta = 0.3\n",
    "gkp_qubit = jqtb.GKPQubit({\"delta\": delta, \"N\": 500})\n",
    "gkp = gkp_qubit.basis[\"+z\"]\n",
    "fully_mixed = (gkp_qubit.basis[\"+z\"].to_dm() + gkp_qubit.basis[\"-z\"].to_dm())/2\n",
    "print(jqt.overlap(gkp_qubit.basis[\"-z\"], gkp_qubit.basis[\"+z\"]))\n",
    "print(jqt.overlap(fully_mixed, gkp_qubit.basis[\"+z\"]))\n",
    "print(jqt.overlap(gkp_qubit.common_gates[\"Z_0\"], gkp_qubit.basis[\"+z\"]))\n",
    "print(jqt.overlap(gkp_qubit.common_gates[\"Z\"], gkp_qubit.basis[\"+z\"]))\n",
    "print(jqt.overlap(gkp_qubit.common_gates[\"Z_0\"], gkp_qubit.basis[\"-z\"]))\n",
    "print(jqt.overlap(gkp_qubit.common_gates[\"Z\"], gkp_qubit.basis[\"-z\"]))\n",
    "print(jqt.overlap(gkp_qubit.common_gates[\"Z_0\"], fully_mixed))\n",
    "print(jqt.overlap(gkp_qubit.common_gates[\"Z\"], fully_mixed))\n",
    "print(jqt.overlap(gkp_qubit.common_gates[\"Z_0\"], jqt.basis(500, 0)))\n",
    "print(jqt.overlap(gkp_qubit.common_gates[\"Z\"], jqt.basis(500, 0)))"
   ]
  },
  {
   "cell_type": "markdown",
   "id": "1aaeaa37-0652-4484-8719-b3ebb2d546b3",
   "metadata": {},
   "source": [
    "## Declare circuit parameters"
   ]
  },
  {
   "cell_type": "code",
   "execution_count": null,
   "id": "375fedd9-265c-4e3f-b09e-3973dee90abf",
   "metadata": {},
   "outputs": [],
   "source": [
    "N = 125\n",
    "T = 100\n",
    "kappa_0 = 1/30\n",
    "T_0 = 2276/1000\n",
    "err_prob = 1-jnp.exp(-kappa_0*T_0)\n",
    "deltas = jnp.linspace(0.25, 0.6, 40)\n",
    "sd_ratios = jnp.linspace(0.5, 5, 50)\n",
    "times = jnp.linspace(0, T*2*T_0, T+1)"
   ]
  },
  {
   "cell_type": "markdown",
   "id": "d49cffe0-cdf1-4518-a201-64c2be85ed81",
   "metadata": {},
   "source": [
    "## Sweep circuit parameters"
   ]
  },
  {
   "cell_type": "code",
   "execution_count": null,
   "id": "de90895b-0752-4ed4-afa7-df9cd30c71c9",
   "metadata": {},
   "outputs": [],
   "source": [
    "@jax.jit\n",
    "def sBs_round(initial_state, alphas, phis, thetas, err_prob):\n",
    "    N = initial_state.space_dims[1]\n",
    "    reg = jqtc.Register([2, N])\n",
    "\n",
    "    cirq = jqtc.Circuit.create(reg, layers=[])\n",
    "\n",
    "    cirq.append(jqtc.Ry(jnp.pi / 2), 0)\n",
    "    cirq.append(jqtc.CD(N, alphas[0]), [0, 1])\n",
    "    cirq.append(jqtc.Ry(phis[0]), 0)\n",
    "    cirq.append(jqtc.Rx(thetas[0]), 0)\n",
    "    cirq.append(jqtc.CD(N, alphas[1]), [0, 1])\n",
    "    cirq.append(jqtc.Ry(phis[1]), 0)\n",
    "    cirq.append(jqtc.Rx(thetas[1]), 0)\n",
    "    cirq.append(jqtc.CD(N, alphas[2]), [0, 1])\n",
    "    cirq.append(jqtc.Reset(), 0)\n",
    "\n",
    "    cirq.append(jqtc.Amp_Damp(N, err_prob, 20), 1)\n",
    "\n",
    "    res = jqtc.simulate(cirq, initial_state, mode='kraus')\n",
    "    final_state = res[-1][-1]\n",
    "\n",
    "    return final_state"
   ]
  },
  {
   "cell_type": "code",
   "execution_count": null,
   "id": "fa0449f9-11e7-40e3-993b-587e45602564",
   "metadata": {},
   "outputs": [],
   "source": [
    "def sbs_batch(delta, sd_ratio, err_prob):\n",
    "    l = jnp.sqrt(2*jnp.pi)\n",
    "    epsilon = jnp.sinh(delta*delta)*l\n",
    "\n",
    "    alphas_real = jnp.array([epsilon/2, 0., sd_ratio*epsilon/2, 0., l, 0.])\n",
    "    alphas_imag = jnp.array([0., -l, 0., epsilon/2, 0., sd_ratio*epsilon/2])\n",
    "    alphas = alphas_real + alphas_imag * 1.j\n",
    "    phis = jnp.array([0., 0., 0., 0.])\n",
    "    thetas = jnp.array([jnp.pi/2, -jnp.pi/2, jnp.pi/2, -jnp.pi/2])\n",
    "    exp_X = []\n",
    "    exp_Z = []\n",
    "    for axis in [\"Z\", \"X\"]:\n",
    "        gkp_qubit = jqtb.GKPQubit({\"delta\": delta, \"N\": N})\n",
    "        gkp = gkp_qubit.basis[\"+z\"] if axis == \"Z\" else gkp_qubit.basis[\"+x\"]\n",
    "\n",
    "        initial_state = jqt.basis(2, 0) ^ gkp\n",
    "        current_state = initial_state\n",
    "\n",
    "        if axis==\"Z\":\n",
    "            exp_Z.append(jnp.real(jqt.overlap(gkp_qubit.common_gates[\"Z_0\"], current_state.ptrace(1))))\n",
    "        else:\n",
    "            exp_X.append(jnp.real(jqt.overlap(gkp_qubit.common_gates[\"X_0\"], current_state.ptrace(1))))\n",
    "        \n",
    "        for _ in range(T):\n",
    "\n",
    "            current_state = sBs_round(current_state, alphas[0:3], phis[0:2],\n",
    "                                      thetas[0:2], err_prob)\n",
    "            current_state = sBs_round(current_state, alphas[3:6], phis[2:4],\n",
    "                                      thetas[2:4], err_prob)\n",
    "            if axis==\"Z\":\n",
    "                exp_Z.append(jnp.real(jqt.overlap(gkp_qubit.common_gates[\"Z_0\"], current_state.ptrace(1))))\n",
    "            else:\n",
    "                exp_X.append(jnp.real(jqt.overlap(gkp_qubit.common_gates[\"X_0\"], current_state.ptrace(1))))\n",
    "    \n",
    "    return jnp.array([exp_Zi / 2 + exp_Xi / 2 for (exp_Zi, exp_Xi) in zip(exp_Z, exp_X)])"
   ]
  },
  {
   "cell_type": "code",
   "execution_count": null,
   "id": "46759241-734b-4b06-a625-2b59f4bf4eb9",
   "metadata": {},
   "outputs": [],
   "source": [
    "def fit_t1(times, amps):\n",
    "    p = jnp.polyfit(times, jnp.log(jnp.array(amps)), deg=1)\n",
    "    return p[0]"
   ]
  },
  {
   "cell_type": "code",
   "execution_count": null,
   "id": "34437d6f-2dd6-4b43-b97b-025d1b113ce5",
   "metadata": {},
   "outputs": [],
   "source": [
    "sbs = jax.vmap(jax.vmap(sbs_batch, (0, 0, None), 0), (0, 0, None), 0)\n",
    "fit_t1_vmap = jax.vmap(jax.vmap(fit_t1, (None, 0), 0), (None, 0), 0)"
   ]
  },
  {
   "cell_type": "code",
   "execution_count": null,
   "id": "182ecb321576c5e4",
   "metadata": {
    "ExecuteTime": {
     "end_time": "2025-06-09T17:34:04.726203Z",
     "start_time": "2025-06-09T17:34:04.680654Z"
    }
   },
   "outputs": [],
   "source": [
    "deltas_mg, sd_ratios_mg = jnp.meshgrid(deltas, sd_ratios)"
   ]
  },
  {
   "cell_type": "code",
   "execution_count": null,
   "id": "ff957579-42a7-49c3-82cd-c713d1664a16",
   "metadata": {},
   "outputs": [],
   "source": [
    "results = jnp.abs(sbs(deltas_mg, sd_ratios_mg, err_prob))"
   ]
  },
  {
   "cell_type": "code",
   "execution_count": null,
   "id": "922d1ee5-400b-4c4c-a1f1-efec9caacc9c",
   "metadata": {},
   "outputs": [],
   "source": [
    "t1s = -1 / fit_t1_vmap(times, results)"
   ]
  },
  {
   "cell_type": "markdown",
   "id": "a9c9bae2-fcb4-4ec4-ad2f-c2ef28ea72cf",
   "metadata": {},
   "source": [
    "#TODO Add masking of invalid fits"
   ]
  },
  {
   "cell_type": "code",
   "execution_count": null,
   "id": "335f8d1b-3920-4b0e-8ca4-7c75cbf5c29f",
   "metadata": {},
   "outputs": [],
   "source": [
    "fig, ax = plt.subplots(1, figsize=(10, 7))\n",
    "handle = ax.pcolormesh(deltas_mg, sd_ratios_mg, t1s, vmin=0, vmax=100, shading='nearest')\n",
    "fig.colorbar(handle, ax=ax, label=\"Lifetime $[\\mu s]$\")\n",
    "ax.set_xlabel(r\"$\\Delta$\")\n",
    "ax.set_ylabel(r\"$\\alpha_2 / \\alpha_1$\")\n",
    "ax.set_title(f\"20 cycles; $T_{{sBs}}=2\\cdot {T_0}\\mu s$; $\\kappa=1/(30\\mu s)$\")"
   ]
  },
  {
   "cell_type": "markdown",
   "id": "2e2c6603-5555-43ad-a293-0125325b1bc9",
   "metadata": {},
   "source": [
    "## Zoom in"
   ]
  },
  {
   "cell_type": "code",
   "execution_count": null,
   "id": "5b8e2ee1-75c1-464c-9457-17b98fc1fa2e",
   "metadata": {},
   "outputs": [],
   "source": [
    "delta_min = 0.37\n",
    "delta_max = 0.48\n",
    "sd_ratio_min = 1.2\n",
    "sd_ratio_max = 2.2"
   ]
  },
  {
   "cell_type": "code",
   "execution_count": null,
   "id": "f1537a7e-a96b-4981-b3bf-f9f7f244dc72",
   "metadata": {},
   "outputs": [],
   "source": [
    "delta_min_idx = jnp.abs(deltas-delta_min).argmin()\n",
    "delta_max_idx = jnp.abs(deltas-delta_max).argmin()\n",
    "sd_ratio_min_idx = jnp.abs(sd_ratios-sd_ratio_min).argmin()\n",
    "sd_ratio_max_idx = jnp.abs(sd_ratios-sd_ratio_max).argmin()"
   ]
  },
  {
   "cell_type": "code",
   "execution_count": null,
   "id": "298a4e5a-9727-423d-81df-97f1341deace",
   "metadata": {},
   "outputs": [],
   "source": [
    "cut_deltas_mg = deltas_mg[sd_ratio_min_idx:sd_ratio_max_idx,delta_min_idx:delta_max_idx]\n",
    "cut_sd_ratios_mg = sd_ratios_mg[sd_ratio_min_idx:sd_ratio_max_idx,delta_min_idx:delta_max_idx]\n",
    "cut_t1s = t1s[sd_ratio_min_idx:sd_ratio_max_idx,delta_min_idx:delta_max_idx]"
   ]
  },
  {
   "cell_type": "code",
   "execution_count": null,
   "id": "635385ee-5bd0-45f0-813c-5a9c3da9cc17",
   "metadata": {},
   "outputs": [],
   "source": [
    "max_t1_idx = jnp.unravel_index(jnp.argmax(cut_t1s), cut_t1s.shape)\n",
    "max_t1 = cut_t1s[max_t1_idx]\n",
    "max_t1_delta = cut_deltas_mg[max_t1_idx]\n",
    "max_t1_sd_ratio = cut_sd_ratios_mg[max_t1_idx]"
   ]
  },
  {
   "cell_type": "code",
   "execution_count": null,
   "id": "cf4672ce-31fb-401b-96e8-bcf39bbabcd3",
   "metadata": {},
   "outputs": [],
   "source": [
    "fig, ax = plt.subplots(1, figsize=(10, 7))\n",
    "handle = ax.pcolormesh(cut_deltas_mg, cut_sd_ratios_mg, cut_t1s, shading='nearest')\n",
    "fig.colorbar(handle, ax=ax, label=\"Lifetime $[\\mu s]$\")\n",
    "ax.scatter(max_t1_delta, max_t1_sd_ratio, color='red', label=f\"Lifetime={max_t1:.1f}$\\\\mu s$\")\n",
    "ax.set_xlabel(r\"$\\Delta$\")\n",
    "ax.set_ylabel(r\"$\\alpha_2 / \\alpha_1$\")\n",
    "ax.set_title(\"Reward after 20 cycles; $T_{sBs}=4\\mu s$; $\\kappa=1/(30\\mu s)$\")\n",
    "ax.legend()\n",
    "print(f\"max_T1 = {max_t1:.1f}\")\n",
    "print(f\"delta = {max_t1_delta:.3f}\")\n",
    "print(f\"sd_ratio = {max_t1_sd_ratio:.3f}\")"
   ]
  },
  {
   "cell_type": "markdown",
   "id": "284b411d-5067-4eb1-a865-a491a94ae555",
   "metadata": {},
   "source": [
    "## Export best sBs sequence"
   ]
  },
  {
   "cell_type": "code",
   "execution_count": null,
   "id": "a2087bff-a5d2-45a6-938a-5a30841c0321",
   "metadata": {},
   "outputs": [],
   "source": [
    "delta = max_t1_delta\n",
    "sd_ratio = max_t1_sd_ratio"
   ]
  },
  {
   "cell_type": "code",
   "execution_count": null,
   "id": "278d6c42-9de0-4396-af92-3612ed970258",
   "metadata": {},
   "outputs": [],
   "source": [
    "l = jnp.sqrt(2*jnp.pi)\n",
    "epsilon = jnp.sinh(delta*delta)*l\n",
    "\n",
    "alphas_real = jnp.array([epsilon/2, 0., sd_ratio*epsilon/2, 0., l, 0.])\n",
    "alphas_imag = jnp.array([0., -l, 0., epsilon/2, 0., sd_ratio*epsilon/2])\n",
    "phis = jnp.array([jnp.pi/2, 0., 0., jnp.pi/2, 0., 0.]) / 2 / jnp.pi\n",
    "thetas = (jnp.array([jnp.pi, jnp.pi/2, -jnp.pi/2, jnp.pi, jnp.pi/2, -jnp.pi/2])-jnp.pi) / 2 / jnp.pi"
   ]
  },
  {
   "cell_type": "code",
   "execution_count": null,
   "id": "26e7d5a4-ed34-4d85-9750-8d350efb444a",
   "metadata": {},
   "outputs": [],
   "source": [
    "sbs_max_LL_Z = jnp.array([thetas[0:3], phis[0:3], alphas_real[0:3], alphas_imag[0:3]])\n",
    "sbs_max_LL_X = jnp.array([thetas[3:6], phis[3:6], alphas_real[3:6], alphas_imag[3:6]])"
   ]
  },
  {
   "cell_type": "code",
   "execution_count": null,
   "id": "507b9c72-7811-40f4-b528-04ec95d1f05c",
   "metadata": {},
   "outputs": [],
   "source": [
    "jnp.savez(f\"./sbs_delta{delta*1e3:.0f}_sdratio{sd_ratio*1e3:.0f}_stabX\", best_params=sbs_max_LL_X)\n",
    "jnp.savez(f\"./sbs_delta{delta*1e3:.0f}_sdratio{sd_ratio*1e3:.0f}_stabZ\", best_params=sbs_max_LL_Z)"
   ]
  },
  {
   "cell_type": "markdown",
   "id": "56cabe68-994c-4010-87e8-a29ffcafdce8",
   "metadata": {},
   "source": [
    "## Compute X and Z lifetimes"
   ]
  },
  {
   "cell_type": "code",
   "execution_count": null,
   "id": "e0de7bf2-9b6b-4f76-bce8-d9fc94782898",
   "metadata": {},
   "outputs": [],
   "source": [
    "def sbs_batch(delta, sd_ratio, err_prob):\n",
    "    l = jnp.sqrt(2*jnp.pi)\n",
    "    epsilon = jnp.sinh(delta*delta)*l\n",
    "\n",
    "    alphas_real = jnp.array([epsilon/2, 0., sd_ratio*epsilon/2, 0., l, 0.])\n",
    "    alphas_imag = jnp.array([0., -l, 0., epsilon/2, 0., sd_ratio*epsilon/2])\n",
    "    alphas = alphas_real + alphas_imag * 1.j\n",
    "    phis = jnp.array([0., 0., 0., 0.])\n",
    "    thetas = jnp.array([jnp.pi/2, -jnp.pi/2, jnp.pi/2, -jnp.pi/2])\n",
    "    exp_X = []\n",
    "    exp_Z = []\n",
    "    for axis in [\"Z\", \"X\"]:\n",
    "        gkp_qubit = jqtb.GKPQubit({\"delta\": delta, \"N\": N})\n",
    "        gkp = gkp_qubit.basis[\"+z\"] if axis == \"Z\" else gkp_qubit.basis[\"+x\"]\n",
    "\n",
    "        initial_state = jqt.basis(2, 0) ^ gkp\n",
    "        current_state = initial_state\n",
    "\n",
    "        if axis==\"Z\":\n",
    "            exp_Z.append(jnp.real(jqt.overlap(gkp_qubit.common_gates[\"Z_0\"], current_state.ptrace(1))))\n",
    "        else:\n",
    "            exp_X.append(jnp.real(jqt.overlap(gkp_qubit.common_gates[\"X_0\"], current_state.ptrace(1))))\n",
    "    \n",
    "        for _ in range(T):\n",
    "\n",
    "            current_state = sBs_round(current_state, alphas[0:3], phis[0:2],\n",
    "                                      thetas[0:2], err_prob)\n",
    "            current_state = sBs_round(current_state, alphas[3:6], phis[2:4],\n",
    "                                      thetas[2:4], err_prob)\n",
    "            if axis==\"Z\":\n",
    "                exp_Z.append(jnp.real(jqt.overlap(gkp_qubit.common_gates[\"Z_0\"], current_state.ptrace(1))))\n",
    "            else:\n",
    "                exp_X.append(jnp.real(jqt.overlap(gkp_qubit.common_gates[\"X_0\"], current_state.ptrace(1))))\n",
    "    \n",
    "    return jnp.array(exp_Z), jnp.array(exp_X)"
   ]
  },
  {
   "cell_type": "code",
   "execution_count": null,
   "id": "96922fe3-ca53-4fa2-8b6e-ad29a54af152",
   "metadata": {},
   "outputs": [],
   "source": [
    "results = sbs_batch(delta, sd_ratio, err_prob)"
   ]
  },
  {
   "cell_type": "code",
   "execution_count": null,
   "id": "1d1f0707-2a13-4db4-9e71-4abff3749847",
   "metadata": {},
   "outputs": [],
   "source": [
    "t_z = -1/fit_t1(times, jnp.abs(results[0]))\n",
    "t_x = -1/fit_t1(times, jnp.abs(results[1]))"
   ]
  },
  {
   "cell_type": "code",
   "execution_count": null,
   "id": "a5e87325-7cea-4f9f-b2f2-7100012ef9e1",
   "metadata": {},
   "outputs": [],
   "source": [
    "fig, axs = plt.subplots(1, 2, figsize=(12, 4), dpi=150)\n",
    "axs[0].scatter(times, results[0], label=f\"$T_Z={t_z:.3f} \\mu s$\")\n",
    "axs[0].set_xlabel(\"t [$\\mu s]$\")\n",
    "axs[0].set_ylabel(\"$\\\\langle \\\\hat{Z} \\\\rangle$\")\n",
    "axs[0].legend()\n",
    "axs[1].scatter(times, results[1], label=f\"$T_X={t_x:.3f} \\mu s$\")\n",
    "axs[1].set_xlabel(\"t [$\\mu s]$\")\n",
    "axs[1].set_ylabel(\"$\\\\langle \\\\hat{X} \\\\rangle$\")\n",
    "axs[1].legend()\n",
    "\n",
    "fig.suptitle(f\"Logical operator decay during sBs, $\\\\Delta={delta}$, $r_{{SB}}={sd_ratio:.2f}$, $T_{{cyc}}=2\\cdot2276ns$\")"
   ]
  },
  {
   "cell_type": "markdown",
   "id": "299a93ce-f706-49ee-82e2-30f42f60dda8",
   "metadata": {},
   "source": [
    "## Plot CF after a single sBs half-round"
   ]
  },
  {
   "cell_type": "code",
   "execution_count": null,
   "id": "911b8f69-955d-4314-bd40-0d32ac375e8f",
   "metadata": {},
   "outputs": [],
   "source": [
    "def calculate_cf(osc_state, betas_re=None, betas_im=None):\n",
    "    # Plot CF\n",
    "    N = osc_state.dims[0][0]\n",
    "\n",
    "    betas_re = betas_re if betas_re is not None else jnp.linspace(-4,4, 41)\n",
    "    betas_im = betas_im if betas_im is not None else jnp.linspace(-4,4, 41)\n",
    "    betas = betas_re.reshape(-1,1) + 1j*betas_im.reshape(1,-1)\n",
    "    \n",
    "    cf_vals = np.zeros((len(betas_re), len(betas_im)), dtype=jnp.complex64)\n",
    "    for j in tqdm(range(len(betas_re))):\n",
    "        for k in range(len(betas_im)):\n",
    "            cf_vals[j,k] = jqt.overlap(jqt.displace(N, betas[j,k]), osc_state)\n",
    "    return cf_vals, betas_re, betas_im"
   ]
  },
  {
   "cell_type": "code",
   "execution_count": null,
   "id": "617c4f3a-774a-4e73-8d3e-693498e0711b",
   "metadata": {},
   "outputs": [],
   "source": [
    "def qubit_phase(beta_squared, η0, η2, η4, η6, ξ2, ξ4, offset):\n",
    "    beta_squared = np.abs(beta_squared)\n",
    "    theta = ξ2 * beta_squared + ξ4 * beta_squared**2\n",
    "    sx = np.cos(2*theta)\n",
    "    sy = np.sin(2*theta)\n",
    "    purity_scale_factor = (1 - (η0 + η2 *beta_squared + η4 * beta_squared**2 + η6 * beta_squared**3))\n",
    "    return sx * purity_scale_factor + offset, sy * purity_scale_factor + offset\n",
    "\n",
    "def purity_func(beta_squared, η0, η2, η4, η6, ξ2, ξ4, offset):\n",
    "    sx, sy = qubit_phase(beta_squared, η0, η2, η4, η6, ξ2, ξ4, offset)\n",
    "    return 0.5 * (1 + sx**2 + sy**2)\n",
    "\n",
    "def calculate_envelope(betas_re, betas_im, fit_vals):\n",
    "    betas_re_grid, betas_im_grid = jnp.meshgrid(betas_re, betas_im)\n",
    "    betas_squared_grid = jnp.abs(betas_re_grid)**2 + jnp.abs(betas_im_grid)**2\n",
    "    purity_vals = purity_func(betas_squared_grid, *fit_vals)\n",
    "    envelope = 2*(purity_vals-0.5)\n",
    "    return envelope\n",
    "\n",
    "\n",
    "fit_vals = (0.39097432835648155,\n",
    " 0.034291746251959555,\n",
    " -0.0010010145791953715,\n",
    " 1.0867037992914275e-05,\n",
    " -0.04611114282106909,\n",
    " 9.382815933549335e-06,\n",
    " 0.07836293463518865)"
   ]
  },
  {
   "cell_type": "markdown",
   "id": "ce7f88cd-80e7-4e85-8e27-cc3d0d1d8c27",
   "metadata": {},
   "source": [
    "### sBs Z half-round"
   ]
  },
  {
   "cell_type": "markdown",
   "id": "29bd7ef1-03e2-4d8e-b328-c29cbb7300ff",
   "metadata": {},
   "source": [
    "#### Full CF"
   ]
  },
  {
   "cell_type": "code",
   "execution_count": null,
   "id": "560b90a1-fdea-4590-890c-88d8cf1001a9",
   "metadata": {},
   "outputs": [],
   "source": [
    "l = jnp.sqrt(2*jnp.pi)\n",
    "epsilon = jnp.sinh(delta*delta)*l\n",
    "\n",
    "alphas_real = jnp.array([epsilon/2, 0., sd_ratio*epsilon/2, 0., l, 0.])\n",
    "alphas_imag = jnp.array([0., -l, 0., epsilon/2, 0., sd_ratio*epsilon/2])\n",
    "alphas = alphas_real + alphas_imag * 1.j\n",
    "phis = jnp.array([0., 0., 0., 0.])\n",
    "thetas = jnp.array([jnp.pi/2, -jnp.pi/2, jnp.pi/2, -jnp.pi/2])\n",
    "exp_X = []\n",
    "exp_Z = []\n",
    "\n",
    "gkp_qubit = jqtb.GKPQubit({\"delta\": delta, \"N\": N})\n",
    "gkp = gkp_qubit.basis[\"-x\"]\n",
    "\n",
    "initial_state = jqt.basis(2, 0) ^ gkp\n",
    "current_state = initial_state\n",
    "\n",
    "\n",
    "\n",
    "\n",
    "current_state = sBs_round(current_state, alphas[0:3], phis[0:2],\n",
    "                          thetas[0:2], err_prob)\n",
    "\n",
    "betas_re= jnp.linspace(-3,3, 41)\n",
    "betas_im= jnp.linspace(-3,3, 41)\n",
    "\n",
    "cf_vals, _, _ = calculate_cf(current_state.ptrace(1), betas_re, betas_im)\n",
    "\n",
    "fig, axs = plt.subplots(1, 2, figsize=(12, 4), dpi=150)\n",
    "\n",
    "for j, ax in enumerate((axs[0], axs[1])):\n",
    "    vmin=-1\n",
    "    vmax=1\n",
    "    sf = 1/jnp.sqrt(jnp.pi*2)\n",
    "\n",
    "    if j == 0:\n",
    "        cf_vals_plot = jnp.real(cf_vals)\n",
    "        cbar_title = r\"Re[$\\mathcal{C}(\\beta)$]\"\n",
    "    else:\n",
    "        cf_vals_plot = jnp.imag(cf_vals)\n",
    "        cbar_title = r\"Im[$\\mathcal{C}(\\beta)$]\"\n",
    "\n",
    "    im = ax.contourf(betas_re*sf, betas_im*sf, cf_vals_plot.T, levels=np.linspace(vmin, vmax, 101), cmap=\"seismic\", vmin=vmin, vmax=vmax)\n",
    "    ax.set_aspect(\"equal\", adjustable=\"box\")\n",
    "    ax.grid()\n",
    "\n",
    "    ax.set_xticks([-1,0, 1])\n",
    "    ax.set_yticks([-1,0, 1])\n",
    "    ax.set_xlabel(r\"Re[$\\beta$]/$\\sqrt{2\\pi}$\")\n",
    "    ax.set_ylabel(r\"Im[$\\beta$]/$\\sqrt{2\\pi}$\")\n",
    "\n",
    "    cbar = plt.colorbar(im, ax=ax, orientation=\"vertical\")\n",
    "    cbar.ax.set_title(cbar_title)\n",
    "    cbar.ax.set_yticks(np.linspace(-1, 1, 11))\n",
    "\n",
    "    fig.suptitle(r\"$\\widehat{sBs_Z} \\cdot \\vert -z \\rangle$\", y = 1.05)\n",
    "\n",
    "    "
   ]
  },
  {
   "cell_type": "markdown",
   "id": "f551c40a-40f3-4300-9521-c2be58f024fc",
   "metadata": {},
   "source": [
    "#### Enveloped CF"
   ]
  },
  {
   "cell_type": "code",
   "execution_count": null,
   "id": "da28c49b-5b95-4432-80ac-65875cbac37c",
   "metadata": {},
   "outputs": [],
   "source": [
    "envelope = calculate_envelope(betas_re, betas_im, fit_vals)\n",
    "cf_vals, betas_re, betas_im = calculate_cf(current_state.ptrace(1), betas_re, betas_im)\n",
    "cf_vals = envelope * cf_vals"
   ]
  },
  {
   "cell_type": "code",
   "execution_count": null,
   "id": "de98f084-7a39-4036-a609-b4f88d5f33a7",
   "metadata": {},
   "outputs": [],
   "source": [
    "\n",
    "fig, axs = plt.subplots(1, 2, figsize=(12, 4), dpi=150)\n",
    "\n",
    "for j, ax in enumerate((axs[0], axs[1])):\n",
    "    vmin=-1\n",
    "    vmax=1\n",
    "    sf = 1/(jnp.sqrt(2*jnp.pi))\n",
    "\n",
    "    if j == 0:\n",
    "        cf_vals_plot = jnp.real(cf_vals)\n",
    "        cbar_title = r\"Re[$\\mathcal{C}(\\beta)$]\"\n",
    "    else:\n",
    "        cf_vals_plot = jnp.imag(cf_vals)\n",
    "        cbar_title = r\"Im[$\\mathcal{C}(\\beta)$]\"\n",
    "\n",
    "    im = ax.contourf(betas_re*sf, betas_im*sf, cf_vals_plot.T, levels=np.linspace(vmin, vmax, 101), cmap=\"seismic\", vmin=vmin, vmax=vmax)\n",
    "    ax.set_aspect(\"equal\", adjustable=\"box\")\n",
    "    ax.grid()\n",
    "\n",
    "    ax.set_xticks([-1,0, 1])\n",
    "    ax.set_yticks([-1,0, 1])\n",
    "    ax.set_xlabel(r\"Re[$\\beta$]/$\\sqrt{2\\pi}$\")\n",
    "    ax.set_ylabel(r\"Im[$\\beta$]/$\\sqrt{2\\pi}$\")\n",
    "\n",
    "    cbar = plt.colorbar(im, ax=ax, orientation=\"vertical\")\n",
    "    cbar.ax.set_title(cbar_title)\n",
    "    cbar.ax.set_yticks(np.linspace(-1, 1, 11))\n",
    "\n",
    "    fig.suptitle(r\"$\\widehat{sBs_Z} \\cdot \\vert -z \\rangle$ with impurity envelope\", y = 1.05)\n",
    "\n",
    "    "
   ]
  },
  {
   "cell_type": "markdown",
   "id": "e615b0c8-39b1-4a73-91a2-bb7e573c2b7c",
   "metadata": {},
   "source": [
    "### sbs X half-round"
   ]
  },
  {
   "cell_type": "markdown",
   "id": "17a73f20-a222-4224-8a93-7d00ebf7fa8b",
   "metadata": {},
   "source": [
    "#### Full CF"
   ]
  },
  {
   "cell_type": "code",
   "execution_count": null,
   "id": "a60b215d-3ffc-4ffb-a46e-3ab0bcf44c4d",
   "metadata": {},
   "outputs": [],
   "source": [
    "l = jnp.sqrt(2*jnp.pi)\n",
    "epsilon = jnp.sinh(delta*delta)*l\n",
    "\n",
    "alphas_real = jnp.array([epsilon/2, 0., sd_ratio*epsilon/2, 0., l, 0.])\n",
    "alphas_imag = jnp.array([0., -l, 0., epsilon/2, 0., sd_ratio*epsilon/2])\n",
    "alphas = alphas_real + alphas_imag * 1.j\n",
    "phis = jnp.array([0., 0., 0., 0.])\n",
    "thetas = jnp.array([jnp.pi/2, -jnp.pi/2, jnp.pi/2, -jnp.pi/2])\n",
    "exp_X = []\n",
    "exp_Z = []\n",
    "\n",
    "gkp_qubit = jqtb.GKPQubit({\"delta\": delta, \"N\": N})\n",
    "gkp = gkp_qubit.basis[\"-x\"]\n",
    "\n",
    "initial_state = jqt.basis(2, 0) ^ gkp\n",
    "current_state = initial_state\n",
    "\n",
    "\n",
    "\n",
    "\n",
    "current_state = sBs_round(current_state, alphas[3:6], phis[2:4],\n",
    "                          thetas[2:4], err_prob)\n",
    "\n",
    "betas_re= jnp.linspace(-3,3, 41)\n",
    "betas_im= jnp.linspace(-3,3, 41)\n",
    "\n",
    "cf_vals, _, _ = calculate_cf(current_state.ptrace(1), betas_re, betas_im)\n",
    "\n",
    "fig, axs = plt.subplots(1, 2, figsize=(12, 4), dpi=150)\n",
    "\n",
    "for j, ax in enumerate((axs[0], axs[1])):\n",
    "    vmin=-1\n",
    "    vmax=1\n",
    "    sf = 1/jnp.sqrt(jnp.pi*2)\n",
    "\n",
    "    if j == 0:\n",
    "        cf_vals_plot = jnp.real(cf_vals)\n",
    "        cbar_title = r\"Re[$\\mathcal{C}(\\beta)$]\"\n",
    "    else:\n",
    "        cf_vals_plot = jnp.imag(cf_vals)\n",
    "        cbar_title = r\"Im[$\\mathcal{C}(\\beta)$]\"\n",
    "\n",
    "    im = ax.contourf(betas_re*sf, betas_im*sf, cf_vals_plot.T, levels=np.linspace(vmin, vmax, 101), cmap=\"seismic\", vmin=vmin, vmax=vmax)\n",
    "    ax.set_aspect(\"equal\", adjustable=\"box\")\n",
    "    ax.grid()\n",
    "\n",
    "    ax.set_xticks([-1,0, 1])\n",
    "    ax.set_yticks([-1,0, 1])\n",
    "    ax.set_xlabel(r\"Re[$\\beta$]/$\\sqrt{2\\pi}$\")\n",
    "    ax.set_ylabel(r\"Im[$\\beta$]/$\\sqrt{2\\pi}$\")\n",
    "\n",
    "    cbar = plt.colorbar(im, ax=ax, orientation=\"vertical\")\n",
    "    cbar.ax.set_title(cbar_title)\n",
    "    cbar.ax.set_yticks(np.linspace(-1, 1, 11))\n",
    "\n",
    "    fig.suptitle(r\"$\\widehat{sBs_X} \\cdot \\vert -z \\rangle$\", y = 1.05)\n",
    "\n",
    "    "
   ]
  },
  {
   "cell_type": "markdown",
   "id": "81bf2c7e-4327-4ca0-9765-b937f38e8198",
   "metadata": {},
   "source": [
    "#### Enveloped CF"
   ]
  },
  {
   "cell_type": "code",
   "execution_count": null,
   "id": "aa7100ed-067a-414e-8492-3278793d0070",
   "metadata": {},
   "outputs": [],
   "source": [
    "envelope = calculate_envelope(betas_re, betas_im, fit_vals)\n",
    "\n",
    "\n",
    "cf_vals, betas_re, betas_im = calculate_cf(current_state.ptrace(1), betas_re, betas_im)\n",
    "cf_vals = envelope * cf_vals"
   ]
  },
  {
   "cell_type": "code",
   "execution_count": null,
   "id": "2774513a-95b8-496d-95e2-ccb4528818b8",
   "metadata": {
    "scrolled": true
   },
   "outputs": [],
   "source": [
    "\n",
    "fig, axs = plt.subplots(1, 2, figsize=(12, 4), dpi=150)\n",
    "\n",
    "for j, ax in enumerate((axs[0], axs[1])):\n",
    "    vmin=-1\n",
    "    vmax=1\n",
    "    sf = 1/(jnp.sqrt(2*jnp.pi))\n",
    "\n",
    "    if j == 0:\n",
    "        cf_vals_plot = jnp.real(cf_vals)\n",
    "        cbar_title = r\"Re[$\\mathcal{C}(\\beta)$]\"\n",
    "    else:\n",
    "        cf_vals_plot = jnp.imag(cf_vals)\n",
    "        cbar_title = r\"Im[$\\mathcal{C}(\\beta)$]\"\n",
    "\n",
    "    im = ax.contourf(betas_re*sf, betas_im*sf, cf_vals_plot.T, levels=np.linspace(vmin, vmax, 101), cmap=\"seismic\", vmin=vmin, vmax=vmax)\n",
    "    ax.set_aspect(\"equal\", adjustable=\"box\")\n",
    "    ax.grid()\n",
    "\n",
    "    ax.set_xticks([-1,0, 1])\n",
    "    ax.set_yticks([-1,0, 1])\n",
    "    ax.set_xlabel(r\"Re[$\\beta$]/$\\sqrt{2\\pi}$\")\n",
    "    ax.set_ylabel(r\"Im[$\\beta$]/$\\sqrt{2\\pi}$\")\n",
    "\n",
    "    cbar = plt.colorbar(im, ax=ax, orientation=\"vertical\")\n",
    "    cbar.ax.set_title(cbar_title)\n",
    "    cbar.ax.set_yticks(np.linspace(-1, 1, 11))\n",
    "\n",
    "    fig.suptitle(r\"$\\widehat{sBs_X} \\cdot \\vert -z \\rangle$ with impurity envelope\", y = 1.05)\n",
    "\n",
    "    "
   ]
  },
  {
   "cell_type": "markdown",
   "id": "88c3f2c4-e4ec-4dac-8237-06f1c4809403",
   "metadata": {},
   "source": [
    "## Action on vac"
   ]
  },
  {
   "cell_type": "markdown",
   "id": "23eb0900-e06d-4229-ae7a-ae5cb4a483fe",
   "metadata": {},
   "source": [
    "### sBs Z half-round"
   ]
  },
  {
   "cell_type": "markdown",
   "id": "867cf0b7-d8f8-4c68-b771-c76a7aa0c1f9",
   "metadata": {},
   "source": [
    "#### Full CF"
   ]
  },
  {
   "cell_type": "code",
   "execution_count": null,
   "id": "b45bbe01-cce4-4dea-8e37-9ff4089db03f",
   "metadata": {},
   "outputs": [],
   "source": [
    "l = jnp.sqrt(2*jnp.pi)\n",
    "epsilon = jnp.sinh(delta*delta)*l\n",
    "\n",
    "alphas_real = jnp.array([epsilon/2, 0., sd_ratio*epsilon/2, 0., l, 0.])\n",
    "alphas_imag = jnp.array([0., -l, 0., epsilon/2, 0., sd_ratio*epsilon/2])\n",
    "alphas = alphas_real + alphas_imag * 1.j\n",
    "phis = jnp.array([0., 0., 0., 0.])\n",
    "thetas = jnp.array([jnp.pi/2, -jnp.pi/2, jnp.pi/2, -jnp.pi/2])\n",
    "exp_X = []\n",
    "exp_Z = []\n",
    "\n",
    "gkp_qubit = jqtb.GKPQubit({\"delta\": delta, \"N\": N})\n",
    "gkp = gkp_qubit.basis[\"-x\"]\n",
    "\n",
    "initial_state = jqt.basis(2, 0) ^ jqt.basis(N, 0)\n",
    "current_state = initial_state\n",
    "\n",
    "\n",
    "\n",
    "\n",
    "current_state = sBs_round(current_state, alphas[0:3], phis[0:2],\n",
    "                          thetas[0:2], err_prob)\n",
    "\n",
    "betas_re= jnp.linspace(-3,3, 41)\n",
    "betas_im= jnp.linspace(-3,3, 41)\n",
    "\n",
    "cf_vals, _, _ = calculate_cf(current_state.ptrace(1), betas_re, betas_im)\n",
    "\n",
    "fig, axs = plt.subplots(1, 2, figsize=(12, 4), dpi=150)\n",
    "\n",
    "for j, ax in enumerate((axs[0], axs[1])):\n",
    "    vmin=-1\n",
    "    vmax=1\n",
    "    sf = 1/jnp.sqrt(jnp.pi*2)\n",
    "\n",
    "    if j == 0:\n",
    "        cf_vals_plot = jnp.real(cf_vals)\n",
    "        cbar_title = r\"Re[$\\mathcal{C}(\\beta)$]\"\n",
    "    else:\n",
    "        cf_vals_plot = jnp.imag(cf_vals)\n",
    "        cbar_title = r\"Im[$\\mathcal{C}(\\beta)$]\"\n",
    "\n",
    "    im = ax.contourf(betas_re*sf, betas_im*sf, cf_vals_plot.T, levels=np.linspace(vmin, vmax, 101), cmap=\"seismic\", vmin=vmin, vmax=vmax)\n",
    "    ax.set_aspect(\"equal\", adjustable=\"box\")\n",
    "    ax.grid()\n",
    "\n",
    "    ax.set_xticks([-1,0, 1])\n",
    "    ax.set_yticks([-1,0, 1])\n",
    "    ax.set_xlabel(r\"Re[$\\beta$]/$\\sqrt{2\\pi}$\")\n",
    "    ax.set_ylabel(r\"Im[$\\beta$]/$\\sqrt{2\\pi}$\")\n",
    "\n",
    "    cbar = plt.colorbar(im, ax=ax, orientation=\"vertical\")\n",
    "    cbar.ax.set_title(cbar_title)\n",
    "    cbar.ax.set_yticks(np.linspace(-1, 1, 11))\n",
    "\n",
    "    fig.suptitle(r\"$\\widehat{sBs_Z} \\cdot \\vert vac \\rangle$\", y = 1.05)\n",
    "\n",
    "    "
   ]
  },
  {
   "cell_type": "markdown",
   "id": "22478c83-269b-401a-96a4-9c5c93ccf080",
   "metadata": {},
   "source": [
    "#### Enveloped CF"
   ]
  },
  {
   "cell_type": "code",
   "execution_count": null,
   "id": "b8cf6bad-720f-4d86-a1f6-d9e919dbb542",
   "metadata": {},
   "outputs": [],
   "source": [
    "envelope = calculate_envelope(betas_re, betas_im, fit_vals)\n",
    "\n",
    "\n",
    "cf_vals, betas_re, betas_im = calculate_cf(current_state.ptrace(1), betas_re, betas_im)\n",
    "cf_vals = envelope * cf_vals"
   ]
  },
  {
   "cell_type": "code",
   "execution_count": null,
   "id": "09b99c3e-9280-4237-9aa3-e633ab67de90",
   "metadata": {},
   "outputs": [],
   "source": [
    "\n",
    "fig, axs = plt.subplots(1, 2, figsize=(12, 4), dpi=150)\n",
    "\n",
    "for j, ax in enumerate((axs[0], axs[1])):\n",
    "    vmin=-1\n",
    "    vmax=1\n",
    "    sf = 1/(jnp.sqrt(2*jnp.pi))\n",
    "\n",
    "    if j == 0:\n",
    "        cf_vals_plot = jnp.real(cf_vals)\n",
    "        cbar_title = r\"Re[$\\mathcal{C}(\\beta)$]\"\n",
    "    else:\n",
    "        cf_vals_plot = jnp.imag(cf_vals)\n",
    "        cbar_title = r\"Im[$\\mathcal{C}(\\beta)$]\"\n",
    "\n",
    "    im = ax.contourf(betas_re*sf, betas_im*sf, cf_vals_plot.T, levels=np.linspace(vmin, vmax, 101), cmap=\"seismic\", vmin=vmin, vmax=vmax)\n",
    "    ax.set_aspect(\"equal\", adjustable=\"box\")\n",
    "    ax.grid()\n",
    "\n",
    "    ax.set_xticks([-1,0, 1])\n",
    "    ax.set_yticks([-1,0, 1])\n",
    "    ax.set_xlabel(r\"Re[$\\beta$]/$\\sqrt{2\\pi}$\")\n",
    "    ax.set_ylabel(r\"Im[$\\beta$]/$\\sqrt{2\\pi}$\")\n",
    "\n",
    "    cbar = plt.colorbar(im, ax=ax, orientation=\"vertical\")\n",
    "    cbar.ax.set_title(cbar_title)\n",
    "    cbar.ax.set_yticks(np.linspace(-1, 1, 11))\n",
    "\n",
    "    fig.suptitle(r\"$\\widehat{sBs_Z} \\cdot \\vert vac \\rangle$ with impurity envelope\", y = 1.05)\n",
    "\n",
    "    "
   ]
  },
  {
   "cell_type": "markdown",
   "id": "0ada90ea-20be-4a91-bc3a-5e3c9f048d9e",
   "metadata": {},
   "source": [
    "### sBs X half-round"
   ]
  },
  {
   "cell_type": "markdown",
   "id": "64dbfc0c-e14d-48e6-bd31-df1e90efe6cf",
   "metadata": {},
   "source": [
    "#### Full CF"
   ]
  },
  {
   "cell_type": "code",
   "execution_count": null,
   "id": "68fd3b86-6566-47cf-965a-7e74d9c6a9cc",
   "metadata": {},
   "outputs": [],
   "source": [
    "l = jnp.sqrt(2*jnp.pi)\n",
    "epsilon = jnp.sinh(delta*delta)*l\n",
    "\n",
    "alphas_real = jnp.array([epsilon/2, 0., sd_ratio*epsilon/2, 0., l, 0.])\n",
    "alphas_imag = jnp.array([0., -l, 0., epsilon/2, 0., sd_ratio*epsilon/2])\n",
    "alphas = alphas_real + alphas_imag * 1.j\n",
    "phis = jnp.array([0., 0., 0., 0.])\n",
    "thetas = jnp.array([jnp.pi/2, -jnp.pi/2, jnp.pi/2, -jnp.pi/2])\n",
    "exp_X = []\n",
    "exp_Z = []\n",
    "\n",
    "gkp_qubit = jqtb.GKPQubit({\"delta\": delta, \"N\": N})\n",
    "gkp = gkp_qubit.basis[\"-x\"]\n",
    "\n",
    "initial_state = jqt.basis(2, 0) ^ jqt.basis(N, 0)\n",
    "current_state = initial_state\n",
    "\n",
    "\n",
    "\n",
    "\n",
    "current_state = sBs_round(current_state, alphas[3:6], phis[2:4],\n",
    "                          thetas[2:4], err_prob)\n",
    "\n",
    "betas_re= jnp.linspace(-3,3, 41)\n",
    "betas_im= jnp.linspace(-3,3, 41)\n",
    "\n",
    "cf_vals, _, _ = calculate_cf(current_state.ptrace(1), betas_re, betas_im)\n",
    "\n",
    "fig, axs = plt.subplots(1, 2, figsize=(12, 4), dpi=150)\n",
    "\n",
    "for j, ax in enumerate((axs[0], axs[1])):\n",
    "    vmin=-1\n",
    "    vmax=1\n",
    "    sf = 1/jnp.sqrt(jnp.pi*2)\n",
    "\n",
    "    if j == 0:\n",
    "        cf_vals_plot = jnp.real(cf_vals)\n",
    "        cbar_title = r\"Re[$\\mathcal{C}(\\beta)$]\"\n",
    "    else:\n",
    "        cf_vals_plot = jnp.imag(cf_vals)\n",
    "        cbar_title = r\"Im[$\\mathcal{C}(\\beta)$]\"\n",
    "\n",
    "    im = ax.contourf(betas_re*sf, betas_im*sf, cf_vals_plot.T, levels=np.linspace(vmin, vmax, 101), cmap=\"seismic\", vmin=vmin, vmax=vmax)\n",
    "    ax.set_aspect(\"equal\", adjustable=\"box\")\n",
    "    ax.grid()\n",
    "\n",
    "    ax.set_xticks([-1,0, 1])\n",
    "    ax.set_yticks([-1,0, 1])\n",
    "    ax.set_xlabel(r\"Re[$\\beta$]/$\\sqrt{2\\pi}$\")\n",
    "    ax.set_ylabel(r\"Im[$\\beta$]/$\\sqrt{2\\pi}$\")\n",
    "\n",
    "    cbar = plt.colorbar(im, ax=ax, orientation=\"vertical\")\n",
    "    cbar.ax.set_title(cbar_title)\n",
    "    cbar.ax.set_yticks(np.linspace(-1, 1, 11))\n",
    "\n",
    "    fig.suptitle(r\"$\\widehat{sBs_X} \\cdot \\vert vac \\rangle$\", y = 1.05)\n",
    "\n",
    "    "
   ]
  },
  {
   "cell_type": "markdown",
   "id": "781d7a0d-1c5b-45cd-9a9b-c250bac50a34",
   "metadata": {},
   "source": [
    "#### Enveloped CF"
   ]
  },
  {
   "cell_type": "code",
   "execution_count": null,
   "id": "236f327a-5c70-45dc-9547-7e03ddc7d7f1",
   "metadata": {},
   "outputs": [],
   "source": [
    "envelope = calculate_envelope(betas_re, betas_im, fit_vals)\n",
    "\n",
    "\n",
    "cf_vals, betas_re, betas_im = calculate_cf(current_state.ptrace(1), betas_re, betas_im)\n",
    "cf_vals = envelope * cf_vals"
   ]
  },
  {
   "cell_type": "code",
   "execution_count": null,
   "id": "3ad928ac-8815-4f7a-9251-db4993478005",
   "metadata": {
    "scrolled": true
   },
   "outputs": [],
   "source": [
    "\n",
    "fig, axs = plt.subplots(1, 2, figsize=(12, 4), dpi=150)\n",
    "\n",
    "for j, ax in enumerate((axs[0], axs[1])):\n",
    "    vmin=-1\n",
    "    vmax=1\n",
    "    sf = 1/(jnp.sqrt(2*jnp.pi))\n",
    "\n",
    "    if j == 0:\n",
    "        cf_vals_plot = jnp.real(cf_vals)\n",
    "        cbar_title = r\"Re[$\\mathcal{C}(\\beta)$]\"\n",
    "    else:\n",
    "        cf_vals_plot = jnp.imag(cf_vals)\n",
    "        cbar_title = r\"Im[$\\mathcal{C}(\\beta)$]\"\n",
    "\n",
    "    im = ax.contourf(betas_re*sf, betas_im*sf, cf_vals_plot.T, levels=np.linspace(vmin, vmax, 101), cmap=\"seismic\", vmin=vmin, vmax=vmax)\n",
    "    ax.set_aspect(\"equal\", adjustable=\"box\")\n",
    "    ax.grid()\n",
    "\n",
    "    ax.set_xticks([-1,0, 1])\n",
    "    ax.set_yticks([-1,0, 1])\n",
    "    ax.set_xlabel(r\"Re[$\\beta$]/$\\sqrt{2\\pi}$\")\n",
    "    ax.set_ylabel(r\"Im[$\\beta$]/$\\sqrt{2\\pi}$\")\n",
    "\n",
    "    cbar = plt.colorbar(im, ax=ax, orientation=\"vertical\")\n",
    "    cbar.ax.set_title(cbar_title)\n",
    "    cbar.ax.set_yticks(np.linspace(-1, 1, 11))\n",
    "\n",
    "    fig.suptitle(r\"$\\widehat{sBs_X} \\cdot \\vert vac \\rangle$ with impurity envelope\", y = 1.05)\n",
    "\n",
    "    "
   ]
  },
  {
   "cell_type": "markdown",
   "id": "b6043990-cf2a-47f4-bb93-ee60b4c32a9d",
   "metadata": {},
   "source": [
    "## Compare with run_circuit"
   ]
  },
  {
   "cell_type": "code",
   "execution_count": null,
   "id": "3fcd3822-30f2-4b42-bd19-765a4dd81dc3",
   "metadata": {},
   "outputs": [],
   "source": [
    "l = jnp.sqrt(2*jnp.pi)\n",
    "epsilon = jnp.sinh(delta*delta)*l\n",
    "\n",
    "alphas_real = jnp.array([epsilon/2, 0., sd_ratio*epsilon/2, 0., l, 0.])\n",
    "alphas_imag = jnp.array([0., -l, 0., epsilon/2, 0., sd_ratio*epsilon/2])\n",
    "phis = jnp.array([jnp.pi/2, 0., 0., jnp.pi/2, 0., 0.]) / 2 / jnp.pi\n",
    "thetas = (jnp.array([jnp.pi, jnp.pi/2, -jnp.pi/2, jnp.pi, jnp.pi/2, -jnp.pi/2])-jnp.pi) / 2 / jnp.pi"
   ]
  },
  {
   "cell_type": "code",
   "execution_count": null,
   "id": "df4e1881-43ac-4155-bfea-96da208394a4",
   "metadata": {},
   "outputs": [],
   "source": [
    "sbs_max_LL_Z = jnp.array([thetas[0:3], phis[0:3], alphas_real[0:3], alphas_imag[0:3]])\n",
    "sbs_max_LL_X = jnp.array([thetas[3:6], phis[3:6], alphas_real[3:6], alphas_imag[3:6]])"
   ]
  },
  {
   "cell_type": "code",
   "execution_count": null,
   "id": "5e3df176-e944-4ab9-be6e-9c4456fd9b5e",
   "metadata": {},
   "outputs": [],
   "source": [
    "def run_circuit(params, N):\n",
    "    gammas_x = 2*jnp.pi*params[0]\n",
    "    gammas_y = 2*jnp.pi*params[1]\n",
    "    betas_re = params[2]\n",
    "    betas_im = params[3]\n",
    "\n",
    "    betas = betas_re + 1j*betas_im\n",
    "    \n",
    "    reg = jqtc.Register([2,N])\n",
    "    cirq = jqtc.Circuit.create(reg, layers=[])\n",
    "    \n",
    "    for i in range(len(gammas_x)):\n",
    "        cirq.append(jqtc.Rx(gammas_x[i]), 0)\n",
    "        cirq.append(jqtc.Ry(gammas_y[i]), 0)\n",
    "        cirq.append(jqtc.CD(N, betas[i]), [0, 1])\n",
    "        cirq.append(jqtc.Rx(jnp.pi), 0)\n",
    "    \n",
    "   \n",
    "    initial_state = jqt.basis(2,0) ^ jqt.basis(N,0)\n",
    "    res = jqtc.simulate(cirq, initial_state, mode=\"default\")\n",
    "\n",
    "    return res[-1][-1].unit()"
   ]
  },
  {
   "cell_type": "code",
   "execution_count": null,
   "id": "c596293d-4b5f-407d-ba70-ffe6b6a589bf",
   "metadata": {},
   "outputs": [],
   "source": [
    "res = run_circuit(sbs_max_LL_X, 200)"
   ]
  },
  {
   "cell_type": "code",
   "execution_count": null,
   "id": "e92ffad5-e6a8-4e66-97d1-f1124ae7c372",
   "metadata": {},
   "outputs": [],
   "source": [
    "betas_re= jnp.linspace(-3,3, 41)\n",
    "betas_im= jnp.linspace(-3,3, 41)\n",
    "\n",
    "cf_vals, _, _ = calculate_cf(res.ptrace(1), betas_re, betas_im)\n",
    "envelope = calculate_envelope(betas_re, betas_im, fit_vals)\n",
    "\n",
    "cf_vals = envelope * cf_vals\n",
    "\n",
    "fig, axs = plt.subplots(1, 2, figsize=(12, 4), dpi=150)\n",
    "\n",
    "for j, ax in enumerate((axs[0], axs[1])):\n",
    "    vmin=-1\n",
    "    vmax=1\n",
    "    sf = 1/jnp.sqrt(jnp.pi*2)\n",
    "\n",
    "    if j == 0:\n",
    "        cf_vals_plot = jnp.real(cf_vals)\n",
    "        cbar_title = r\"Re[$\\mathcal{C}(\\beta)$]\"\n",
    "    else:\n",
    "        cf_vals_plot = jnp.imag(cf_vals)\n",
    "        cbar_title = r\"Im[$\\mathcal{C}(\\beta)$]\"\n",
    "\n",
    "    im = ax.contourf(betas_re*sf, betas_im*sf, cf_vals_plot.T, levels=np.linspace(vmin, vmax, 101), cmap=\"seismic\", vmin=vmin, vmax=vmax)\n",
    "    ax.set_aspect(\"equal\", adjustable=\"box\")\n",
    "    ax.grid()\n",
    "\n",
    "    ax.set_xticks([-1,0, 1])\n",
    "    ax.set_yticks([-1,0, 1])\n",
    "    ax.set_xlabel(r\"Re[$\\beta$]/$\\sqrt{2\\pi}$\")\n",
    "    ax.set_ylabel(r\"Im[$\\beta$]/$\\sqrt{2\\pi}$\")\n",
    "\n",
    "    cbar = plt.colorbar(im, ax=ax, orientation=\"vertical\")\n",
    "    cbar.ax.set_title(cbar_title)\n",
    "    cbar.ax.set_yticks(np.linspace(-1, 1, 11))\n",
    "\n",
    "    fig.suptitle(r\"$\\widehat{sBs_X} \\cdot \\vert vac \\rangle$\", y = 1.05)\n",
    "\n",
    "    "
   ]
  },
  {
   "cell_type": "code",
   "execution_count": null,
   "id": "685d7063-8e47-4e1c-804f-c4329141640a",
   "metadata": {},
   "outputs": [],
   "source": [
    "params = jnp.array(jnp.load(\"./20250702_h11m09s01_gkp_state_prep.npz\")[\"best_params\"])"
   ]
  },
  {
   "cell_type": "code",
   "execution_count": null,
   "id": "c2d45e08-824a-4fae-890e-7d0a04c7206c",
   "metadata": {},
   "outputs": [],
   "source": [
    "params"
   ]
  },
  {
   "cell_type": "code",
   "execution_count": null,
   "id": "43548616-4740-4078-9c23-92e7f4876546",
   "metadata": {},
   "outputs": [],
   "source": [
    "res = run_circuit(params, 200)"
   ]
  },
  {
   "cell_type": "code",
   "execution_count": null,
   "id": "3d864a9f-d88d-4a8e-af3e-b9ec289ff667",
   "metadata": {},
   "outputs": [],
   "source": [
    "betas_re= jnp.linspace(-3,3, 41)\n",
    "betas_im= jnp.linspace(-3,3, 41)\n",
    "\n",
    "cf_vals, _, _ = calculate_cf(res.ptrace(1), betas_re, betas_im)\n",
    "envelope = calculate_envelope(betas_re, betas_im, fit_vals)\n",
    "\n",
    "cf_vals = envelope * cf_vals\n",
    "\n",
    "fig, axs = plt.subplots(1, 2, figsize=(12, 4), dpi=150)\n",
    "\n",
    "for j, ax in enumerate((axs[0], axs[1])):\n",
    "    vmin=-1\n",
    "    vmax=1\n",
    "    sf = 1/jnp.sqrt(jnp.pi*2)\n",
    "\n",
    "    if j == 0:\n",
    "        cf_vals_plot = jnp.real(cf_vals)\n",
    "        cbar_title = r\"Re[$\\mathcal{C}(\\beta)$]\"\n",
    "    else:\n",
    "        cf_vals_plot = jnp.imag(cf_vals)\n",
    "        cbar_title = r\"Im[$\\mathcal{C}(\\beta)$]\"\n",
    "\n",
    "    im = ax.contourf(betas_re*sf, betas_im*sf, cf_vals_plot.T, levels=np.linspace(vmin, vmax, 101), cmap=\"seismic\", vmin=vmin, vmax=vmax)\n",
    "    ax.set_aspect(\"equal\", adjustable=\"box\")\n",
    "    ax.grid()\n",
    "\n",
    "    ax.set_xticks([-1,0, 1])\n",
    "    ax.set_yticks([-1,0, 1])\n",
    "    ax.set_xlabel(r\"Re[$\\beta$]/$\\sqrt{2\\pi}$\")\n",
    "    ax.set_ylabel(r\"Im[$\\beta$]/$\\sqrt{2\\pi}$\")\n",
    "\n",
    "    cbar = plt.colorbar(im, ax=ax, orientation=\"vertical\")\n",
    "    cbar.ax.set_title(cbar_title)\n",
    "    cbar.ax.set_yticks(np.linspace(-1, 1, 11))\n",
    "\n",
    "    fig.suptitle(r\"$\\widehat{sBs_X} \\cdot \\vert vac \\rangle$\", y = 1.05)\n",
    "\n",
    "    "
   ]
  },
  {
   "cell_type": "markdown",
   "id": "2b656fc3-defe-45b3-b656-9bf7c517cbc2",
   "metadata": {},
   "source": [
    "## Compare with simulate CF"
   ]
  },
  {
   "cell_type": "code",
   "execution_count": null,
   "id": "1c79ffaa-85a4-4673-8f21-a45433a49726",
   "metadata": {},
   "outputs": [],
   "source": [
    "def cf_tomography_circuit(state, beta, measure_real=True):\n",
    "    N = state.dims[0][1]\n",
    "    reg = jqtc.Register([2,N])\n",
    "    cirq = jqtc.Circuit.create(reg, layers=[])\n",
    "\n",
    "    cirq.append(jqtc.Ry(jnp.pi/2), 0)\n",
    "    cirq.append(jqtc.CD(N, beta), [0,1])\n",
    "    \n",
    "    if measure_real:\n",
    "        cirq.append(jqtc.Ry(jnp.pi/2), 0)\n",
    "    else:\n",
    "        cirq.append(jqtc.Rx(jnp.pi/2), 0)\n",
    "\n",
    "    res = jqtc.simulate(cirq, state)\n",
    "    final_state = res[-1][-1]\n",
    "    sigmaz = jqt.sigmaz() ^ jqt.identity(N)\n",
    "    sigmaz_exp = final_state.dag() @ sigmaz @ final_state\n",
    "    return sigmaz_exp.data[0][0].real\n",
    "\n",
    "def sim_cf(osc_state, betas_re=None, betas_im=None):\n",
    "    if len(osc_state.dims[0]) == 1:\n",
    "        if osc_state.is_dm():\n",
    "            state = jqt.ket2dm(jqt.basis(2,0)) ^ osc_state\n",
    "        else:\n",
    "            state = jqt.basis(2,0) ^ osc_state\n",
    "    else:\n",
    "        state = osc_state\n",
    "\n",
    "    # Plot CF\n",
    "    betas_re = betas_re if betas_re is not None else jnp.linspace(-4,4, 101)\n",
    "    betas_im = betas_re if betas_re is not None else  jnp.linspace(-4,4, 101)\n",
    "    betas = betas_re.reshape(-1,1) + 1j*betas_im.reshape(1,-1)\n",
    "    betas_flat = betas.flatten()\n",
    "\n",
    "    cf_tomography_circuit_vmap = jax.jit(jax.vmap(lambda beta: cf_tomography_circuit(state, beta, measure_real=True)))\n",
    "    tomo_res_real = cf_tomography_circuit_vmap(betas_flat)\n",
    "\n",
    "    cf_tomography_circuit_vmap = jax.jit(jax.vmap(lambda beta: cf_tomography_circuit(state, beta, measure_real=False)))\n",
    "    tomo_res_imag = cf_tomography_circuit_vmap(betas_flat)\n",
    "    \n",
    "    tomo_res_real = tomo_res_real.reshape(*betas.shape)\n",
    "    tomo_res_imag = tomo_res_imag.reshape(*betas.shape)\n",
    "\n",
    "    tomo_res = tomo_res_real + 1j*tomo_res_imag\n",
    "\n",
    "    return tomo_res, betas_re, betas_im"
   ]
  },
  {
   "cell_type": "code",
   "execution_count": null,
   "id": "8c6f9b96-934e-4523-aadf-2232dbcc7c18",
   "metadata": {},
   "outputs": [],
   "source": [
    "betas_re= jnp.linspace(-3,3, 41)\n",
    "betas_im= jnp.linspace(-3,3, 41)\n",
    "\n",
    "cf_vals, _, _ = sim_cf(res, betas_re, betas_im)\n",
    "\n",
    "fig, axs = plt.subplots(1, 2, figsize=(12, 4), dpi=150)\n",
    "\n",
    "for j, ax in enumerate((axs[0], axs[1])):\n",
    "    vmin=-1\n",
    "    vmax=1\n",
    "    sf = 1/jnp.sqrt(jnp.pi*2)\n",
    "\n",
    "    if j == 0:\n",
    "        cf_vals_plot = jnp.real(cf_vals)\n",
    "        cbar_title = r\"Re[$\\mathcal{C}(\\beta)$]\"\n",
    "    else:\n",
    "        cf_vals_plot = jnp.imag(cf_vals)\n",
    "        cbar_title = r\"Im[$\\mathcal{C}(\\beta)$]\"\n",
    "\n",
    "    im = ax.contourf(betas_re*sf, betas_im*sf, cf_vals_plot.T, levels=np.linspace(vmin, vmax, 101), cmap=\"seismic\", vmin=vmin, vmax=vmax)\n",
    "    ax.set_aspect(\"equal\", adjustable=\"box\")\n",
    "    ax.grid()\n",
    "\n",
    "    ax.set_xticks([-1,0, 1])\n",
    "    ax.set_yticks([-1,0, 1])\n",
    "    ax.set_xlabel(r\"Re[$\\beta$]/$\\sqrt{2\\pi}$\")\n",
    "    ax.set_ylabel(r\"Im[$\\beta$]/$\\sqrt{2\\pi}$\")\n",
    "\n",
    "    cbar = plt.colorbar(im, ax=ax, orientation=\"vertical\")\n",
    "    cbar.ax.set_title(cbar_title)\n",
    "    cbar.ax.set_yticks(np.linspace(-1, 1, 11))\n",
    "\n",
    "    fig.suptitle(r\"$\\widehat{sBs_X} \\cdot \\vert vac \\rangle$\", y = 1.05)\n"
   ]
  }
 ],
 "metadata": {
  "kernelspec": {
   "display_name": "Python 3 (ipykernel)",
   "language": "python",
   "name": "python3"
  },
  "language_info": {
   "codemirror_mode": {
    "name": "ipython",
    "version": 3
   },
   "file_extension": ".py",
   "mimetype": "text/x-python",
   "name": "python",
   "nbconvert_exporter": "python",
   "pygments_lexer": "ipython3",
   "version": "3.11.12"
  }
 },
 "nbformat": 4,
 "nbformat_minor": 5
}
