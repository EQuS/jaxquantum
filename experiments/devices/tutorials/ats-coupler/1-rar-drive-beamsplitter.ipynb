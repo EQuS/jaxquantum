{
 "cells": [
  {
   "cell_type": "code",
   "metadata": {
    "ExecuteTime": {
     "end_time": "2025-07-29T18:48:44.553265Z",
     "start_time": "2025-07-29T18:48:44.321852Z"
    }
   },
   "source": [
    "%load_ext autoreload\n",
    "%autoreload 2"
   ],
   "outputs": [],
   "execution_count": 1
  },
  {
   "cell_type": "code",
   "metadata": {
    "ExecuteTime": {
     "end_time": "2025-07-29T18:48:48.611784Z",
     "start_time": "2025-07-29T18:48:44.565411Z"
    }
   },
   "source": [
    "from jax import jit, grad, vmap\n",
    "import matplotlib.pyplot as plt\n",
    "import qcsys as qs\n",
    "import jax.numpy as jnp\n",
    "from rar_helpers import *"
   ],
   "outputs": [],
   "execution_count": 2
  },
  {
   "cell_type": "code",
   "metadata": {
    "ExecuteTime": {
     "end_time": "2025-07-29T18:48:49.807272Z",
     "start_time": "2025-07-29T18:48:49.150893Z"
    }
   },
   "source": [
    "import jaxquantum as jqt"
   ],
   "outputs": [],
   "execution_count": 3
  },
  {
   "cell_type": "markdown",
   "metadata": {},
   "source": [
    "# Relevant Hamiltonian Terms for a Time Dep Simulation"
   ]
  },
  {
   "cell_type": "code",
   "metadata": {
    "ExecuteTime": {
     "end_time": "2025-07-29T18:52:05.143756Z",
     "start_time": "2025-07-29T18:52:00.795010Z"
    }
   },
   "source": [
    "metrics, system, ϕ0, metrics0, system0 = get_metrics_normal_rar({\n",
    "    \"ATS__phi_sum_ext\": 0.25,\n",
    "    \"ATS__phi_delta_ext\": 0,\n",
    "})"
   ],
   "outputs": [],
   "execution_count": 15
  },
  {
   "cell_type": "code",
   "metadata": {
    "ExecuteTime": {
     "end_time": "2025-07-29T18:52:06.727646Z",
     "start_time": "2025-07-29T18:52:05.200139Z"
    }
   },
   "source": [
    "H_full = system.get_H()\n",
    "\n",
    "phi_op = system.params[\"phi\"] \n",
    "a_op = system.params[\"a\"]\n",
    "b_op = system.params[\"b\"]\n",
    "c_op = system.params[\"c\"]\n",
    "\n",
    "phi_sum = system.devices[1].params[\"phi_sum_ext\"]\n",
    "phi_delta = system.devices[1].params[\"phi_delta_ext\"]\n",
    "ATS_Ej = system.devices[1].params[\"Ej\"]\n",
    "ATS_dEj = system.devices[1].params[\"dEj\"]\n",
    "ATS_Ej2 = system.devices[1].params[\"Ej2\"]\n",
    "\n",
    "omega_a = metrics0[\"ω_ResonatorA\"]\n",
    "omega_b = metrics0[\"ω_ResonatorB\"]\n",
    "omega_c = metrics0[\"ω_ATS\"]\n",
    "\n",
    "H_rot = omega_a * a_op.dag() * a_op + omega_b * b_op.dag() * b_op \n",
    "H_static = H_full - qs.ATS.get_H_nonlinear_static(phi_op, ATS_Ej, ATS_dEj, ATS_Ej2, phi_sum, phi_delta)"
   ],
   "outputs": [],
   "execution_count": 16
  },
  {
   "cell_type": "code",
   "metadata": {
    "ExecuteTime": {
     "end_time": "2025-07-29T18:52:06.934323Z",
     "start_time": "2025-07-29T18:52:06.810215Z"
    }
   },
   "source": [
    "jnp.max(jnp.abs((H_static - H_full).data ))"
   ],
   "outputs": [
    {
     "data": {
      "text/plain": [
       "Array(0., dtype=float64)"
      ]
     },
     "execution_count": 17,
     "metadata": {},
     "output_type": "execute_result"
    }
   ],
   "execution_count": 17
  },
  {
   "cell_type": "code",
   "metadata": {
    "ExecuteTime": {
     "end_time": "2025-07-29T18:52:39.380732Z",
     "start_time": "2025-07-29T18:52:39.006357Z"
    }
   },
   "source": [
    "# Sanity Check (at the right bias point)\n",
    "H_static_expected = omega_a * a_op.dag() * a_op + omega_b * b_op.dag() * b_op + omega_c * c_op.dag() * c_op\n",
    "constant_offset = (8.93783831) * jqt.identity_like(H_rot)\n",
    "jnp.max(jnp.abs((H_static - H_static_expected - constant_offset).data))"
   ],
   "outputs": [
    {
     "data": {
      "text/plain": [
       "Array(1.66802394e-09, dtype=float64)"
      ]
     },
     "execution_count": 21,
     "metadata": {},
     "output_type": "execute_result"
    }
   ],
   "execution_count": 21
  },
  {
   "cell_type": "code",
   "metadata": {
    "ExecuteTime": {
     "end_time": "2025-07-29T18:52:59.811149Z",
     "start_time": "2025-07-29T18:52:59.701562Z"
    }
   },
   "source": [
    "phi = system.params[\"phi\"]\n",
    "Ejb = system.devices[1].params[\"Ej\"]\n",
    "H_drive_factor = +2*Ejb*jqt.cosm(phi) # only valid at the (phi_sum,phi_delta) = (0.25,0.25) bias point"
   ],
   "outputs": [],
   "execution_count": 22
  },
  {
   "cell_type": "code",
   "metadata": {
    "ExecuteTime": {
     "end_time": "2025-07-29T18:53:00.348462Z",
     "start_time": "2025-07-29T18:53:00.222153Z"
    }
   },
   "source": [
    "# The full system Hamiltonian H = H_static + sin(eps(t)) * H_drive_factor\n",
    "H_rot_qt = jqt.jqt2qt(H_rot)\n",
    "H_static_qt = jqt.jqt2qt(H_static)\n",
    "H_drive_factor_qt = jqt.jqt2qt(H_drive_factor) "
   ],
   "outputs": [],
   "execution_count": 23
  },
  {
   "cell_type": "markdown",
   "metadata": {},
   "source": [
    "# Run Sweep"
   ]
  },
  {
   "metadata": {
    "ExecuteTime": {
     "end_time": "2025-07-29T19:03:25.681656Z",
     "start_time": "2025-07-29T19:03:25.577990Z"
    }
   },
   "cell_type": "code",
   "source": [
    "N_CONS = {\n",
    "    \"resonator_a\": {\n",
    "        \"bare\": 8,\n",
    "        \"normal\": 8,\n",
    "        \"truncated\": 8,\n",
    "    },\n",
    "    \"ats\": {\n",
    "        \"bare\": 5,\n",
    "        \"normal\": 100,\n",
    "        \"truncated\": 10,\n",
    "    },\n",
    "    \"resonator_b\": {\n",
    "        \"bare\": 8,\n",
    "        \"normal\": 8,\n",
    "        \"truncated\": 8,\n",
    "    }\n",
    "}"
   ],
   "outputs": [],
   "execution_count": 29
  },
  {
   "metadata": {
    "ExecuteTime": {
     "end_time": "2025-07-29T19:03:47.148066Z",
     "start_time": "2025-07-29T19:03:46.991253Z"
    }
   },
   "cell_type": "code",
   "source": [
    "initial_state = jqt.basis(N_CONS[\"resonator_a\"][\"truncated\"], 1) ^ jqt.basis(N_CONS[\"ats\"][\"truncated\"], 0) ^ jqt.basis(N_CONS[\"resonator_b\"][\"truncated\"], 0)\n",
    "\n",
    "omega_d = omega_a - omega_b\n",
    "epsilon_0 = 1\n",
    "\n",
    "def Ht(t):\n",
    "    return H_static + jnp.sin(epsilon_0 * omega_d * t) * H_drive_factor\n",
    "\n",
    "g_3 = jnp.real(metrics0[\"g_3\"])\n",
    "\n",
    "t_BS = jnp.pi/g_3\n",
    "\n",
    "ts = jnp.linspace(0, t_BS, 100)"
   ],
   "outputs": [],
   "execution_count": 32
  },
  {
   "metadata": {
    "ExecuteTime": {
     "end_time": "2025-07-29T19:08:33.010913Z",
     "start_time": "2025-07-29T19:03:47.722732Z"
    }
   },
   "cell_type": "code",
   "source": "res = jqt.sesolve(Ht, initial_state, ts)",
   "outputs": [
    {
     "name": "stderr",
     "output_type": "stream",
     "text": [
      "100% |\u001B[35m██████████\u001B[0m| [04:43<00:00,  2.83s/%]\n"
     ]
    }
   ],
   "execution_count": 33
  },
  {
   "metadata": {
    "ExecuteTime": {
     "end_time": "2025-07-29T19:10:13.132014Z",
     "start_time": "2025-07-29T19:10:13.005175Z"
    }
   },
   "cell_type": "code",
   "source": "res[-1].ptrace(1)",
   "outputs": [
    {
     "data": {
      "text/plain": [
       "Quantum array: dims = ((10,), (10,)), bdims = (), shape = (10, 10), type = oper\n",
       "Qarray data =\n",
       "[[ 0.15656616+0.j          0.        +0.j         -0.00294079-0.01599856j\n",
       "   0.        +0.j         -0.00049961-0.01644442j  0.        +0.j\n",
       "   0.00611516-0.01211252j  0.        +0.j          0.00536113+0.01785983j\n",
       "   0.        +0.j        ]\n",
       " [ 0.        +0.j          0.12841971+0.j          0.        +0.j\n",
       "  -0.02670501+0.00727236j  0.        +0.j         -0.02592368+0.0063989j\n",
       "   0.        +0.j         -0.02127212-0.00192519j  0.        +0.j\n",
       "  -0.00217783+0.00093789j]\n",
       " [-0.00294079+0.01599856j  0.        +0.j          0.10768361+0.j\n",
       "   0.        +0.j          0.01950022-0.00076459j  0.        +0.j\n",
       "  -0.00254493-0.01515785j  0.        +0.j          0.01216492+0.02843343j\n",
       "   0.        +0.j        ]\n",
       " [ 0.        +0.j         -0.02670501-0.00727236j  0.        +0.j\n",
       "   0.09105446+0.j          0.        +0.j          0.01502004-0.00285153j\n",
       "   0.        +0.j         -0.00504622-0.00279811j  0.        +0.j\n",
       "  -0.00340664+0.0023178j ]\n",
       " [-0.00049961+0.01644442j  0.        +0.j          0.01950022+0.00076459j\n",
       "   0.        +0.j          0.08855819+0.j          0.        +0.j\n",
       "  -0.00424096-0.01533607j  0.        +0.j          0.00737033+0.01334249j\n",
       "   0.        +0.j        ]\n",
       " [ 0.        +0.j         -0.02592368-0.0063989j   0.        +0.j\n",
       "   0.01502004+0.00285153j  0.        +0.j          0.06355501+0.j\n",
       "   0.        +0.j          0.01118142-0.00387832j  0.        +0.j\n",
       "   0.00769543+0.01658845j]\n",
       " [ 0.00611516+0.01211252j  0.        +0.j         -0.00254493+0.01515785j\n",
       "   0.        +0.j         -0.00424096+0.01533607j  0.        +0.j\n",
       "   0.08112956+0.j          0.        +0.j         -0.02499367-0.00196373j\n",
       "   0.        +0.j        ]\n",
       " [ 0.        +0.j         -0.02127212+0.00192519j  0.        +0.j\n",
       "  -0.00504622+0.00279811j  0.        +0.j          0.01118142+0.00387832j\n",
       "   0.        +0.j          0.09512622+0.j          0.        +0.j\n",
       "   0.01073054-0.00924637j]\n",
       " [ 0.00536113-0.01785983j  0.        +0.j          0.01216492-0.02843343j\n",
       "   0.        +0.j          0.00737033-0.01334249j  0.        +0.j\n",
       "  -0.02499367+0.00196373j  0.        +0.j          0.10118758+0.j\n",
       "   0.        +0.j        ]\n",
       " [ 0.        +0.j         -0.00217783-0.00093789j  0.        +0.j\n",
       "  -0.00340664-0.0023178j   0.        +0.j          0.00769543-0.01658845j\n",
       "   0.        +0.j          0.01073054+0.00924637j  0.        +0.j\n",
       "   0.12767416+0.j        ]]"
      ]
     },
     "execution_count": 38,
     "metadata": {},
     "output_type": "execute_result"
    }
   ],
   "execution_count": 38
  },
  {
   "metadata": {},
   "cell_type": "code",
   "outputs": [],
   "execution_count": null,
   "source": ""
  }
 ],
 "metadata": {
  "kernelspec": {
   "display_name": "jax-framework",
   "language": "python",
   "name": "python3"
  },
  "language_info": {
   "codemirror_mode": {
    "name": "ipython",
    "version": 3
   },
   "file_extension": ".py",
   "mimetype": "text/x-python",
   "name": "python",
   "nbconvert_exporter": "python",
   "pygments_lexer": "ipython3",
   "version": "3.9.18"
  }
 },
 "nbformat": 4,
 "nbformat_minor": 2
}
