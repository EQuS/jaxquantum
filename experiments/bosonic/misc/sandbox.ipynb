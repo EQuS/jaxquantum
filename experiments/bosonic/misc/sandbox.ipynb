{
 "cells": [
  {
   "cell_type": "code",
   "execution_count": 5,
   "id": "fc8d6525-82fc-4f78-96ff-022f990bfc3f",
   "metadata": {},
   "outputs": [],
   "source": [
    "from diffrax import *\n",
    "import jax.numpy as jnp"
   ]
  },
  {
   "cell_type": "code",
   "execution_count": 6,
   "id": "70e9f45c-ed60-4074-80a7-107c571fb506",
   "metadata": {},
   "outputs": [],
   "source": [
    "def f(t, y, args):\n",
    "    return -y\n",
    "\n",
    "term = ODETerm(f)\n",
    "solver = Dopri5()\n",
    "y0 = jnp.array([2., 3.])\n",
    "solution = diffeqsolve(term, solver, t0=0, t1=1, dt0=0.1, y0=y0)"
   ]
  },
  {
   "cell_type": "code",
   "execution_count": 7,
   "id": "c42dcb0a-b922-465c-8b5e-31d32330980c",
   "metadata": {},
   "outputs": [
    {
     "data": {
      "text/plain": [
       "Solution(\n",
       "  t0=f32[],\n",
       "  t1=f32[],\n",
       "  ts=f32[1],\n",
       "  ys=f32[1,2],\n",
       "  interpolation=None,\n",
       "  stats={\n",
       "    'compiled_num_steps':\n",
       "    None,\n",
       "    'max_steps':\n",
       "    4096,\n",
       "    'num_accepted_steps':\n",
       "    i32[],\n",
       "    'num_rejected_steps':\n",
       "    i32[],\n",
       "    'num_steps':\n",
       "    i32[]\n",
       "  },\n",
       "  result=i32[],\n",
       "  solver_state=None,\n",
       "  controller_state=None,\n",
       "  made_jump=None\n",
       ")"
      ]
     },
     "execution_count": 7,
     "metadata": {},
     "output_type": "execute_result"
    }
   ],
   "source": [
    "solution"
   ]
  },
  {
   "cell_type": "code",
   "execution_count": null,
   "id": "9fc5551e-4fa5-40c2-8f03-36b99c5500db",
   "metadata": {},
   "outputs": [],
   "source": []
  }
 ],
 "metadata": {
  "kernelspec": {
   "display_name": "Python 3",
   "language": "python",
   "name": "python3"
  },
  "language_info": {
   "codemirror_mode": {
    "name": "ipython",
    "version": 3
   },
   "file_extension": ".py",
   "mimetype": "text/x-python",
   "name": "python",
   "nbconvert_exporter": "python",
   "pygments_lexer": "ipython3",
   "version": "3.9.5"
  }
 },
 "nbformat": 4,
 "nbformat_minor": 5
}
