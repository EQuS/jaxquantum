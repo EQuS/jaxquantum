{
 "cells": [
  {
   "cell_type": "code",
   "execution_count": 1,
   "id": "b4a9c741-3fc2-4ba2-a946-29797c1b81c0",
   "metadata": {},
   "outputs": [],
   "source": [
    "%load_ext autoreload\n",
    "%autoreload 2"
   ]
  },
  {
   "cell_type": "code",
   "execution_count": 2,
   "id": "97e10c48-e28c-41d4-9177-25f8761be2c4",
   "metadata": {},
   "outputs": [],
   "source": [
    "import sys\n",
    "sys.path.insert(0, \"../../\")"
   ]
  },
  {
   "cell_type": "code",
   "execution_count": 5,
   "id": "69778638-0ad6-425e-aecb-f0fcb8535e85",
   "metadata": {},
   "outputs": [],
   "source": [
    "import jaxquantum as jqt\n",
    "from jax import jit, grad\n",
    "from jax.experimental.ode import odeint\n",
    "import jax.numpy as jnp\n",
    "import time\n",
    "import matplotlib.pyplot as plt\n",
    "import seaborn as sns\n",
    "import numpy as np\n",
    "import qutip as qt\n",
    "\n",
    "\n",
    "from jax import device_put\n",
    "\n",
    "# Apply the default theme\n",
    "sns.set_theme()\n",
    "\n",
    "from jax import config\n",
    "config.update(\"jax_enable_x64\", True)\n",
    "\n",
    "from scipy.integrate import odeint as odeint_sp"
   ]
  },
  {
   "cell_type": "markdown",
   "id": "020ad3ed-3e3c-4be0-b64c-5696705a4a4d",
   "metadata": {},
   "source": [
    "Here, we compare QuTiP, SciPy, and JAX in their performance in finding the "
   ]
  },
  {
   "cell_type": "markdown",
   "id": "13ccd130-9f25-4f5c-a4c1-5c2e2af8d79b",
   "metadata": {},
   "source": [
    "# QuTiP"
   ]
  },
  {
   "cell_type": "code",
   "execution_count": 6,
   "id": "f37b102d-e2ef-4932-9abc-883cd0a315c7",
   "metadata": {
    "tags": []
   },
   "outputs": [
    {
     "name": "stdout",
     "output_type": "stream",
     "text": [
      "4.85 s ± 477 ms per loop (mean ± std. dev. of 7 runs, 1 loop each)\n"
     ]
    }
   ],
   "source": [
    "def pi_pulse_qutip(ω_d):\n",
    "    ω_q = 5.0 \n",
    "    Ω = 0.1\n",
    "    results = qt.mesolve([ω_q/2.0*qt.sigmaz(), # H0\n",
    "                          [Ω*qt.sigmax(), 'cos(omega_d*t)']], # H1 \n",
    "                         qt.ket2dm(qt.basis(2,0)), # |g><g|\n",
    "                         np.linspace(0,np.pi/Ω,101),  # times, ωΩ*tf = π\n",
    "                         args={\"omega_d\": ω_d}) # parameters\n",
    "    return np.real((results.states[-1] * qt.sigmaz()).tr()) # returns <sz(tf)>\n",
    "\n",
    "%timeit pi_pulse_qutip(5.0)"
   ]
  },
  {
   "cell_type": "code",
   "execution_count": 14,
   "id": "c7b2f828-2a87-47bc-aebc-dc0c93185ec0",
   "metadata": {},
   "outputs": [
    {
     "name": "stdout",
     "output_type": "stream",
     "text": [
      "16.7 ms ± 602 µs per loop (mean ± std. dev. of 7 runs, 100 loops each)\n"
     ]
    }
   ],
   "source": [
    "def pi_pulse_qutip_function(ω_d):\n",
    "    ω_q = 5.0 \n",
    "    Ω = 0.1\n",
    "    results = qt.mesolve([ω_q/2.0*qt.sigmaz(), # H0\n",
    "                          [Ω*qt.sigmax(), lambda t, args: np.cos(ω_q*t)]], # H1 \n",
    "                         qt.ket2dm(qt.basis(2,0)), # |g><g|\n",
    "                         np.linspace(0,np.pi/Ω,101))  # times, ωΩ*tf = π\n",
    "    return np.real((results.states[-1] * qt.sigmaz()).tr()) # returns <sz(tf)>\n",
    "\n",
    "%timeit pi_pulse_qutip_function(5.0)"
   ]
  },
  {
   "cell_type": "markdown",
   "id": "247f6a88-32ed-449c-91b4-534169a1550f",
   "metadata": {},
   "source": [
    "# SciPy"
   ]
  },
  {
   "cell_type": "code",
   "execution_count": 25,
   "id": "acee3339-40dc-4941-baca-82690939849e",
   "metadata": {},
   "outputs": [
    {
     "name": "stdout",
     "output_type": "stream",
     "text": [
      "[1. 0. 0. 0. 0. 0. 0. 0.]\n"
     ]
    }
   ],
   "source": [
    "omega_q = 5.0 #GHz\n",
    "Omega = .01\n",
    "H0 = omega_q/2.0*np.array(jqt.sigmaz())\n",
    "H1 = Omega*np.array(jqt.sigmax())\n",
    "g_state = np.array(jqt.ket2dm(jqt.basis(2,0)))\n",
    "g_state_flat = np.concatenate([g_state.reshape(4,), np.zeros_like(g_state).reshape(4,)])\n",
    "print(g_state_flat)\n",
    "\n",
    "c_ops = np.array([])\n",
    "\n",
    "\n",
    "def flat(rho):\n",
    "    return np.concatenate([np.real(rho).reshape(4,),np.imag(rho).reshape(4,)])\n",
    "\n",
    "def unflat(rho):\n",
    "    return rho[:4].reshape(2,2) + 1.0j*(rho[4:].reshape(2,2))\n",
    "\n",
    "def pi_exp_sp(omega_d):    \n",
    "    t_list = np.linspace(0,np.pi/Omega,101)\n",
    "    def H_func(rho_flat, t, H0_val, H1_val, c_ops_val):\n",
    "        rho = unflat(rho_flat)\n",
    "        fac = np.cos((omega_d+0j)*t)\n",
    "        H = H0 + H1*fac\n",
    "        rho_dot = -1.0j * (H @ rho) \n",
    "        rho_dot += -1.0j * (-rho @ H)\n",
    "        return flat(rho_dot)\n",
    "    \n",
    "    states = odeint_sp(H_func, g_state_flat, t_list, (H0, H1, c_ops))\n",
    "    final_state = states[-1]\n",
    "    return np.real(np.trace(unflat(final_state) @ np.array(jqt.sigmaz())))"
   ]
  },
  {
   "cell_type": "code",
   "execution_count": null,
   "id": "f128ae37-2e97-4a67-8f6c-93aa583a3c03",
   "metadata": {},
   "outputs": [],
   "source": [
    "%timeit pi_exp_sp(5.0)"
   ]
  },
  {
   "cell_type": "markdown",
   "id": "bf8f926f-da19-4e74-9dda-d752186dad00",
   "metadata": {},
   "source": [
    "# JAX"
   ]
  },
  {
   "cell_type": "code",
   "execution_count": 15,
   "id": "6414bc9b-a530-453d-b224-7fe2cf504806",
   "metadata": {},
   "outputs": [
    {
     "name": "stdout",
     "output_type": "stream",
     "text": [
      "3.05 ms ± 44.4 µs per loop (mean ± std. dev. of 7 runs, 1 loop each)\n"
     ]
    }
   ],
   "source": [
    "@jit\n",
    "def pi_pulse_jax(ω_d):\n",
    "    # parameters\n",
    "    ω_q = 5.0 ; Ω = .1\n",
    "    H0 = ω_q/2.0*jqt.sigmaz() ; H1 = Ω*jqt.sigmax()\n",
    "    ψᵢ = jqt.ket2dm(jqt.basis(2,0)) + 0.0j\n",
    "    ts = jnp.linspace(0,jnp.pi/Ω,101)\n",
    "    @jit\n",
    "    def ρ_dot(ρ, t, H0_val, H1_val):\n",
    "        fac = jnp.cos((ω_d+0j)*t)\n",
    "        H = H0_val + H1_val*fac\n",
    "        dρdt = -1.0j * (H @ ρ)\n",
    "        dρdt += -1.0j * (-ρ @ H)\n",
    "        return dρdt\n",
    "    \n",
    "    states = odeint(ρ_dot, ψᵢ, ts, H0, H1) # replaces qutip.mesolve\n",
    "    final_state = states[-1]\n",
    "    return jnp.real(jnp.trace(final_state @ jqt.sigmaz()))\n",
    "\n",
    "%timeit pi_pulse_jax(5.0)"
   ]
  },
  {
   "cell_type": "code",
   "execution_count": 9,
   "id": "a92066a7-68fa-4bae-b4d7-72aef30aae9e",
   "metadata": {},
   "outputs": [
    {
     "name": "stdout",
     "output_type": "stream",
     "text": [
      "-7.867741661837401\n",
      "16.7 ms ± 587 µs per loop (mean ± std. dev. of 7 runs, 100 loops each)\n"
     ]
    }
   ],
   "source": [
    "print(grad(pi_pulse_jax)(4.98))\n",
    "%timeit grad(pi_pulse_jax)(4.98)"
   ]
  },
  {
   "cell_type": "markdown",
   "id": "cd7ed6ca-9cbe-4aab-a41f-daf781650d1c",
   "metadata": {},
   "source": [
    "# Optimization w JAX"
   ]
  },
  {
   "cell_type": "code",
   "execution_count": 55,
   "id": "87ff4c38-a2bb-4e0e-8a58-4cd51fc9165c",
   "metadata": {},
   "outputs": [],
   "source": [
    "from jax.example_libraries.optimizers import adam\n",
    "from jax import jit, value_and_grad\n",
    "\n",
    "step_size = 2e-3\n",
    "epochs = 500\n",
    "opt_init, opt_update, get_params = adam(step_size)\n",
    "\n",
    "@jit\n",
    "def cost(x):\n",
    "    return rabi_jax(x)\n",
    "\n",
    "@jit\n",
    "def update(x, opt_state):\n",
    "    value, grads = value_and_grad(cost)(x)\n",
    "    opt_state = opt_update(0, grads, opt_state)\n",
    "    return get_params(opt_state), opt_state, value\n",
    "\n",
    "def run_training(opt_state, num_print = epochs//10):\n",
    "        x = get_params(opt_state)\n",
    "        log = {\"cost\":[], \"time\":[]}\n",
    "        log[\"cost\"].append(cost(x))\n",
    "\n",
    "        for epoch in range(epochs):\n",
    "            start_time = time.time()\n",
    "            x, opt_state, loss_val = update(x, opt_state)\n",
    "            log[\"cost\"].append(loss_val)\n",
    "            log[\"time\"].append(time.time() - start_time)\n",
    "            if epoch % num_print == 0:\n",
    "                print(\"=\" * 20)\n",
    "                print(\"Epoch: \", epoch)\n",
    "                print(\"Time: \", log[\"time\"][-1])\n",
    "                print(\"Cost: \", log[\"cost\"][-1])\n",
    "                print(\"omega_d: \", get_params(opt_state))\n",
    "        return log, opt_state"
   ]
  },
  {
   "cell_type": "code",
   "execution_count": 56,
   "id": "cb571b75-c55b-421c-9b78-8e1c15d00c38",
   "metadata": {},
   "outputs": [
    {
     "name": "stdout",
     "output_type": "stream",
     "text": [
      "====================\n",
      "Epoch:  0\n",
      "Time:  1.8535079956054688\n",
      "Cost:  0.36276322175814735\n",
      "omega_d:  4.9019999999988055\n",
      "====================\n",
      "Epoch:  50\n",
      "Time:  0.014061927795410156\n",
      "Cost:  -0.990672947194308\n",
      "omega_d:  5.005776237884099\n",
      "====================\n",
      "Epoch:  100\n",
      "Time:  0.014203071594238281\n",
      "Cost:  -0.9999957070494827\n",
      "omega_d:  4.999637006169921\n",
      "====================\n",
      "Epoch:  150\n",
      "Time:  0.013881921768188477\n",
      "Cost:  -0.9999973265378354\n",
      "omega_d:  4.999465449770604\n",
      "====================\n",
      "Epoch:  200\n",
      "Time:  0.013788938522338867\n",
      "Cost:  -0.9999976062915453\n",
      "omega_d:  4.99949986291692\n",
      "====================\n",
      "Epoch:  250\n",
      "Time:  0.014482975006103516\n",
      "Cost:  -0.9999976063008816\n",
      "omega_d:  4.999500564774182\n",
      "====================\n",
      "Epoch:  300\n",
      "Time:  0.01601696014404297\n",
      "Cost:  -0.9999976063086621\n",
      "omega_d:  4.999500392461994\n",
      "====================\n",
      "Epoch:  350\n",
      "Time:  0.016466379165649414\n",
      "Cost:  -0.9999976063086786\n",
      "omega_d:  4.999500385994127\n",
      "====================\n",
      "Epoch:  400\n",
      "Time:  0.015768051147460938\n",
      "Cost:  -0.9999976063086777\n",
      "omega_d:  4.999500386686933\n",
      "====================\n",
      "Epoch:  450\n",
      "Time:  0.015664100646972656\n",
      "Cost:  -0.9999976063086776\n",
      "omega_d:  4.999500386746169\n"
     ]
    }
   ],
   "source": [
    "opt_state = opt_init(4.9)\n",
    "log, opt_state = run_training(opt_state)\n",
    "omega_d_opt = get_params(opt_state)"
   ]
  },
  {
   "cell_type": "code",
   "execution_count": 60,
   "id": "4bebfb31-fdd6-4170-b32d-7ce4adf1796e",
   "metadata": {},
   "outputs": [],
   "source": [
    "def plot_cost_vs_epoch(log):\n",
    "    _, ax = plt.subplots(1, 1)\n",
    "    ax.plot(log[\"cost\"])\n",
    "    ax.set_xlabel(r\"${\\rm epoch\\ number}$\")\n",
    "    ax.set_ylabel(r\"${\\rm \\langle \\sigma_z (t_f) \\rangle}$\")\n",
    "    ax.set_title(r\"${\\rm training\\ history}$\")\n",
    "    return ax"
   ]
  },
  {
   "cell_type": "code",
   "execution_count": 61,
   "id": "f51e1517-8179-481a-adda-6b172e2cb35d",
   "metadata": {},
   "outputs": [
    {
     "data": {
      "image/png": "[encoded data removed]",
      "text/plain": [
       "<Figure size 432x288 with 1 Axes>"
      ]
     },
     "metadata": {},
     "output_type": "display_data"
    }
   ],
   "source": [
    "ax = plot_cost_vs_epoch(log)\n",
    "ax.set_title(f\"$\\pi$-Pulse frequency optimization $\\\\omega_d^* = {omega_d_opt:.5}$\")\n",
    "plt.show()"
   ]
  },
  {
   "cell_type": "code",
   "execution_count": null,
   "id": "c05d322f-e080-4d25-8145-922b5100a395",
   "metadata": {},
   "outputs": [],
   "source": []
  },
  {
   "cell_type": "code",
   "execution_count": null,
   "id": "3c273551-087f-420e-bb17-e9503850ec29",
   "metadata": {},
   "outputs": [],
   "source": []
  }
 ],
 "metadata": {
  "kernelspec": {
   "display_name": "Python 3 (ipykernel)",
   "language": "python",
   "name": "python3"
  },
  "language_info": {
   "codemirror_mode": {
    "name": "ipython",
    "version": 3
   },
   "file_extension": ".py",
   "mimetype": "text/x-python",
   "name": "python",
   "nbconvert_exporter": "python",
   "pygments_lexer": "ipython3",
   "version": "3.10.4"
  }
 },
 "nbformat": 4,
 "nbformat_minor": 5
}
