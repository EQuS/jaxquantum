{
 "cells": [
  {
   "cell_type": "code",
   "execution_count": 1,
   "metadata": {},
   "outputs": [],
   "source": [
    "from jax import jit, vmap, grad\n",
    "from jax.lax import scan\n",
    "from jax.experimental.ode import odeint\n",
    "import jaxquantum as jqt\n",
    "import jax.numpy as jnp"
   ]
  },
  {
   "cell_type": "markdown",
   "metadata": {},
   "source": [
    "# QuTIP"
   ]
  },
  {
   "cell_type": "code",
   "execution_count": 2,
   "metadata": {},
   "outputs": [],
   "source": [
    "import qutip as qt\n",
    "import numpy as np"
   ]
  },
  {
   "cell_type": "code",
   "execution_count": 3,
   "metadata": {},
   "outputs": [],
   "source": [
    "def gate_step_qutip(gate, p0, H0, c_ops):\n",
    "    H1 = gate[0]\n",
    "    ts = gate[1]\n",
    "\n",
    "    H = [H0, [H1, 'cos(t)']]\n",
    "    opts = qt.Options(rhs_reuse=True)\n",
    "    output = qt.mesolve(H, p0, ts, c_ops, options=opts)\n",
    "    return output.states\n",
    "\n",
    "def test_qutip(p0, _):\n",
    "    N_size = 50\n",
    "    H1 = qt.num(N_size) + 0.0j\n",
    "    ts = np.linspace(0, 1, 101)\n",
    "    gate = (H1, ts)\n",
    "    H0 = qt.destroy(N_size) + qt.create(N_size)\n",
    "    c_ops = np.array([])\n",
    "    results = gate_step_qutip(gate, p0, H0, c_ops)\n",
    "    return results[-1], results\n",
    "\n",
    "\n",
    "def test_multi_qutip(p0):\n",
    "    for j in range(100):\n",
    "        p0, _ = test_qutip(p0, None)\n",
    "    return p0"
   ]
  },
  {
   "cell_type": "code",
   "execution_count": 4,
   "metadata": {},
   "outputs": [],
   "source": [
    "p0 = qt.ket2dm(qt.coherent(50,20))"
   ]
  },
  {
   "cell_type": "code",
   "execution_count": 5,
   "metadata": {},
   "outputs": [
    {
     "name": "stdout",
     "output_type": "stream",
     "text": [
      "1.91 s ± 0 ns per loop (mean ± std. dev. of 1 run, 1 loop each)\n",
      "21.7 ms ± 269 µs per loop (mean ± std. dev. of 7 runs, 10 loops each)\n"
     ]
    }
   ],
   "source": [
    "%timeit -n1 -r1 test_qutip(p0, None)\n",
    "%timeit test_qutip(p0, None)"
   ]
  },
  {
   "cell_type": "code",
   "execution_count": 6,
   "metadata": {},
   "outputs": [
    {
     "name": "stdout",
     "output_type": "stream",
     "text": [
      "2.09 s ± 0 ns per loop (mean ± std. dev. of 1 run, 1 loop each)\n",
      "2.06 s ± 10.5 ms per loop (mean ± std. dev. of 7 runs, 1 loop each)\n"
     ]
    }
   ],
   "source": [
    "%timeit -n1 -r1 test_multi_qutip(p0)\n",
    "%timeit test_multi_qutip(p0)"
   ]
  },
  {
   "cell_type": "markdown",
   "metadata": {},
   "source": [
    "# JAX"
   ]
  },
  {
   "cell_type": "code",
   "execution_count": 7,
   "metadata": {},
   "outputs": [],
   "source": [
    "@jit\n",
    "def gate_step_jax(gate, p0, H0, c_ops):\n",
    "    H1 = gate[0]\n",
    "    ts = gate[1]\n",
    "    \n",
    "    def H_func(rho, t, H0_val, H1_val, c_ops_val):\n",
    "        H = H0_val + H1_val*jnp.cos(t)\n",
    "        rho_dot = -1.0j*(H @ rho - rho @ H)\n",
    "        return rho_dot\n",
    "        \n",
    "    states = odeint(H_func, p0, ts, H0, H1, c_ops)\n",
    "    return states\n",
    "\n",
    "@jit\n",
    "def test_jax(p0, _):\n",
    "    N_size = 50\n",
    "    H1 = jqt.num(N_size) + 0.0j\n",
    "    ts = jnp.linspace(0, 1, 101)\n",
    "    gate = (H1, ts)\n",
    "    H0 = jqt.destroy(N_size) + jqt.create(N_size) + 0.0j\n",
    "    c_ops = jnp.array([])\n",
    "    results = gate_step_jax(gate, p0, H0, c_ops)\n",
    "    return results[-1], results\n",
    "\n",
    "@jit\n",
    "def test_multi_jax(p0):\n",
    "    return scan(test_jax, p0, None, length=100)"
   ]
  },
  {
   "cell_type": "code",
   "execution_count": 8,
   "metadata": {},
   "outputs": [],
   "source": [
    "p0 = jqt.ket2dm(jqt.coherent(50,20))"
   ]
  },
  {
   "cell_type": "code",
   "execution_count": 9,
   "metadata": {},
   "outputs": [
    {
     "name": "stdout",
     "output_type": "stream",
     "text": [
      "381 ms ± 0 ns per loop (mean ± std. dev. of 1 run, 1 loop each)\n",
      "50.7 ms ± 223 µs per loop (mean ± std. dev. of 7 runs, 10 loops each)\n"
     ]
    }
   ],
   "source": [
    "%timeit -n1 -r1 test_jax(p0 + 0.0j, None)\n",
    "%timeit test_jax(p0 + 0.0j, None)"
   ]
  },
  {
   "cell_type": "code",
   "execution_count": 10,
   "metadata": {},
   "outputs": [
    {
     "name": "stdout",
     "output_type": "stream",
     "text": [
      "5.51 s ± 0 ns per loop (mean ± std. dev. of 1 run, 1 loop each)\n",
      "5.11 s ± 35.4 ms per loop (mean ± std. dev. of 7 runs, 1 loop each)\n"
     ]
    }
   ],
   "source": [
    "%timeit -n1 -r1 test_multi_jax(p0 + 0.0j)\n",
    "%timeit test_multi_jax(p0 + 0.0j)"
   ]
  },
  {
   "cell_type": "markdown",
   "metadata": {},
   "source": [
    "# Diffrax"
   ]
  },
  {
   "cell_type": "code",
   "execution_count": 11,
   "metadata": {},
   "outputs": [],
   "source": [
    "from diffrax import diffeqsolve, Dopri5, ODETerm, SaveAt, PIDController"
   ]
  },
  {
   "cell_type": "code",
   "execution_count": 12,
   "metadata": {},
   "outputs": [],
   "source": [
    "@jit\n",
    "def gate_step_diffrax(gate, p0, H0, c_ops):\n",
    "    H1 = gate[0]\n",
    "    ts = gate[1]\n",
    "    \n",
    "    def H_func(t, rho, args):\n",
    "        H0_val = args[0]\n",
    "        H1_val = args[1]\n",
    "        c_ops_val = args[2]\n",
    "\n",
    "        H = H0_val + H1_val*jnp.cos(t)\n",
    "        rho_dot = -1.0j*(H @ rho - rho @ H)\n",
    "        return rho_dot\n",
    "\n",
    "    term = ODETerm(H_func)\n",
    "    solver = Dopri5()\n",
    "    saveat = SaveAt(ts=ts)\n",
    "    stepsize_controller = PIDController(rtol=1e-5, atol=1e-5)\n",
    "\n",
    "    sol = diffeqsolve(term, solver, t0=ts[0], t1=ts[-1], dt0=ts[1]-ts[0], y0=p0, saveat=saveat,\n",
    "                    stepsize_controller=stepsize_controller, args=[H0, H1, c_ops])\n",
    "\n",
    "    print(sol.ts)  # DeviceArray([0.   , 1.   , 2.   , 3.    ])\n",
    "    print(sol.ys)  # DeviceArray([1.   , 0.368, 0.135, 0.0498])\n",
    "    \n",
    "    states = sol.ys\n",
    "    return states + 0.0j\n",
    "\n",
    "@jit\n",
    "def test_diffrax(p0, _):\n",
    "    N_size = 50\n",
    "    H1 = jqt.num(N_size) + 0.0j\n",
    "    ts = jnp.linspace(0, 1, 101)\n",
    "    gate = (H1, ts)\n",
    "    H0 = (jqt.destroy(N_size) + 0.0j) + (jqt.create(N_size) + 0.0j)\n",
    "    c_ops = jnp.array([])\n",
    "    results = gate_step_diffrax(gate, p0, H0, c_ops)\n",
    "    return results[-1], results\n",
    "\n",
    "@jit\n",
    "def test_multi_diffrax(p0):\n",
    "    return scan(test_diffrax, p0, None, length=100)"
   ]
  },
  {
   "cell_type": "code",
   "execution_count": 13,
   "metadata": {},
   "outputs": [],
   "source": [
    "p0 = jqt.ket2dm(jqt.coherent(50,20))"
   ]
  },
  {
   "cell_type": "code",
   "execution_count": 14,
   "metadata": {},
   "outputs": [
    {
     "name": "stderr",
     "output_type": "stream",
     "text": [
      "/opt/miniconda3/envs/bosonic-jax-env/lib/python3.8/site-packages/jax/_src/ops/scatter.py:87: FutureWarning: scatter inputs have incompatible types: cannot safely cast value from dtype=complex128 to dtype=float64. In future JAX releases this will result in an error.\n",
      "  warnings.warn(\"scatter inputs have incompatible types: cannot safely cast \"\n",
      "/opt/miniconda3/envs/bosonic-jax-env/lib/python3.8/site-packages/jax/_src/ops/scatter.py:122: ComplexWarning: Casting complex values to real discards the imaginary part\n",
      "  return lax_internal._convert_element_type(out, dtype, weak_type)\n"
     ]
    },
    {
     "name": "stdout",
     "output_type": "stream",
     "text": [
      "Traced<ShapedArray(float64[101], weak_type=True)>with<DynamicJaxprTrace(level=0/2)>\n",
      "Traced<ShapedArray(float64[101,50,50], weak_type=True)>with<DynamicJaxprTrace(level=0/2)>\n",
      "909 ms ± 0 ns per loop (mean ± std. dev. of 1 run, 1 loop each)\n",
      "10.9 ms ± 171 µs per loop (mean ± std. dev. of 7 runs, 100 loops each)\n"
     ]
    }
   ],
   "source": [
    "%timeit -n1 -r1 test_diffrax(p0 + 0.0j, None)\n",
    "%timeit test_diffrax(p0 + 0.0j, None)"
   ]
  },
  {
   "cell_type": "code",
   "execution_count": 15,
   "metadata": {},
   "outputs": [
    {
     "name": "stdout",
     "output_type": "stream",
     "text": [
      "Traced<ShapedArray(float64[101], weak_type=True)>with<DynamicJaxprTrace(level=1/3)>\n",
      "Traced<ShapedArray(float64[101,50,50], weak_type=True)>with<DynamicJaxprTrace(level=1/3)>\n"
     ]
    },
    {
     "name": "stderr",
     "output_type": "stream",
     "text": [
      "/opt/miniconda3/envs/bosonic-jax-env/lib/python3.8/site-packages/jax/_src/ops/scatter.py:87: FutureWarning: scatter inputs have incompatible types: cannot safely cast value from dtype=complex128 to dtype=float64. In future JAX releases this will result in an error.\n",
      "  warnings.warn(\"scatter inputs have incompatible types: cannot safely cast \"\n",
      "/opt/miniconda3/envs/bosonic-jax-env/lib/python3.8/site-packages/jax/_src/ops/scatter.py:122: ComplexWarning: Casting complex values to real discards the imaginary part\n",
      "  return lax_internal._convert_element_type(out, dtype, weak_type)\n"
     ]
    },
    {
     "name": "stdout",
     "output_type": "stream",
     "text": [
      "1.99 s ± 0 ns per loop (mean ± std. dev. of 1 run, 1 loop each)\n",
      "1.05 s ± 7.26 ms per loop (mean ± std. dev. of 7 runs, 1 loop each)\n"
     ]
    }
   ],
   "source": [
    "%timeit -n1 -r1 test_multi_diffrax(p0 + 0.0j)\n",
    "%timeit test_multi_diffrax(p0 + 0.0j)"
   ]
  },
  {
   "cell_type": "code",
   "execution_count": 19,
   "metadata": {},
   "outputs": [],
   "source": [
    "# vector_field = lambda t, y, args: -y\n",
    "# term = ODETerm(vector_field)\n",
    "# solver = Dopri5()\n",
    "# saveat = SaveAt(ts=[0., 1., 2., 3.])\n",
    "# stepsize_controller = PIDController(rtol=1e-5, atol=1e-5)\n",
    "\n",
    "# sol = diffeqsolve(term, solver, t0=0, t1=3, dt0=0.1, y0=1, saveat=saveat,\n",
    "#                   stepsize_controller=stepsize_controller)\n",
    "\n",
    "# print(sol.ts)  # DeviceArray([0.   , 1.   , 2.   , 3.    ])\n",
    "# print(sol.ys)  # DeviceArray([1.   , 0.368, 0.135, 0.0498])"
   ]
  },
  {
   "cell_type": "code",
   "execution_count": 20,
   "metadata": {},
   "outputs": [],
   "source": [
    "# from diffrax import diffeqsolve, ODETerm, Dopri5\n",
    "# import jax.numpy as jnp\n",
    "\n",
    "# def f(t, y, args):\n",
    "#     return -y\n",
    "\n",
    "# term = ODETerm(f)\n",
    "# solver = Dopri5()\n",
    "# y0 = jnp.array([2., 3.])\n",
    "# solution = diffeqsolve(term, solver, t0=0, t1=1, dt0=0.1, y0=y0)"
   ]
  }
 ],
 "metadata": {
  "kernelspec": {
   "display_name": "Python 3.8.13 ('bosonic-jax-env')",
   "language": "python",
   "name": "python3"
  },
  "language_info": {
   "codemirror_mode": {
    "name": "ipython",
    "version": 3
   },
   "file_extension": ".py",
   "mimetype": "text/x-python",
   "name": "python",
   "nbconvert_exporter": "python",
   "pygments_lexer": "ipython3",
   "version": "3.8.13"
  },
  "orig_nbformat": 4,
  "vscode": {
   "interpreter": {
    "hash": "4e7140121d6186a0e0d54242403dd67cbe837e742b641fe55d27758b9ab7b56d"
   }
  }
 },
 "nbformat": 4,
 "nbformat_minor": 2
}
