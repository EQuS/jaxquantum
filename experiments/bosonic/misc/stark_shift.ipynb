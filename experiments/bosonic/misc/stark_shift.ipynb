{
    "cells": [
        {
            "cell_type": "code",
            "execution_count": 1,
            "id": "b4a9c741-3fc2-4ba2-a946-29797c1b81c0",
            "metadata": {},
            "outputs": [],
            "source": [
                "%load_ext autoreload\n",
                "%autoreload 2"
            ]
        },
        {
            "cell_type": "code",
            "execution_count": 2,
            "id": "97e10c48-e28c-41d4-9177-25f8761be2c4",
            "metadata": {},
            "outputs": [],
            "source": [
                "import sys\n",
                "sys.path.insert(0, \"../../\")"
            ]
        },
        {
            "cell_type": "code",
            "execution_count": 3,
            "id": "69778638-0ad6-425e-aecb-f0fcb8535e85",
            "metadata": {},
            "outputs": [],
            "source": [
                "import jaxquantum as jqt\n",
                "from jax import jit, grad\n",
                "from jax.experimental.ode import odeint\n",
                "import jax.numpy as jnp\n",
                "import time\n",
                "import matplotlib.pyplot as plt\n",
                "import seaborn as sns\n",
                "import qutip as qt\n",
                "\n",
                "# Apply the default theme\n",
                "sns.set_theme()"
            ]
        },
        {
            "cell_type": "code",
            "execution_count": 44,
            "id": "ce0c6eff-9994-4aec-bfd0-4c9ed13a5fb1",
            "metadata": {},
            "outputs": [],
            "source": [
                "omega_q = 5 #GHz\n",
                "omega_r = 7 #GHz\n",
                "Delta = jnp.abs(omega_r - omega_q)\n",
                "g = 0.1 #GHz\n",
                "N = 10\n",
                "\n",
                "a = jqt.destroy(N)\n",
                "a_dag = jqt.dag(a)\n",
                "Iq = jqt.identity(2)\n",
                "Icav = jqt.identity(N)\n",
                "\n",
                "# JC \n",
                "H0_JC = omega_q/2*jqt.tensor(jqt.sigmaz(), Icav)\\\n",
                "    + omega_r*(jqt.tensor(Iq, a_dag @ a))\\# + jqt.tensor(Iq, 0.5*Icav))\\\n",
                "    + g*(jqt.tensor(jqt.sigmap(),a)\\\n",
                "    + jqt.tensor(jqt.sigmam(),a_dag)) \n",
                "\n",
                "# qubit drive\n",
                "H1_d = jqt.tensor(jqt.sigmax(), Icav)\n",
                "\n",
                "# meas\n",
                "M = jqt.tensor(jqt.sigmaz(), Icav)\n",
                "\n",
                "c_ops = jnp.array([])\n",
                "\n",
                "cav_init = jqt.basis(N,0)\n",
                "p_init = jqt.ket2dm(jqt.tensor(jqt.basis(2,0), cav_init)) + 0j\n",
                "                       \n",
                "@jit\n",
                "def pi_shift_exp(omega_d):    \n",
                "    t_list = jnp.linspace(0,jnp.pi,101)\n",
                "    def H_func(rho, t, H0_val, H1_val, c_ops_val):\n",
                "        fac = jnp.cos((omega_d+0j)*t)\n",
                "        H = H0_val + H1_val*fac\n",
                "        rho_dot = -1j * (H @ rho)\n",
                "        rho_dot += -1j * (-rho @ H)\n",
                "        return rho_dot\n",
                "    \n",
                "    states = odeint(H_func, p_init, t_list, H0_JC, H1_d, c_ops)\n",
                "    final_state = states[-1]\n",
                "    return jnp.real(jnp.trace(final_state @ M))"
            ]
        },
        {
            "cell_type": "code",
            "execution_count": 52,
            "id": "d9b057dc-c6c9-4190-893c-da51e6f7f05c",
            "metadata": {},
            "outputs": [
                {
                    "data": {
                        "text/plain": [
                            "DeviceArray(0.005, dtype=float64, weak_type=True)"
                        ]
                    },
                    "execution_count": 52,
                    "metadata": {},
                    "output_type": "execute_result"
                }
            ],
            "source": [
                "g**2/Delta"
            ]
        },
        {
            "cell_type": "code",
            "execution_count": 51,
            "id": "64aa3033-71dd-40f8-942b-e581a95ca9fc",
            "metadata": {},
            "outputs": [
                {
                    "data": {
                        "text/plain": [
                            "DeviceArray(-0.99069129, dtype=float64)"
                        ]
                    },
                    "execution_count": 51,
                    "metadata": {},
                    "output_type": "execute_result"
                }
            ],
            "source": [
                "pi_shift_exp(4.952- g**2/Delta)"
            ]
        },
        {
            "cell_type": "markdown",
            "id": "58d4a0f3-4848-4adf-8c5c-513ca889aa70",
            "metadata": {},
            "source": [
                "# Optimization"
            ]
        },
        {
            "cell_type": "code",
            "execution_count": 49,
            "id": "87ff4c38-a2bb-4e0e-8a58-4cd51fc9165c",
            "metadata": {},
            "outputs": [],
            "source": [
                "from jax.example_libraries.optimizers import adam\n",
                "from jax import jit, value_and_grad\n",
                "\n",
                "step_size = 2e-3\n",
                "epochs = 100\n",
                "opt_init, opt_update, get_params = adam(step_size)\n",
                "\n",
                "@jit\n",
                "def cost(x):\n",
                "    return pi_shift_exp(x)\n",
                "\n",
                "@jit\n",
                "def update(x, opt_state):\n",
                "    value, grads = value_and_grad(cost)(x)\n",
                "    opt_state = opt_update(0, grads, opt_state)\n",
                "    return get_params(opt_state), opt_state, value\n",
                "\n",
                "def run_training(opt_state, num_print = epochs//10):\n",
                "        x = get_params(opt_state)\n",
                "        log = {\"cost\":[], \"time\":[]}\n",
                "        log[\"cost\"].append(cost(x))\n",
                "\n",
                "        for epoch in range(epochs):\n",
                "            start_time = time.time()\n",
                "            x, opt_state, loss_val = update(x, opt_state)\n",
                "            log[\"cost\"].append(loss_val)\n",
                "            log[\"time\"].append(time.time() - start_time)\n",
                "            if epoch % num_print == 0:\n",
                "                print(\"=\" * 20)\n",
                "                print(\"Epoch: \", epoch)\n",
                "                print(\"Time: \", log[\"time\"][-1])\n",
                "                print(\"Cost: \", log[\"cost\"][-1])\n",
                "                print(\"omega_d: \", get_params(opt_state))\n",
                "        return log, opt_state"
            ]
        },
        {
            "cell_type": "code",
            "execution_count": 55,
            "id": "cb571b75-c55b-421c-9b78-8e1c15d00c38",
            "metadata": {},
            "outputs": [
                {
                    "name": "stdout",
                    "output_type": "stream",
                    "text": [
                        "====================\n",
                        "Epoch:  0\n",
                        "Time:  0.15327000617980957\n",
                        "Cost:  -0.9450537500165325\n",
                        "omega_d:  5.0980000000392\n",
                        "====================\n",
                        "Epoch:  10\n",
                        "Time:  0.14876794815063477\n",
                        "Cost:  -0.9615224223256174\n",
                        "omega_d:  5.061158259071677\n",
                        "====================\n",
                        "Epoch:  20\n",
                        "Time:  0.14905881881713867\n",
                        "Cost:  -0.9764083712573182\n",
                        "omega_d:  5.022689637522197\n",
                        "====================\n",
                        "Epoch:  30\n",
                        "Time:  0.1560039520263672\n",
                        "Cost:  -0.9850530524185563\n",
                        "omega_d:  4.991739327059439\n",
                        "====================\n",
                        "Epoch:  40\n",
                        "Time:  0.13833403587341309\n",
                        "Cost:  -0.9889812749497802\n",
                        "omega_d:  4.969506875182825\n",
                        "====================\n",
                        "Epoch:  50\n",
                        "Time:  0.1464240550994873\n",
                        "Cost:  -0.990347785713399\n",
                        "omega_d:  4.9552191947554\n",
                        "====================\n",
                        "Epoch:  60\n",
                        "Time:  0.1424410343170166\n",
                        "Cost:  -0.9906780708283465\n",
                        "omega_d:  4.947194755868237\n",
                        "====================\n",
                        "Epoch:  70\n",
                        "Time:  0.1367049217224121\n",
                        "Cost:  -0.9907164052008818\n",
                        "omega_d:  4.94345116703676\n",
                        "====================\n",
                        "Epoch:  80\n",
                        "Time:  0.15795183181762695\n",
                        "Cost:  -0.9907113627173513\n",
                        "omega_d:  4.94221637521556\n",
                        "====================\n",
                        "Epoch:  90\n",
                        "Time:  0.15561485290527344\n",
                        "Cost:  -0.9907106861345023\n",
                        "omega_d:  4.942200439674797\n"
                    ]
                }
            ],
            "source": [
                "opt_state = opt_init(5.1)\n",
                "log, opt_state = run_training(opt_state)\n",
                "omega_d_opt = get_params(opt_state)"
            ]
        },
        {
            "cell_type": "code",
            "execution_count": 53,
            "id": "4bebfb31-fdd6-4170-b32d-7ce4adf1796e",
            "metadata": {},
            "outputs": [],
            "source": [
                "def plot_cost_vs_epoch(log):\n",
                "    _, ax = plt.subplots(1, 1)\n",
                "    ax.plot(log[\"cost\"])\n",
                "    ax.set_xlabel(r\"${\\rm step\\ number}$\")\n",
                "    ax.set_ylabel(r\"${\\rm loss}$\")\n",
                "    ax.set_title(r\"${\\rm training\\ history}$\")\n",
                "    return ax"
            ]
        },
        {
            "cell_type": "code",
            "execution_count": 54,
            "id": "f51e1517-8179-481a-adda-6b172e2cb35d",
            "metadata": {},
            "outputs": [
                {
                    "data": {
                        "image/png": "[encoded data removed]",
                        "text/plain": [
                            "<Figure size 640x480 with 1 Axes>"
                        ]
                    },
                    "metadata": {},
                    "output_type": "display_data"
                }
            ],
            "source": [
                "ax = plot_cost_vs_epoch(log)\n",
                "ax.set_title(f\"$\\\\omega_d^* = {omega_d_opt:.3}$\")\n",
                "plt.show()"
            ]
        }
    ],
    "metadata": {
        "kernelspec": {
            "display_name": "Python 3",
            "language": "python",
            "name": "python3"
        },
        "language_info": {
            "codemirror_mode": {
                "name": "ipython",
                "version": 3
            },
            "file_extension": ".py",
            "mimetype": "text/x-python",
            "name": "python",
            "nbconvert_exporter": "python",
            "pygments_lexer": "ipython3",
            "version": "3.9.5"
        }
    },
    "nbformat": 4,
    "nbformat_minor": 5
}